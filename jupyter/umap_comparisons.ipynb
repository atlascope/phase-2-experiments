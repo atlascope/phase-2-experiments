{
 "cells": [
  {
   "cell_type": "markdown",
   "id": "7abc6f99-3725-40d9-a131-1650cf44b0da",
   "metadata": {},
   "source": [
    "## Load a dataset and run a UMAP reduction"
   ]
  },
  {
   "cell_type": "code",
   "execution_count": 1,
   "id": "31ccbef9-8c9b-4270-aaf5-447c39306b3e",
   "metadata": {},
   "outputs": [
    {
     "name": "stdout",
     "output_type": "stream",
     "text": [
      "Reading HIPS data.\n",
      "Found 412219 features.\n"
     ]
    }
   ],
   "source": [
    "import pathlib\n",
    "from umap_manager import UMAPManager\n",
    "\n",
    "# case = 'tiny_case'\n",
    "# case = 'TCGA-3C-AALI-01Z-00-DX1'\n",
    "case = 'TCGA-3C-AALK-01Z-00-DX1'\n",
    "DATA_DIR = pathlib.Path(f'../TCGA/downloads/{case}')\n",
    "\n",
    "# instantiate manager\n",
    "manager = UMAPManager(DATA_DIR)"
   ]
  },
  {
   "cell_type": "markdown",
   "id": "2f46934a-64ce-455c-850a-37f20bca81aa",
   "metadata": {},
   "source": [
    "View the data that was read by the manager"
   ]
  },
  {
   "cell_type": "code",
   "execution_count": 2,
   "id": "611f5699-aa9d-4826-9dd5-9ac7702f1210",
   "metadata": {},
   "outputs": [
    {
     "name": "stdout",
     "output_type": "stream",
     "text": [
      "Computing density column.\n"
     ]
    },
    {
     "data": {
      "text/html": [
       "<div>\n",
       "<style scoped>\n",
       "    .dataframe tbody tr th:only-of-type {\n",
       "        vertical-align: middle;\n",
       "    }\n",
       "\n",
       "    .dataframe tbody tr th {\n",
       "        vertical-align: top;\n",
       "    }\n",
       "\n",
       "    .dataframe thead th {\n",
       "        text-align: right;\n",
       "    }\n",
       "</style>\n",
       "<table border=\"1\" class=\"dataframe\">\n",
       "  <thead>\n",
       "    <tr style=\"text-align: right;\">\n",
       "      <th></th>\n",
       "      <th>Identifier.Xmin</th>\n",
       "      <th>Identifier.Ymin</th>\n",
       "      <th>Identifier.Xmax</th>\n",
       "      <th>Identifier.Ymax</th>\n",
       "      <th>Identifier.CentroidX</th>\n",
       "      <th>Identifier.CentroidY</th>\n",
       "      <th>ClassifProbab.CancerEpithelium</th>\n",
       "      <th>ClassifProbab.StromalCellNOS</th>\n",
       "      <th>ClassifProbab.ActiveStromalCellNOS</th>\n",
       "      <th>ClassifProbab.TILsCell</th>\n",
       "      <th>...</th>\n",
       "      <th>Cytoplasm.Haralick.Entropy.Range</th>\n",
       "      <th>Cytoplasm.Haralick.DifferenceVariance.Mean</th>\n",
       "      <th>Cytoplasm.Haralick.DifferenceVariance.Range</th>\n",
       "      <th>Cytoplasm.Haralick.DifferenceEntropy.Mean</th>\n",
       "      <th>Cytoplasm.Haralick.DifferenceEntropy.Range</th>\n",
       "      <th>Cytoplasm.Haralick.IMC1.Mean</th>\n",
       "      <th>Cytoplasm.Haralick.IMC1.Range</th>\n",
       "      <th>Cytoplasm.Haralick.IMC2.Mean</th>\n",
       "      <th>Cytoplasm.Haralick.IMC2.Range</th>\n",
       "      <th>density</th>\n",
       "    </tr>\n",
       "  </thead>\n",
       "  <tbody>\n",
       "    <tr>\n",
       "      <th>713</th>\n",
       "      <td>335.0</td>\n",
       "      <td>597.0</td>\n",
       "      <td>343.0</td>\n",
       "      <td>607.0</td>\n",
       "      <td>338.0</td>\n",
       "      <td>602.0</td>\n",
       "      <td>0.773297</td>\n",
       "      <td>0.007327</td>\n",
       "      <td>0.013518</td>\n",
       "      <td>0.000391</td>\n",
       "      <td>...</td>\n",
       "      <td>0.497412</td>\n",
       "      <td>0.009421</td>\n",
       "      <td>0.003331</td>\n",
       "      <td>1.856467</td>\n",
       "      <td>0.502597</td>\n",
       "      <td>-0.263590</td>\n",
       "      <td>0.161006</td>\n",
       "      <td>0.888628</td>\n",
       "      <td>0.101495</td>\n",
       "      <td>0.003543</td>\n",
       "    </tr>\n",
       "    <tr>\n",
       "      <th>981</th>\n",
       "      <td>386.0</td>\n",
       "      <td>410.0</td>\n",
       "      <td>395.0</td>\n",
       "      <td>417.0</td>\n",
       "      <td>390.0</td>\n",
       "      <td>413.0</td>\n",
       "      <td>0.015657</td>\n",
       "      <td>0.865385</td>\n",
       "      <td>0.003170</td>\n",
       "      <td>0.002074</td>\n",
       "      <td>...</td>\n",
       "      <td>0.733899</td>\n",
       "      <td>0.007161</td>\n",
       "      <td>0.005002</td>\n",
       "      <td>2.241249</td>\n",
       "      <td>0.872592</td>\n",
       "      <td>-0.354742</td>\n",
       "      <td>0.176050</td>\n",
       "      <td>0.967671</td>\n",
       "      <td>0.034358</td>\n",
       "      <td>0.001893</td>\n",
       "    </tr>\n",
       "    <tr>\n",
       "      <th>838</th>\n",
       "      <td>901.0</td>\n",
       "      <td>949.0</td>\n",
       "      <td>909.0</td>\n",
       "      <td>957.0</td>\n",
       "      <td>905.0</td>\n",
       "      <td>953.0</td>\n",
       "      <td>0.054619</td>\n",
       "      <td>0.405653</td>\n",
       "      <td>0.049039</td>\n",
       "      <td>0.253822</td>\n",
       "      <td>...</td>\n",
       "      <td>0.575100</td>\n",
       "      <td>0.009454</td>\n",
       "      <td>0.004095</td>\n",
       "      <td>1.854023</td>\n",
       "      <td>0.582125</td>\n",
       "      <td>-0.471649</td>\n",
       "      <td>0.149785</td>\n",
       "      <td>0.987246</td>\n",
       "      <td>0.014120</td>\n",
       "      <td>0.002044</td>\n",
       "    </tr>\n",
       "    <tr>\n",
       "      <th>802</th>\n",
       "      <td>548.0</td>\n",
       "      <td>639.0</td>\n",
       "      <td>556.0</td>\n",
       "      <td>644.0</td>\n",
       "      <td>552.0</td>\n",
       "      <td>641.0</td>\n",
       "      <td>0.212525</td>\n",
       "      <td>0.019914</td>\n",
       "      <td>0.329016</td>\n",
       "      <td>0.000642</td>\n",
       "      <td>...</td>\n",
       "      <td>0.332839</td>\n",
       "      <td>0.007429</td>\n",
       "      <td>0.002038</td>\n",
       "      <td>2.274621</td>\n",
       "      <td>0.326723</td>\n",
       "      <td>-0.260363</td>\n",
       "      <td>0.098253</td>\n",
       "      <td>0.905805</td>\n",
       "      <td>0.061089</td>\n",
       "      <td>0.196419</td>\n",
       "    </tr>\n",
       "    <tr>\n",
       "      <th>240</th>\n",
       "      <td>707.0</td>\n",
       "      <td>456.0</td>\n",
       "      <td>730.0</td>\n",
       "      <td>464.0</td>\n",
       "      <td>718.0</td>\n",
       "      <td>460.0</td>\n",
       "      <td>0.016446</td>\n",
       "      <td>0.897159</td>\n",
       "      <td>0.001496</td>\n",
       "      <td>0.000361</td>\n",
       "      <td>...</td>\n",
       "      <td>0.782516</td>\n",
       "      <td>0.011909</td>\n",
       "      <td>0.004441</td>\n",
       "      <td>1.478382</td>\n",
       "      <td>0.591762</td>\n",
       "      <td>-0.416880</td>\n",
       "      <td>0.229004</td>\n",
       "      <td>0.962865</td>\n",
       "      <td>0.044944</td>\n",
       "      <td>0.080353</td>\n",
       "    </tr>\n",
       "  </tbody>\n",
       "</table>\n",
       "<p>5 rows × 170 columns</p>\n",
       "</div>"
      ],
      "text/plain": [
       "     Identifier.Xmin  Identifier.Ymin  Identifier.Xmax  Identifier.Ymax  \\\n",
       "713            335.0            597.0            343.0            607.0   \n",
       "981            386.0            410.0            395.0            417.0   \n",
       "838            901.0            949.0            909.0            957.0   \n",
       "802            548.0            639.0            556.0            644.0   \n",
       "240            707.0            456.0            730.0            464.0   \n",
       "\n",
       "     Identifier.CentroidX  Identifier.CentroidY  \\\n",
       "713                 338.0                 602.0   \n",
       "981                 390.0                 413.0   \n",
       "838                 905.0                 953.0   \n",
       "802                 552.0                 641.0   \n",
       "240                 718.0                 460.0   \n",
       "\n",
       "     ClassifProbab.CancerEpithelium  ClassifProbab.StromalCellNOS  \\\n",
       "713                        0.773297                      0.007327   \n",
       "981                        0.015657                      0.865385   \n",
       "838                        0.054619                      0.405653   \n",
       "802                        0.212525                      0.019914   \n",
       "240                        0.016446                      0.897159   \n",
       "\n",
       "     ClassifProbab.ActiveStromalCellNOS  ClassifProbab.TILsCell  ...  \\\n",
       "713                            0.013518                0.000391  ...   \n",
       "981                            0.003170                0.002074  ...   \n",
       "838                            0.049039                0.253822  ...   \n",
       "802                            0.329016                0.000642  ...   \n",
       "240                            0.001496                0.000361  ...   \n",
       "\n",
       "     Cytoplasm.Haralick.Entropy.Range  \\\n",
       "713                          0.497412   \n",
       "981                          0.733899   \n",
       "838                          0.575100   \n",
       "802                          0.332839   \n",
       "240                          0.782516   \n",
       "\n",
       "     Cytoplasm.Haralick.DifferenceVariance.Mean  \\\n",
       "713                                    0.009421   \n",
       "981                                    0.007161   \n",
       "838                                    0.009454   \n",
       "802                                    0.007429   \n",
       "240                                    0.011909   \n",
       "\n",
       "     Cytoplasm.Haralick.DifferenceVariance.Range  \\\n",
       "713                                     0.003331   \n",
       "981                                     0.005002   \n",
       "838                                     0.004095   \n",
       "802                                     0.002038   \n",
       "240                                     0.004441   \n",
       "\n",
       "     Cytoplasm.Haralick.DifferenceEntropy.Mean  \\\n",
       "713                                   1.856467   \n",
       "981                                   2.241249   \n",
       "838                                   1.854023   \n",
       "802                                   2.274621   \n",
       "240                                   1.478382   \n",
       "\n",
       "     Cytoplasm.Haralick.DifferenceEntropy.Range  Cytoplasm.Haralick.IMC1.Mean  \\\n",
       "713                                    0.502597                     -0.263590   \n",
       "981                                    0.872592                     -0.354742   \n",
       "838                                    0.582125                     -0.471649   \n",
       "802                                    0.326723                     -0.260363   \n",
       "240                                    0.591762                     -0.416880   \n",
       "\n",
       "     Cytoplasm.Haralick.IMC1.Range  Cytoplasm.Haralick.IMC2.Mean  \\\n",
       "713                       0.161006                      0.888628   \n",
       "981                       0.176050                      0.967671   \n",
       "838                       0.149785                      0.987246   \n",
       "802                       0.098253                      0.905805   \n",
       "240                       0.229004                      0.962865   \n",
       "\n",
       "     Cytoplasm.Haralick.IMC2.Range   density  \n",
       "713                       0.101495  0.003543  \n",
       "981                       0.034358  0.001893  \n",
       "838                       0.014120  0.002044  \n",
       "802                       0.061089  0.196419  \n",
       "240                       0.044944  0.080353  \n",
       "\n",
       "[5 rows x 170 columns]"
      ]
     },
     "execution_count": 2,
     "metadata": {},
     "output_type": "execute_result"
    }
   ],
   "source": [
    "manager.sample_size = 500\n",
    "manager.data.head(5)"
   ]
  },
  {
   "cell_type": "markdown",
   "id": "f81cdcd0-e474-4ef6-a0a8-a297648bfb19",
   "metadata": {},
   "source": [
    "View the image that was read by the manager"
   ]
  },
  {
   "cell_type": "code",
   "execution_count": 3,
   "id": "5a97a496-69c6-4af3-b2ee-ae1c8a8f4d26",
   "metadata": {},
   "outputs": [
    {
     "data": {
      "image/png": "[encoded data removed]",
      "text/plain": [
       "OpenslideFileTileSource(PosixPath('../TCGA/downloads/TCGA-3C-AALK-01Z-00-DX1/TCGA-3C-AALK-01Z-00-DX1.4E6EB156-BB19-410F-878F-FC0EA7BD0B53.svs'))"
      ]
     },
     "execution_count": 3,
     "metadata": {},
     "output_type": "execute_result"
    }
   ],
   "source": [
    "manager.image"
   ]
  },
  {
   "cell_type": "markdown",
   "id": "c9d6497a-3c8d-42ec-847f-eeec967ba170",
   "metadata": {},
   "source": [
    "Show thumbnails of the first fifty cells in the data"
   ]
  },
  {
   "cell_type": "code",
   "execution_count": 4,
   "id": "341ba9c1-37a7-4cc4-89d7-2a75806812e5",
   "metadata": {},
   "outputs": [
    {
     "data": {
      "application/vnd.jupyter.widget-view+json": {
       "model_id": "51cda7eb242340dca17753e4539b40f4",
       "version_major": 2,
       "version_minor": 0
      },
      "text/plain": [
       "GridBox(children=(Image(value=b'\\x89PNG\\r\\n\\x1a\\n\\x00\\x00\\x00\\rIHDR\\x00\\x00\\x00\"\\x00\\x00\\x00\"\\x08\\x02\\x00\\x00\\…"
      ]
     },
     "metadata": {},
     "output_type": "display_data"
    },
    {
     "data": {
      "application/vnd.jupyter.widget-view+json": {
       "model_id": "51cda7eb242340dca17753e4539b40f4",
       "version_major": 2,
       "version_minor": 0
      },
      "text/plain": [
       "GridBox(children=(Image(value=b'\\x89PNG\\r\\n\\x1a\\n\\x00\\x00\\x00\\rIHDR\\x00\\x00\\x00\"\\x00\\x00\\x00\"\\x08\\x02\\x00\\x00\\…"
      ]
     },
     "metadata": {},
     "output_type": "display_data"
    }
   ],
   "source": [
    "manager.show_cell_thumbnails(range(50))"
   ]
  },
  {
   "cell_type": "markdown",
   "id": "e98a3971-63ab-4375-838a-5e2e1ab0287c",
   "metadata": {},
   "source": [
    "Reduce dims for 500 random cells and plot the result. Try using the lasso-select tool to view thumbnails of selected cells."
   ]
  },
  {
   "cell_type": "code",
   "execution_count": 5,
   "id": "acd36f06-a116-4ccb-b3cc-820ae42227c2",
   "metadata": {},
   "outputs": [
    {
     "name": "stdout",
     "output_type": "stream",
     "text": [
      "Training UMAP Transform.\n",
      "Completed training in 8.240853 seconds.\n",
      "Running inference on 500 cells with trained UMAP Transform.\n",
      "Completed inference in 0.001275 seconds.\n"
     ]
    },
    {
     "data": {
      "application/vnd.jupyter.widget-view+json": {
       "model_id": "0af73ac6ea2647588404f8e08fbdd6c1",
       "version_major": 2,
       "version_minor": 0
      },
      "text/plain": [
       "FigureWidget({\n",
       "    'data': [{'marker': {'color': {'bdata': ('AAABAAIAAwAEAAUABgAHAAgACQAKAA' ... 'HqAesB7AHtAe4B7wHwAfEB8gHzAQ=='),\n",
       "                                   'dtype': 'i2'}},\n",
       "              'mode': 'markers',\n",
       "              'type': 'scatter',\n",
       "              'uid': 'fe03ee4d-bba8-4b6e-88ec-397701be712d',\n",
       "              'x': {'bdata': ('NNmzPi7llED1jHJAVHkUQM+q7EBKYD' ... 'lBizA0vy1FK8CTmkNB6FeZQHkRP0E='),\n",
       "                    'dtype': 'f4'},\n",
       "              'y': {'bdata': ('hm0TQCIPwz+VzVe/z3xHP0riBz9YiS' ... 'g/4kU4QBRnoUDQYxpAzOWJP9fWSEA='),\n",
       "                    'dtype': 'f4'}}],\n",
       "    'layout': {'template': '...'}\n",
       "})"
      ]
     },
     "metadata": {},
     "output_type": "display_data"
    },
    {
     "data": {
      "application/vnd.jupyter.widget-view+json": {
       "model_id": "abdd82798de3483e93f34e069dacac2f",
       "version_major": 2,
       "version_minor": 0
      },
      "text/plain": [
       "VBox()"
      ]
     },
     "metadata": {},
     "output_type": "display_data"
    },
    {
     "name": "stdout",
     "output_type": "stream",
     "text": [
      "Running inference on 500 cells with trained UMAP Transform.\n",
      "Completed inference in 0.001126 seconds.\n"
     ]
    },
    {
     "data": {
      "text/plain": [
       "(500, 2)"
      ]
     },
     "execution_count": 5,
     "metadata": {},
     "output_type": "execute_result"
    }
   ],
   "source": [
    "manager.reduce_dims(plot=True)\n",
    "manager.reduce_dims(plot=False).shape"
   ]
  },
  {
   "cell_type": "markdown",
   "id": "4af8caa6-edd5-4eeb-9881-0a9e016758b4",
   "metadata": {},
   "source": [
    "## Compare UMAP results in an animation"
   ]
  },
  {
   "cell_type": "markdown",
   "id": "beb8ef63-52ca-4973-aa59-587d1133d906",
   "metadata": {},
   "source": [
    "Compare results for different values for the ``random_state`` argument"
   ]
  },
  {
   "cell_type": "code",
   "execution_count": 15,
   "id": "420b68cf-1ea4-4ff9-90e8-ff73af209881",
   "metadata": {},
   "outputs": [
    {
     "name": "stdout",
     "output_type": "stream",
     "text": [
      "Running inference on 500 cells with trained UMAP Transform.\n",
      "Completed inference in 0.001013 seconds.\n",
      "Running inference on 500 cells with trained UMAP Transform.\n",
      "Completed inference in 0.000974 seconds.\n",
      "Running inference on 500 cells with trained UMAP Transform.\n",
      "Completed inference in 0.001141 seconds.\n",
      "Running inference on 500 cells with trained UMAP Transform.\n",
      "Completed inference in 0.001066 seconds.\n",
      "Running inference on 500 cells with trained UMAP Transform.\n",
      "Completed inference in 0.000879 seconds.\n",
      "Running inference on 500 cells with trained UMAP Transform.\n",
      "Completed inference in 0.000841 seconds.\n",
      "Running inference on 500 cells with trained UMAP Transform.\n",
      "Completed inference in 0.000739 seconds.\n",
      "Running inference on 500 cells with trained UMAP Transform.\n",
      "Completed inference in 0.000882 seconds.\n",
      "Running inference on 500 cells with trained UMAP Transform.\n",
      "Completed inference in 0.000687 seconds.\n",
      "Running inference on 500 cells with trained UMAP Transform.\n",
      "Completed inference in 0.000699 seconds.\n",
      "Running inference on 500 cells with trained UMAP Transform.\n",
      "Completed inference in 0.000876 seconds.\n",
      "Running inference on 500 cells with trained UMAP Transform.\n",
      "Completed inference in 0.000792 seconds.\n",
      "Running inference on 500 cells with trained UMAP Transform.\n",
      "Completed inference in 0.000731 seconds.\n",
      "Running inference on 500 cells with trained UMAP Transform.\n",
      "Completed inference in 0.000807 seconds.\n",
      "Running inference on 500 cells with trained UMAP Transform.\n",
      "Completed inference in 0.000949 seconds.\n",
      "Running inference on 500 cells with trained UMAP Transform.\n",
      "Completed inference in 0.000599 seconds.\n",
      "Running inference on 500 cells with trained UMAP Transform.\n",
      "Completed inference in 0.001194 seconds.\n",
      "Running inference on 500 cells with trained UMAP Transform.\n",
      "Completed inference in 0.000805 seconds.\n",
      "Running inference on 500 cells with trained UMAP Transform.\n",
      "Completed inference in 0.000844 seconds.\n",
      "Running inference on 500 cells with trained UMAP Transform.\n",
      "Completed inference in 0.000908 seconds.\n"
     ]
    },
    {
     "data": {
      "application/vnd.plotly.v1+json": {
       "config": {
        "plotlyServerURL": "https://plot.ly"
       },
       "data": [
        {
         "hovertemplate": "set=random state 0<br>x=%{x}<br>y=%{y}<br>index=%{marker.color}<extra></extra>",
         "ids": {
          "bdata": "AAABAAIAAwAEAAUABgAHAAgACQAKAAsADAANAA4ADwAQABEAEgATABQAFQAWABcAGAAZABoAGwAcAB0AHgAfACAAIQAiACMAJAAlACYAJwAoACkAKgArACwALQAuAC8AMAAxADIAMwA0ADUANgA3ADgAOQA6ADsAPAA9AD4APwBAAEEAQgBDAEQARQBGAEcASABJAEoASwBMAE0ATgBPAFAAUQBSAFMAVABVAFYAVwBYAFkAWgBbAFwAXQBeAF8AYABhAGIAYwBkAGUAZgBnAGgAaQBqAGsAbABtAG4AbwBwAHEAcgBzAHQAdQB2AHcAeAB5AHoAewB8AH0AfgB/AIAAgQCCAIMAhACFAIYAhwCIAIkAigCLAIwAjQCOAI8AkACRAJIAkwCUAJUAlgCXAJgAmQCaAJsAnACdAJ4AnwCgAKEAogCjAKQApQCmAKcAqACpAKoAqwCsAK0ArgCvALAAsQCyALMAtAC1ALYAtwC4ALkAugC7ALwAvQC+AL8AwADBAMIAwwDEAMUAxgDHAMgAyQDKAMsAzADNAM4AzwDQANEA0gDTANQA1QDWANcA2ADZANoA2wDcAN0A3gDfAOAA4QDiAOMA5ADlAOYA5wDoAOkA6gDrAOwA7QDuAO8A8ADxAPIA8wD0APUA9gD3APgA+QD6APsA/AD9AP4A/wAAAQEBAgEDAQQBBQEGAQcBCAEJAQoBCwEMAQ0BDgEPARABEQESARMBFAEVARYBFwEYARkBGgEbARwBHQEeAR8BIAEhASIBIwEkASUBJgEnASgBKQEqASsBLAEtAS4BLwEwATEBMgEzATQBNQE2ATcBOAE5AToBOwE8AT0BPgE/AUABQQFCAUMBRAFFAUYBRwFIAUkBSgFLAUwBTQFOAU8BUAFRAVIBUwFUAVUBVgFXAVgBWQFaAVsBXAFdAV4BXwFgAWEBYgFjAWQBZQFmAWcBaAFpAWoBawFsAW0BbgFvAXABcQFyAXMBdAF1AXYBdwF4AXkBegF7AXwBfQF+AX8BgAGBAYIBgwGEAYUBhgGHAYgBiQGKAYsBjAGNAY4BjwGQAZEBkgGTAZQBlQGWAZcBmAGZAZoBmwGcAZ0BngGfAaABoQGiAaMBpAGlAaYBpwGoAakBqgGrAawBrQGuAa8BsAGxAbIBswG0AbUBtgG3AbgBuQG6AbsBvAG9Ab4BvwHAAcEBwgHDAcQBxQHGAccByAHJAcoBywHMAc0BzgHPAdAB0QHSAdMB1AHVAdYB1wHYAdkB2gHbAdwB3QHeAd8B4AHhAeIB4wHkAeUB5gHnAegB6QHqAesB7AHtAe4B7wHwAfEB8gHzAQ==",
          "dtype": "i2"
         },
         "legendgroup": "",
         "marker": {
          "color": {
           "bdata": "AAABAAIAAwAEAAUABgAHAAgACQAKAAsADAANAA4ADwAQABEAEgATABQAFQAWABcAGAAZABoAGwAcAB0AHgAfACAAIQAiACMAJAAlACYAJwAoACkAKgArACwALQAuAC8AMAAxADIAMwA0ADUANgA3ADgAOQA6ADsAPAA9AD4APwBAAEEAQgBDAEQARQBGAEcASABJAEoASwBMAE0ATgBPAFAAUQBSAFMAVABVAFYAVwBYAFkAWgBbAFwAXQBeAF8AYABhAGIAYwBkAGUAZgBnAGgAaQBqAGsAbABtAG4AbwBwAHEAcgBzAHQAdQB2AHcAeAB5AHoAewB8AH0AfgB/AIAAgQCCAIMAhACFAIYAhwCIAIkAigCLAIwAjQCOAI8AkACRAJIAkwCUAJUAlgCXAJgAmQCaAJsAnACdAJ4AnwCgAKEAogCjAKQApQCmAKcAqACpAKoAqwCsAK0ArgCvALAAsQCyALMAtAC1ALYAtwC4ALkAugC7ALwAvQC+AL8AwADBAMIAwwDEAMUAxgDHAMgAyQDKAMsAzADNAM4AzwDQANEA0gDTANQA1QDWANcA2ADZANoA2wDcAN0A3gDfAOAA4QDiAOMA5ADlAOYA5wDoAOkA6gDrAOwA7QDuAO8A8ADxAPIA8wD0APUA9gD3APgA+QD6APsA/AD9AP4A/wAAAQEBAgEDAQQBBQEGAQcBCAEJAQoBCwEMAQ0BDgEPARABEQESARMBFAEVARYBFwEYARkBGgEbARwBHQEeAR8BIAEhASIBIwEkASUBJgEnASgBKQEqASsBLAEtAS4BLwEwATEBMgEzATQBNQE2ATcBOAE5AToBOwE8AT0BPgE/AUABQQFCAUMBRAFFAUYBRwFIAUkBSgFLAUwBTQFOAU8BUAFRAVIBUwFUAVUBVgFXAVgBWQFaAVsBXAFdAV4BXwFgAWEBYgFjAWQBZQFmAWcBaAFpAWoBawFsAW0BbgFvAXABcQFyAXMBdAF1AXYBdwF4AXkBegF7AXwBfQF+AX8BgAGBAYIBgwGEAYUBhgGHAYgBiQGKAYsBjAGNAY4BjwGQAZEBkgGTAZQBlQGWAZcBmAGZAZoBmwGcAZ0BngGfAaABoQGiAaMBpAGlAaYBpwGoAakBqgGrAawBrQGuAa8BsAGxAbIBswG0AbUBtgG3AbgBuQG6AbsBvAG9Ab4BvwHAAcEBwgHDAcQBxQHGAccByAHJAcoBywHMAc0BzgHPAdAB0QHSAdMB1AHVAdYB1wHYAdkB2gHbAdwB3QHeAd8B4AHhAeIB4wHkAeUB5gHnAegB6QHqAesB7AHtAe4B7wHwAfEB8gHzAQ==",
           "dtype": "i2"
          },
          "coloraxis": "coloraxis",
          "symbol": "circle"
         },
         "mode": "markers",
         "name": "",
         "orientation": "v",
         "showlegend": false,
         "type": "scatter",
         "x": {
          "bdata": "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",
          "dtype": "f4"
         },
         "xaxis": "x",
         "y": {
          "bdata": "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",
          "dtype": "f4"
         },
         "yaxis": "y"
        }
       ],
       "frames": [
        {
         "data": [
          {
           "hovertemplate": "set=random state 0<br>x=%{x}<br>y=%{y}<br>index=%{marker.color}<extra></extra>",
           "ids": {
            "bdata": "AAABAAIAAwAEAAUABgAHAAgACQAKAAsADAANAA4ADwAQABEAEgATABQAFQAWABcAGAAZABoAGwAcAB0AHgAfACAAIQAiACMAJAAlACYAJwAoACkAKgArACwALQAuAC8AMAAxADIAMwA0ADUANgA3ADgAOQA6ADsAPAA9AD4APwBAAEEAQgBDAEQARQBGAEcASABJAEoASwBMAE0ATgBPAFAAUQBSAFMAVABVAFYAVwBYAFkAWgBbAFwAXQBeAF8AYABhAGIAYwBkAGUAZgBnAGgAaQBqAGsAbABtAG4AbwBwAHEAcgBzAHQAdQB2AHcAeAB5AHoAewB8AH0AfgB/AIAAgQCCAIMAhACFAIYAhwCIAIkAigCLAIwAjQCOAI8AkACRAJIAkwCUAJUAlgCXAJgAmQCaAJsAnACdAJ4AnwCgAKEAogCjAKQApQCmAKcAqACpAKoAqwCsAK0ArgCvALAAsQCyALMAtAC1ALYAtwC4ALkAugC7ALwAvQC+AL8AwADBAMIAwwDEAMUAxgDHAMgAyQDKAMsAzADNAM4AzwDQANEA0gDTANQA1QDWANcA2ADZANoA2wDcAN0A3gDfAOAA4QDiAOMA5ADlAOYA5wDoAOkA6gDrAOwA7QDuAO8A8ADxAPIA8wD0APUA9gD3APgA+QD6APsA/AD9AP4A/wAAAQEBAgEDAQQBBQEGAQcBCAEJAQoBCwEMAQ0BDgEPARABEQESARMBFAEVARYBFwEYARkBGgEbARwBHQEeAR8BIAEhASIBIwEkASUBJgEnASgBKQEqASsBLAEtAS4BLwEwATEBMgEzATQBNQE2ATcBOAE5AToBOwE8AT0BPgE/AUABQQFCAUMBRAFFAUYBRwFIAUkBSgFLAUwBTQFOAU8BUAFRAVIBUwFUAVUBVgFXAVgBWQFaAVsBXAFdAV4BXwFgAWEBYgFjAWQBZQFmAWcBaAFpAWoBawFsAW0BbgFvAXABcQFyAXMBdAF1AXYBdwF4AXkBegF7AXwBfQF+AX8BgAGBAYIBgwGEAYUBhgGHAYgBiQGKAYsBjAGNAY4BjwGQAZEBkgGTAZQBlQGWAZcBmAGZAZoBmwGcAZ0BngGfAaABoQGiAaMBpAGlAaYBpwGoAakBqgGrAawBrQGuAa8BsAGxAbIBswG0AbUBtgG3AbgBuQG6AbsBvAG9Ab4BvwHAAcEBwgHDAcQBxQHGAccByAHJAcoBywHMAc0BzgHPAdAB0QHSAdMB1AHVAdYB1wHYAdkB2gHbAdwB3QHeAd8B4AHhAeIB4wHkAeUB5gHnAegB6QHqAesB7AHtAe4B7wHwAfEB8gHzAQ==",
            "dtype": "i2"
           },
           "legendgroup": "",
           "marker": {
            "color": {
             "bdata": "AAABAAIAAwAEAAUABgAHAAgACQAKAAsADAANAA4ADwAQABEAEgATABQAFQAWABcAGAAZABoAGwAcAB0AHgAfACAAIQAiACMAJAAlACYAJwAoACkAKgArACwALQAuAC8AMAAxADIAMwA0ADUANgA3ADgAOQA6ADsAPAA9AD4APwBAAEEAQgBDAEQARQBGAEcASABJAEoASwBMAE0ATgBPAFAAUQBSAFMAVABVAFYAVwBYAFkAWgBbAFwAXQBeAF8AYABhAGIAYwBkAGUAZgBnAGgAaQBqAGsAbABtAG4AbwBwAHEAcgBzAHQAdQB2AHcAeAB5AHoAewB8AH0AfgB/AIAAgQCCAIMAhACFAIYAhwCIAIkAigCLAIwAjQCOAI8AkACRAJIAkwCUAJUAlgCXAJgAmQCaAJsAnACdAJ4AnwCgAKEAogCjAKQApQCmAKcAqACpAKoAqwCsAK0ArgCvALAAsQCyALMAtAC1ALYAtwC4ALkAugC7ALwAvQC+AL8AwADBAMIAwwDEAMUAxgDHAMgAyQDKAMsAzADNAM4AzwDQANEA0gDTANQA1QDWANcA2ADZANoA2wDcAN0A3gDfAOAA4QDiAOMA5ADlAOYA5wDoAOkA6gDrAOwA7QDuAO8A8ADxAPIA8wD0APUA9gD3APgA+QD6APsA/AD9AP4A/wAAAQEBAgEDAQQBBQEGAQcBCAEJAQoBCwEMAQ0BDgEPARABEQESARMBFAEVARYBFwEYARkBGgEbARwBHQEeAR8BIAEhASIBIwEkASUBJgEnASgBKQEqASsBLAEtAS4BLwEwATEBMgEzATQBNQE2ATcBOAE5AToBOwE8AT0BPgE/AUABQQFCAUMBRAFFAUYBRwFIAUkBSgFLAUwBTQFOAU8BUAFRAVIBUwFUAVUBVgFXAVgBWQFaAVsBXAFdAV4BXwFgAWEBYgFjAWQBZQFmAWcBaAFpAWoBawFsAW0BbgFvAXABcQFyAXMBdAF1AXYBdwF4AXkBegF7AXwBfQF+AX8BgAGBAYIBgwGEAYUBhgGHAYgBiQGKAYsBjAGNAY4BjwGQAZEBkgGTAZQBlQGWAZcBmAGZAZoBmwGcAZ0BngGfAaABoQGiAaMBpAGlAaYBpwGoAakBqgGrAawBrQGuAa8BsAGxAbIBswG0AbUBtgG3AbgBuQG6AbsBvAG9Ab4BvwHAAcEBwgHDAcQBxQHGAccByAHJAcoBywHMAc0BzgHPAdAB0QHSAdMB1AHVAdYB1wHYAdkB2gHbAdwB3QHeAd8B4AHhAeIB4wHkAeUB5gHnAegB6QHqAesB7AHtAe4B7wHwAfEB8gHzAQ==",
             "dtype": "i2"
            },
            "coloraxis": "coloraxis",
            "symbol": "circle"
           },
           "mode": "markers",
           "name": "",
           "orientation": "v",
           "showlegend": false,
           "type": "scatter",
           "x": {
            "bdata": "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",
            "dtype": "f4"
           },
           "xaxis": "x",
           "y": {
            "bdata": "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",
            "dtype": "f4"
           },
           "yaxis": "y"
          }
         ],
         "name": "random state 0"
        },
        {
         "data": [
          {
           "hovertemplate": "set=random state 1<br>x=%{x}<br>y=%{y}<br>index=%{marker.color}<extra></extra>",
           "ids": {
            "bdata": "AAABAAIAAwAEAAUABgAHAAgACQAKAAsADAANAA4ADwAQABEAEgATABQAFQAWABcAGAAZABoAGwAcAB0AHgAfACAAIQAiACMAJAAlACYAJwAoACkAKgArACwALQAuAC8AMAAxADIAMwA0ADUANgA3ADgAOQA6ADsAPAA9AD4APwBAAEEAQgBDAEQARQBGAEcASABJAEoASwBMAE0ATgBPAFAAUQBSAFMAVABVAFYAVwBYAFkAWgBbAFwAXQBeAF8AYABhAGIAYwBkAGUAZgBnAGgAaQBqAGsAbABtAG4AbwBwAHEAcgBzAHQAdQB2AHcAeAB5AHoAewB8AH0AfgB/AIAAgQCCAIMAhACFAIYAhwCIAIkAigCLAIwAjQCOAI8AkACRAJIAkwCUAJUAlgCXAJgAmQCaAJsAnACdAJ4AnwCgAKEAogCjAKQApQCmAKcAqACpAKoAqwCsAK0ArgCvALAAsQCyALMAtAC1ALYAtwC4ALkAugC7ALwAvQC+AL8AwADBAMIAwwDEAMUAxgDHAMgAyQDKAMsAzADNAM4AzwDQANEA0gDTANQA1QDWANcA2ADZANoA2wDcAN0A3gDfAOAA4QDiAOMA5ADlAOYA5wDoAOkA6gDrAOwA7QDuAO8A8ADxAPIA8wD0APUA9gD3APgA+QD6APsA/AD9AP4A/wAAAQEBAgEDAQQBBQEGAQcBCAEJAQoBCwEMAQ0BDgEPARABEQESARMBFAEVARYBFwEYARkBGgEbARwBHQEeAR8BIAEhASIBIwEkASUBJgEnASgBKQEqASsBLAEtAS4BLwEwATEBMgEzATQBNQE2ATcBOAE5AToBOwE8AT0BPgE/AUABQQFCAUMBRAFFAUYBRwFIAUkBSgFLAUwBTQFOAU8BUAFRAVIBUwFUAVUBVgFXAVgBWQFaAVsBXAFdAV4BXwFgAWEBYgFjAWQBZQFmAWcBaAFpAWoBawFsAW0BbgFvAXABcQFyAXMBdAF1AXYBdwF4AXkBegF7AXwBfQF+AX8BgAGBAYIBgwGEAYUBhgGHAYgBiQGKAYsBjAGNAY4BjwGQAZEBkgGTAZQBlQGWAZcBmAGZAZoBmwGcAZ0BngGfAaABoQGiAaMBpAGlAaYBpwGoAakBqgGrAawBrQGuAa8BsAGxAbIBswG0AbUBtgG3AbgBuQG6AbsBvAG9Ab4BvwHAAcEBwgHDAcQBxQHGAccByAHJAcoBywHMAc0BzgHPAdAB0QHSAdMB1AHVAdYB1wHYAdkB2gHbAdwB3QHeAd8B4AHhAeIB4wHkAeUB5gHnAegB6QHqAesB7AHtAe4B7wHwAfEB8gHzAQ==",
            "dtype": "i2"
           },
           "legendgroup": "",
           "marker": {
            "color": {
             "bdata": "AAABAAIAAwAEAAUABgAHAAgACQAKAAsADAANAA4ADwAQABEAEgATABQAFQAWABcAGAAZABoAGwAcAB0AHgAfACAAIQAiACMAJAAlACYAJwAoACkAKgArACwALQAuAC8AMAAxADIAMwA0ADUANgA3ADgAOQA6ADsAPAA9AD4APwBAAEEAQgBDAEQARQBGAEcASABJAEoASwBMAE0ATgBPAFAAUQBSAFMAVABVAFYAVwBYAFkAWgBbAFwAXQBeAF8AYABhAGIAYwBkAGUAZgBnAGgAaQBqAGsAbABtAG4AbwBwAHEAcgBzAHQAdQB2AHcAeAB5AHoAewB8AH0AfgB/AIAAgQCCAIMAhACFAIYAhwCIAIkAigCLAIwAjQCOAI8AkACRAJIAkwCUAJUAlgCXAJgAmQCaAJsAnACdAJ4AnwCgAKEAogCjAKQApQCmAKcAqACpAKoAqwCsAK0ArgCvALAAsQCyALMAtAC1ALYAtwC4ALkAugC7ALwAvQC+AL8AwADBAMIAwwDEAMUAxgDHAMgAyQDKAMsAzADNAM4AzwDQANEA0gDTANQA1QDWANcA2ADZANoA2wDcAN0A3gDfAOAA4QDiAOMA5ADlAOYA5wDoAOkA6gDrAOwA7QDuAO8A8ADxAPIA8wD0APUA9gD3APgA+QD6APsA/AD9AP4A/wAAAQEBAgEDAQQBBQEGAQcBCAEJAQoBCwEMAQ0BDgEPARABEQESARMBFAEVARYBFwEYARkBGgEbARwBHQEeAR8BIAEhASIBIwEkASUBJgEnASgBKQEqASsBLAEtAS4BLwEwATEBMgEzATQBNQE2ATcBOAE5AToBOwE8AT0BPgE/AUABQQFCAUMBRAFFAUYBRwFIAUkBSgFLAUwBTQFOAU8BUAFRAVIBUwFUAVUBVgFXAVgBWQFaAVsBXAFdAV4BXwFgAWEBYgFjAWQBZQFmAWcBaAFpAWoBawFsAW0BbgFvAXABcQFyAXMBdAF1AXYBdwF4AXkBegF7AXwBfQF+AX8BgAGBAYIBgwGEAYUBhgGHAYgBiQGKAYsBjAGNAY4BjwGQAZEBkgGTAZQBlQGWAZcBmAGZAZoBmwGcAZ0BngGfAaABoQGiAaMBpAGlAaYBpwGoAakBqgGrAawBrQGuAa8BsAGxAbIBswG0AbUBtgG3AbgBuQG6AbsBvAG9Ab4BvwHAAcEBwgHDAcQBxQHGAccByAHJAcoBywHMAc0BzgHPAdAB0QHSAdMB1AHVAdYB1wHYAdkB2gHbAdwB3QHeAd8B4AHhAeIB4wHkAeUB5gHnAegB6QHqAesB7AHtAe4B7wHwAfEB8gHzAQ==",
             "dtype": "i2"
            },
            "coloraxis": "coloraxis",
            "symbol": "circle"
           },
           "mode": "markers",
           "name": "",
           "orientation": "v",
           "showlegend": false,
           "type": "scatter",
           "x": {
            "bdata": "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",
            "dtype": "f4"
           },
           "xaxis": "x",
           "y": {
            "bdata": "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",
            "dtype": "f4"
           },
           "yaxis": "y"
          }
         ],
         "name": "random state 1"
        },
        {
         "data": [
          {
           "hovertemplate": "set=random state 2<br>x=%{x}<br>y=%{y}<br>index=%{marker.color}<extra></extra>",
           "ids": {
            "bdata": "AAABAAIAAwAEAAUABgAHAAgACQAKAAsADAANAA4ADwAQABEAEgATABQAFQAWABcAGAAZABoAGwAcAB0AHgAfACAAIQAiACMAJAAlACYAJwAoACkAKgArACwALQAuAC8AMAAxADIAMwA0ADUANgA3ADgAOQA6ADsAPAA9AD4APwBAAEEAQgBDAEQARQBGAEcASABJAEoASwBMAE0ATgBPAFAAUQBSAFMAVABVAFYAVwBYAFkAWgBbAFwAXQBeAF8AYABhAGIAYwBkAGUAZgBnAGgAaQBqAGsAbABtAG4AbwBwAHEAcgBzAHQAdQB2AHcAeAB5AHoAewB8AH0AfgB/AIAAgQCCAIMAhACFAIYAhwCIAIkAigCLAIwAjQCOAI8AkACRAJIAkwCUAJUAlgCXAJgAmQCaAJsAnACdAJ4AnwCgAKEAogCjAKQApQCmAKcAqACpAKoAqwCsAK0ArgCvALAAsQCyALMAtAC1ALYAtwC4ALkAugC7ALwAvQC+AL8AwADBAMIAwwDEAMUAxgDHAMgAyQDKAMsAzADNAM4AzwDQANEA0gDTANQA1QDWANcA2ADZANoA2wDcAN0A3gDfAOAA4QDiAOMA5ADlAOYA5wDoAOkA6gDrAOwA7QDuAO8A8ADxAPIA8wD0APUA9gD3APgA+QD6APsA/AD9AP4A/wAAAQEBAgEDAQQBBQEGAQcBCAEJAQoBCwEMAQ0BDgEPARABEQESARMBFAEVARYBFwEYARkBGgEbARwBHQEeAR8BIAEhASIBIwEkASUBJgEnASgBKQEqASsBLAEtAS4BLwEwATEBMgEzATQBNQE2ATcBOAE5AToBOwE8AT0BPgE/AUABQQFCAUMBRAFFAUYBRwFIAUkBSgFLAUwBTQFOAU8BUAFRAVIBUwFUAVUBVgFXAVgBWQFaAVsBXAFdAV4BXwFgAWEBYgFjAWQBZQFmAWcBaAFpAWoBawFsAW0BbgFvAXABcQFyAXMBdAF1AXYBdwF4AXkBegF7AXwBfQF+AX8BgAGBAYIBgwGEAYUBhgGHAYgBiQGKAYsBjAGNAY4BjwGQAZEBkgGTAZQBlQGWAZcBmAGZAZoBmwGcAZ0BngGfAaABoQGiAaMBpAGlAaYBpwGoAakBqgGrAawBrQGuAa8BsAGxAbIBswG0AbUBtgG3AbgBuQG6AbsBvAG9Ab4BvwHAAcEBwgHDAcQBxQHGAccByAHJAcoBywHMAc0BzgHPAdAB0QHSAdMB1AHVAdYB1wHYAdkB2gHbAdwB3QHeAd8B4AHhAeIB4wHkAeUB5gHnAegB6QHqAesB7AHtAe4B7wHwAfEB8gHzAQ==",
            "dtype": "i2"
           },
           "legendgroup": "",
           "marker": {
            "color": {
             "bdata": "AAABAAIAAwAEAAUABgAHAAgACQAKAAsADAANAA4ADwAQABEAEgATABQAFQAWABcAGAAZABoAGwAcAB0AHgAfACAAIQAiACMAJAAlACYAJwAoACkAKgArACwALQAuAC8AMAAxADIAMwA0ADUANgA3ADgAOQA6ADsAPAA9AD4APwBAAEEAQgBDAEQARQBGAEcASABJAEoASwBMAE0ATgBPAFAAUQBSAFMAVABVAFYAVwBYAFkAWgBbAFwAXQBeAF8AYABhAGIAYwBkAGUAZgBnAGgAaQBqAGsAbABtAG4AbwBwAHEAcgBzAHQAdQB2AHcAeAB5AHoAewB8AH0AfgB/AIAAgQCCAIMAhACFAIYAhwCIAIkAigCLAIwAjQCOAI8AkACRAJIAkwCUAJUAlgCXAJgAmQCaAJsAnACdAJ4AnwCgAKEAogCjAKQApQCmAKcAqACpAKoAqwCsAK0ArgCvALAAsQCyALMAtAC1ALYAtwC4ALkAugC7ALwAvQC+AL8AwADBAMIAwwDEAMUAxgDHAMgAyQDKAMsAzADNAM4AzwDQANEA0gDTANQA1QDWANcA2ADZANoA2wDcAN0A3gDfAOAA4QDiAOMA5ADlAOYA5wDoAOkA6gDrAOwA7QDuAO8A8ADxAPIA8wD0APUA9gD3APgA+QD6APsA/AD9AP4A/wAAAQEBAgEDAQQBBQEGAQcBCAEJAQoBCwEMAQ0BDgEPARABEQESARMBFAEVARYBFwEYARkBGgEbARwBHQEeAR8BIAEhASIBIwEkASUBJgEnASgBKQEqASsBLAEtAS4BLwEwATEBMgEzATQBNQE2ATcBOAE5AToBOwE8AT0BPgE/AUABQQFCAUMBRAFFAUYBRwFIAUkBSgFLAUwBTQFOAU8BUAFRAVIBUwFUAVUBVgFXAVgBWQFaAVsBXAFdAV4BXwFgAWEBYgFjAWQBZQFmAWcBaAFpAWoBawFsAW0BbgFvAXABcQFyAXMBdAF1AXYBdwF4AXkBegF7AXwBfQF+AX8BgAGBAYIBgwGEAYUBhgGHAYgBiQGKAYsBjAGNAY4BjwGQAZEBkgGTAZQBlQGWAZcBmAGZAZoBmwGcAZ0BngGfAaABoQGiAaMBpAGlAaYBpwGoAakBqgGrAawBrQGuAa8BsAGxAbIBswG0AbUBtgG3AbgBuQG6AbsBvAG9Ab4BvwHAAcEBwgHDAcQBxQHGAccByAHJAcoBywHMAc0BzgHPAdAB0QHSAdMB1AHVAdYB1wHYAdkB2gHbAdwB3QHeAd8B4AHhAeIB4wHkAeUB5gHnAegB6QHqAesB7AHtAe4B7wHwAfEB8gHzAQ==",
             "dtype": "i2"
            },
            "coloraxis": "coloraxis",
            "symbol": "circle"
           },
           "mode": "markers",
           "name": "",
           "orientation": "v",
           "showlegend": false,
           "type": "scatter",
           "x": {
            "bdata": "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",
            "dtype": "f4"
           },
           "xaxis": "x",
           "y": {
            "bdata": "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",
            "dtype": "f4"
           },
           "yaxis": "y"
          }
         ],
         "name": "random state 2"
        },
        {
         "data": [
          {
           "hovertemplate": "set=random state 3<br>x=%{x}<br>y=%{y}<br>index=%{marker.color}<extra></extra>",
           "ids": {
            "bdata": "AAABAAIAAwAEAAUABgAHAAgACQAKAAsADAANAA4ADwAQABEAEgATABQAFQAWABcAGAAZABoAGwAcAB0AHgAfACAAIQAiACMAJAAlACYAJwAoACkAKgArACwALQAuAC8AMAAxADIAMwA0ADUANgA3ADgAOQA6ADsAPAA9AD4APwBAAEEAQgBDAEQARQBGAEcASABJAEoASwBMAE0ATgBPAFAAUQBSAFMAVABVAFYAVwBYAFkAWgBbAFwAXQBeAF8AYABhAGIAYwBkAGUAZgBnAGgAaQBqAGsAbABtAG4AbwBwAHEAcgBzAHQAdQB2AHcAeAB5AHoAewB8AH0AfgB/AIAAgQCCAIMAhACFAIYAhwCIAIkAigCLAIwAjQCOAI8AkACRAJIAkwCUAJUAlgCXAJgAmQCaAJsAnACdAJ4AnwCgAKEAogCjAKQApQCmAKcAqACpAKoAqwCsAK0ArgCvALAAsQCyALMAtAC1ALYAtwC4ALkAugC7ALwAvQC+AL8AwADBAMIAwwDEAMUAxgDHAMgAyQDKAMsAzADNAM4AzwDQANEA0gDTANQA1QDWANcA2ADZANoA2wDcAN0A3gDfAOAA4QDiAOMA5ADlAOYA5wDoAOkA6gDrAOwA7QDuAO8A8ADxAPIA8wD0APUA9gD3APgA+QD6APsA/AD9AP4A/wAAAQEBAgEDAQQBBQEGAQcBCAEJAQoBCwEMAQ0BDgEPARABEQESARMBFAEVARYBFwEYARkBGgEbARwBHQEeAR8BIAEhASIBIwEkASUBJgEnASgBKQEqASsBLAEtAS4BLwEwATEBMgEzATQBNQE2ATcBOAE5AToBOwE8AT0BPgE/AUABQQFCAUMBRAFFAUYBRwFIAUkBSgFLAUwBTQFOAU8BUAFRAVIBUwFUAVUBVgFXAVgBWQFaAVsBXAFdAV4BXwFgAWEBYgFjAWQBZQFmAWcBaAFpAWoBawFsAW0BbgFvAXABcQFyAXMBdAF1AXYBdwF4AXkBegF7AXwBfQF+AX8BgAGBAYIBgwGEAYUBhgGHAYgBiQGKAYsBjAGNAY4BjwGQAZEBkgGTAZQBlQGWAZcBmAGZAZoBmwGcAZ0BngGfAaABoQGiAaMBpAGlAaYBpwGoAakBqgGrAawBrQGuAa8BsAGxAbIBswG0AbUBtgG3AbgBuQG6AbsBvAG9Ab4BvwHAAcEBwgHDAcQBxQHGAccByAHJAcoBywHMAc0BzgHPAdAB0QHSAdMB1AHVAdYB1wHYAdkB2gHbAdwB3QHeAd8B4AHhAeIB4wHkAeUB5gHnAegB6QHqAesB7AHtAe4B7wHwAfEB8gHzAQ==",
            "dtype": "i2"
           },
           "legendgroup": "",
           "marker": {
            "color": {
             "bdata": "AAABAAIAAwAEAAUABgAHAAgACQAKAAsADAANAA4ADwAQABEAEgATABQAFQAWABcAGAAZABoAGwAcAB0AHgAfACAAIQAiACMAJAAlACYAJwAoACkAKgArACwALQAuAC8AMAAxADIAMwA0ADUANgA3ADgAOQA6ADsAPAA9AD4APwBAAEEAQgBDAEQARQBGAEcASABJAEoASwBMAE0ATgBPAFAAUQBSAFMAVABVAFYAVwBYAFkAWgBbAFwAXQBeAF8AYABhAGIAYwBkAGUAZgBnAGgAaQBqAGsAbABtAG4AbwBwAHEAcgBzAHQAdQB2AHcAeAB5AHoAewB8AH0AfgB/AIAAgQCCAIMAhACFAIYAhwCIAIkAigCLAIwAjQCOAI8AkACRAJIAkwCUAJUAlgCXAJgAmQCaAJsAnACdAJ4AnwCgAKEAogCjAKQApQCmAKcAqACpAKoAqwCsAK0ArgCvALAAsQCyALMAtAC1ALYAtwC4ALkAugC7ALwAvQC+AL8AwADBAMIAwwDEAMUAxgDHAMgAyQDKAMsAzADNAM4AzwDQANEA0gDTANQA1QDWANcA2ADZANoA2wDcAN0A3gDfAOAA4QDiAOMA5ADlAOYA5wDoAOkA6gDrAOwA7QDuAO8A8ADxAPIA8wD0APUA9gD3APgA+QD6APsA/AD9AP4A/wAAAQEBAgEDAQQBBQEGAQcBCAEJAQoBCwEMAQ0BDgEPARABEQESARMBFAEVARYBFwEYARkBGgEbARwBHQEeAR8BIAEhASIBIwEkASUBJgEnASgBKQEqASsBLAEtAS4BLwEwATEBMgEzATQBNQE2ATcBOAE5AToBOwE8AT0BPgE/AUABQQFCAUMBRAFFAUYBRwFIAUkBSgFLAUwBTQFOAU8BUAFRAVIBUwFUAVUBVgFXAVgBWQFaAVsBXAFdAV4BXwFgAWEBYgFjAWQBZQFmAWcBaAFpAWoBawFsAW0BbgFvAXABcQFyAXMBdAF1AXYBdwF4AXkBegF7AXwBfQF+AX8BgAGBAYIBgwGEAYUBhgGHAYgBiQGKAYsBjAGNAY4BjwGQAZEBkgGTAZQBlQGWAZcBmAGZAZoBmwGcAZ0BngGfAaABoQGiAaMBpAGlAaYBpwGoAakBqgGrAawBrQGuAa8BsAGxAbIBswG0AbUBtgG3AbgBuQG6AbsBvAG9Ab4BvwHAAcEBwgHDAcQBxQHGAccByAHJAcoBywHMAc0BzgHPAdAB0QHSAdMB1AHVAdYB1wHYAdkB2gHbAdwB3QHeAd8B4AHhAeIB4wHkAeUB5gHnAegB6QHqAesB7AHtAe4B7wHwAfEB8gHzAQ==",
             "dtype": "i2"
            },
            "coloraxis": "coloraxis",
            "symbol": "circle"
           },
           "mode": "markers",
           "name": "",
           "orientation": "v",
           "showlegend": false,
           "type": "scatter",
           "x": {
            "bdata": "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",
            "dtype": "f4"
           },
           "xaxis": "x",
           "y": {
            "bdata": "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",
            "dtype": "f4"
           },
           "yaxis": "y"
          }
         ],
         "name": "random state 3"
        },
        {
         "data": [
          {
           "hovertemplate": "set=random state 4<br>x=%{x}<br>y=%{y}<br>index=%{marker.color}<extra></extra>",
           "ids": {
            "bdata": "AAABAAIAAwAEAAUABgAHAAgACQAKAAsADAANAA4ADwAQABEAEgATABQAFQAWABcAGAAZABoAGwAcAB0AHgAfACAAIQAiACMAJAAlACYAJwAoACkAKgArACwALQAuAC8AMAAxADIAMwA0ADUANgA3ADgAOQA6ADsAPAA9AD4APwBAAEEAQgBDAEQARQBGAEcASABJAEoASwBMAE0ATgBPAFAAUQBSAFMAVABVAFYAVwBYAFkAWgBbAFwAXQBeAF8AYABhAGIAYwBkAGUAZgBnAGgAaQBqAGsAbABtAG4AbwBwAHEAcgBzAHQAdQB2AHcAeAB5AHoAewB8AH0AfgB/AIAAgQCCAIMAhACFAIYAhwCIAIkAigCLAIwAjQCOAI8AkACRAJIAkwCUAJUAlgCXAJgAmQCaAJsAnACdAJ4AnwCgAKEAogCjAKQApQCmAKcAqACpAKoAqwCsAK0ArgCvALAAsQCyALMAtAC1ALYAtwC4ALkAugC7ALwAvQC+AL8AwADBAMIAwwDEAMUAxgDHAMgAyQDKAMsAzADNAM4AzwDQANEA0gDTANQA1QDWANcA2ADZANoA2wDcAN0A3gDfAOAA4QDiAOMA5ADlAOYA5wDoAOkA6gDrAOwA7QDuAO8A8ADxAPIA8wD0APUA9gD3APgA+QD6APsA/AD9AP4A/wAAAQEBAgEDAQQBBQEGAQcBCAEJAQoBCwEMAQ0BDgEPARABEQESARMBFAEVARYBFwEYARkBGgEbARwBHQEeAR8BIAEhASIBIwEkASUBJgEnASgBKQEqASsBLAEtAS4BLwEwATEBMgEzATQBNQE2ATcBOAE5AToBOwE8AT0BPgE/AUABQQFCAUMBRAFFAUYBRwFIAUkBSgFLAUwBTQFOAU8BUAFRAVIBUwFUAVUBVgFXAVgBWQFaAVsBXAFdAV4BXwFgAWEBYgFjAWQBZQFmAWcBaAFpAWoBawFsAW0BbgFvAXABcQFyAXMBdAF1AXYBdwF4AXkBegF7AXwBfQF+AX8BgAGBAYIBgwGEAYUBhgGHAYgBiQGKAYsBjAGNAY4BjwGQAZEBkgGTAZQBlQGWAZcBmAGZAZoBmwGcAZ0BngGfAaABoQGiAaMBpAGlAaYBpwGoAakBqgGrAawBrQGuAa8BsAGxAbIBswG0AbUBtgG3AbgBuQG6AbsBvAG9Ab4BvwHAAcEBwgHDAcQBxQHGAccByAHJAcoBywHMAc0BzgHPAdAB0QHSAdMB1AHVAdYB1wHYAdkB2gHbAdwB3QHeAd8B4AHhAeIB4wHkAeUB5gHnAegB6QHqAesB7AHtAe4B7wHwAfEB8gHzAQ==",
            "dtype": "i2"
           },
           "legendgroup": "",
           "marker": {
            "color": {
             "bdata": "AAABAAIAAwAEAAUABgAHAAgACQAKAAsADAANAA4ADwAQABEAEgATABQAFQAWABcAGAAZABoAGwAcAB0AHgAfACAAIQAiACMAJAAlACYAJwAoACkAKgArACwALQAuAC8AMAAxADIAMwA0ADUANgA3ADgAOQA6ADsAPAA9AD4APwBAAEEAQgBDAEQARQBGAEcASABJAEoASwBMAE0ATgBPAFAAUQBSAFMAVABVAFYAVwBYAFkAWgBbAFwAXQBeAF8AYABhAGIAYwBkAGUAZgBnAGgAaQBqAGsAbABtAG4AbwBwAHEAcgBzAHQAdQB2AHcAeAB5AHoAewB8AH0AfgB/AIAAgQCCAIMAhACFAIYAhwCIAIkAigCLAIwAjQCOAI8AkACRAJIAkwCUAJUAlgCXAJgAmQCaAJsAnACdAJ4AnwCgAKEAogCjAKQApQCmAKcAqACpAKoAqwCsAK0ArgCvALAAsQCyALMAtAC1ALYAtwC4ALkAugC7ALwAvQC+AL8AwADBAMIAwwDEAMUAxgDHAMgAyQDKAMsAzADNAM4AzwDQANEA0gDTANQA1QDWANcA2ADZANoA2wDcAN0A3gDfAOAA4QDiAOMA5ADlAOYA5wDoAOkA6gDrAOwA7QDuAO8A8ADxAPIA8wD0APUA9gD3APgA+QD6APsA/AD9AP4A/wAAAQEBAgEDAQQBBQEGAQcBCAEJAQoBCwEMAQ0BDgEPARABEQESARMBFAEVARYBFwEYARkBGgEbARwBHQEeAR8BIAEhASIBIwEkASUBJgEnASgBKQEqASsBLAEtAS4BLwEwATEBMgEzATQBNQE2ATcBOAE5AToBOwE8AT0BPgE/AUABQQFCAUMBRAFFAUYBRwFIAUkBSgFLAUwBTQFOAU8BUAFRAVIBUwFUAVUBVgFXAVgBWQFaAVsBXAFdAV4BXwFgAWEBYgFjAWQBZQFmAWcBaAFpAWoBawFsAW0BbgFvAXABcQFyAXMBdAF1AXYBdwF4AXkBegF7AXwBfQF+AX8BgAGBAYIBgwGEAYUBhgGHAYgBiQGKAYsBjAGNAY4BjwGQAZEBkgGTAZQBlQGWAZcBmAGZAZoBmwGcAZ0BngGfAaABoQGiAaMBpAGlAaYBpwGoAakBqgGrAawBrQGuAa8BsAGxAbIBswG0AbUBtgG3AbgBuQG6AbsBvAG9Ab4BvwHAAcEBwgHDAcQBxQHGAccByAHJAcoBywHMAc0BzgHPAdAB0QHSAdMB1AHVAdYB1wHYAdkB2gHbAdwB3QHeAd8B4AHhAeIB4wHkAeUB5gHnAegB6QHqAesB7AHtAe4B7wHwAfEB8gHzAQ==",
             "dtype": "i2"
            },
            "coloraxis": "coloraxis",
            "symbol": "circle"
           },
           "mode": "markers",
           "name": "",
           "orientation": "v",
           "showlegend": false,
           "type": "scatter",
           "x": {
            "bdata": "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",
            "dtype": "f4"
           },
           "xaxis": "x",
           "y": {
            "bdata": "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",
            "dtype": "f4"
           },
           "yaxis": "y"
          }
         ],
         "name": "random state 4"
        },
        {
         "data": [
          {
           "hovertemplate": "set=random state 5<br>x=%{x}<br>y=%{y}<br>index=%{marker.color}<extra></extra>",
           "ids": {
            "bdata": "AAABAAIAAwAEAAUABgAHAAgACQAKAAsADAANAA4ADwAQABEAEgATABQAFQAWABcAGAAZABoAGwAcAB0AHgAfACAAIQAiACMAJAAlACYAJwAoACkAKgArACwALQAuAC8AMAAxADIAMwA0ADUANgA3ADgAOQA6ADsAPAA9AD4APwBAAEEAQgBDAEQARQBGAEcASABJAEoASwBMAE0ATgBPAFAAUQBSAFMAVABVAFYAVwBYAFkAWgBbAFwAXQBeAF8AYABhAGIAYwBkAGUAZgBnAGgAaQBqAGsAbABtAG4AbwBwAHEAcgBzAHQAdQB2AHcAeAB5AHoAewB8AH0AfgB/AIAAgQCCAIMAhACFAIYAhwCIAIkAigCLAIwAjQCOAI8AkACRAJIAkwCUAJUAlgCXAJgAmQCaAJsAnACdAJ4AnwCgAKEAogCjAKQApQCmAKcAqACpAKoAqwCsAK0ArgCvALAAsQCyALMAtAC1ALYAtwC4ALkAugC7ALwAvQC+AL8AwADBAMIAwwDEAMUAxgDHAMgAyQDKAMsAzADNAM4AzwDQANEA0gDTANQA1QDWANcA2ADZANoA2wDcAN0A3gDfAOAA4QDiAOMA5ADlAOYA5wDoAOkA6gDrAOwA7QDuAO8A8ADxAPIA8wD0APUA9gD3APgA+QD6APsA/AD9AP4A/wAAAQEBAgEDAQQBBQEGAQcBCAEJAQoBCwEMAQ0BDgEPARABEQESARMBFAEVARYBFwEYARkBGgEbARwBHQEeAR8BIAEhASIBIwEkASUBJgEnASgBKQEqASsBLAEtAS4BLwEwATEBMgEzATQBNQE2ATcBOAE5AToBOwE8AT0BPgE/AUABQQFCAUMBRAFFAUYBRwFIAUkBSgFLAUwBTQFOAU8BUAFRAVIBUwFUAVUBVgFXAVgBWQFaAVsBXAFdAV4BXwFgAWEBYgFjAWQBZQFmAWcBaAFpAWoBawFsAW0BbgFvAXABcQFyAXMBdAF1AXYBdwF4AXkBegF7AXwBfQF+AX8BgAGBAYIBgwGEAYUBhgGHAYgBiQGKAYsBjAGNAY4BjwGQAZEBkgGTAZQBlQGWAZcBmAGZAZoBmwGcAZ0BngGfAaABoQGiAaMBpAGlAaYBpwGoAakBqgGrAawBrQGuAa8BsAGxAbIBswG0AbUBtgG3AbgBuQG6AbsBvAG9Ab4BvwHAAcEBwgHDAcQBxQHGAccByAHJAcoBywHMAc0BzgHPAdAB0QHSAdMB1AHVAdYB1wHYAdkB2gHbAdwB3QHeAd8B4AHhAeIB4wHkAeUB5gHnAegB6QHqAesB7AHtAe4B7wHwAfEB8gHzAQ==",
            "dtype": "i2"
           },
           "legendgroup": "",
           "marker": {
            "color": {
             "bdata": "AAABAAIAAwAEAAUABgAHAAgACQAKAAsADAANAA4ADwAQABEAEgATABQAFQAWABcAGAAZABoAGwAcAB0AHgAfACAAIQAiACMAJAAlACYAJwAoACkAKgArACwALQAuAC8AMAAxADIAMwA0ADUANgA3ADgAOQA6ADsAPAA9AD4APwBAAEEAQgBDAEQARQBGAEcASABJAEoASwBMAE0ATgBPAFAAUQBSAFMAVABVAFYAVwBYAFkAWgBbAFwAXQBeAF8AYABhAGIAYwBkAGUAZgBnAGgAaQBqAGsAbABtAG4AbwBwAHEAcgBzAHQAdQB2AHcAeAB5AHoAewB8AH0AfgB/AIAAgQCCAIMAhACFAIYAhwCIAIkAigCLAIwAjQCOAI8AkACRAJIAkwCUAJUAlgCXAJgAmQCaAJsAnACdAJ4AnwCgAKEAogCjAKQApQCmAKcAqACpAKoAqwCsAK0ArgCvALAAsQCyALMAtAC1ALYAtwC4ALkAugC7ALwAvQC+AL8AwADBAMIAwwDEAMUAxgDHAMgAyQDKAMsAzADNAM4AzwDQANEA0gDTANQA1QDWANcA2ADZANoA2wDcAN0A3gDfAOAA4QDiAOMA5ADlAOYA5wDoAOkA6gDrAOwA7QDuAO8A8ADxAPIA8wD0APUA9gD3APgA+QD6APsA/AD9AP4A/wAAAQEBAgEDAQQBBQEGAQcBCAEJAQoBCwEMAQ0BDgEPARABEQESARMBFAEVARYBFwEYARkBGgEbARwBHQEeAR8BIAEhASIBIwEkASUBJgEnASgBKQEqASsBLAEtAS4BLwEwATEBMgEzATQBNQE2ATcBOAE5AToBOwE8AT0BPgE/AUABQQFCAUMBRAFFAUYBRwFIAUkBSgFLAUwBTQFOAU8BUAFRAVIBUwFUAVUBVgFXAVgBWQFaAVsBXAFdAV4BXwFgAWEBYgFjAWQBZQFmAWcBaAFpAWoBawFsAW0BbgFvAXABcQFyAXMBdAF1AXYBdwF4AXkBegF7AXwBfQF+AX8BgAGBAYIBgwGEAYUBhgGHAYgBiQGKAYsBjAGNAY4BjwGQAZEBkgGTAZQBlQGWAZcBmAGZAZoBmwGcAZ0BngGfAaABoQGiAaMBpAGlAaYBpwGoAakBqgGrAawBrQGuAa8BsAGxAbIBswG0AbUBtgG3AbgBuQG6AbsBvAG9Ab4BvwHAAcEBwgHDAcQBxQHGAccByAHJAcoBywHMAc0BzgHPAdAB0QHSAdMB1AHVAdYB1wHYAdkB2gHbAdwB3QHeAd8B4AHhAeIB4wHkAeUB5gHnAegB6QHqAesB7AHtAe4B7wHwAfEB8gHzAQ==",
             "dtype": "i2"
            },
            "coloraxis": "coloraxis",
            "symbol": "circle"
           },
           "mode": "markers",
           "name": "",
           "orientation": "v",
           "showlegend": false,
           "type": "scatter",
           "x": {
            "bdata": "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",
            "dtype": "f4"
           },
           "xaxis": "x",
           "y": {
            "bdata": "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",
            "dtype": "f4"
           },
           "yaxis": "y"
          }
         ],
         "name": "random state 5"
        },
        {
         "data": [
          {
           "hovertemplate": "set=random state 6<br>x=%{x}<br>y=%{y}<br>index=%{marker.color}<extra></extra>",
           "ids": {
            "bdata": "AAABAAIAAwAEAAUABgAHAAgACQAKAAsADAANAA4ADwAQABEAEgATABQAFQAWABcAGAAZABoAGwAcAB0AHgAfACAAIQAiACMAJAAlACYAJwAoACkAKgArACwALQAuAC8AMAAxADIAMwA0ADUANgA3ADgAOQA6ADsAPAA9AD4APwBAAEEAQgBDAEQARQBGAEcASABJAEoASwBMAE0ATgBPAFAAUQBSAFMAVABVAFYAVwBYAFkAWgBbAFwAXQBeAF8AYABhAGIAYwBkAGUAZgBnAGgAaQBqAGsAbABtAG4AbwBwAHEAcgBzAHQAdQB2AHcAeAB5AHoAewB8AH0AfgB/AIAAgQCCAIMAhACFAIYAhwCIAIkAigCLAIwAjQCOAI8AkACRAJIAkwCUAJUAlgCXAJgAmQCaAJsAnACdAJ4AnwCgAKEAogCjAKQApQCmAKcAqACpAKoAqwCsAK0ArgCvALAAsQCyALMAtAC1ALYAtwC4ALkAugC7ALwAvQC+AL8AwADBAMIAwwDEAMUAxgDHAMgAyQDKAMsAzADNAM4AzwDQANEA0gDTANQA1QDWANcA2ADZANoA2wDcAN0A3gDfAOAA4QDiAOMA5ADlAOYA5wDoAOkA6gDrAOwA7QDuAO8A8ADxAPIA8wD0APUA9gD3APgA+QD6APsA/AD9AP4A/wAAAQEBAgEDAQQBBQEGAQcBCAEJAQoBCwEMAQ0BDgEPARABEQESARMBFAEVARYBFwEYARkBGgEbARwBHQEeAR8BIAEhASIBIwEkASUBJgEnASgBKQEqASsBLAEtAS4BLwEwATEBMgEzATQBNQE2ATcBOAE5AToBOwE8AT0BPgE/AUABQQFCAUMBRAFFAUYBRwFIAUkBSgFLAUwBTQFOAU8BUAFRAVIBUwFUAVUBVgFXAVgBWQFaAVsBXAFdAV4BXwFgAWEBYgFjAWQBZQFmAWcBaAFpAWoBawFsAW0BbgFvAXABcQFyAXMBdAF1AXYBdwF4AXkBegF7AXwBfQF+AX8BgAGBAYIBgwGEAYUBhgGHAYgBiQGKAYsBjAGNAY4BjwGQAZEBkgGTAZQBlQGWAZcBmAGZAZoBmwGcAZ0BngGfAaABoQGiAaMBpAGlAaYBpwGoAakBqgGrAawBrQGuAa8BsAGxAbIBswG0AbUBtgG3AbgBuQG6AbsBvAG9Ab4BvwHAAcEBwgHDAcQBxQHGAccByAHJAcoBywHMAc0BzgHPAdAB0QHSAdMB1AHVAdYB1wHYAdkB2gHbAdwB3QHeAd8B4AHhAeIB4wHkAeUB5gHnAegB6QHqAesB7AHtAe4B7wHwAfEB8gHzAQ==",
            "dtype": "i2"
           },
           "legendgroup": "",
           "marker": {
            "color": {
             "bdata": "AAABAAIAAwAEAAUABgAHAAgACQAKAAsADAANAA4ADwAQABEAEgATABQAFQAWABcAGAAZABoAGwAcAB0AHgAfACAAIQAiACMAJAAlACYAJwAoACkAKgArACwALQAuAC8AMAAxADIAMwA0ADUANgA3ADgAOQA6ADsAPAA9AD4APwBAAEEAQgBDAEQARQBGAEcASABJAEoASwBMAE0ATgBPAFAAUQBSAFMAVABVAFYAVwBYAFkAWgBbAFwAXQBeAF8AYABhAGIAYwBkAGUAZgBnAGgAaQBqAGsAbABtAG4AbwBwAHEAcgBzAHQAdQB2AHcAeAB5AHoAewB8AH0AfgB/AIAAgQCCAIMAhACFAIYAhwCIAIkAigCLAIwAjQCOAI8AkACRAJIAkwCUAJUAlgCXAJgAmQCaAJsAnACdAJ4AnwCgAKEAogCjAKQApQCmAKcAqACpAKoAqwCsAK0ArgCvALAAsQCyALMAtAC1ALYAtwC4ALkAugC7ALwAvQC+AL8AwADBAMIAwwDEAMUAxgDHAMgAyQDKAMsAzADNAM4AzwDQANEA0gDTANQA1QDWANcA2ADZANoA2wDcAN0A3gDfAOAA4QDiAOMA5ADlAOYA5wDoAOkA6gDrAOwA7QDuAO8A8ADxAPIA8wD0APUA9gD3APgA+QD6APsA/AD9AP4A/wAAAQEBAgEDAQQBBQEGAQcBCAEJAQoBCwEMAQ0BDgEPARABEQESARMBFAEVARYBFwEYARkBGgEbARwBHQEeAR8BIAEhASIBIwEkASUBJgEnASgBKQEqASsBLAEtAS4BLwEwATEBMgEzATQBNQE2ATcBOAE5AToBOwE8AT0BPgE/AUABQQFCAUMBRAFFAUYBRwFIAUkBSgFLAUwBTQFOAU8BUAFRAVIBUwFUAVUBVgFXAVgBWQFaAVsBXAFdAV4BXwFgAWEBYgFjAWQBZQFmAWcBaAFpAWoBawFsAW0BbgFvAXABcQFyAXMBdAF1AXYBdwF4AXkBegF7AXwBfQF+AX8BgAGBAYIBgwGEAYUBhgGHAYgBiQGKAYsBjAGNAY4BjwGQAZEBkgGTAZQBlQGWAZcBmAGZAZoBmwGcAZ0BngGfAaABoQGiAaMBpAGlAaYBpwGoAakBqgGrAawBrQGuAa8BsAGxAbIBswG0AbUBtgG3AbgBuQG6AbsBvAG9Ab4BvwHAAcEBwgHDAcQBxQHGAccByAHJAcoBywHMAc0BzgHPAdAB0QHSAdMB1AHVAdYB1wHYAdkB2gHbAdwB3QHeAd8B4AHhAeIB4wHkAeUB5gHnAegB6QHqAesB7AHtAe4B7wHwAfEB8gHzAQ==",
             "dtype": "i2"
            },
            "coloraxis": "coloraxis",
            "symbol": "circle"
           },
           "mode": "markers",
           "name": "",
           "orientation": "v",
           "showlegend": false,
           "type": "scatter",
           "x": {
            "bdata": "Y1YeQAFyNEHX7g1Bp2n8QNflJUF2JCRAH5AWQH2HA0D9zL5As1PjQBTUPUCSwDPAqIpqwDTYfT9JDxZBWpeYwHXessAR/9S9ecL+QAnOGUBN6RZB5emSQcqB40ASyy5ArfCUwMK4C0Fv1d5AEVlEQND1BEC5deTAOfrKPQLBsj/rxbRA0jDHQF0ZSECKcztB26ylQAdymsDSrgxBpak3Qf3mF76LW/9ApqsAQfBXPEFX8zJBYxAIQG9L3sDA/FlA5PifPyUr+0APALI/ptYzQXndA0FhKYfA3W+jQAa+9T9wLf4/Fdx7Py3TCEEcFNc/dGIZQJEyGkHwtNhAhsemPxgj5ECas3c+7fUEQUoBDj1Rsx9BD3Aqv7vtEEEGihlBW1NpQB86pT8TAzZBptgkQb98WD878FdAtmkbQaWyqkCdwAtB/rsUQYX1NEH1uZ0/lSMBQfq0MkBB1jdBydUcQBovtcAdmoY9i1A6QccNb8CMUQY+Pz+OQZX8JEGZ6QW/ZnIQQdyrez2GzyvAD3BswAZ5Z8AFxztADGQ7QYADIkGJXZLAuS0JQcOPFUHy7c/A1ikcQeD5Z0D8+AxBZ2zoQK0gfz+R5SZB7vQOQanQdD+4AbPAwcbwvfZd+0Ct/udAlEeoQJt7t0AmAI5BNs3mQE2mWUAyCgtBIRo5QTBQN0GfGZBBvOrCP5h5YUArk5c/AlzmQEJVRkCDNeM/M+mNQUkZtcBbD1xAJnw0QSIFDEAVS1NAgjoZQSdcYUD6HntB57BDQNjOvkBAiwFB4CrXQMmtZUHQaRpBOTsAQYC+oD+n5gNA6j8LQW/sosDyNvRAtjgOQXy+HEDEer0/rp4NQdK04MBvg7fATWg8QQ1eN0EWzxQ/Ku/UQMYrEkAuDWRBUi3qQPTmOkE82jtBbSYkQa57JkHssMK/P+bsQOLjo0CZjDxAvWXbPy45ZEEfMrtAHhsavnOWFEDbYQZBt6A4QYd8aMAF0Q9BBnUwQIG/g8BSPjPAP9rbQMkdJEF8+49BIkU0QQ1C5UAvDCJBaKoDQSLJ3T3zjurALlmYwAjw+kDljoc/0ZIrQM5uuUBxB/ZATB3LQFtoxj868+dAqzJ8QRM0tMAVazBBpjcjQYWzL0EnDDdBvxX9QBw5ZEGd0nJA9BITQY8NC0GLeClAygBkQTeF6sDBgF1A8JTpQKXVKEBCI9FAz8wEQF+Ne0FlklFAPnQaQRE4HUC1XZrAxa92QF3SKkCn8eXAw4e+vT5yWj8RMQBB3yrIwHnPIL8dih9B3TDHQJ8+iz+eDhtBilkRQez/BkEaASJAETFUwFEA2kC4XRBAAwWTQRxiEUGm8bpALfcaQRoqZkD2QnpBFBwiQNod6sADRwtBaWwVQUGZDUHk/F8969K5QPujC0ExsIfAnQNywHBbAUEj75I/EwwXQQ7iEECfsejAZKv6PxmGKMAdX55AX87nQBPIAUEboQNBekJUwNz7LEAW+P5AwbkzQUcc6cA1MwBAdRKTQbafwEDkYilAMFMNQZAnNUFBTY3AT6bFQILHj0F1F/1AU5WDwJiaZMDHT6tAoXzpQFnGI0HX2jFB4qq3QKe4Hb9SsaBA1R/pQFfbjz/yITpB7vGnwIn6J71OvABBaPbcQGIEN0BSAzZBAvIlQPeqQUDIXxdAVyFRQKc4kEGxJwpAzfv7QCGzA0FC4JtAiVM2QDj9LkErjgJBXnlRQHzAJUCHjBpBFr8qQGIWVEADYSlAr/4CQQsqfz+IJrxArPtqPQorukDVnBpBIIM5QQQjCkHM1TJAs4whPrELp8CA6ehAoTExwAo8o8C7SrNAhFs8QVOLL0Ai5wJBiqEnQEF9AkGjTpBBBSvjQCScWsDK8Do/2vaYP8GyM78STPpA8alpQIDypUCHtxNAxhM3QXJKgz/bjzTAxg0YQTcZEUGx24+9e+q7QIK2RUDWbh9BoY4mQan8EUHmJxFBZsKDwN+yU0AXpCdAuCw4QJr4X8DbrWVBTMJpQHXGLr8HNBpBmiapQCagJEGq2mNBaYSoQI4W2cDj7pjA7CMPQaMdhEATuCNAglMRQauNAkFLoDhAZEKpwDjgHECIFdLAvS/HQB1+AUFTpTVARIU7wCHH2sBVxwm92gb8QNz9EkFwUJo9OxnFwA7sLUDbTetADUdcPwl30kC/l8g99WIGQbuk1UC9vEpASkkaQcK7g8Dla6vAydofQYb7IEGy5xNBRIq6QClAkz9EoFhAOSfJwAOrQ8DJZjbAKolZQJS6qUB98Jc/OTUDQLg7+j/mNJHAy91XQAXSckCbHHtB3qs7QSx8C0EVzfZAV/O8v3UlFEE4y+s/Uh4ywBAbAUF8bwJBBHoXQfFrlcDqrWVBKxHoQMTXgkCDFSRBr617P14h6UBEzWFA+TYNQXko+UCrFovAXOgbQcDrdD/+PBZBqlsKQXvkNEHWxB9BR4UwQbvbNEBapSpAitw5QXyN8kBHMOI/x58kQbURVkATxgBBaVs0QF58O0GO2CFARMV3QIgPakAtrfdAavAZQZZ7DkEgKYzA0h/MP+yjHL7iXUk+kYi4v7yVN0B0rAtB/fwUQblYE0HbJBtBeWYvQL1obT+/8ihAaHI2QQzc8D++M7PA8EcjQetIHEHu0Hc/dqyAP8yH6cCFe1Q/cRc4QROzWUA=",
            "dtype": "f4"
           },
           "xaxis": "x",
           "y": {
            "bdata": "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",
            "dtype": "f4"
           },
           "yaxis": "y"
          }
         ],
         "name": "random state 6"
        },
        {
         "data": [
          {
           "hovertemplate": "set=random state 7<br>x=%{x}<br>y=%{y}<br>index=%{marker.color}<extra></extra>",
           "ids": {
            "bdata": "AAABAAIAAwAEAAUABgAHAAgACQAKAAsADAANAA4ADwAQABEAEgATABQAFQAWABcAGAAZABoAGwAcAB0AHgAfACAAIQAiACMAJAAlACYAJwAoACkAKgArACwALQAuAC8AMAAxADIAMwA0ADUANgA3ADgAOQA6ADsAPAA9AD4APwBAAEEAQgBDAEQARQBGAEcASABJAEoASwBMAE0ATgBPAFAAUQBSAFMAVABVAFYAVwBYAFkAWgBbAFwAXQBeAF8AYABhAGIAYwBkAGUAZgBnAGgAaQBqAGsAbABtAG4AbwBwAHEAcgBzAHQAdQB2AHcAeAB5AHoAewB8AH0AfgB/AIAAgQCCAIMAhACFAIYAhwCIAIkAigCLAIwAjQCOAI8AkACRAJIAkwCUAJUAlgCXAJgAmQCaAJsAnACdAJ4AnwCgAKEAogCjAKQApQCmAKcAqACpAKoAqwCsAK0ArgCvALAAsQCyALMAtAC1ALYAtwC4ALkAugC7ALwAvQC+AL8AwADBAMIAwwDEAMUAxgDHAMgAyQDKAMsAzADNAM4AzwDQANEA0gDTANQA1QDWANcA2ADZANoA2wDcAN0A3gDfAOAA4QDiAOMA5ADlAOYA5wDoAOkA6gDrAOwA7QDuAO8A8ADxAPIA8wD0APUA9gD3APgA+QD6APsA/AD9AP4A/wAAAQEBAgEDAQQBBQEGAQcBCAEJAQoBCwEMAQ0BDgEPARABEQESARMBFAEVARYBFwEYARkBGgEbARwBHQEeAR8BIAEhASIBIwEkASUBJgEnASgBKQEqASsBLAEtAS4BLwEwATEBMgEzATQBNQE2ATcBOAE5AToBOwE8AT0BPgE/AUABQQFCAUMBRAFFAUYBRwFIAUkBSgFLAUwBTQFOAU8BUAFRAVIBUwFUAVUBVgFXAVgBWQFaAVsBXAFdAV4BXwFgAWEBYgFjAWQBZQFmAWcBaAFpAWoBawFsAW0BbgFvAXABcQFyAXMBdAF1AXYBdwF4AXkBegF7AXwBfQF+AX8BgAGBAYIBgwGEAYUBhgGHAYgBiQGKAYsBjAGNAY4BjwGQAZEBkgGTAZQBlQGWAZcBmAGZAZoBmwGcAZ0BngGfAaABoQGiAaMBpAGlAaYBpwGoAakBqgGrAawBrQGuAa8BsAGxAbIBswG0AbUBtgG3AbgBuQG6AbsBvAG9Ab4BvwHAAcEBwgHDAcQBxQHGAccByAHJAcoBywHMAc0BzgHPAdAB0QHSAdMB1AHVAdYB1wHYAdkB2gHbAdwB3QHeAd8B4AHhAeIB4wHkAeUB5gHnAegB6QHqAesB7AHtAe4B7wHwAfEB8gHzAQ==",
            "dtype": "i2"
           },
           "legendgroup": "",
           "marker": {
            "color": {
             "bdata": "AAABAAIAAwAEAAUABgAHAAgACQAKAAsADAANAA4ADwAQABEAEgATABQAFQAWABcAGAAZABoAGwAcAB0AHgAfACAAIQAiACMAJAAlACYAJwAoACkAKgArACwALQAuAC8AMAAxADIAMwA0ADUANgA3ADgAOQA6ADsAPAA9AD4APwBAAEEAQgBDAEQARQBGAEcASABJAEoASwBMAE0ATgBPAFAAUQBSAFMAVABVAFYAVwBYAFkAWgBbAFwAXQBeAF8AYABhAGIAYwBkAGUAZgBnAGgAaQBqAGsAbABtAG4AbwBwAHEAcgBzAHQAdQB2AHcAeAB5AHoAewB8AH0AfgB/AIAAgQCCAIMAhACFAIYAhwCIAIkAigCLAIwAjQCOAI8AkACRAJIAkwCUAJUAlgCXAJgAmQCaAJsAnACdAJ4AnwCgAKEAogCjAKQApQCmAKcAqACpAKoAqwCsAK0ArgCvALAAsQCyALMAtAC1ALYAtwC4ALkAugC7ALwAvQC+AL8AwADBAMIAwwDEAMUAxgDHAMgAyQDKAMsAzADNAM4AzwDQANEA0gDTANQA1QDWANcA2ADZANoA2wDcAN0A3gDfAOAA4QDiAOMA5ADlAOYA5wDoAOkA6gDrAOwA7QDuAO8A8ADxAPIA8wD0APUA9gD3APgA+QD6APsA/AD9AP4A/wAAAQEBAgEDAQQBBQEGAQcBCAEJAQoBCwEMAQ0BDgEPARABEQESARMBFAEVARYBFwEYARkBGgEbARwBHQEeAR8BIAEhASIBIwEkASUBJgEnASgBKQEqASsBLAEtAS4BLwEwATEBMgEzATQBNQE2ATcBOAE5AToBOwE8AT0BPgE/AUABQQFCAUMBRAFFAUYBRwFIAUkBSgFLAUwBTQFOAU8BUAFRAVIBUwFUAVUBVgFXAVgBWQFaAVsBXAFdAV4BXwFgAWEBYgFjAWQBZQFmAWcBaAFpAWoBawFsAW0BbgFvAXABcQFyAXMBdAF1AXYBdwF4AXkBegF7AXwBfQF+AX8BgAGBAYIBgwGEAYUBhgGHAYgBiQGKAYsBjAGNAY4BjwGQAZEBkgGTAZQBlQGWAZcBmAGZAZoBmwGcAZ0BngGfAaABoQGiAaMBpAGlAaYBpwGoAakBqgGrAawBrQGuAa8BsAGxAbIBswG0AbUBtgG3AbgBuQG6AbsBvAG9Ab4BvwHAAcEBwgHDAcQBxQHGAccByAHJAcoBywHMAc0BzgHPAdAB0QHSAdMB1AHVAdYB1wHYAdkB2gHbAdwB3QHeAd8B4AHhAeIB4wHkAeUB5gHnAegB6QHqAesB7AHtAe4B7wHwAfEB8gHzAQ==",
             "dtype": "i2"
            },
            "coloraxis": "coloraxis",
            "symbol": "circle"
           },
           "mode": "markers",
           "name": "",
           "orientation": "v",
           "showlegend": false,
           "type": "scatter",
           "x": {
            "bdata": "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",
            "dtype": "f4"
           },
           "xaxis": "x",
           "y": {
            "bdata": "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",
            "dtype": "f4"
           },
           "yaxis": "y"
          }
         ],
         "name": "random state 7"
        },
        {
         "data": [
          {
           "hovertemplate": "set=random state 8<br>x=%{x}<br>y=%{y}<br>index=%{marker.color}<extra></extra>",
           "ids": {
            "bdata": "AAABAAIAAwAEAAUABgAHAAgACQAKAAsADAANAA4ADwAQABEAEgATABQAFQAWABcAGAAZABoAGwAcAB0AHgAfACAAIQAiACMAJAAlACYAJwAoACkAKgArACwALQAuAC8AMAAxADIAMwA0ADUANgA3ADgAOQA6ADsAPAA9AD4APwBAAEEAQgBDAEQARQBGAEcASABJAEoASwBMAE0ATgBPAFAAUQBSAFMAVABVAFYAVwBYAFkAWgBbAFwAXQBeAF8AYABhAGIAYwBkAGUAZgBnAGgAaQBqAGsAbABtAG4AbwBwAHEAcgBzAHQAdQB2AHcAeAB5AHoAewB8AH0AfgB/AIAAgQCCAIMAhACFAIYAhwCIAIkAigCLAIwAjQCOAI8AkACRAJIAkwCUAJUAlgCXAJgAmQCaAJsAnACdAJ4AnwCgAKEAogCjAKQApQCmAKcAqACpAKoAqwCsAK0ArgCvALAAsQCyALMAtAC1ALYAtwC4ALkAugC7ALwAvQC+AL8AwADBAMIAwwDEAMUAxgDHAMgAyQDKAMsAzADNAM4AzwDQANEA0gDTANQA1QDWANcA2ADZANoA2wDcAN0A3gDfAOAA4QDiAOMA5ADlAOYA5wDoAOkA6gDrAOwA7QDuAO8A8ADxAPIA8wD0APUA9gD3APgA+QD6APsA/AD9AP4A/wAAAQEBAgEDAQQBBQEGAQcBCAEJAQoBCwEMAQ0BDgEPARABEQESARMBFAEVARYBFwEYARkBGgEbARwBHQEeAR8BIAEhASIBIwEkASUBJgEnASgBKQEqASsBLAEtAS4BLwEwATEBMgEzATQBNQE2ATcBOAE5AToBOwE8AT0BPgE/AUABQQFCAUMBRAFFAUYBRwFIAUkBSgFLAUwBTQFOAU8BUAFRAVIBUwFUAVUBVgFXAVgBWQFaAVsBXAFdAV4BXwFgAWEBYgFjAWQBZQFmAWcBaAFpAWoBawFsAW0BbgFvAXABcQFyAXMBdAF1AXYBdwF4AXkBegF7AXwBfQF+AX8BgAGBAYIBgwGEAYUBhgGHAYgBiQGKAYsBjAGNAY4BjwGQAZEBkgGTAZQBlQGWAZcBmAGZAZoBmwGcAZ0BngGfAaABoQGiAaMBpAGlAaYBpwGoAakBqgGrAawBrQGuAa8BsAGxAbIBswG0AbUBtgG3AbgBuQG6AbsBvAG9Ab4BvwHAAcEBwgHDAcQBxQHGAccByAHJAcoBywHMAc0BzgHPAdAB0QHSAdMB1AHVAdYB1wHYAdkB2gHbAdwB3QHeAd8B4AHhAeIB4wHkAeUB5gHnAegB6QHqAesB7AHtAe4B7wHwAfEB8gHzAQ==",
            "dtype": "i2"
           },
           "legendgroup": "",
           "marker": {
            "color": {
             "bdata": "AAABAAIAAwAEAAUABgAHAAgACQAKAAsADAANAA4ADwAQABEAEgATABQAFQAWABcAGAAZABoAGwAcAB0AHgAfACAAIQAiACMAJAAlACYAJwAoACkAKgArACwALQAuAC8AMAAxADIAMwA0ADUANgA3ADgAOQA6ADsAPAA9AD4APwBAAEEAQgBDAEQARQBGAEcASABJAEoASwBMAE0ATgBPAFAAUQBSAFMAVABVAFYAVwBYAFkAWgBbAFwAXQBeAF8AYABhAGIAYwBkAGUAZgBnAGgAaQBqAGsAbABtAG4AbwBwAHEAcgBzAHQAdQB2AHcAeAB5AHoAewB8AH0AfgB/AIAAgQCCAIMAhACFAIYAhwCIAIkAigCLAIwAjQCOAI8AkACRAJIAkwCUAJUAlgCXAJgAmQCaAJsAnACdAJ4AnwCgAKEAogCjAKQApQCmAKcAqACpAKoAqwCsAK0ArgCvALAAsQCyALMAtAC1ALYAtwC4ALkAugC7ALwAvQC+AL8AwADBAMIAwwDEAMUAxgDHAMgAyQDKAMsAzADNAM4AzwDQANEA0gDTANQA1QDWANcA2ADZANoA2wDcAN0A3gDfAOAA4QDiAOMA5ADlAOYA5wDoAOkA6gDrAOwA7QDuAO8A8ADxAPIA8wD0APUA9gD3APgA+QD6APsA/AD9AP4A/wAAAQEBAgEDAQQBBQEGAQcBCAEJAQoBCwEMAQ0BDgEPARABEQESARMBFAEVARYBFwEYARkBGgEbARwBHQEeAR8BIAEhASIBIwEkASUBJgEnASgBKQEqASsBLAEtAS4BLwEwATEBMgEzATQBNQE2ATcBOAE5AToBOwE8AT0BPgE/AUABQQFCAUMBRAFFAUYBRwFIAUkBSgFLAUwBTQFOAU8BUAFRAVIBUwFUAVUBVgFXAVgBWQFaAVsBXAFdAV4BXwFgAWEBYgFjAWQBZQFmAWcBaAFpAWoBawFsAW0BbgFvAXABcQFyAXMBdAF1AXYBdwF4AXkBegF7AXwBfQF+AX8BgAGBAYIBgwGEAYUBhgGHAYgBiQGKAYsBjAGNAY4BjwGQAZEBkgGTAZQBlQGWAZcBmAGZAZoBmwGcAZ0BngGfAaABoQGiAaMBpAGlAaYBpwGoAakBqgGrAawBrQGuAa8BsAGxAbIBswG0AbUBtgG3AbgBuQG6AbsBvAG9Ab4BvwHAAcEBwgHDAcQBxQHGAccByAHJAcoBywHMAc0BzgHPAdAB0QHSAdMB1AHVAdYB1wHYAdkB2gHbAdwB3QHeAd8B4AHhAeIB4wHkAeUB5gHnAegB6QHqAesB7AHtAe4B7wHwAfEB8gHzAQ==",
             "dtype": "i2"
            },
            "coloraxis": "coloraxis",
            "symbol": "circle"
           },
           "mode": "markers",
           "name": "",
           "orientation": "v",
           "showlegend": false,
           "type": "scatter",
           "x": {
            "bdata": "Y1YeQAFyNEHX7g1Bp2n8QNflJUF2JCRAH5AWQH2HA0D9zL5As1PjQBTUPUCSwDPAqIpqwDTYfT9JDxZBWpeYwHXessAR/9S9ecL+QAnOGUBN6RZB5emSQcqB40ASyy5ArfCUwMK4C0Fv1d5AEVlEQND1BEC5deTAOfrKPQLBsj/rxbRA0jDHQF0ZSECKcztB26ylQAdymsDSrgxBpak3Qf3mF76LW/9ApqsAQfBXPEFX8zJBYxAIQG9L3sDA/FlA5PifPyUr+0APALI/ptYzQXndA0FhKYfA3W+jQAa+9T9wLf4/Fdx7Py3TCEEcFNc/dGIZQJEyGkHwtNhAhsemPxgj5ECas3c+7fUEQUoBDj1Rsx9BD3Aqv7vtEEEGihlBW1NpQB86pT8TAzZBptgkQb98WD878FdAtmkbQaWyqkCdwAtB/rsUQYX1NEH1uZ0/lSMBQfq0MkBB1jdBydUcQBovtcAdmoY9i1A6QccNb8CMUQY+Pz+OQZX8JEGZ6QW/ZnIQQdyrez2GzyvAD3BswAZ5Z8AFxztADGQ7QYADIkGJXZLAuS0JQcOPFUHy7c/A1ikcQeD5Z0D8+AxBZ2zoQK0gfz+R5SZB7vQOQanQdD+4AbPAwcbwvfZd+0Ct/udAlEeoQJt7t0AmAI5BNs3mQE2mWUAyCgtBIRo5QTBQN0GfGZBBvOrCP5h5YUArk5c/AlzmQEJVRkCDNeM/M+mNQUkZtcBbD1xAJnw0QSIFDEAVS1NAgjoZQSdcYUD6HntB57BDQNjOvkBAiwFB4CrXQMmtZUHQaRpBOTsAQYC+oD+n5gNA6j8LQW/sosDyNvRAtjgOQXy+HEDEer0/rp4NQdK04MBvg7fATWg8QQ1eN0EWzxQ/Ku/UQMYrEkAuDWRBUi3qQPTmOkE82jtBbSYkQa57JkHssMK/P+bsQOLjo0CZjDxAvWXbPy45ZEEfMrtAHhsavnOWFEDbYQZBt6A4QYd8aMAF0Q9BBnUwQIG/g8BSPjPAP9rbQMkdJEF8+49BIkU0QQ1C5UAvDCJBaKoDQSLJ3T3zjurALlmYwAjw+kDljoc/0ZIrQM5uuUBxB/ZATB3LQFtoxj868+dAqzJ8QRM0tMAVazBBpjcjQYWzL0EnDDdBvxX9QBw5ZEGd0nJA9BITQY8NC0GLeClAygBkQTeF6sDBgF1A8JTpQKXVKEBCI9FAz8wEQF+Ne0FlklFAPnQaQRE4HUC1XZrAxa92QF3SKkCn8eXAw4e+vT5yWj8RMQBB3yrIwHnPIL8dih9B3TDHQJ8+iz+eDhtBilkRQez/BkEaASJAETFUwFEA2kC4XRBAAwWTQRxiEUGm8bpALfcaQRoqZkD2QnpBFBwiQNod6sADRwtBaWwVQUGZDUHk/F8969K5QPujC0ExsIfAnQNywHBbAUEj75I/EwwXQQ7iEECfsejAZKv6PxmGKMAdX55AX87nQBPIAUEboQNBekJUwNz7LEAW+P5AwbkzQUcc6cA1MwBAdRKTQbafwEDkYilAMFMNQZAnNUFBTY3AT6bFQILHj0F1F/1AU5WDwJiaZMDHT6tAoXzpQFnGI0HX2jFB4qq3QKe4Hb9SsaBA1R/pQFfbjz/yITpB7vGnwIn6J71OvABBaPbcQGIEN0BSAzZBAvIlQPeqQUDIXxdAVyFRQKc4kEGxJwpAzfv7QCGzA0FC4JtAiVM2QDj9LkErjgJBXnlRQHzAJUCHjBpBFr8qQGIWVEADYSlAr/4CQQsqfz+IJrxArPtqPQorukDVnBpBIIM5QQQjCkHM1TJAs4whPrELp8CA6ehAoTExwAo8o8C7SrNAhFs8QVOLL0Ai5wJBiqEnQEF9AkGjTpBBBSvjQCScWsDK8Do/2vaYP8GyM78STPpA8alpQIDypUCHtxNAxhM3QXJKgz/bjzTAxg0YQTcZEUGx24+9e+q7QIK2RUDWbh9BoY4mQan8EUHmJxFBZsKDwN+yU0AXpCdAuCw4QJr4X8DbrWVBTMJpQHXGLr8HNBpBmiapQCagJEGq2mNBaYSoQI4W2cDj7pjA7CMPQaMdhEATuCNAglMRQauNAkFLoDhAZEKpwDjgHECIFdLAvS/HQB1+AUFTpTVARIU7wCHH2sBVxwm92gb8QNz9EkFwUJo9OxnFwA7sLUDbTetADUdcPwl30kC/l8g99WIGQbuk1UC9vEpASkkaQcK7g8Dla6vAydofQYb7IEGy5xNBRIq6QClAkz9EoFhAOSfJwAOrQ8DJZjbAKolZQJS6qUB98Jc/OTUDQLg7+j/mNJHAy91XQAXSckCbHHtB3qs7QSx8C0EVzfZAV/O8v3UlFEE4y+s/Uh4ywBAbAUF8bwJBBHoXQfFrlcDqrWVBKxHoQMTXgkCDFSRBr617P14h6UBEzWFA+TYNQXko+UCrFovAXOgbQcDrdD/+PBZBqlsKQXvkNEHWxB9BR4UwQbvbNEBapSpAitw5QXyN8kBHMOI/x58kQbURVkATxgBBaVs0QF58O0GO2CFARMV3QIgPakAtrfdAavAZQZZ7DkEgKYzA0h/MP+yjHL7iXUk+kYi4v7yVN0B0rAtB/fwUQblYE0HbJBtBeWYvQL1obT+/8ihAaHI2QQzc8D++M7PA8EcjQetIHEHu0Hc/dqyAP8yH6cCFe1Q/cRc4QROzWUA=",
            "dtype": "f4"
           },
           "xaxis": "x",
           "y": {
            "bdata": "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",
            "dtype": "f4"
           },
           "yaxis": "y"
          }
         ],
         "name": "random state 8"
        },
        {
         "data": [
          {
           "hovertemplate": "set=random state 9<br>x=%{x}<br>y=%{y}<br>index=%{marker.color}<extra></extra>",
           "ids": {
            "bdata": "AAABAAIAAwAEAAUABgAHAAgACQAKAAsADAANAA4ADwAQABEAEgATABQAFQAWABcAGAAZABoAGwAcAB0AHgAfACAAIQAiACMAJAAlACYAJwAoACkAKgArACwALQAuAC8AMAAxADIAMwA0ADUANgA3ADgAOQA6ADsAPAA9AD4APwBAAEEAQgBDAEQARQBGAEcASABJAEoASwBMAE0ATgBPAFAAUQBSAFMAVABVAFYAVwBYAFkAWgBbAFwAXQBeAF8AYABhAGIAYwBkAGUAZgBnAGgAaQBqAGsAbABtAG4AbwBwAHEAcgBzAHQAdQB2AHcAeAB5AHoAewB8AH0AfgB/AIAAgQCCAIMAhACFAIYAhwCIAIkAigCLAIwAjQCOAI8AkACRAJIAkwCUAJUAlgCXAJgAmQCaAJsAnACdAJ4AnwCgAKEAogCjAKQApQCmAKcAqACpAKoAqwCsAK0ArgCvALAAsQCyALMAtAC1ALYAtwC4ALkAugC7ALwAvQC+AL8AwADBAMIAwwDEAMUAxgDHAMgAyQDKAMsAzADNAM4AzwDQANEA0gDTANQA1QDWANcA2ADZANoA2wDcAN0A3gDfAOAA4QDiAOMA5ADlAOYA5wDoAOkA6gDrAOwA7QDuAO8A8ADxAPIA8wD0APUA9gD3APgA+QD6APsA/AD9AP4A/wAAAQEBAgEDAQQBBQEGAQcBCAEJAQoBCwEMAQ0BDgEPARABEQESARMBFAEVARYBFwEYARkBGgEbARwBHQEeAR8BIAEhASIBIwEkASUBJgEnASgBKQEqASsBLAEtAS4BLwEwATEBMgEzATQBNQE2ATcBOAE5AToBOwE8AT0BPgE/AUABQQFCAUMBRAFFAUYBRwFIAUkBSgFLAUwBTQFOAU8BUAFRAVIBUwFUAVUBVgFXAVgBWQFaAVsBXAFdAV4BXwFgAWEBYgFjAWQBZQFmAWcBaAFpAWoBawFsAW0BbgFvAXABcQFyAXMBdAF1AXYBdwF4AXkBegF7AXwBfQF+AX8BgAGBAYIBgwGEAYUBhgGHAYgBiQGKAYsBjAGNAY4BjwGQAZEBkgGTAZQBlQGWAZcBmAGZAZoBmwGcAZ0BngGfAaABoQGiAaMBpAGlAaYBpwGoAakBqgGrAawBrQGuAa8BsAGxAbIBswG0AbUBtgG3AbgBuQG6AbsBvAG9Ab4BvwHAAcEBwgHDAcQBxQHGAccByAHJAcoBywHMAc0BzgHPAdAB0QHSAdMB1AHVAdYB1wHYAdkB2gHbAdwB3QHeAd8B4AHhAeIB4wHkAeUB5gHnAegB6QHqAesB7AHtAe4B7wHwAfEB8gHzAQ==",
            "dtype": "i2"
           },
           "legendgroup": "",
           "marker": {
            "color": {
             "bdata": "AAABAAIAAwAEAAUABgAHAAgACQAKAAsADAANAA4ADwAQABEAEgATABQAFQAWABcAGAAZABoAGwAcAB0AHgAfACAAIQAiACMAJAAlACYAJwAoACkAKgArACwALQAuAC8AMAAxADIAMwA0ADUANgA3ADgAOQA6ADsAPAA9AD4APwBAAEEAQgBDAEQARQBGAEcASABJAEoASwBMAE0ATgBPAFAAUQBSAFMAVABVAFYAVwBYAFkAWgBbAFwAXQBeAF8AYABhAGIAYwBkAGUAZgBnAGgAaQBqAGsAbABtAG4AbwBwAHEAcgBzAHQAdQB2AHcAeAB5AHoAewB8AH0AfgB/AIAAgQCCAIMAhACFAIYAhwCIAIkAigCLAIwAjQCOAI8AkACRAJIAkwCUAJUAlgCXAJgAmQCaAJsAnACdAJ4AnwCgAKEAogCjAKQApQCmAKcAqACpAKoAqwCsAK0ArgCvALAAsQCyALMAtAC1ALYAtwC4ALkAugC7ALwAvQC+AL8AwADBAMIAwwDEAMUAxgDHAMgAyQDKAMsAzADNAM4AzwDQANEA0gDTANQA1QDWANcA2ADZANoA2wDcAN0A3gDfAOAA4QDiAOMA5ADlAOYA5wDoAOkA6gDrAOwA7QDuAO8A8ADxAPIA8wD0APUA9gD3APgA+QD6APsA/AD9AP4A/wAAAQEBAgEDAQQBBQEGAQcBCAEJAQoBCwEMAQ0BDgEPARABEQESARMBFAEVARYBFwEYARkBGgEbARwBHQEeAR8BIAEhASIBIwEkASUBJgEnASgBKQEqASsBLAEtAS4BLwEwATEBMgEzATQBNQE2ATcBOAE5AToBOwE8AT0BPgE/AUABQQFCAUMBRAFFAUYBRwFIAUkBSgFLAUwBTQFOAU8BUAFRAVIBUwFUAVUBVgFXAVgBWQFaAVsBXAFdAV4BXwFgAWEBYgFjAWQBZQFmAWcBaAFpAWoBawFsAW0BbgFvAXABcQFyAXMBdAF1AXYBdwF4AXkBegF7AXwBfQF+AX8BgAGBAYIBgwGEAYUBhgGHAYgBiQGKAYsBjAGNAY4BjwGQAZEBkgGTAZQBlQGWAZcBmAGZAZoBmwGcAZ0BngGfAaABoQGiAaMBpAGlAaYBpwGoAakBqgGrAawBrQGuAa8BsAGxAbIBswG0AbUBtgG3AbgBuQG6AbsBvAG9Ab4BvwHAAcEBwgHDAcQBxQHGAccByAHJAcoBywHMAc0BzgHPAdAB0QHSAdMB1AHVAdYB1wHYAdkB2gHbAdwB3QHeAd8B4AHhAeIB4wHkAeUB5gHnAegB6QHqAesB7AHtAe4B7wHwAfEB8gHzAQ==",
             "dtype": "i2"
            },
            "coloraxis": "coloraxis",
            "symbol": "circle"
           },
           "mode": "markers",
           "name": "",
           "orientation": "v",
           "showlegend": false,
           "type": "scatter",
           "x": {
            "bdata": "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",
            "dtype": "f4"
           },
           "xaxis": "x",
           "y": {
            "bdata": "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",
            "dtype": "f4"
           },
           "yaxis": "y"
          }
         ],
         "name": "random state 9"
        },
        {
         "data": [
          {
           "hovertemplate": "set=random state 10<br>x=%{x}<br>y=%{y}<br>index=%{marker.color}<extra></extra>",
           "ids": {
            "bdata": "AAABAAIAAwAEAAUABgAHAAgACQAKAAsADAANAA4ADwAQABEAEgATABQAFQAWABcAGAAZABoAGwAcAB0AHgAfACAAIQAiACMAJAAlACYAJwAoACkAKgArACwALQAuAC8AMAAxADIAMwA0ADUANgA3ADgAOQA6ADsAPAA9AD4APwBAAEEAQgBDAEQARQBGAEcASABJAEoASwBMAE0ATgBPAFAAUQBSAFMAVABVAFYAVwBYAFkAWgBbAFwAXQBeAF8AYABhAGIAYwBkAGUAZgBnAGgAaQBqAGsAbABtAG4AbwBwAHEAcgBzAHQAdQB2AHcAeAB5AHoAewB8AH0AfgB/AIAAgQCCAIMAhACFAIYAhwCIAIkAigCLAIwAjQCOAI8AkACRAJIAkwCUAJUAlgCXAJgAmQCaAJsAnACdAJ4AnwCgAKEAogCjAKQApQCmAKcAqACpAKoAqwCsAK0ArgCvALAAsQCyALMAtAC1ALYAtwC4ALkAugC7ALwAvQC+AL8AwADBAMIAwwDEAMUAxgDHAMgAyQDKAMsAzADNAM4AzwDQANEA0gDTANQA1QDWANcA2ADZANoA2wDcAN0A3gDfAOAA4QDiAOMA5ADlAOYA5wDoAOkA6gDrAOwA7QDuAO8A8ADxAPIA8wD0APUA9gD3APgA+QD6APsA/AD9AP4A/wAAAQEBAgEDAQQBBQEGAQcBCAEJAQoBCwEMAQ0BDgEPARABEQESARMBFAEVARYBFwEYARkBGgEbARwBHQEeAR8BIAEhASIBIwEkASUBJgEnASgBKQEqASsBLAEtAS4BLwEwATEBMgEzATQBNQE2ATcBOAE5AToBOwE8AT0BPgE/AUABQQFCAUMBRAFFAUYBRwFIAUkBSgFLAUwBTQFOAU8BUAFRAVIBUwFUAVUBVgFXAVgBWQFaAVsBXAFdAV4BXwFgAWEBYgFjAWQBZQFmAWcBaAFpAWoBawFsAW0BbgFvAXABcQFyAXMBdAF1AXYBdwF4AXkBegF7AXwBfQF+AX8BgAGBAYIBgwGEAYUBhgGHAYgBiQGKAYsBjAGNAY4BjwGQAZEBkgGTAZQBlQGWAZcBmAGZAZoBmwGcAZ0BngGfAaABoQGiAaMBpAGlAaYBpwGoAakBqgGrAawBrQGuAa8BsAGxAbIBswG0AbUBtgG3AbgBuQG6AbsBvAG9Ab4BvwHAAcEBwgHDAcQBxQHGAccByAHJAcoBywHMAc0BzgHPAdAB0QHSAdMB1AHVAdYB1wHYAdkB2gHbAdwB3QHeAd8B4AHhAeIB4wHkAeUB5gHnAegB6QHqAesB7AHtAe4B7wHwAfEB8gHzAQ==",
            "dtype": "i2"
           },
           "legendgroup": "",
           "marker": {
            "color": {
             "bdata": "AAABAAIAAwAEAAUABgAHAAgACQAKAAsADAANAA4ADwAQABEAEgATABQAFQAWABcAGAAZABoAGwAcAB0AHgAfACAAIQAiACMAJAAlACYAJwAoACkAKgArACwALQAuAC8AMAAxADIAMwA0ADUANgA3ADgAOQA6ADsAPAA9AD4APwBAAEEAQgBDAEQARQBGAEcASABJAEoASwBMAE0ATgBPAFAAUQBSAFMAVABVAFYAVwBYAFkAWgBbAFwAXQBeAF8AYABhAGIAYwBkAGUAZgBnAGgAaQBqAGsAbABtAG4AbwBwAHEAcgBzAHQAdQB2AHcAeAB5AHoAewB8AH0AfgB/AIAAgQCCAIMAhACFAIYAhwCIAIkAigCLAIwAjQCOAI8AkACRAJIAkwCUAJUAlgCXAJgAmQCaAJsAnACdAJ4AnwCgAKEAogCjAKQApQCmAKcAqACpAKoAqwCsAK0ArgCvALAAsQCyALMAtAC1ALYAtwC4ALkAugC7ALwAvQC+AL8AwADBAMIAwwDEAMUAxgDHAMgAyQDKAMsAzADNAM4AzwDQANEA0gDTANQA1QDWANcA2ADZANoA2wDcAN0A3gDfAOAA4QDiAOMA5ADlAOYA5wDoAOkA6gDrAOwA7QDuAO8A8ADxAPIA8wD0APUA9gD3APgA+QD6APsA/AD9AP4A/wAAAQEBAgEDAQQBBQEGAQcBCAEJAQoBCwEMAQ0BDgEPARABEQESARMBFAEVARYBFwEYARkBGgEbARwBHQEeAR8BIAEhASIBIwEkASUBJgEnASgBKQEqASsBLAEtAS4BLwEwATEBMgEzATQBNQE2ATcBOAE5AToBOwE8AT0BPgE/AUABQQFCAUMBRAFFAUYBRwFIAUkBSgFLAUwBTQFOAU8BUAFRAVIBUwFUAVUBVgFXAVgBWQFaAVsBXAFdAV4BXwFgAWEBYgFjAWQBZQFmAWcBaAFpAWoBawFsAW0BbgFvAXABcQFyAXMBdAF1AXYBdwF4AXkBegF7AXwBfQF+AX8BgAGBAYIBgwGEAYUBhgGHAYgBiQGKAYsBjAGNAY4BjwGQAZEBkgGTAZQBlQGWAZcBmAGZAZoBmwGcAZ0BngGfAaABoQGiAaMBpAGlAaYBpwGoAakBqgGrAawBrQGuAa8BsAGxAbIBswG0AbUBtgG3AbgBuQG6AbsBvAG9Ab4BvwHAAcEBwgHDAcQBxQHGAccByAHJAcoBywHMAc0BzgHPAdAB0QHSAdMB1AHVAdYB1wHYAdkB2gHbAdwB3QHeAd8B4AHhAeIB4wHkAeUB5gHnAegB6QHqAesB7AHtAe4B7wHwAfEB8gHzAQ==",
             "dtype": "i2"
            },
            "coloraxis": "coloraxis",
            "symbol": "circle"
           },
           "mode": "markers",
           "name": "",
           "orientation": "v",
           "showlegend": false,
           "type": "scatter",
           "x": {
            "bdata": "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",
            "dtype": "f4"
           },
           "xaxis": "x",
           "y": {
            "bdata": "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",
            "dtype": "f4"
           },
           "yaxis": "y"
          }
         ],
         "name": "random state 10"
        },
        {
         "data": [
          {
           "hovertemplate": "set=random state 11<br>x=%{x}<br>y=%{y}<br>index=%{marker.color}<extra></extra>",
           "ids": {
            "bdata": "AAABAAIAAwAEAAUABgAHAAgACQAKAAsADAANAA4ADwAQABEAEgATABQAFQAWABcAGAAZABoAGwAcAB0AHgAfACAAIQAiACMAJAAlACYAJwAoACkAKgArACwALQAuAC8AMAAxADIAMwA0ADUANgA3ADgAOQA6ADsAPAA9AD4APwBAAEEAQgBDAEQARQBGAEcASABJAEoASwBMAE0ATgBPAFAAUQBSAFMAVABVAFYAVwBYAFkAWgBbAFwAXQBeAF8AYABhAGIAYwBkAGUAZgBnAGgAaQBqAGsAbABtAG4AbwBwAHEAcgBzAHQAdQB2AHcAeAB5AHoAewB8AH0AfgB/AIAAgQCCAIMAhACFAIYAhwCIAIkAigCLAIwAjQCOAI8AkACRAJIAkwCUAJUAlgCXAJgAmQCaAJsAnACdAJ4AnwCgAKEAogCjAKQApQCmAKcAqACpAKoAqwCsAK0ArgCvALAAsQCyALMAtAC1ALYAtwC4ALkAugC7ALwAvQC+AL8AwADBAMIAwwDEAMUAxgDHAMgAyQDKAMsAzADNAM4AzwDQANEA0gDTANQA1QDWANcA2ADZANoA2wDcAN0A3gDfAOAA4QDiAOMA5ADlAOYA5wDoAOkA6gDrAOwA7QDuAO8A8ADxAPIA8wD0APUA9gD3APgA+QD6APsA/AD9AP4A/wAAAQEBAgEDAQQBBQEGAQcBCAEJAQoBCwEMAQ0BDgEPARABEQESARMBFAEVARYBFwEYARkBGgEbARwBHQEeAR8BIAEhASIBIwEkASUBJgEnASgBKQEqASsBLAEtAS4BLwEwATEBMgEzATQBNQE2ATcBOAE5AToBOwE8AT0BPgE/AUABQQFCAUMBRAFFAUYBRwFIAUkBSgFLAUwBTQFOAU8BUAFRAVIBUwFUAVUBVgFXAVgBWQFaAVsBXAFdAV4BXwFgAWEBYgFjAWQBZQFmAWcBaAFpAWoBawFsAW0BbgFvAXABcQFyAXMBdAF1AXYBdwF4AXkBegF7AXwBfQF+AX8BgAGBAYIBgwGEAYUBhgGHAYgBiQGKAYsBjAGNAY4BjwGQAZEBkgGTAZQBlQGWAZcBmAGZAZoBmwGcAZ0BngGfAaABoQGiAaMBpAGlAaYBpwGoAakBqgGrAawBrQGuAa8BsAGxAbIBswG0AbUBtgG3AbgBuQG6AbsBvAG9Ab4BvwHAAcEBwgHDAcQBxQHGAccByAHJAcoBywHMAc0BzgHPAdAB0QHSAdMB1AHVAdYB1wHYAdkB2gHbAdwB3QHeAd8B4AHhAeIB4wHkAeUB5gHnAegB6QHqAesB7AHtAe4B7wHwAfEB8gHzAQ==",
            "dtype": "i2"
           },
           "legendgroup": "",
           "marker": {
            "color": {
             "bdata": "AAABAAIAAwAEAAUABgAHAAgACQAKAAsADAANAA4ADwAQABEAEgATABQAFQAWABcAGAAZABoAGwAcAB0AHgAfACAAIQAiACMAJAAlACYAJwAoACkAKgArACwALQAuAC8AMAAxADIAMwA0ADUANgA3ADgAOQA6ADsAPAA9AD4APwBAAEEAQgBDAEQARQBGAEcASABJAEoASwBMAE0ATgBPAFAAUQBSAFMAVABVAFYAVwBYAFkAWgBbAFwAXQBeAF8AYABhAGIAYwBkAGUAZgBnAGgAaQBqAGsAbABtAG4AbwBwAHEAcgBzAHQAdQB2AHcAeAB5AHoAewB8AH0AfgB/AIAAgQCCAIMAhACFAIYAhwCIAIkAigCLAIwAjQCOAI8AkACRAJIAkwCUAJUAlgCXAJgAmQCaAJsAnACdAJ4AnwCgAKEAogCjAKQApQCmAKcAqACpAKoAqwCsAK0ArgCvALAAsQCyALMAtAC1ALYAtwC4ALkAugC7ALwAvQC+AL8AwADBAMIAwwDEAMUAxgDHAMgAyQDKAMsAzADNAM4AzwDQANEA0gDTANQA1QDWANcA2ADZANoA2wDcAN0A3gDfAOAA4QDiAOMA5ADlAOYA5wDoAOkA6gDrAOwA7QDuAO8A8ADxAPIA8wD0APUA9gD3APgA+QD6APsA/AD9AP4A/wAAAQEBAgEDAQQBBQEGAQcBCAEJAQoBCwEMAQ0BDgEPARABEQESARMBFAEVARYBFwEYARkBGgEbARwBHQEeAR8BIAEhASIBIwEkASUBJgEnASgBKQEqASsBLAEtAS4BLwEwATEBMgEzATQBNQE2ATcBOAE5AToBOwE8AT0BPgE/AUABQQFCAUMBRAFFAUYBRwFIAUkBSgFLAUwBTQFOAU8BUAFRAVIBUwFUAVUBVgFXAVgBWQFaAVsBXAFdAV4BXwFgAWEBYgFjAWQBZQFmAWcBaAFpAWoBawFsAW0BbgFvAXABcQFyAXMBdAF1AXYBdwF4AXkBegF7AXwBfQF+AX8BgAGBAYIBgwGEAYUBhgGHAYgBiQGKAYsBjAGNAY4BjwGQAZEBkgGTAZQBlQGWAZcBmAGZAZoBmwGcAZ0BngGfAaABoQGiAaMBpAGlAaYBpwGoAakBqgGrAawBrQGuAa8BsAGxAbIBswG0AbUBtgG3AbgBuQG6AbsBvAG9Ab4BvwHAAcEBwgHDAcQBxQHGAccByAHJAcoBywHMAc0BzgHPAdAB0QHSAdMB1AHVAdYB1wHYAdkB2gHbAdwB3QHeAd8B4AHhAeIB4wHkAeUB5gHnAegB6QHqAesB7AHtAe4B7wHwAfEB8gHzAQ==",
             "dtype": "i2"
            },
            "coloraxis": "coloraxis",
            "symbol": "circle"
           },
           "mode": "markers",
           "name": "",
           "orientation": "v",
           "showlegend": false,
           "type": "scatter",
           "x": {
            "bdata": "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",
            "dtype": "f4"
           },
           "xaxis": "x",
           "y": {
            "bdata": "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",
            "dtype": "f4"
           },
           "yaxis": "y"
          }
         ],
         "name": "random state 11"
        },
        {
         "data": [
          {
           "hovertemplate": "set=random state 12<br>x=%{x}<br>y=%{y}<br>index=%{marker.color}<extra></extra>",
           "ids": {
            "bdata": "AAABAAIAAwAEAAUABgAHAAgACQAKAAsADAANAA4ADwAQABEAEgATABQAFQAWABcAGAAZABoAGwAcAB0AHgAfACAAIQAiACMAJAAlACYAJwAoACkAKgArACwALQAuAC8AMAAxADIAMwA0ADUANgA3ADgAOQA6ADsAPAA9AD4APwBAAEEAQgBDAEQARQBGAEcASABJAEoASwBMAE0ATgBPAFAAUQBSAFMAVABVAFYAVwBYAFkAWgBbAFwAXQBeAF8AYABhAGIAYwBkAGUAZgBnAGgAaQBqAGsAbABtAG4AbwBwAHEAcgBzAHQAdQB2AHcAeAB5AHoAewB8AH0AfgB/AIAAgQCCAIMAhACFAIYAhwCIAIkAigCLAIwAjQCOAI8AkACRAJIAkwCUAJUAlgCXAJgAmQCaAJsAnACdAJ4AnwCgAKEAogCjAKQApQCmAKcAqACpAKoAqwCsAK0ArgCvALAAsQCyALMAtAC1ALYAtwC4ALkAugC7ALwAvQC+AL8AwADBAMIAwwDEAMUAxgDHAMgAyQDKAMsAzADNAM4AzwDQANEA0gDTANQA1QDWANcA2ADZANoA2wDcAN0A3gDfAOAA4QDiAOMA5ADlAOYA5wDoAOkA6gDrAOwA7QDuAO8A8ADxAPIA8wD0APUA9gD3APgA+QD6APsA/AD9AP4A/wAAAQEBAgEDAQQBBQEGAQcBCAEJAQoBCwEMAQ0BDgEPARABEQESARMBFAEVARYBFwEYARkBGgEbARwBHQEeAR8BIAEhASIBIwEkASUBJgEnASgBKQEqASsBLAEtAS4BLwEwATEBMgEzATQBNQE2ATcBOAE5AToBOwE8AT0BPgE/AUABQQFCAUMBRAFFAUYBRwFIAUkBSgFLAUwBTQFOAU8BUAFRAVIBUwFUAVUBVgFXAVgBWQFaAVsBXAFdAV4BXwFgAWEBYgFjAWQBZQFmAWcBaAFpAWoBawFsAW0BbgFvAXABcQFyAXMBdAF1AXYBdwF4AXkBegF7AXwBfQF+AX8BgAGBAYIBgwGEAYUBhgGHAYgBiQGKAYsBjAGNAY4BjwGQAZEBkgGTAZQBlQGWAZcBmAGZAZoBmwGcAZ0BngGfAaABoQGiAaMBpAGlAaYBpwGoAakBqgGrAawBrQGuAa8BsAGxAbIBswG0AbUBtgG3AbgBuQG6AbsBvAG9Ab4BvwHAAcEBwgHDAcQBxQHGAccByAHJAcoBywHMAc0BzgHPAdAB0QHSAdMB1AHVAdYB1wHYAdkB2gHbAdwB3QHeAd8B4AHhAeIB4wHkAeUB5gHnAegB6QHqAesB7AHtAe4B7wHwAfEB8gHzAQ==",
            "dtype": "i2"
           },
           "legendgroup": "",
           "marker": {
            "color": {
             "bdata": "AAABAAIAAwAEAAUABgAHAAgACQAKAAsADAANAA4ADwAQABEAEgATABQAFQAWABcAGAAZABoAGwAcAB0AHgAfACAAIQAiACMAJAAlACYAJwAoACkAKgArACwALQAuAC8AMAAxADIAMwA0ADUANgA3ADgAOQA6ADsAPAA9AD4APwBAAEEAQgBDAEQARQBGAEcASABJAEoASwBMAE0ATgBPAFAAUQBSAFMAVABVAFYAVwBYAFkAWgBbAFwAXQBeAF8AYABhAGIAYwBkAGUAZgBnAGgAaQBqAGsAbABtAG4AbwBwAHEAcgBzAHQAdQB2AHcAeAB5AHoAewB8AH0AfgB/AIAAgQCCAIMAhACFAIYAhwCIAIkAigCLAIwAjQCOAI8AkACRAJIAkwCUAJUAlgCXAJgAmQCaAJsAnACdAJ4AnwCgAKEAogCjAKQApQCmAKcAqACpAKoAqwCsAK0ArgCvALAAsQCyALMAtAC1ALYAtwC4ALkAugC7ALwAvQC+AL8AwADBAMIAwwDEAMUAxgDHAMgAyQDKAMsAzADNAM4AzwDQANEA0gDTANQA1QDWANcA2ADZANoA2wDcAN0A3gDfAOAA4QDiAOMA5ADlAOYA5wDoAOkA6gDrAOwA7QDuAO8A8ADxAPIA8wD0APUA9gD3APgA+QD6APsA/AD9AP4A/wAAAQEBAgEDAQQBBQEGAQcBCAEJAQoBCwEMAQ0BDgEPARABEQESARMBFAEVARYBFwEYARkBGgEbARwBHQEeAR8BIAEhASIBIwEkASUBJgEnASgBKQEqASsBLAEtAS4BLwEwATEBMgEzATQBNQE2ATcBOAE5AToBOwE8AT0BPgE/AUABQQFCAUMBRAFFAUYBRwFIAUkBSgFLAUwBTQFOAU8BUAFRAVIBUwFUAVUBVgFXAVgBWQFaAVsBXAFdAV4BXwFgAWEBYgFjAWQBZQFmAWcBaAFpAWoBawFsAW0BbgFvAXABcQFyAXMBdAF1AXYBdwF4AXkBegF7AXwBfQF+AX8BgAGBAYIBgwGEAYUBhgGHAYgBiQGKAYsBjAGNAY4BjwGQAZEBkgGTAZQBlQGWAZcBmAGZAZoBmwGcAZ0BngGfAaABoQGiAaMBpAGlAaYBpwGoAakBqgGrAawBrQGuAa8BsAGxAbIBswG0AbUBtgG3AbgBuQG6AbsBvAG9Ab4BvwHAAcEBwgHDAcQBxQHGAccByAHJAcoBywHMAc0BzgHPAdAB0QHSAdMB1AHVAdYB1wHYAdkB2gHbAdwB3QHeAd8B4AHhAeIB4wHkAeUB5gHnAegB6QHqAesB7AHtAe4B7wHwAfEB8gHzAQ==",
             "dtype": "i2"
            },
            "coloraxis": "coloraxis",
            "symbol": "circle"
           },
           "mode": "markers",
           "name": "",
           "orientation": "v",
           "showlegend": false,
           "type": "scatter",
           "x": {
            "bdata": "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",
            "dtype": "f4"
           },
           "xaxis": "x",
           "y": {
            "bdata": "9lDJvyGPH0A41j+/5RSWP4HBDEHWZRNB6D9BQe/V+0C2yq6/5FoMQak/U8AbEUpAt1doQEoKWD6Rt/vA8WGNQA/N+UCj1p8/+t7bPvL5BkFiYv3AuVilQBfCPkFQKSxBTN2FQL3iVUEBuBdB3hQswEIBM0FxpklA+gpcP5SVL78SxPe+vmLDwO8u3UCUZiBAAA77QLFxnkB1+mhBhtKEQOnOpT8YlUtBlMpPQRvYM0BgVChAfZy9v/pbUkC7DitBIKQXQb2wpD+M7Cq/5owjQIT+EkG/goxAg4cEQec6AkGZ4ThBXAUnQU30Jj8wbJi/HdT5QB4eM0HkUj9B+fIEvwIlHkHYvQk/nXI+PzA3r78m5TZBYn+Yv6m1bkE5nytBNU4SwGXRMkFIQqs/Y4OKv9EsI0EGFiHAro/Lv6W2uL/NkxhBWAv5wIILUkD4ZSBBQdj7PnQ/R8Aav0lAhmwSwAgJV0CT3Z6/t76TQMeve0B7kLI+4vqoQKFm278b5Zi/eB5uQdEiEL8hwzhA+ZhDQP01dUDT4ttAwFUKQNa5AcBY2JRA80tTQUav+sCms1pAgukuQYfULkHLc+a/+vg4QSdgJkHLvAtB+znsv6rJLUG85/lAygasv9YFS0FWNi9ButT6QG99lr9zV6lAYEgXQYspKkH7STE/9riRQA9Mzz8/M6FAk4E3QS4uGcANNDFB428jQcPiWcBZ46O/6/ipQJMtWUCePQdBUD4YQOI3B0F86yTA76EsQSx940Bx1wtAZKstQRJqr7/HUUJBGu0LQYoyS0FvcrO/rBhPQfAc+L4/TLm/1OdDPxPIXUBq8SNBAtravws/FMCMl0+/do1qQR7gPEBmrlNArgmaQEVjfEDcjdw+Bpw+QQH+P0HBQhvAzzMnQUKbDEDw0ZhAxLA8QR3KYr+NVRdAOgY2QeKy/UCI2ytBB7Kev8DhG8BuzqW+wZuGvzGoQEH/+RNBTz+SQG2QRkD3Yna/LZBRv58lo784KEVAzYo/QZlM778m9p5AEm4sQHH1IUHy3jlBW+MSQZxuoL0BRFxAOt+aQE0ioj8WvSdByZErQT2UMr8I1BFBQfUPQZFkN0FZAyVBIYgHQIyQXUAOQzxAr3kPQXn/PUCNAnNAGjsiQcjPG8Cb2/JA+6gaQWg8UUGOPaO/iVsbwKvHUECyr+FAYPooQQYp+UB4ow1BMTsJQWkbCkCV7AJBQTIzQSAn0L8qmpxAPV/yQM8IDkEWH11AvUGgP+YJjj7c4k0/kiczQBLhn78oVBNBBmPDwHZrmT5A/zNBXCRvQScnJz8K6b2/72tqQOvnCUEIIj9Bk0GlQFO0w7+6I7m+WzQvQdUmEsDrFA9A7OAWwB8AXEB/xmZBLHP6wKXVLb/N0Ki/g2N2v/bkVUH6wY1AtfNGQMe5QkFxDiVBVqv9wAkt+0B8cFFAvPb5QFiAOUBgwQNBY+sVQSr/Ez9bsxJBZFhuQG1/Qb94GkhBTbVOQPkyXEDl2rC/6j2lQI5msb9BrRBB0X/nv7hpSkDdF4hAp5gOQSDXoECMIcQ+pSijv9z/UUBRJ7W/2FcVQepon78ORElAykHpvg/xmr/JVARBEmQwQUNPG0GAHpVAs1VlQE0zkz/jhyY/14k/QWbfM8ADzRhAT0L+QCh2T8AkcUFBMyUmwFEro0Afm/xAHVCnP8pxUUH7OANB2kZBwF9SOkCWGFVBc+AoQb62Mb9yH7q/Ps0mv81bJMBoo+BAdBDpPr/yLkHZXpa/Ee6qvyFhu77uFea/77UHQIhwFkGjDt1Ahps7vjLaXkAWSCtBzkM+QDx4b0BOPQa/wyksQJFmS8BABVVBXlGnv6IjVEFqDKNASgoZQX9ZZEDJo88+WmYmQWmNlb9QNqc/3RYuQTwVBUGL8hBBgtLAP3E4y770Nk5AvDQvQYDhbkHDMKu/RBylvyHQJkEwSTJBaRIMQftuHkF7ceS/SSCjvxpcB0G4KAZBBm5GwPIvc0CcMktBcf8DQboVmb+z6++/IED6QEUJDkGonhrAWaj6QLjwMkCH8pxAigBbv5a2/EAhw/tAnkfjv3ZrVUHAODXA149mQEFpEkHqGjFA51/DwBBnQkGrD/dAlOthQFa9U0C1S0y/OGedP6K13r/0Mam/PWs3QNFaIL/EBjRBks4iQZcCPkEGaBI+SvATQfE0C0HFyShByUuuvx4oo7/OZl9Af0M0QYnNA8Dkb/fAbUKzvt6Lr76tzwZBNt0zQBM1ZEBadDxAVccGQeUDuL/Bnh9BE5cMQR6hC0GaRIZA4bItQTsC9UCt3AtAXw8NQPTQVUEsZyJBZF0VQMUs0b9xw/hA2phgQMgVRUFDqxg/SyogQXSYlUC6MktB8S4NQZAP90Df9jxBSNYcQdJeKUEgYQVB+W8tv1o1S0GlL49AQgsXQRZiLEHgnxxBPz5EP3AFJ0DqawHAAnFDQAUfLEFGDvi/FLmUQHHUIEGcMflAfPyWv6SRBUGxGlBB67X7vzh8mEDD+Qu/HCHwQDbgEMDStElBr88sQdfK5L+HroBAgOc2Qbl/qD/Nxla+J7ETQIGiTcCeiUo/o6EbQYVg2b/h2zRBwbhCv6ECLkGUjB2/Qw60Pzu/NkGBGPpA73k7QfuUFkH8TClBPdaxOwG2WUAfiSJB8b8AQLPo4EA=",
            "dtype": "f4"
           },
           "yaxis": "y"
          }
         ],
         "name": "random state 12"
        },
        {
         "data": [
          {
           "hovertemplate": "set=random state 13<br>x=%{x}<br>y=%{y}<br>index=%{marker.color}<extra></extra>",
           "ids": {
            "bdata": "AAABAAIAAwAEAAUABgAHAAgACQAKAAsADAANAA4ADwAQABEAEgATABQAFQAWABcAGAAZABoAGwAcAB0AHgAfACAAIQAiACMAJAAlACYAJwAoACkAKgArACwALQAuAC8AMAAxADIAMwA0ADUANgA3ADgAOQA6ADsAPAA9AD4APwBAAEEAQgBDAEQARQBGAEcASABJAEoASwBMAE0ATgBPAFAAUQBSAFMAVABVAFYAVwBYAFkAWgBbAFwAXQBeAF8AYABhAGIAYwBkAGUAZgBnAGgAaQBqAGsAbABtAG4AbwBwAHEAcgBzAHQAdQB2AHcAeAB5AHoAewB8AH0AfgB/AIAAgQCCAIMAhACFAIYAhwCIAIkAigCLAIwAjQCOAI8AkACRAJIAkwCUAJUAlgCXAJgAmQCaAJsAnACdAJ4AnwCgAKEAogCjAKQApQCmAKcAqACpAKoAqwCsAK0ArgCvALAAsQCyALMAtAC1ALYAtwC4ALkAugC7ALwAvQC+AL8AwADBAMIAwwDEAMUAxgDHAMgAyQDKAMsAzADNAM4AzwDQANEA0gDTANQA1QDWANcA2ADZANoA2wDcAN0A3gDfAOAA4QDiAOMA5ADlAOYA5wDoAOkA6gDrAOwA7QDuAO8A8ADxAPIA8wD0APUA9gD3APgA+QD6APsA/AD9AP4A/wAAAQEBAgEDAQQBBQEGAQcBCAEJAQoBCwEMAQ0BDgEPARABEQESARMBFAEVARYBFwEYARkBGgEbARwBHQEeAR8BIAEhASIBIwEkASUBJgEnASgBKQEqASsBLAEtAS4BLwEwATEBMgEzATQBNQE2ATcBOAE5AToBOwE8AT0BPgE/AUABQQFCAUMBRAFFAUYBRwFIAUkBSgFLAUwBTQFOAU8BUAFRAVIBUwFUAVUBVgFXAVgBWQFaAVsBXAFdAV4BXwFgAWEBYgFjAWQBZQFmAWcBaAFpAWoBawFsAW0BbgFvAXABcQFyAXMBdAF1AXYBdwF4AXkBegF7AXwBfQF+AX8BgAGBAYIBgwGEAYUBhgGHAYgBiQGKAYsBjAGNAY4BjwGQAZEBkgGTAZQBlQGWAZcBmAGZAZoBmwGcAZ0BngGfAaABoQGiAaMBpAGlAaYBpwGoAakBqgGrAawBrQGuAa8BsAGxAbIBswG0AbUBtgG3AbgBuQG6AbsBvAG9Ab4BvwHAAcEBwgHDAcQBxQHGAccByAHJAcoBywHMAc0BzgHPAdAB0QHSAdMB1AHVAdYB1wHYAdkB2gHbAdwB3QHeAd8B4AHhAeIB4wHkAeUB5gHnAegB6QHqAesB7AHtAe4B7wHwAfEB8gHzAQ==",
            "dtype": "i2"
           },
           "legendgroup": "",
           "marker": {
            "color": {
             "bdata": "AAABAAIAAwAEAAUABgAHAAgACQAKAAsADAANAA4ADwAQABEAEgATABQAFQAWABcAGAAZABoAGwAcAB0AHgAfACAAIQAiACMAJAAlACYAJwAoACkAKgArACwALQAuAC8AMAAxADIAMwA0ADUANgA3ADgAOQA6ADsAPAA9AD4APwBAAEEAQgBDAEQARQBGAEcASABJAEoASwBMAE0ATgBPAFAAUQBSAFMAVABVAFYAVwBYAFkAWgBbAFwAXQBeAF8AYABhAGIAYwBkAGUAZgBnAGgAaQBqAGsAbABtAG4AbwBwAHEAcgBzAHQAdQB2AHcAeAB5AHoAewB8AH0AfgB/AIAAgQCCAIMAhACFAIYAhwCIAIkAigCLAIwAjQCOAI8AkACRAJIAkwCUAJUAlgCXAJgAmQCaAJsAnACdAJ4AnwCgAKEAogCjAKQApQCmAKcAqACpAKoAqwCsAK0ArgCvALAAsQCyALMAtAC1ALYAtwC4ALkAugC7ALwAvQC+AL8AwADBAMIAwwDEAMUAxgDHAMgAyQDKAMsAzADNAM4AzwDQANEA0gDTANQA1QDWANcA2ADZANoA2wDcAN0A3gDfAOAA4QDiAOMA5ADlAOYA5wDoAOkA6gDrAOwA7QDuAO8A8ADxAPIA8wD0APUA9gD3APgA+QD6APsA/AD9AP4A/wAAAQEBAgEDAQQBBQEGAQcBCAEJAQoBCwEMAQ0BDgEPARABEQESARMBFAEVARYBFwEYARkBGgEbARwBHQEeAR8BIAEhASIBIwEkASUBJgEnASgBKQEqASsBLAEtAS4BLwEwATEBMgEzATQBNQE2ATcBOAE5AToBOwE8AT0BPgE/AUABQQFCAUMBRAFFAUYBRwFIAUkBSgFLAUwBTQFOAU8BUAFRAVIBUwFUAVUBVgFXAVgBWQFaAVsBXAFdAV4BXwFgAWEBYgFjAWQBZQFmAWcBaAFpAWoBawFsAW0BbgFvAXABcQFyAXMBdAF1AXYBdwF4AXkBegF7AXwBfQF+AX8BgAGBAYIBgwGEAYUBhgGHAYgBiQGKAYsBjAGNAY4BjwGQAZEBkgGTAZQBlQGWAZcBmAGZAZoBmwGcAZ0BngGfAaABoQGiAaMBpAGlAaYBpwGoAakBqgGrAawBrQGuAa8BsAGxAbIBswG0AbUBtgG3AbgBuQG6AbsBvAG9Ab4BvwHAAcEBwgHDAcQBxQHGAccByAHJAcoBywHMAc0BzgHPAdAB0QHSAdMB1AHVAdYB1wHYAdkB2gHbAdwB3QHeAd8B4AHhAeIB4wHkAeUB5gHnAegB6QHqAesB7AHtAe4B7wHwAfEB8gHzAQ==",
             "dtype": "i2"
            },
            "coloraxis": "coloraxis",
            "symbol": "circle"
           },
           "mode": "markers",
           "name": "",
           "orientation": "v",
           "showlegend": false,
           "type": "scatter",
           "x": {
            "bdata": "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",
            "dtype": "f4"
           },
           "xaxis": "x",
           "y": {
            "bdata": "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",
            "dtype": "f4"
           },
           "yaxis": "y"
          }
         ],
         "name": "random state 13"
        },
        {
         "data": [
          {
           "hovertemplate": "set=random state 14<br>x=%{x}<br>y=%{y}<br>index=%{marker.color}<extra></extra>",
           "ids": {
            "bdata": "AAABAAIAAwAEAAUABgAHAAgACQAKAAsADAANAA4ADwAQABEAEgATABQAFQAWABcAGAAZABoAGwAcAB0AHgAfACAAIQAiACMAJAAlACYAJwAoACkAKgArACwALQAuAC8AMAAxADIAMwA0ADUANgA3ADgAOQA6ADsAPAA9AD4APwBAAEEAQgBDAEQARQBGAEcASABJAEoASwBMAE0ATgBPAFAAUQBSAFMAVABVAFYAVwBYAFkAWgBbAFwAXQBeAF8AYABhAGIAYwBkAGUAZgBnAGgAaQBqAGsAbABtAG4AbwBwAHEAcgBzAHQAdQB2AHcAeAB5AHoAewB8AH0AfgB/AIAAgQCCAIMAhACFAIYAhwCIAIkAigCLAIwAjQCOAI8AkACRAJIAkwCUAJUAlgCXAJgAmQCaAJsAnACdAJ4AnwCgAKEAogCjAKQApQCmAKcAqACpAKoAqwCsAK0ArgCvALAAsQCyALMAtAC1ALYAtwC4ALkAugC7ALwAvQC+AL8AwADBAMIAwwDEAMUAxgDHAMgAyQDKAMsAzADNAM4AzwDQANEA0gDTANQA1QDWANcA2ADZANoA2wDcAN0A3gDfAOAA4QDiAOMA5ADlAOYA5wDoAOkA6gDrAOwA7QDuAO8A8ADxAPIA8wD0APUA9gD3APgA+QD6APsA/AD9AP4A/wAAAQEBAgEDAQQBBQEGAQcBCAEJAQoBCwEMAQ0BDgEPARABEQESARMBFAEVARYBFwEYARkBGgEbARwBHQEeAR8BIAEhASIBIwEkASUBJgEnASgBKQEqASsBLAEtAS4BLwEwATEBMgEzATQBNQE2ATcBOAE5AToBOwE8AT0BPgE/AUABQQFCAUMBRAFFAUYBRwFIAUkBSgFLAUwBTQFOAU8BUAFRAVIBUwFUAVUBVgFXAVgBWQFaAVsBXAFdAV4BXwFgAWEBYgFjAWQBZQFmAWcBaAFpAWoBawFsAW0BbgFvAXABcQFyAXMBdAF1AXYBdwF4AXkBegF7AXwBfQF+AX8BgAGBAYIBgwGEAYUBhgGHAYgBiQGKAYsBjAGNAY4BjwGQAZEBkgGTAZQBlQGWAZcBmAGZAZoBmwGcAZ0BngGfAaABoQGiAaMBpAGlAaYBpwGoAakBqgGrAawBrQGuAa8BsAGxAbIBswG0AbUBtgG3AbgBuQG6AbsBvAG9Ab4BvwHAAcEBwgHDAcQBxQHGAccByAHJAcoBywHMAc0BzgHPAdAB0QHSAdMB1AHVAdYB1wHYAdkB2gHbAdwB3QHeAd8B4AHhAeIB4wHkAeUB5gHnAegB6QHqAesB7AHtAe4B7wHwAfEB8gHzAQ==",
            "dtype": "i2"
           },
           "legendgroup": "",
           "marker": {
            "color": {
             "bdata": "AAABAAIAAwAEAAUABgAHAAgACQAKAAsADAANAA4ADwAQABEAEgATABQAFQAWABcAGAAZABoAGwAcAB0AHgAfACAAIQAiACMAJAAlACYAJwAoACkAKgArACwALQAuAC8AMAAxADIAMwA0ADUANgA3ADgAOQA6ADsAPAA9AD4APwBAAEEAQgBDAEQARQBGAEcASABJAEoASwBMAE0ATgBPAFAAUQBSAFMAVABVAFYAVwBYAFkAWgBbAFwAXQBeAF8AYABhAGIAYwBkAGUAZgBnAGgAaQBqAGsAbABtAG4AbwBwAHEAcgBzAHQAdQB2AHcAeAB5AHoAewB8AH0AfgB/AIAAgQCCAIMAhACFAIYAhwCIAIkAigCLAIwAjQCOAI8AkACRAJIAkwCUAJUAlgCXAJgAmQCaAJsAnACdAJ4AnwCgAKEAogCjAKQApQCmAKcAqACpAKoAqwCsAK0ArgCvALAAsQCyALMAtAC1ALYAtwC4ALkAugC7ALwAvQC+AL8AwADBAMIAwwDEAMUAxgDHAMgAyQDKAMsAzADNAM4AzwDQANEA0gDTANQA1QDWANcA2ADZANoA2wDcAN0A3gDfAOAA4QDiAOMA5ADlAOYA5wDoAOkA6gDrAOwA7QDuAO8A8ADxAPIA8wD0APUA9gD3APgA+QD6APsA/AD9AP4A/wAAAQEBAgEDAQQBBQEGAQcBCAEJAQoBCwEMAQ0BDgEPARABEQESARMBFAEVARYBFwEYARkBGgEbARwBHQEeAR8BIAEhASIBIwEkASUBJgEnASgBKQEqASsBLAEtAS4BLwEwATEBMgEzATQBNQE2ATcBOAE5AToBOwE8AT0BPgE/AUABQQFCAUMBRAFFAUYBRwFIAUkBSgFLAUwBTQFOAU8BUAFRAVIBUwFUAVUBVgFXAVgBWQFaAVsBXAFdAV4BXwFgAWEBYgFjAWQBZQFmAWcBaAFpAWoBawFsAW0BbgFvAXABcQFyAXMBdAF1AXYBdwF4AXkBegF7AXwBfQF+AX8BgAGBAYIBgwGEAYUBhgGHAYgBiQGKAYsBjAGNAY4BjwGQAZEBkgGTAZQBlQGWAZcBmAGZAZoBmwGcAZ0BngGfAaABoQGiAaMBpAGlAaYBpwGoAakBqgGrAawBrQGuAa8BsAGxAbIBswG0AbUBtgG3AbgBuQG6AbsBvAG9Ab4BvwHAAcEBwgHDAcQBxQHGAccByAHJAcoBywHMAc0BzgHPAdAB0QHSAdMB1AHVAdYB1wHYAdkB2gHbAdwB3QHeAd8B4AHhAeIB4wHkAeUB5gHnAegB6QHqAesB7AHtAe4B7wHwAfEB8gHzAQ==",
             "dtype": "i2"
            },
            "coloraxis": "coloraxis",
            "symbol": "circle"
           },
           "mode": "markers",
           "name": "",
           "orientation": "v",
           "showlegend": false,
           "type": "scatter",
           "x": {
            "bdata": "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",
            "dtype": "f4"
           },
           "xaxis": "x",
           "y": {
            "bdata": "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",
            "dtype": "f4"
           },
           "yaxis": "y"
          }
         ],
         "name": "random state 14"
        },
        {
         "data": [
          {
           "hovertemplate": "set=random state 15<br>x=%{x}<br>y=%{y}<br>index=%{marker.color}<extra></extra>",
           "ids": {
            "bdata": "AAABAAIAAwAEAAUABgAHAAgACQAKAAsADAANAA4ADwAQABEAEgATABQAFQAWABcAGAAZABoAGwAcAB0AHgAfACAAIQAiACMAJAAlACYAJwAoACkAKgArACwALQAuAC8AMAAxADIAMwA0ADUANgA3ADgAOQA6ADsAPAA9AD4APwBAAEEAQgBDAEQARQBGAEcASABJAEoASwBMAE0ATgBPAFAAUQBSAFMAVABVAFYAVwBYAFkAWgBbAFwAXQBeAF8AYABhAGIAYwBkAGUAZgBnAGgAaQBqAGsAbABtAG4AbwBwAHEAcgBzAHQAdQB2AHcAeAB5AHoAewB8AH0AfgB/AIAAgQCCAIMAhACFAIYAhwCIAIkAigCLAIwAjQCOAI8AkACRAJIAkwCUAJUAlgCXAJgAmQCaAJsAnACdAJ4AnwCgAKEAogCjAKQApQCmAKcAqACpAKoAqwCsAK0ArgCvALAAsQCyALMAtAC1ALYAtwC4ALkAugC7ALwAvQC+AL8AwADBAMIAwwDEAMUAxgDHAMgAyQDKAMsAzADNAM4AzwDQANEA0gDTANQA1QDWANcA2ADZANoA2wDcAN0A3gDfAOAA4QDiAOMA5ADlAOYA5wDoAOkA6gDrAOwA7QDuAO8A8ADxAPIA8wD0APUA9gD3APgA+QD6APsA/AD9AP4A/wAAAQEBAgEDAQQBBQEGAQcBCAEJAQoBCwEMAQ0BDgEPARABEQESARMBFAEVARYBFwEYARkBGgEbARwBHQEeAR8BIAEhASIBIwEkASUBJgEnASgBKQEqASsBLAEtAS4BLwEwATEBMgEzATQBNQE2ATcBOAE5AToBOwE8AT0BPgE/AUABQQFCAUMBRAFFAUYBRwFIAUkBSgFLAUwBTQFOAU8BUAFRAVIBUwFUAVUBVgFXAVgBWQFaAVsBXAFdAV4BXwFgAWEBYgFjAWQBZQFmAWcBaAFpAWoBawFsAW0BbgFvAXABcQFyAXMBdAF1AXYBdwF4AXkBegF7AXwBfQF+AX8BgAGBAYIBgwGEAYUBhgGHAYgBiQGKAYsBjAGNAY4BjwGQAZEBkgGTAZQBlQGWAZcBmAGZAZoBmwGcAZ0BngGfAaABoQGiAaMBpAGlAaYBpwGoAakBqgGrAawBrQGuAa8BsAGxAbIBswG0AbUBtgG3AbgBuQG6AbsBvAG9Ab4BvwHAAcEBwgHDAcQBxQHGAccByAHJAcoBywHMAc0BzgHPAdAB0QHSAdMB1AHVAdYB1wHYAdkB2gHbAdwB3QHeAd8B4AHhAeIB4wHkAeUB5gHnAegB6QHqAesB7AHtAe4B7wHwAfEB8gHzAQ==",
            "dtype": "i2"
           },
           "legendgroup": "",
           "marker": {
            "color": {
             "bdata": "AAABAAIAAwAEAAUABgAHAAgACQAKAAsADAANAA4ADwAQABEAEgATABQAFQAWABcAGAAZABoAGwAcAB0AHgAfACAAIQAiACMAJAAlACYAJwAoACkAKgArACwALQAuAC8AMAAxADIAMwA0ADUANgA3ADgAOQA6ADsAPAA9AD4APwBAAEEAQgBDAEQARQBGAEcASABJAEoASwBMAE0ATgBPAFAAUQBSAFMAVABVAFYAVwBYAFkAWgBbAFwAXQBeAF8AYABhAGIAYwBkAGUAZgBnAGgAaQBqAGsAbABtAG4AbwBwAHEAcgBzAHQAdQB2AHcAeAB5AHoAewB8AH0AfgB/AIAAgQCCAIMAhACFAIYAhwCIAIkAigCLAIwAjQCOAI8AkACRAJIAkwCUAJUAlgCXAJgAmQCaAJsAnACdAJ4AnwCgAKEAogCjAKQApQCmAKcAqACpAKoAqwCsAK0ArgCvALAAsQCyALMAtAC1ALYAtwC4ALkAugC7ALwAvQC+AL8AwADBAMIAwwDEAMUAxgDHAMgAyQDKAMsAzADNAM4AzwDQANEA0gDTANQA1QDWANcA2ADZANoA2wDcAN0A3gDfAOAA4QDiAOMA5ADlAOYA5wDoAOkA6gDrAOwA7QDuAO8A8ADxAPIA8wD0APUA9gD3APgA+QD6APsA/AD9AP4A/wAAAQEBAgEDAQQBBQEGAQcBCAEJAQoBCwEMAQ0BDgEPARABEQESARMBFAEVARYBFwEYARkBGgEbARwBHQEeAR8BIAEhASIBIwEkASUBJgEnASgBKQEqASsBLAEtAS4BLwEwATEBMgEzATQBNQE2ATcBOAE5AToBOwE8AT0BPgE/AUABQQFCAUMBRAFFAUYBRwFIAUkBSgFLAUwBTQFOAU8BUAFRAVIBUwFUAVUBVgFXAVgBWQFaAVsBXAFdAV4BXwFgAWEBYgFjAWQBZQFmAWcBaAFpAWoBawFsAW0BbgFvAXABcQFyAXMBdAF1AXYBdwF4AXkBegF7AXwBfQF+AX8BgAGBAYIBgwGEAYUBhgGHAYgBiQGKAYsBjAGNAY4BjwGQAZEBkgGTAZQBlQGWAZcBmAGZAZoBmwGcAZ0BngGfAaABoQGiAaMBpAGlAaYBpwGoAakBqgGrAawBrQGuAa8BsAGxAbIBswG0AbUBtgG3AbgBuQG6AbsBvAG9Ab4BvwHAAcEBwgHDAcQBxQHGAccByAHJAcoBywHMAc0BzgHPAdAB0QHSAdMB1AHVAdYB1wHYAdkB2gHbAdwB3QHeAd8B4AHhAeIB4wHkAeUB5gHnAegB6QHqAesB7AHtAe4B7wHwAfEB8gHzAQ==",
             "dtype": "i2"
            },
            "coloraxis": "coloraxis",
            "symbol": "circle"
           },
           "mode": "markers",
           "name": "",
           "orientation": "v",
           "showlegend": false,
           "type": "scatter",
           "x": {
            "bdata": "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",
            "dtype": "f4"
           },
           "xaxis": "x",
           "y": {
            "bdata": "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",
            "dtype": "f4"
           },
           "yaxis": "y"
          }
         ],
         "name": "random state 15"
        },
        {
         "data": [
          {
           "hovertemplate": "set=random state 16<br>x=%{x}<br>y=%{y}<br>index=%{marker.color}<extra></extra>",
           "ids": {
            "bdata": "AAABAAIAAwAEAAUABgAHAAgACQAKAAsADAANAA4ADwAQABEAEgATABQAFQAWABcAGAAZABoAGwAcAB0AHgAfACAAIQAiACMAJAAlACYAJwAoACkAKgArACwALQAuAC8AMAAxADIAMwA0ADUANgA3ADgAOQA6ADsAPAA9AD4APwBAAEEAQgBDAEQARQBGAEcASABJAEoASwBMAE0ATgBPAFAAUQBSAFMAVABVAFYAVwBYAFkAWgBbAFwAXQBeAF8AYABhAGIAYwBkAGUAZgBnAGgAaQBqAGsAbABtAG4AbwBwAHEAcgBzAHQAdQB2AHcAeAB5AHoAewB8AH0AfgB/AIAAgQCCAIMAhACFAIYAhwCIAIkAigCLAIwAjQCOAI8AkACRAJIAkwCUAJUAlgCXAJgAmQCaAJsAnACdAJ4AnwCgAKEAogCjAKQApQCmAKcAqACpAKoAqwCsAK0ArgCvALAAsQCyALMAtAC1ALYAtwC4ALkAugC7ALwAvQC+AL8AwADBAMIAwwDEAMUAxgDHAMgAyQDKAMsAzADNAM4AzwDQANEA0gDTANQA1QDWANcA2ADZANoA2wDcAN0A3gDfAOAA4QDiAOMA5ADlAOYA5wDoAOkA6gDrAOwA7QDuAO8A8ADxAPIA8wD0APUA9gD3APgA+QD6APsA/AD9AP4A/wAAAQEBAgEDAQQBBQEGAQcBCAEJAQoBCwEMAQ0BDgEPARABEQESARMBFAEVARYBFwEYARkBGgEbARwBHQEeAR8BIAEhASIBIwEkASUBJgEnASgBKQEqASsBLAEtAS4BLwEwATEBMgEzATQBNQE2ATcBOAE5AToBOwE8AT0BPgE/AUABQQFCAUMBRAFFAUYBRwFIAUkBSgFLAUwBTQFOAU8BUAFRAVIBUwFUAVUBVgFXAVgBWQFaAVsBXAFdAV4BXwFgAWEBYgFjAWQBZQFmAWcBaAFpAWoBawFsAW0BbgFvAXABcQFyAXMBdAF1AXYBdwF4AXkBegF7AXwBfQF+AX8BgAGBAYIBgwGEAYUBhgGHAYgBiQGKAYsBjAGNAY4BjwGQAZEBkgGTAZQBlQGWAZcBmAGZAZoBmwGcAZ0BngGfAaABoQGiAaMBpAGlAaYBpwGoAakBqgGrAawBrQGuAa8BsAGxAbIBswG0AbUBtgG3AbgBuQG6AbsBvAG9Ab4BvwHAAcEBwgHDAcQBxQHGAccByAHJAcoBywHMAc0BzgHPAdAB0QHSAdMB1AHVAdYB1wHYAdkB2gHbAdwB3QHeAd8B4AHhAeIB4wHkAeUB5gHnAegB6QHqAesB7AHtAe4B7wHwAfEB8gHzAQ==",
            "dtype": "i2"
           },
           "legendgroup": "",
           "marker": {
            "color": {
             "bdata": "AAABAAIAAwAEAAUABgAHAAgACQAKAAsADAANAA4ADwAQABEAEgATABQAFQAWABcAGAAZABoAGwAcAB0AHgAfACAAIQAiACMAJAAlACYAJwAoACkAKgArACwALQAuAC8AMAAxADIAMwA0ADUANgA3ADgAOQA6ADsAPAA9AD4APwBAAEEAQgBDAEQARQBGAEcASABJAEoASwBMAE0ATgBPAFAAUQBSAFMAVABVAFYAVwBYAFkAWgBbAFwAXQBeAF8AYABhAGIAYwBkAGUAZgBnAGgAaQBqAGsAbABtAG4AbwBwAHEAcgBzAHQAdQB2AHcAeAB5AHoAewB8AH0AfgB/AIAAgQCCAIMAhACFAIYAhwCIAIkAigCLAIwAjQCOAI8AkACRAJIAkwCUAJUAlgCXAJgAmQCaAJsAnACdAJ4AnwCgAKEAogCjAKQApQCmAKcAqACpAKoAqwCsAK0ArgCvALAAsQCyALMAtAC1ALYAtwC4ALkAugC7ALwAvQC+AL8AwADBAMIAwwDEAMUAxgDHAMgAyQDKAMsAzADNAM4AzwDQANEA0gDTANQA1QDWANcA2ADZANoA2wDcAN0A3gDfAOAA4QDiAOMA5ADlAOYA5wDoAOkA6gDrAOwA7QDuAO8A8ADxAPIA8wD0APUA9gD3APgA+QD6APsA/AD9AP4A/wAAAQEBAgEDAQQBBQEGAQcBCAEJAQoBCwEMAQ0BDgEPARABEQESARMBFAEVARYBFwEYARkBGgEbARwBHQEeAR8BIAEhASIBIwEkASUBJgEnASgBKQEqASsBLAEtAS4BLwEwATEBMgEzATQBNQE2ATcBOAE5AToBOwE8AT0BPgE/AUABQQFCAUMBRAFFAUYBRwFIAUkBSgFLAUwBTQFOAU8BUAFRAVIBUwFUAVUBVgFXAVgBWQFaAVsBXAFdAV4BXwFgAWEBYgFjAWQBZQFmAWcBaAFpAWoBawFsAW0BbgFvAXABcQFyAXMBdAF1AXYBdwF4AXkBegF7AXwBfQF+AX8BgAGBAYIBgwGEAYUBhgGHAYgBiQGKAYsBjAGNAY4BjwGQAZEBkgGTAZQBlQGWAZcBmAGZAZoBmwGcAZ0BngGfAaABoQGiAaMBpAGlAaYBpwGoAakBqgGrAawBrQGuAa8BsAGxAbIBswG0AbUBtgG3AbgBuQG6AbsBvAG9Ab4BvwHAAcEBwgHDAcQBxQHGAccByAHJAcoBywHMAc0BzgHPAdAB0QHSAdMB1AHVAdYB1wHYAdkB2gHbAdwB3QHeAd8B4AHhAeIB4wHkAeUB5gHnAegB6QHqAesB7AHtAe4B7wHwAfEB8gHzAQ==",
             "dtype": "i2"
            },
            "coloraxis": "coloraxis",
            "symbol": "circle"
           },
           "mode": "markers",
           "name": "",
           "orientation": "v",
           "showlegend": false,
           "type": "scatter",
           "x": {
            "bdata": "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",
            "dtype": "f4"
           },
           "xaxis": "x",
           "y": {
            "bdata": "9lDJvyGPH0A41j+/5RSWP4HBDEHWZRNB6D9BQe/V+0C2yq6/5FoMQak/U8AbEUpAt1doQEoKWD6Rt/vA8WGNQA/N+UCj1p8/+t7bPvL5BkFiYv3AuVilQBfCPkFQKSxBTN2FQL3iVUEBuBdB3hQswEIBM0FxpklA+gpcP5SVL78SxPe+vmLDwO8u3UCUZiBAAA77QLFxnkB1+mhBhtKEQOnOpT8YlUtBlMpPQRvYM0BgVChAfZy9v/pbUkC7DitBIKQXQb2wpD+M7Cq/5owjQIT+EkG/goxAg4cEQec6AkGZ4ThBXAUnQU30Jj8wbJi/HdT5QB4eM0HkUj9B+fIEvwIlHkHYvQk/nXI+PzA3r78m5TZBYn+Yv6m1bkE5nytBNU4SwGXRMkFIQqs/Y4OKv9EsI0EGFiHAro/Lv6W2uL/NkxhBWAv5wIILUkD4ZSBBQdj7PnQ/R8Aav0lAhmwSwAgJV0CT3Z6/t76TQMeve0B7kLI+4vqoQKFm278b5Zi/eB5uQdEiEL8hwzhA+ZhDQP01dUDT4ttAwFUKQNa5AcBY2JRA80tTQUav+sCms1pAgukuQYfULkHLc+a/+vg4QSdgJkHLvAtB+znsv6rJLUG85/lAygasv9YFS0FWNi9ButT6QG99lr9zV6lAYEgXQYspKkH7STE/9riRQA9Mzz8/M6FAk4E3QS4uGcANNDFB428jQcPiWcBZ46O/6/ipQJMtWUCePQdBUD4YQOI3B0F86yTA76EsQSx940Bx1wtAZKstQRJqr7/HUUJBGu0LQYoyS0FvcrO/rBhPQfAc+L4/TLm/1OdDPxPIXUBq8SNBAtravws/FMCMl0+/do1qQR7gPEBmrlNArgmaQEVjfEDcjdw+Bpw+QQH+P0HBQhvAzzMnQUKbDEDw0ZhAxLA8QR3KYr+NVRdAOgY2QeKy/UCI2ytBB7Kev8DhG8BuzqW+wZuGvzGoQEH/+RNBTz+SQG2QRkD3Yna/LZBRv58lo784KEVAzYo/QZlM778m9p5AEm4sQHH1IUHy3jlBW+MSQZxuoL0BRFxAOt+aQE0ioj8WvSdByZErQT2UMr8I1BFBQfUPQZFkN0FZAyVBIYgHQIyQXUAOQzxAr3kPQXn/PUCNAnNAGjsiQcjPG8Cb2/JA+6gaQWg8UUGOPaO/iVsbwKvHUECyr+FAYPooQQYp+UB4ow1BMTsJQWkbCkCV7AJBQTIzQSAn0L8qmpxAPV/yQM8IDkEWH11AvUGgP+YJjj7c4k0/kiczQBLhn78oVBNBBmPDwHZrmT5A/zNBXCRvQScnJz8K6b2/72tqQOvnCUEIIj9Bk0GlQFO0w7+6I7m+WzQvQdUmEsDrFA9A7OAWwB8AXEB/xmZBLHP6wKXVLb/N0Ki/g2N2v/bkVUH6wY1AtfNGQMe5QkFxDiVBVqv9wAkt+0B8cFFAvPb5QFiAOUBgwQNBY+sVQSr/Ez9bsxJBZFhuQG1/Qb94GkhBTbVOQPkyXEDl2rC/6j2lQI5msb9BrRBB0X/nv7hpSkDdF4hAp5gOQSDXoECMIcQ+pSijv9z/UUBRJ7W/2FcVQepon78ORElAykHpvg/xmr/JVARBEmQwQUNPG0GAHpVAs1VlQE0zkz/jhyY/14k/QWbfM8ADzRhAT0L+QCh2T8AkcUFBMyUmwFEro0Afm/xAHVCnP8pxUUH7OANB2kZBwF9SOkCWGFVBc+AoQb62Mb9yH7q/Ps0mv81bJMBoo+BAdBDpPr/yLkHZXpa/Ee6qvyFhu77uFea/77UHQIhwFkGjDt1Ahps7vjLaXkAWSCtBzkM+QDx4b0BOPQa/wyksQJFmS8BABVVBXlGnv6IjVEFqDKNASgoZQX9ZZEDJo88+WmYmQWmNlb9QNqc/3RYuQTwVBUGL8hBBgtLAP3E4y770Nk5AvDQvQYDhbkHDMKu/RBylvyHQJkEwSTJBaRIMQftuHkF7ceS/SSCjvxpcB0G4KAZBBm5GwPIvc0CcMktBcf8DQboVmb+z6++/IED6QEUJDkGonhrAWaj6QLjwMkCH8pxAigBbv5a2/EAhw/tAnkfjv3ZrVUHAODXA149mQEFpEkHqGjFA51/DwBBnQkGrD/dAlOthQFa9U0C1S0y/OGedP6K13r/0Mam/PWs3QNFaIL/EBjRBks4iQZcCPkEGaBI+SvATQfE0C0HFyShByUuuvx4oo7/OZl9Af0M0QYnNA8Dkb/fAbUKzvt6Lr76tzwZBNt0zQBM1ZEBadDxAVccGQeUDuL/Bnh9BE5cMQR6hC0GaRIZA4bItQTsC9UCt3AtAXw8NQPTQVUEsZyJBZF0VQMUs0b9xw/hA2phgQMgVRUFDqxg/SyogQXSYlUC6MktB8S4NQZAP90Df9jxBSNYcQdJeKUEgYQVB+W8tv1o1S0GlL49AQgsXQRZiLEHgnxxBPz5EP3AFJ0DqawHAAnFDQAUfLEFGDvi/FLmUQHHUIEGcMflAfPyWv6SRBUGxGlBB67X7vzh8mEDD+Qu/HCHwQDbgEMDStElBr88sQdfK5L+HroBAgOc2Qbl/qD/Nxla+J7ETQIGiTcCeiUo/o6EbQYVg2b/h2zRBwbhCv6ECLkGUjB2/Qw60Pzu/NkGBGPpA73k7QfuUFkH8TClBPdaxOwG2WUAfiSJB8b8AQLPo4EA=",
            "dtype": "f4"
           },
           "yaxis": "y"
          }
         ],
         "name": "random state 16"
        },
        {
         "data": [
          {
           "hovertemplate": "set=random state 17<br>x=%{x}<br>y=%{y}<br>index=%{marker.color}<extra></extra>",
           "ids": {
            "bdata": "AAABAAIAAwAEAAUABgAHAAgACQAKAAsADAANAA4ADwAQABEAEgATABQAFQAWABcAGAAZABoAGwAcAB0AHgAfACAAIQAiACMAJAAlACYAJwAoACkAKgArACwALQAuAC8AMAAxADIAMwA0ADUANgA3ADgAOQA6ADsAPAA9AD4APwBAAEEAQgBDAEQARQBGAEcASABJAEoASwBMAE0ATgBPAFAAUQBSAFMAVABVAFYAVwBYAFkAWgBbAFwAXQBeAF8AYABhAGIAYwBkAGUAZgBnAGgAaQBqAGsAbABtAG4AbwBwAHEAcgBzAHQAdQB2AHcAeAB5AHoAewB8AH0AfgB/AIAAgQCCAIMAhACFAIYAhwCIAIkAigCLAIwAjQCOAI8AkACRAJIAkwCUAJUAlgCXAJgAmQCaAJsAnACdAJ4AnwCgAKEAogCjAKQApQCmAKcAqACpAKoAqwCsAK0ArgCvALAAsQCyALMAtAC1ALYAtwC4ALkAugC7ALwAvQC+AL8AwADBAMIAwwDEAMUAxgDHAMgAyQDKAMsAzADNAM4AzwDQANEA0gDTANQA1QDWANcA2ADZANoA2wDcAN0A3gDfAOAA4QDiAOMA5ADlAOYA5wDoAOkA6gDrAOwA7QDuAO8A8ADxAPIA8wD0APUA9gD3APgA+QD6APsA/AD9AP4A/wAAAQEBAgEDAQQBBQEGAQcBCAEJAQoBCwEMAQ0BDgEPARABEQESARMBFAEVARYBFwEYARkBGgEbARwBHQEeAR8BIAEhASIBIwEkASUBJgEnASgBKQEqASsBLAEtAS4BLwEwATEBMgEzATQBNQE2ATcBOAE5AToBOwE8AT0BPgE/AUABQQFCAUMBRAFFAUYBRwFIAUkBSgFLAUwBTQFOAU8BUAFRAVIBUwFUAVUBVgFXAVgBWQFaAVsBXAFdAV4BXwFgAWEBYgFjAWQBZQFmAWcBaAFpAWoBawFsAW0BbgFvAXABcQFyAXMBdAF1AXYBdwF4AXkBegF7AXwBfQF+AX8BgAGBAYIBgwGEAYUBhgGHAYgBiQGKAYsBjAGNAY4BjwGQAZEBkgGTAZQBlQGWAZcBmAGZAZoBmwGcAZ0BngGfAaABoQGiAaMBpAGlAaYBpwGoAakBqgGrAawBrQGuAa8BsAGxAbIBswG0AbUBtgG3AbgBuQG6AbsBvAG9Ab4BvwHAAcEBwgHDAcQBxQHGAccByAHJAcoBywHMAc0BzgHPAdAB0QHSAdMB1AHVAdYB1wHYAdkB2gHbAdwB3QHeAd8B4AHhAeIB4wHkAeUB5gHnAegB6QHqAesB7AHtAe4B7wHwAfEB8gHzAQ==",
            "dtype": "i2"
           },
           "legendgroup": "",
           "marker": {
            "color": {
             "bdata": "AAABAAIAAwAEAAUABgAHAAgACQAKAAsADAANAA4ADwAQABEAEgATABQAFQAWABcAGAAZABoAGwAcAB0AHgAfACAAIQAiACMAJAAlACYAJwAoACkAKgArACwALQAuAC8AMAAxADIAMwA0ADUANgA3ADgAOQA6ADsAPAA9AD4APwBAAEEAQgBDAEQARQBGAEcASABJAEoASwBMAE0ATgBPAFAAUQBSAFMAVABVAFYAVwBYAFkAWgBbAFwAXQBeAF8AYABhAGIAYwBkAGUAZgBnAGgAaQBqAGsAbABtAG4AbwBwAHEAcgBzAHQAdQB2AHcAeAB5AHoAewB8AH0AfgB/AIAAgQCCAIMAhACFAIYAhwCIAIkAigCLAIwAjQCOAI8AkACRAJIAkwCUAJUAlgCXAJgAmQCaAJsAnACdAJ4AnwCgAKEAogCjAKQApQCmAKcAqACpAKoAqwCsAK0ArgCvALAAsQCyALMAtAC1ALYAtwC4ALkAugC7ALwAvQC+AL8AwADBAMIAwwDEAMUAxgDHAMgAyQDKAMsAzADNAM4AzwDQANEA0gDTANQA1QDWANcA2ADZANoA2wDcAN0A3gDfAOAA4QDiAOMA5ADlAOYA5wDoAOkA6gDrAOwA7QDuAO8A8ADxAPIA8wD0APUA9gD3APgA+QD6APsA/AD9AP4A/wAAAQEBAgEDAQQBBQEGAQcBCAEJAQoBCwEMAQ0BDgEPARABEQESARMBFAEVARYBFwEYARkBGgEbARwBHQEeAR8BIAEhASIBIwEkASUBJgEnASgBKQEqASsBLAEtAS4BLwEwATEBMgEzATQBNQE2ATcBOAE5AToBOwE8AT0BPgE/AUABQQFCAUMBRAFFAUYBRwFIAUkBSgFLAUwBTQFOAU8BUAFRAVIBUwFUAVUBVgFXAVgBWQFaAVsBXAFdAV4BXwFgAWEBYgFjAWQBZQFmAWcBaAFpAWoBawFsAW0BbgFvAXABcQFyAXMBdAF1AXYBdwF4AXkBegF7AXwBfQF+AX8BgAGBAYIBgwGEAYUBhgGHAYgBiQGKAYsBjAGNAY4BjwGQAZEBkgGTAZQBlQGWAZcBmAGZAZoBmwGcAZ0BngGfAaABoQGiAaMBpAGlAaYBpwGoAakBqgGrAawBrQGuAa8BsAGxAbIBswG0AbUBtgG3AbgBuQG6AbsBvAG9Ab4BvwHAAcEBwgHDAcQBxQHGAccByAHJAcoBywHMAc0BzgHPAdAB0QHSAdMB1AHVAdYB1wHYAdkB2gHbAdwB3QHeAd8B4AHhAeIB4wHkAeUB5gHnAegB6QHqAesB7AHtAe4B7wHwAfEB8gHzAQ==",
             "dtype": "i2"
            },
            "coloraxis": "coloraxis",
            "symbol": "circle"
           },
           "mode": "markers",
           "name": "",
           "orientation": "v",
           "showlegend": false,
           "type": "scatter",
           "x": {
            "bdata": "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",
            "dtype": "f4"
           },
           "xaxis": "x",
           "y": {
            "bdata": "9lDJvyGPH0A41j+/5RSWP4HBDEHWZRNB6D9BQe/V+0C2yq6/5FoMQak/U8AbEUpAt1doQEoKWD6Rt/vA8WGNQA/N+UCj1p8/+t7bPvL5BkFiYv3AuVilQBfCPkFQKSxBTN2FQL3iVUEBuBdB3hQswEIBM0FxpklA+gpcP5SVL78SxPe+vmLDwO8u3UCUZiBAAA77QLFxnkB1+mhBhtKEQOnOpT8YlUtBlMpPQRvYM0BgVChAfZy9v/pbUkC7DitBIKQXQb2wpD+M7Cq/5owjQIT+EkG/goxAg4cEQec6AkGZ4ThBXAUnQU30Jj8wbJi/HdT5QB4eM0HkUj9B+fIEvwIlHkHYvQk/nXI+PzA3r78m5TZBYn+Yv6m1bkE5nytBNU4SwGXRMkFIQqs/Y4OKv9EsI0EGFiHAro/Lv6W2uL/NkxhBWAv5wIILUkD4ZSBBQdj7PnQ/R8Aav0lAhmwSwAgJV0CT3Z6/t76TQMeve0B7kLI+4vqoQKFm278b5Zi/eB5uQdEiEL8hwzhA+ZhDQP01dUDT4ttAwFUKQNa5AcBY2JRA80tTQUav+sCms1pAgukuQYfULkHLc+a/+vg4QSdgJkHLvAtB+znsv6rJLUG85/lAygasv9YFS0FWNi9ButT6QG99lr9zV6lAYEgXQYspKkH7STE/9riRQA9Mzz8/M6FAk4E3QS4uGcANNDFB428jQcPiWcBZ46O/6/ipQJMtWUCePQdBUD4YQOI3B0F86yTA76EsQSx940Bx1wtAZKstQRJqr7/HUUJBGu0LQYoyS0FvcrO/rBhPQfAc+L4/TLm/1OdDPxPIXUBq8SNBAtravws/FMCMl0+/do1qQR7gPEBmrlNArgmaQEVjfEDcjdw+Bpw+QQH+P0HBQhvAzzMnQUKbDEDw0ZhAxLA8QR3KYr+NVRdAOgY2QeKy/UCI2ytBB7Kev8DhG8BuzqW+wZuGvzGoQEH/+RNBTz+SQG2QRkD3Yna/LZBRv58lo784KEVAzYo/QZlM778m9p5AEm4sQHH1IUHy3jlBW+MSQZxuoL0BRFxAOt+aQE0ioj8WvSdByZErQT2UMr8I1BFBQfUPQZFkN0FZAyVBIYgHQIyQXUAOQzxAr3kPQXn/PUCNAnNAGjsiQcjPG8Cb2/JA+6gaQWg8UUGOPaO/iVsbwKvHUECyr+FAYPooQQYp+UB4ow1BMTsJQWkbCkCV7AJBQTIzQSAn0L8qmpxAPV/yQM8IDkEWH11AvUGgP+YJjj7c4k0/kiczQBLhn78oVBNBBmPDwHZrmT5A/zNBXCRvQScnJz8K6b2/72tqQOvnCUEIIj9Bk0GlQFO0w7+6I7m+WzQvQdUmEsDrFA9A7OAWwB8AXEB/xmZBLHP6wKXVLb/N0Ki/g2N2v/bkVUH6wY1AtfNGQMe5QkFxDiVBVqv9wAkt+0B8cFFAvPb5QFiAOUBgwQNBY+sVQSr/Ez9bsxJBZFhuQG1/Qb94GkhBTbVOQPkyXEDl2rC/6j2lQI5msb9BrRBB0X/nv7hpSkDdF4hAp5gOQSDXoECMIcQ+pSijv9z/UUBRJ7W/2FcVQepon78ORElAykHpvg/xmr/JVARBEmQwQUNPG0GAHpVAs1VlQE0zkz/jhyY/14k/QWbfM8ADzRhAT0L+QCh2T8AkcUFBMyUmwFEro0Afm/xAHVCnP8pxUUH7OANB2kZBwF9SOkCWGFVBc+AoQb62Mb9yH7q/Ps0mv81bJMBoo+BAdBDpPr/yLkHZXpa/Ee6qvyFhu77uFea/77UHQIhwFkGjDt1Ahps7vjLaXkAWSCtBzkM+QDx4b0BOPQa/wyksQJFmS8BABVVBXlGnv6IjVEFqDKNASgoZQX9ZZEDJo88+WmYmQWmNlb9QNqc/3RYuQTwVBUGL8hBBgtLAP3E4y770Nk5AvDQvQYDhbkHDMKu/RBylvyHQJkEwSTJBaRIMQftuHkF7ceS/SSCjvxpcB0G4KAZBBm5GwPIvc0CcMktBcf8DQboVmb+z6++/IED6QEUJDkGonhrAWaj6QLjwMkCH8pxAigBbv5a2/EAhw/tAnkfjv3ZrVUHAODXA149mQEFpEkHqGjFA51/DwBBnQkGrD/dAlOthQFa9U0C1S0y/OGedP6K13r/0Mam/PWs3QNFaIL/EBjRBks4iQZcCPkEGaBI+SvATQfE0C0HFyShByUuuvx4oo7/OZl9Af0M0QYnNA8Dkb/fAbUKzvt6Lr76tzwZBNt0zQBM1ZEBadDxAVccGQeUDuL/Bnh9BE5cMQR6hC0GaRIZA4bItQTsC9UCt3AtAXw8NQPTQVUEsZyJBZF0VQMUs0b9xw/hA2phgQMgVRUFDqxg/SyogQXSYlUC6MktB8S4NQZAP90Df9jxBSNYcQdJeKUEgYQVB+W8tv1o1S0GlL49AQgsXQRZiLEHgnxxBPz5EP3AFJ0DqawHAAnFDQAUfLEFGDvi/FLmUQHHUIEGcMflAfPyWv6SRBUGxGlBB67X7vzh8mEDD+Qu/HCHwQDbgEMDStElBr88sQdfK5L+HroBAgOc2Qbl/qD/Nxla+J7ETQIGiTcCeiUo/o6EbQYVg2b/h2zRBwbhCv6ECLkGUjB2/Qw60Pzu/NkGBGPpA73k7QfuUFkH8TClBPdaxOwG2WUAfiSJB8b8AQLPo4EA=",
            "dtype": "f4"
           },
           "yaxis": "y"
          }
         ],
         "name": "random state 17"
        },
        {
         "data": [
          {
           "hovertemplate": "set=random state 18<br>x=%{x}<br>y=%{y}<br>index=%{marker.color}<extra></extra>",
           "ids": {
            "bdata": "AAABAAIAAwAEAAUABgAHAAgACQAKAAsADAANAA4ADwAQABEAEgATABQAFQAWABcAGAAZABoAGwAcAB0AHgAfACAAIQAiACMAJAAlACYAJwAoACkAKgArACwALQAuAC8AMAAxADIAMwA0ADUANgA3ADgAOQA6ADsAPAA9AD4APwBAAEEAQgBDAEQARQBGAEcASABJAEoASwBMAE0ATgBPAFAAUQBSAFMAVABVAFYAVwBYAFkAWgBbAFwAXQBeAF8AYABhAGIAYwBkAGUAZgBnAGgAaQBqAGsAbABtAG4AbwBwAHEAcgBzAHQAdQB2AHcAeAB5AHoAewB8AH0AfgB/AIAAgQCCAIMAhACFAIYAhwCIAIkAigCLAIwAjQCOAI8AkACRAJIAkwCUAJUAlgCXAJgAmQCaAJsAnACdAJ4AnwCgAKEAogCjAKQApQCmAKcAqACpAKoAqwCsAK0ArgCvALAAsQCyALMAtAC1ALYAtwC4ALkAugC7ALwAvQC+AL8AwADBAMIAwwDEAMUAxgDHAMgAyQDKAMsAzADNAM4AzwDQANEA0gDTANQA1QDWANcA2ADZANoA2wDcAN0A3gDfAOAA4QDiAOMA5ADlAOYA5wDoAOkA6gDrAOwA7QDuAO8A8ADxAPIA8wD0APUA9gD3APgA+QD6APsA/AD9AP4A/wAAAQEBAgEDAQQBBQEGAQcBCAEJAQoBCwEMAQ0BDgEPARABEQESARMBFAEVARYBFwEYARkBGgEbARwBHQEeAR8BIAEhASIBIwEkASUBJgEnASgBKQEqASsBLAEtAS4BLwEwATEBMgEzATQBNQE2ATcBOAE5AToBOwE8AT0BPgE/AUABQQFCAUMBRAFFAUYBRwFIAUkBSgFLAUwBTQFOAU8BUAFRAVIBUwFUAVUBVgFXAVgBWQFaAVsBXAFdAV4BXwFgAWEBYgFjAWQBZQFmAWcBaAFpAWoBawFsAW0BbgFvAXABcQFyAXMBdAF1AXYBdwF4AXkBegF7AXwBfQF+AX8BgAGBAYIBgwGEAYUBhgGHAYgBiQGKAYsBjAGNAY4BjwGQAZEBkgGTAZQBlQGWAZcBmAGZAZoBmwGcAZ0BngGfAaABoQGiAaMBpAGlAaYBpwGoAakBqgGrAawBrQGuAa8BsAGxAbIBswG0AbUBtgG3AbgBuQG6AbsBvAG9Ab4BvwHAAcEBwgHDAcQBxQHGAccByAHJAcoBywHMAc0BzgHPAdAB0QHSAdMB1AHVAdYB1wHYAdkB2gHbAdwB3QHeAd8B4AHhAeIB4wHkAeUB5gHnAegB6QHqAesB7AHtAe4B7wHwAfEB8gHzAQ==",
            "dtype": "i2"
           },
           "legendgroup": "",
           "marker": {
            "color": {
             "bdata": "AAABAAIAAwAEAAUABgAHAAgACQAKAAsADAANAA4ADwAQABEAEgATABQAFQAWABcAGAAZABoAGwAcAB0AHgAfACAAIQAiACMAJAAlACYAJwAoACkAKgArACwALQAuAC8AMAAxADIAMwA0ADUANgA3ADgAOQA6ADsAPAA9AD4APwBAAEEAQgBDAEQARQBGAEcASABJAEoASwBMAE0ATgBPAFAAUQBSAFMAVABVAFYAVwBYAFkAWgBbAFwAXQBeAF8AYABhAGIAYwBkAGUAZgBnAGgAaQBqAGsAbABtAG4AbwBwAHEAcgBzAHQAdQB2AHcAeAB5AHoAewB8AH0AfgB/AIAAgQCCAIMAhACFAIYAhwCIAIkAigCLAIwAjQCOAI8AkACRAJIAkwCUAJUAlgCXAJgAmQCaAJsAnACdAJ4AnwCgAKEAogCjAKQApQCmAKcAqACpAKoAqwCsAK0ArgCvALAAsQCyALMAtAC1ALYAtwC4ALkAugC7ALwAvQC+AL8AwADBAMIAwwDEAMUAxgDHAMgAyQDKAMsAzADNAM4AzwDQANEA0gDTANQA1QDWANcA2ADZANoA2wDcAN0A3gDfAOAA4QDiAOMA5ADlAOYA5wDoAOkA6gDrAOwA7QDuAO8A8ADxAPIA8wD0APUA9gD3APgA+QD6APsA/AD9AP4A/wAAAQEBAgEDAQQBBQEGAQcBCAEJAQoBCwEMAQ0BDgEPARABEQESARMBFAEVARYBFwEYARkBGgEbARwBHQEeAR8BIAEhASIBIwEkASUBJgEnASgBKQEqASsBLAEtAS4BLwEwATEBMgEzATQBNQE2ATcBOAE5AToBOwE8AT0BPgE/AUABQQFCAUMBRAFFAUYBRwFIAUkBSgFLAUwBTQFOAU8BUAFRAVIBUwFUAVUBVgFXAVgBWQFaAVsBXAFdAV4BXwFgAWEBYgFjAWQBZQFmAWcBaAFpAWoBawFsAW0BbgFvAXABcQFyAXMBdAF1AXYBdwF4AXkBegF7AXwBfQF+AX8BgAGBAYIBgwGEAYUBhgGHAYgBiQGKAYsBjAGNAY4BjwGQAZEBkgGTAZQBlQGWAZcBmAGZAZoBmwGcAZ0BngGfAaABoQGiAaMBpAGlAaYBpwGoAakBqgGrAawBrQGuAa8BsAGxAbIBswG0AbUBtgG3AbgBuQG6AbsBvAG9Ab4BvwHAAcEBwgHDAcQBxQHGAccByAHJAcoBywHMAc0BzgHPAdAB0QHSAdMB1AHVAdYB1wHYAdkB2gHbAdwB3QHeAd8B4AHhAeIB4wHkAeUB5gHnAegB6QHqAesB7AHtAe4B7wHwAfEB8gHzAQ==",
             "dtype": "i2"
            },
            "coloraxis": "coloraxis",
            "symbol": "circle"
           },
           "mode": "markers",
           "name": "",
           "orientation": "v",
           "showlegend": false,
           "type": "scatter",
           "x": {
            "bdata": "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",
            "dtype": "f4"
           },
           "xaxis": "x",
           "y": {
            "bdata": "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",
            "dtype": "f4"
           },
           "yaxis": "y"
          }
         ],
         "name": "random state 18"
        },
        {
         "data": [
          {
           "hovertemplate": "set=random state 19<br>x=%{x}<br>y=%{y}<br>index=%{marker.color}<extra></extra>",
           "ids": {
            "bdata": "AAABAAIAAwAEAAUABgAHAAgACQAKAAsADAANAA4ADwAQABEAEgATABQAFQAWABcAGAAZABoAGwAcAB0AHgAfACAAIQAiACMAJAAlACYAJwAoACkAKgArACwALQAuAC8AMAAxADIAMwA0ADUANgA3ADgAOQA6ADsAPAA9AD4APwBAAEEAQgBDAEQARQBGAEcASABJAEoASwBMAE0ATgBPAFAAUQBSAFMAVABVAFYAVwBYAFkAWgBbAFwAXQBeAF8AYABhAGIAYwBkAGUAZgBnAGgAaQBqAGsAbABtAG4AbwBwAHEAcgBzAHQAdQB2AHcAeAB5AHoAewB8AH0AfgB/AIAAgQCCAIMAhACFAIYAhwCIAIkAigCLAIwAjQCOAI8AkACRAJIAkwCUAJUAlgCXAJgAmQCaAJsAnACdAJ4AnwCgAKEAogCjAKQApQCmAKcAqACpAKoAqwCsAK0ArgCvALAAsQCyALMAtAC1ALYAtwC4ALkAugC7ALwAvQC+AL8AwADBAMIAwwDEAMUAxgDHAMgAyQDKAMsAzADNAM4AzwDQANEA0gDTANQA1QDWANcA2ADZANoA2wDcAN0A3gDfAOAA4QDiAOMA5ADlAOYA5wDoAOkA6gDrAOwA7QDuAO8A8ADxAPIA8wD0APUA9gD3APgA+QD6APsA/AD9AP4A/wAAAQEBAgEDAQQBBQEGAQcBCAEJAQoBCwEMAQ0BDgEPARABEQESARMBFAEVARYBFwEYARkBGgEbARwBHQEeAR8BIAEhASIBIwEkASUBJgEnASgBKQEqASsBLAEtAS4BLwEwATEBMgEzATQBNQE2ATcBOAE5AToBOwE8AT0BPgE/AUABQQFCAUMBRAFFAUYBRwFIAUkBSgFLAUwBTQFOAU8BUAFRAVIBUwFUAVUBVgFXAVgBWQFaAVsBXAFdAV4BXwFgAWEBYgFjAWQBZQFmAWcBaAFpAWoBawFsAW0BbgFvAXABcQFyAXMBdAF1AXYBdwF4AXkBegF7AXwBfQF+AX8BgAGBAYIBgwGEAYUBhgGHAYgBiQGKAYsBjAGNAY4BjwGQAZEBkgGTAZQBlQGWAZcBmAGZAZoBmwGcAZ0BngGfAaABoQGiAaMBpAGlAaYBpwGoAakBqgGrAawBrQGuAa8BsAGxAbIBswG0AbUBtgG3AbgBuQG6AbsBvAG9Ab4BvwHAAcEBwgHDAcQBxQHGAccByAHJAcoBywHMAc0BzgHPAdAB0QHSAdMB1AHVAdYB1wHYAdkB2gHbAdwB3QHeAd8B4AHhAeIB4wHkAeUB5gHnAegB6QHqAesB7AHtAe4B7wHwAfEB8gHzAQ==",
            "dtype": "i2"
           },
           "legendgroup": "",
           "marker": {
            "color": {
             "bdata": "AAABAAIAAwAEAAUABgAHAAgACQAKAAsADAANAA4ADwAQABEAEgATABQAFQAWABcAGAAZABoAGwAcAB0AHgAfACAAIQAiACMAJAAlACYAJwAoACkAKgArACwALQAuAC8AMAAxADIAMwA0ADUANgA3ADgAOQA6ADsAPAA9AD4APwBAAEEAQgBDAEQARQBGAEcASABJAEoASwBMAE0ATgBPAFAAUQBSAFMAVABVAFYAVwBYAFkAWgBbAFwAXQBeAF8AYABhAGIAYwBkAGUAZgBnAGgAaQBqAGsAbABtAG4AbwBwAHEAcgBzAHQAdQB2AHcAeAB5AHoAewB8AH0AfgB/AIAAgQCCAIMAhACFAIYAhwCIAIkAigCLAIwAjQCOAI8AkACRAJIAkwCUAJUAlgCXAJgAmQCaAJsAnACdAJ4AnwCgAKEAogCjAKQApQCmAKcAqACpAKoAqwCsAK0ArgCvALAAsQCyALMAtAC1ALYAtwC4ALkAugC7ALwAvQC+AL8AwADBAMIAwwDEAMUAxgDHAMgAyQDKAMsAzADNAM4AzwDQANEA0gDTANQA1QDWANcA2ADZANoA2wDcAN0A3gDfAOAA4QDiAOMA5ADlAOYA5wDoAOkA6gDrAOwA7QDuAO8A8ADxAPIA8wD0APUA9gD3APgA+QD6APsA/AD9AP4A/wAAAQEBAgEDAQQBBQEGAQcBCAEJAQoBCwEMAQ0BDgEPARABEQESARMBFAEVARYBFwEYARkBGgEbARwBHQEeAR8BIAEhASIBIwEkASUBJgEnASgBKQEqASsBLAEtAS4BLwEwATEBMgEzATQBNQE2ATcBOAE5AToBOwE8AT0BPgE/AUABQQFCAUMBRAFFAUYBRwFIAUkBSgFLAUwBTQFOAU8BUAFRAVIBUwFUAVUBVgFXAVgBWQFaAVsBXAFdAV4BXwFgAWEBYgFjAWQBZQFmAWcBaAFpAWoBawFsAW0BbgFvAXABcQFyAXMBdAF1AXYBdwF4AXkBegF7AXwBfQF+AX8BgAGBAYIBgwGEAYUBhgGHAYgBiQGKAYsBjAGNAY4BjwGQAZEBkgGTAZQBlQGWAZcBmAGZAZoBmwGcAZ0BngGfAaABoQGiAaMBpAGlAaYBpwGoAakBqgGrAawBrQGuAa8BsAGxAbIBswG0AbUBtgG3AbgBuQG6AbsBvAG9Ab4BvwHAAcEBwgHDAcQBxQHGAccByAHJAcoBywHMAc0BzgHPAdAB0QHSAdMB1AHVAdYB1wHYAdkB2gHbAdwB3QHeAd8B4AHhAeIB4wHkAeUB5gHnAegB6QHqAesB7AHtAe4B7wHwAfEB8gHzAQ==",
             "dtype": "i2"
            },
            "coloraxis": "coloraxis",
            "symbol": "circle"
           },
           "mode": "markers",
           "name": "",
           "orientation": "v",
           "showlegend": false,
           "type": "scatter",
           "x": {
            "bdata": "Y1YeQAFyNEHX7g1Bp2n8QNflJUF2JCRAH5AWQH2HA0D9zL5As1PjQBTUPUCSwDPAqIpqwDTYfT9JDxZBWpeYwHXessAR/9S9ecL+QAnOGUBN6RZB5emSQcqB40ASyy5ArfCUwMK4C0Fv1d5AEVlEQND1BEC5deTAOfrKPQLBsj/rxbRA0jDHQF0ZSECKcztB26ylQAdymsDSrgxBpak3Qf3mF76LW/9ApqsAQfBXPEFX8zJBYxAIQG9L3sDA/FlA5PifPyUr+0APALI/ptYzQXndA0FhKYfA3W+jQAa+9T9wLf4/Fdx7Py3TCEEcFNc/dGIZQJEyGkHwtNhAhsemPxgj5ECas3c+7fUEQUoBDj1Rsx9BD3Aqv7vtEEEGihlBW1NpQB86pT8TAzZBptgkQb98WD878FdAtmkbQaWyqkCdwAtB/rsUQYX1NEH1uZ0/lSMBQfq0MkBB1jdBydUcQBovtcAdmoY9i1A6QccNb8CMUQY+Pz+OQZX8JEGZ6QW/ZnIQQdyrez2GzyvAD3BswAZ5Z8AFxztADGQ7QYADIkGJXZLAuS0JQcOPFUHy7c/A1ikcQeD5Z0D8+AxBZ2zoQK0gfz+R5SZB7vQOQanQdD+4AbPAwcbwvfZd+0Ct/udAlEeoQJt7t0AmAI5BNs3mQE2mWUAyCgtBIRo5QTBQN0GfGZBBvOrCP5h5YUArk5c/AlzmQEJVRkCDNeM/M+mNQUkZtcBbD1xAJnw0QSIFDEAVS1NAgjoZQSdcYUD6HntB57BDQNjOvkBAiwFB4CrXQMmtZUHQaRpBOTsAQYC+oD+n5gNA6j8LQW/sosDyNvRAtjgOQXy+HEDEer0/rp4NQdK04MBvg7fATWg8QQ1eN0EWzxQ/Ku/UQMYrEkAuDWRBUi3qQPTmOkE82jtBbSYkQa57JkHssMK/P+bsQOLjo0CZjDxAvWXbPy45ZEEfMrtAHhsavnOWFEDbYQZBt6A4QYd8aMAF0Q9BBnUwQIG/g8BSPjPAP9rbQMkdJEF8+49BIkU0QQ1C5UAvDCJBaKoDQSLJ3T3zjurALlmYwAjw+kDljoc/0ZIrQM5uuUBxB/ZATB3LQFtoxj868+dAqzJ8QRM0tMAVazBBpjcjQYWzL0EnDDdBvxX9QBw5ZEGd0nJA9BITQY8NC0GLeClAygBkQTeF6sDBgF1A8JTpQKXVKEBCI9FAz8wEQF+Ne0FlklFAPnQaQRE4HUC1XZrAxa92QF3SKkCn8eXAw4e+vT5yWj8RMQBB3yrIwHnPIL8dih9B3TDHQJ8+iz+eDhtBilkRQez/BkEaASJAETFUwFEA2kC4XRBAAwWTQRxiEUGm8bpALfcaQRoqZkD2QnpBFBwiQNod6sADRwtBaWwVQUGZDUHk/F8969K5QPujC0ExsIfAnQNywHBbAUEj75I/EwwXQQ7iEECfsejAZKv6PxmGKMAdX55AX87nQBPIAUEboQNBekJUwNz7LEAW+P5AwbkzQUcc6cA1MwBAdRKTQbafwEDkYilAMFMNQZAnNUFBTY3AT6bFQILHj0F1F/1AU5WDwJiaZMDHT6tAoXzpQFnGI0HX2jFB4qq3QKe4Hb9SsaBA1R/pQFfbjz/yITpB7vGnwIn6J71OvABBaPbcQGIEN0BSAzZBAvIlQPeqQUDIXxdAVyFRQKc4kEGxJwpAzfv7QCGzA0FC4JtAiVM2QDj9LkErjgJBXnlRQHzAJUCHjBpBFr8qQGIWVEADYSlAr/4CQQsqfz+IJrxArPtqPQorukDVnBpBIIM5QQQjCkHM1TJAs4whPrELp8CA6ehAoTExwAo8o8C7SrNAhFs8QVOLL0Ai5wJBiqEnQEF9AkGjTpBBBSvjQCScWsDK8Do/2vaYP8GyM78STPpA8alpQIDypUCHtxNAxhM3QXJKgz/bjzTAxg0YQTcZEUGx24+9e+q7QIK2RUDWbh9BoY4mQan8EUHmJxFBZsKDwN+yU0AXpCdAuCw4QJr4X8DbrWVBTMJpQHXGLr8HNBpBmiapQCagJEGq2mNBaYSoQI4W2cDj7pjA7CMPQaMdhEATuCNAglMRQauNAkFLoDhAZEKpwDjgHECIFdLAvS/HQB1+AUFTpTVARIU7wCHH2sBVxwm92gb8QNz9EkFwUJo9OxnFwA7sLUDbTetADUdcPwl30kC/l8g99WIGQbuk1UC9vEpASkkaQcK7g8Dla6vAydofQYb7IEGy5xNBRIq6QClAkz9EoFhAOSfJwAOrQ8DJZjbAKolZQJS6qUB98Jc/OTUDQLg7+j/mNJHAy91XQAXSckCbHHtB3qs7QSx8C0EVzfZAV/O8v3UlFEE4y+s/Uh4ywBAbAUF8bwJBBHoXQfFrlcDqrWVBKxHoQMTXgkCDFSRBr617P14h6UBEzWFA+TYNQXko+UCrFovAXOgbQcDrdD/+PBZBqlsKQXvkNEHWxB9BR4UwQbvbNEBapSpAitw5QXyN8kBHMOI/x58kQbURVkATxgBBaVs0QF58O0GO2CFARMV3QIgPakAtrfdAavAZQZZ7DkEgKYzA0h/MP+yjHL7iXUk+kYi4v7yVN0B0rAtB/fwUQblYE0HbJBtBeWYvQL1obT+/8ihAaHI2QQzc8D++M7PA8EcjQetIHEHu0Hc/dqyAP8yH6cCFe1Q/cRc4QROzWUA=",
            "dtype": "f4"
           },
           "xaxis": "x",
           "y": {
            "bdata": "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",
            "dtype": "f4"
           },
           "yaxis": "y"
          }
         ],
         "name": "random state 19"
        }
       ],
       "layout": {
        "coloraxis": {
         "colorbar": {
          "title": {
           "text": "index"
          }
         },
         "colorscale": [
          [
           0,
           "#0d0887"
          ],
          [
           0.1111111111111111,
           "#46039f"
          ],
          [
           0.2222222222222222,
           "#7201a8"
          ],
          [
           0.3333333333333333,
           "#9c179e"
          ],
          [
           0.4444444444444444,
           "#bd3786"
          ],
          [
           0.5555555555555556,
           "#d8576b"
          ],
          [
           0.6666666666666666,
           "#ed7953"
          ],
          [
           0.7777777777777778,
           "#fb9f3a"
          ],
          [
           0.8888888888888888,
           "#fdca26"
          ],
          [
           1,
           "#f0f921"
          ]
         ]
        },
        "legend": {
         "tracegroupgap": 0
        },
        "margin": {
         "t": 60
        },
        "sliders": [
         {
          "active": 0,
          "currentvalue": {
           "prefix": "set="
          },
          "len": 0.9,
          "pad": {
           "b": 10,
           "t": 60
          },
          "steps": [
           {
            "args": [
             [
              "random state 0"
             ],
             {
              "frame": {
               "duration": 0,
               "redraw": false
              },
              "fromcurrent": true,
              "mode": "immediate",
              "transition": {
               "duration": 0,
               "easing": "linear"
              }
             }
            ],
            "label": "random state 0",
            "method": "animate"
           },
           {
            "args": [
             [
              "random state 1"
             ],
             {
              "frame": {
               "duration": 0,
               "redraw": false
              },
              "fromcurrent": true,
              "mode": "immediate",
              "transition": {
               "duration": 0,
               "easing": "linear"
              }
             }
            ],
            "label": "random state 1",
            "method": "animate"
           },
           {
            "args": [
             [
              "random state 2"
             ],
             {
              "frame": {
               "duration": 0,
               "redraw": false
              },
              "fromcurrent": true,
              "mode": "immediate",
              "transition": {
               "duration": 0,
               "easing": "linear"
              }
             }
            ],
            "label": "random state 2",
            "method": "animate"
           },
           {
            "args": [
             [
              "random state 3"
             ],
             {
              "frame": {
               "duration": 0,
               "redraw": false
              },
              "fromcurrent": true,
              "mode": "immediate",
              "transition": {
               "duration": 0,
               "easing": "linear"
              }
             }
            ],
            "label": "random state 3",
            "method": "animate"
           },
           {
            "args": [
             [
              "random state 4"
             ],
             {
              "frame": {
               "duration": 0,
               "redraw": false
              },
              "fromcurrent": true,
              "mode": "immediate",
              "transition": {
               "duration": 0,
               "easing": "linear"
              }
             }
            ],
            "label": "random state 4",
            "method": "animate"
           },
           {
            "args": [
             [
              "random state 5"
             ],
             {
              "frame": {
               "duration": 0,
               "redraw": false
              },
              "fromcurrent": true,
              "mode": "immediate",
              "transition": {
               "duration": 0,
               "easing": "linear"
              }
             }
            ],
            "label": "random state 5",
            "method": "animate"
           },
           {
            "args": [
             [
              "random state 6"
             ],
             {
              "frame": {
               "duration": 0,
               "redraw": false
              },
              "fromcurrent": true,
              "mode": "immediate",
              "transition": {
               "duration": 0,
               "easing": "linear"
              }
             }
            ],
            "label": "random state 6",
            "method": "animate"
           },
           {
            "args": [
             [
              "random state 7"
             ],
             {
              "frame": {
               "duration": 0,
               "redraw": false
              },
              "fromcurrent": true,
              "mode": "immediate",
              "transition": {
               "duration": 0,
               "easing": "linear"
              }
             }
            ],
            "label": "random state 7",
            "method": "animate"
           },
           {
            "args": [
             [
              "random state 8"
             ],
             {
              "frame": {
               "duration": 0,
               "redraw": false
              },
              "fromcurrent": true,
              "mode": "immediate",
              "transition": {
               "duration": 0,
               "easing": "linear"
              }
             }
            ],
            "label": "random state 8",
            "method": "animate"
           },
           {
            "args": [
             [
              "random state 9"
             ],
             {
              "frame": {
               "duration": 0,
               "redraw": false
              },
              "fromcurrent": true,
              "mode": "immediate",
              "transition": {
               "duration": 0,
               "easing": "linear"
              }
             }
            ],
            "label": "random state 9",
            "method": "animate"
           },
           {
            "args": [
             [
              "random state 10"
             ],
             {
              "frame": {
               "duration": 0,
               "redraw": false
              },
              "fromcurrent": true,
              "mode": "immediate",
              "transition": {
               "duration": 0,
               "easing": "linear"
              }
             }
            ],
            "label": "random state 10",
            "method": "animate"
           },
           {
            "args": [
             [
              "random state 11"
             ],
             {
              "frame": {
               "duration": 0,
               "redraw": false
              },
              "fromcurrent": true,
              "mode": "immediate",
              "transition": {
               "duration": 0,
               "easing": "linear"
              }
             }
            ],
            "label": "random state 11",
            "method": "animate"
           },
           {
            "args": [
             [
              "random state 12"
             ],
             {
              "frame": {
               "duration": 0,
               "redraw": false
              },
              "fromcurrent": true,
              "mode": "immediate",
              "transition": {
               "duration": 0,
               "easing": "linear"
              }
             }
            ],
            "label": "random state 12",
            "method": "animate"
           },
           {
            "args": [
             [
              "random state 13"
             ],
             {
              "frame": {
               "duration": 0,
               "redraw": false
              },
              "fromcurrent": true,
              "mode": "immediate",
              "transition": {
               "duration": 0,
               "easing": "linear"
              }
             }
            ],
            "label": "random state 13",
            "method": "animate"
           },
           {
            "args": [
             [
              "random state 14"
             ],
             {
              "frame": {
               "duration": 0,
               "redraw": false
              },
              "fromcurrent": true,
              "mode": "immediate",
              "transition": {
               "duration": 0,
               "easing": "linear"
              }
             }
            ],
            "label": "random state 14",
            "method": "animate"
           },
           {
            "args": [
             [
              "random state 15"
             ],
             {
              "frame": {
               "duration": 0,
               "redraw": false
              },
              "fromcurrent": true,
              "mode": "immediate",
              "transition": {
               "duration": 0,
               "easing": "linear"
              }
             }
            ],
            "label": "random state 15",
            "method": "animate"
           },
           {
            "args": [
             [
              "random state 16"
             ],
             {
              "frame": {
               "duration": 0,
               "redraw": false
              },
              "fromcurrent": true,
              "mode": "immediate",
              "transition": {
               "duration": 0,
               "easing": "linear"
              }
             }
            ],
            "label": "random state 16",
            "method": "animate"
           },
           {
            "args": [
             [
              "random state 17"
             ],
             {
              "frame": {
               "duration": 0,
               "redraw": false
              },
              "fromcurrent": true,
              "mode": "immediate",
              "transition": {
               "duration": 0,
               "easing": "linear"
              }
             }
            ],
            "label": "random state 17",
            "method": "animate"
           },
           {
            "args": [
             [
              "random state 18"
             ],
             {
              "frame": {
               "duration": 0,
               "redraw": false
              },
              "fromcurrent": true,
              "mode": "immediate",
              "transition": {
               "duration": 0,
               "easing": "linear"
              }
             }
            ],
            "label": "random state 18",
            "method": "animate"
           },
           {
            "args": [
             [
              "random state 19"
             ],
             {
              "frame": {
               "duration": 0,
               "redraw": false
              },
              "fromcurrent": true,
              "mode": "immediate",
              "transition": {
               "duration": 0,
               "easing": "linear"
              }
             }
            ],
            "label": "random state 19",
            "method": "animate"
           }
          ],
          "x": 0.1,
          "xanchor": "left",
          "y": 0,
          "yanchor": "top"
         }
        ],
        "template": {
         "data": {
          "bar": [
           {
            "error_x": {
             "color": "#2a3f5f"
            },
            "error_y": {
             "color": "#2a3f5f"
            },
            "marker": {
             "line": {
              "color": "#E5ECF6",
              "width": 0.5
             },
             "pattern": {
              "fillmode": "overlay",
              "size": 10,
              "solidity": 0.2
             }
            },
            "type": "bar"
           }
          ],
          "barpolar": [
           {
            "marker": {
             "line": {
              "color": "#E5ECF6",
              "width": 0.5
             },
             "pattern": {
              "fillmode": "overlay",
              "size": 10,
              "solidity": 0.2
             }
            },
            "type": "barpolar"
           }
          ],
          "carpet": [
           {
            "aaxis": {
             "endlinecolor": "#2a3f5f",
             "gridcolor": "white",
             "linecolor": "white",
             "minorgridcolor": "white",
             "startlinecolor": "#2a3f5f"
            },
            "baxis": {
             "endlinecolor": "#2a3f5f",
             "gridcolor": "white",
             "linecolor": "white",
             "minorgridcolor": "white",
             "startlinecolor": "#2a3f5f"
            },
            "type": "carpet"
           }
          ],
          "choropleth": [
           {
            "colorbar": {
             "outlinewidth": 0,
             "ticks": ""
            },
            "type": "choropleth"
           }
          ],
          "contour": [
           {
            "colorbar": {
             "outlinewidth": 0,
             "ticks": ""
            },
            "colorscale": [
             [
              0,
              "#0d0887"
             ],
             [
              0.1111111111111111,
              "#46039f"
             ],
             [
              0.2222222222222222,
              "#7201a8"
             ],
             [
              0.3333333333333333,
              "#9c179e"
             ],
             [
              0.4444444444444444,
              "#bd3786"
             ],
             [
              0.5555555555555556,
              "#d8576b"
             ],
             [
              0.6666666666666666,
              "#ed7953"
             ],
             [
              0.7777777777777778,
              "#fb9f3a"
             ],
             [
              0.8888888888888888,
              "#fdca26"
             ],
             [
              1,
              "#f0f921"
             ]
            ],
            "type": "contour"
           }
          ],
          "contourcarpet": [
           {
            "colorbar": {
             "outlinewidth": 0,
             "ticks": ""
            },
            "type": "contourcarpet"
           }
          ],
          "heatmap": [
           {
            "colorbar": {
             "outlinewidth": 0,
             "ticks": ""
            },
            "colorscale": [
             [
              0,
              "#0d0887"
             ],
             [
              0.1111111111111111,
              "#46039f"
             ],
             [
              0.2222222222222222,
              "#7201a8"
             ],
             [
              0.3333333333333333,
              "#9c179e"
             ],
             [
              0.4444444444444444,
              "#bd3786"
             ],
             [
              0.5555555555555556,
              "#d8576b"
             ],
             [
              0.6666666666666666,
              "#ed7953"
             ],
             [
              0.7777777777777778,
              "#fb9f3a"
             ],
             [
              0.8888888888888888,
              "#fdca26"
             ],
             [
              1,
              "#f0f921"
             ]
            ],
            "type": "heatmap"
           }
          ],
          "histogram": [
           {
            "marker": {
             "pattern": {
              "fillmode": "overlay",
              "size": 10,
              "solidity": 0.2
             }
            },
            "type": "histogram"
           }
          ],
          "histogram2d": [
           {
            "colorbar": {
             "outlinewidth": 0,
             "ticks": ""
            },
            "colorscale": [
             [
              0,
              "#0d0887"
             ],
             [
              0.1111111111111111,
              "#46039f"
             ],
             [
              0.2222222222222222,
              "#7201a8"
             ],
             [
              0.3333333333333333,
              "#9c179e"
             ],
             [
              0.4444444444444444,
              "#bd3786"
             ],
             [
              0.5555555555555556,
              "#d8576b"
             ],
             [
              0.6666666666666666,
              "#ed7953"
             ],
             [
              0.7777777777777778,
              "#fb9f3a"
             ],
             [
              0.8888888888888888,
              "#fdca26"
             ],
             [
              1,
              "#f0f921"
             ]
            ],
            "type": "histogram2d"
           }
          ],
          "histogram2dcontour": [
           {
            "colorbar": {
             "outlinewidth": 0,
             "ticks": ""
            },
            "colorscale": [
             [
              0,
              "#0d0887"
             ],
             [
              0.1111111111111111,
              "#46039f"
             ],
             [
              0.2222222222222222,
              "#7201a8"
             ],
             [
              0.3333333333333333,
              "#9c179e"
             ],
             [
              0.4444444444444444,
              "#bd3786"
             ],
             [
              0.5555555555555556,
              "#d8576b"
             ],
             [
              0.6666666666666666,
              "#ed7953"
             ],
             [
              0.7777777777777778,
              "#fb9f3a"
             ],
             [
              0.8888888888888888,
              "#fdca26"
             ],
             [
              1,
              "#f0f921"
             ]
            ],
            "type": "histogram2dcontour"
           }
          ],
          "mesh3d": [
           {
            "colorbar": {
             "outlinewidth": 0,
             "ticks": ""
            },
            "type": "mesh3d"
           }
          ],
          "parcoords": [
           {
            "line": {
             "colorbar": {
              "outlinewidth": 0,
              "ticks": ""
             }
            },
            "type": "parcoords"
           }
          ],
          "pie": [
           {
            "automargin": true,
            "type": "pie"
           }
          ],
          "scatter": [
           {
            "fillpattern": {
             "fillmode": "overlay",
             "size": 10,
             "solidity": 0.2
            },
            "type": "scatter"
           }
          ],
          "scatter3d": [
           {
            "line": {
             "colorbar": {
              "outlinewidth": 0,
              "ticks": ""
             }
            },
            "marker": {
             "colorbar": {
              "outlinewidth": 0,
              "ticks": ""
             }
            },
            "type": "scatter3d"
           }
          ],
          "scattercarpet": [
           {
            "marker": {
             "colorbar": {
              "outlinewidth": 0,
              "ticks": ""
             }
            },
            "type": "scattercarpet"
           }
          ],
          "scattergeo": [
           {
            "marker": {
             "colorbar": {
              "outlinewidth": 0,
              "ticks": ""
             }
            },
            "type": "scattergeo"
           }
          ],
          "scattergl": [
           {
            "marker": {
             "colorbar": {
              "outlinewidth": 0,
              "ticks": ""
             }
            },
            "type": "scattergl"
           }
          ],
          "scattermap": [
           {
            "marker": {
             "colorbar": {
              "outlinewidth": 0,
              "ticks": ""
             }
            },
            "type": "scattermap"
           }
          ],
          "scattermapbox": [
           {
            "marker": {
             "colorbar": {
              "outlinewidth": 0,
              "ticks": ""
             }
            },
            "type": "scattermapbox"
           }
          ],
          "scatterpolar": [
           {
            "marker": {
             "colorbar": {
              "outlinewidth": 0,
              "ticks": ""
             }
            },
            "type": "scatterpolar"
           }
          ],
          "scatterpolargl": [
           {
            "marker": {
             "colorbar": {
              "outlinewidth": 0,
              "ticks": ""
             }
            },
            "type": "scatterpolargl"
           }
          ],
          "scatterternary": [
           {
            "marker": {
             "colorbar": {
              "outlinewidth": 0,
              "ticks": ""
             }
            },
            "type": "scatterternary"
           }
          ],
          "surface": [
           {
            "colorbar": {
             "outlinewidth": 0,
             "ticks": ""
            },
            "colorscale": [
             [
              0,
              "#0d0887"
             ],
             [
              0.1111111111111111,
              "#46039f"
             ],
             [
              0.2222222222222222,
              "#7201a8"
             ],
             [
              0.3333333333333333,
              "#9c179e"
             ],
             [
              0.4444444444444444,
              "#bd3786"
             ],
             [
              0.5555555555555556,
              "#d8576b"
             ],
             [
              0.6666666666666666,
              "#ed7953"
             ],
             [
              0.7777777777777778,
              "#fb9f3a"
             ],
             [
              0.8888888888888888,
              "#fdca26"
             ],
             [
              1,
              "#f0f921"
             ]
            ],
            "type": "surface"
           }
          ],
          "table": [
           {
            "cells": {
             "fill": {
              "color": "#EBF0F8"
             },
             "line": {
              "color": "white"
             }
            },
            "header": {
             "fill": {
              "color": "#C8D4E3"
             },
             "line": {
              "color": "white"
             }
            },
            "type": "table"
           }
          ]
         },
         "layout": {
          "annotationdefaults": {
           "arrowcolor": "#2a3f5f",
           "arrowhead": 0,
           "arrowwidth": 1
          },
          "autotypenumbers": "strict",
          "coloraxis": {
           "colorbar": {
            "outlinewidth": 0,
            "ticks": ""
           }
          },
          "colorscale": {
           "diverging": [
            [
             0,
             "#8e0152"
            ],
            [
             0.1,
             "#c51b7d"
            ],
            [
             0.2,
             "#de77ae"
            ],
            [
             0.3,
             "#f1b6da"
            ],
            [
             0.4,
             "#fde0ef"
            ],
            [
             0.5,
             "#f7f7f7"
            ],
            [
             0.6,
             "#e6f5d0"
            ],
            [
             0.7,
             "#b8e186"
            ],
            [
             0.8,
             "#7fbc41"
            ],
            [
             0.9,
             "#4d9221"
            ],
            [
             1,
             "#276419"
            ]
           ],
           "sequential": [
            [
             0,
             "#0d0887"
            ],
            [
             0.1111111111111111,
             "#46039f"
            ],
            [
             0.2222222222222222,
             "#7201a8"
            ],
            [
             0.3333333333333333,
             "#9c179e"
            ],
            [
             0.4444444444444444,
             "#bd3786"
            ],
            [
             0.5555555555555556,
             "#d8576b"
            ],
            [
             0.6666666666666666,
             "#ed7953"
            ],
            [
             0.7777777777777778,
             "#fb9f3a"
            ],
            [
             0.8888888888888888,
             "#fdca26"
            ],
            [
             1,
             "#f0f921"
            ]
           ],
           "sequentialminus": [
            [
             0,
             "#0d0887"
            ],
            [
             0.1111111111111111,
             "#46039f"
            ],
            [
             0.2222222222222222,
             "#7201a8"
            ],
            [
             0.3333333333333333,
             "#9c179e"
            ],
            [
             0.4444444444444444,
             "#bd3786"
            ],
            [
             0.5555555555555556,
             "#d8576b"
            ],
            [
             0.6666666666666666,
             "#ed7953"
            ],
            [
             0.7777777777777778,
             "#fb9f3a"
            ],
            [
             0.8888888888888888,
             "#fdca26"
            ],
            [
             1,
             "#f0f921"
            ]
           ]
          },
          "colorway": [
           "#636efa",
           "#EF553B",
           "#00cc96",
           "#ab63fa",
           "#FFA15A",
           "#19d3f3",
           "#FF6692",
           "#B6E880",
           "#FF97FF",
           "#FECB52"
          ],
          "font": {
           "color": "#2a3f5f"
          },
          "geo": {
           "bgcolor": "white",
           "lakecolor": "white",
           "landcolor": "#E5ECF6",
           "showlakes": true,
           "showland": true,
           "subunitcolor": "white"
          },
          "hoverlabel": {
           "align": "left"
          },
          "hovermode": "closest",
          "mapbox": {
           "style": "light"
          },
          "paper_bgcolor": "white",
          "plot_bgcolor": "#E5ECF6",
          "polar": {
           "angularaxis": {
            "gridcolor": "white",
            "linecolor": "white",
            "ticks": ""
           },
           "bgcolor": "#E5ECF6",
           "radialaxis": {
            "gridcolor": "white",
            "linecolor": "white",
            "ticks": ""
           }
          },
          "scene": {
           "xaxis": {
            "backgroundcolor": "#E5ECF6",
            "gridcolor": "white",
            "gridwidth": 2,
            "linecolor": "white",
            "showbackground": true,
            "ticks": "",
            "zerolinecolor": "white"
           },
           "yaxis": {
            "backgroundcolor": "#E5ECF6",
            "gridcolor": "white",
            "gridwidth": 2,
            "linecolor": "white",
            "showbackground": true,
            "ticks": "",
            "zerolinecolor": "white"
           },
           "zaxis": {
            "backgroundcolor": "#E5ECF6",
            "gridcolor": "white",
            "gridwidth": 2,
            "linecolor": "white",
            "showbackground": true,
            "ticks": "",
            "zerolinecolor": "white"
           }
          },
          "shapedefaults": {
           "line": {
            "color": "#2a3f5f"
           }
          },
          "ternary": {
           "aaxis": {
            "gridcolor": "white",
            "linecolor": "white",
            "ticks": ""
           },
           "baxis": {
            "gridcolor": "white",
            "linecolor": "white",
            "ticks": ""
           },
           "bgcolor": "#E5ECF6",
           "caxis": {
            "gridcolor": "white",
            "linecolor": "white",
            "ticks": ""
           }
          },
          "title": {
           "x": 0.05
          },
          "xaxis": {
           "automargin": true,
           "gridcolor": "white",
           "linecolor": "white",
           "ticks": "",
           "title": {
            "standoff": 15
           },
           "zerolinecolor": "white",
           "zerolinewidth": 2
          },
          "yaxis": {
           "automargin": true,
           "gridcolor": "white",
           "linecolor": "white",
           "ticks": "",
           "title": {
            "standoff": 15
           },
           "zerolinecolor": "white",
           "zerolinewidth": 2
          }
         }
        },
        "updatemenus": [
         {
          "buttons": [
           {
            "args": [
             null,
             {
              "frame": {
               "duration": 500,
               "redraw": false
              },
              "fromcurrent": true,
              "mode": "immediate",
              "transition": {
               "duration": 500,
               "easing": "linear"
              }
             }
            ],
            "label": "&#9654;",
            "method": "animate"
           },
           {
            "args": [
             [
              null
             ],
             {
              "frame": {
               "duration": 0,
               "redraw": false
              },
              "fromcurrent": true,
              "mode": "immediate",
              "transition": {
               "duration": 0,
               "easing": "linear"
              }
             }
            ],
            "label": "&#9724;",
            "method": "animate"
           }
          ],
          "direction": "left",
          "pad": {
           "r": 10,
           "t": 70
          },
          "showactive": false,
          "type": "buttons",
          "x": 0.1,
          "xanchor": "right",
          "y": 0,
          "yanchor": "top"
         }
        ],
        "xaxis": {
         "anchor": "y",
         "domain": [
          0,
          1
         ],
         "range": [
          -7.329949855804443,
          18.38401222229004
         ],
         "title": {
          "text": "x"
         }
        },
        "yaxis": {
         "anchor": "x",
         "domain": [
          0,
          1
         ],
         "range": [
          -7.9271650314331055,
          14.94637680053711
         ],
         "title": {
          "text": "y"
         }
        }
       }
      }
     },
     "metadata": {},
     "output_type": "display_data"
    }
   ],
   "source": [
    "reductions = {}\n",
    "for i in range(0, 20):\n",
    "    reductions[f'random state {i}'] = dict(\n",
    "        random_state=i, \n",
    "        init='random',\n",
    "        n_jobs=1,\n",
    "    )\n",
    "manager.compare_reductions(**reductions)"
   ]
  },
  {
   "cell_type": "markdown",
   "id": "2befce85-53cb-4ec3-ae3f-646a03e0aa90",
   "metadata": {},
   "source": [
    "Compare results for different values for the ``n_neighbors`` argument"
   ]
  },
  {
   "cell_type": "code",
   "execution_count": 14,
   "id": "e4ae6873-2ad4-4f9a-af45-e62a1910f9a7",
   "metadata": {},
   "outputs": [
    {
     "name": "stdout",
     "output_type": "stream",
     "text": [
      "Training UMAP Transform.\n",
      "Completed training in 0.667428 seconds.\n",
      "Running inference on 500 cells with trained UMAP Transform.\n",
      "Completed inference in 0.001137 seconds.\n",
      "Running inference on 500 cells with trained UMAP Transform.\n",
      "Completed inference in 0.000721 seconds.\n",
      "Running inference on 500 cells with trained UMAP Transform.\n",
      "Completed inference in 0.000916 seconds.\n",
      "Running inference on 500 cells with trained UMAP Transform.\n",
      "Completed inference in 0.000815 seconds.\n",
      "Running inference on 500 cells with trained UMAP Transform.\n",
      "Completed inference in 0.000767 seconds.\n",
      "Running inference on 500 cells with trained UMAP Transform.\n",
      "Completed inference in 0.000755 seconds.\n",
      "Running inference on 500 cells with trained UMAP Transform.\n",
      "Completed inference in 0.000754 seconds.\n",
      "Running inference on 500 cells with trained UMAP Transform.\n",
      "Completed inference in 0.00072 seconds.\n",
      "Running inference on 500 cells with trained UMAP Transform.\n",
      "Completed inference in 0.000879 seconds.\n",
      "Running inference on 500 cells with trained UMAP Transform.\n",
      "Completed inference in 0.000849 seconds.\n",
      "Running inference on 500 cells with trained UMAP Transform.\n",
      "Completed inference in 0.000757 seconds.\n",
      "Running inference on 500 cells with trained UMAP Transform.\n",
      "Completed inference in 0.000884 seconds.\n",
      "Running inference on 500 cells with trained UMAP Transform.\n",
      "Completed inference in 0.000853 seconds.\n",
      "Running inference on 500 cells with trained UMAP Transform.\n",
      "Completed inference in 0.0008 seconds.\n",
      "Running inference on 500 cells with trained UMAP Transform.\n",
      "Completed inference in 0.000904 seconds.\n",
      "Running inference on 500 cells with trained UMAP Transform.\n",
      "Completed inference in 0.000705 seconds.\n",
      "Running inference on 500 cells with trained UMAP Transform.\n",
      "Completed inference in 0.000717 seconds.\n",
      "Running inference on 500 cells with trained UMAP Transform.\n",
      "Completed inference in 0.000841 seconds.\n",
      "Running inference on 500 cells with trained UMAP Transform.\n",
      "Completed inference in 0.000864 seconds.\n",
      "Running inference on 500 cells with trained UMAP Transform.\n",
      "Completed inference in 0.000859 seconds.\n",
      "Running inference on 500 cells with trained UMAP Transform.\n",
      "Completed inference in 0.000804 seconds.\n",
      "Running inference on 500 cells with trained UMAP Transform.\n",
      "Completed inference in 0.000844 seconds.\n",
      "Running inference on 500 cells with trained UMAP Transform.\n",
      "Completed inference in 0.000882 seconds.\n",
      "Running inference on 500 cells with trained UMAP Transform.\n",
      "Completed inference in 0.000854 seconds.\n",
      "Running inference on 500 cells with trained UMAP Transform.\n",
      "Completed inference in 0.00098 seconds.\n",
      "Running inference on 500 cells with trained UMAP Transform.\n",
      "Completed inference in 0.000895 seconds.\n",
      "Running inference on 500 cells with trained UMAP Transform.\n",
      "Completed inference in 0.000893 seconds.\n"
     ]
    },
    {
     "data": {
      "application/vnd.plotly.v1+json": {
       "config": {
        "plotlyServerURL": "https://plot.ly"
       },
       "data": [
        {
         "hovertemplate": "set=3 neighbors<br>x=%{x}<br>y=%{y}<br>index=%{marker.color}<extra></extra>",
         "ids": {
          "bdata": "AAABAAIAAwAEAAUABgAHAAgACQAKAAsADAANAA4ADwAQABEAEgATABQAFQAWABcAGAAZABoAGwAcAB0AHgAfACAAIQAiACMAJAAlACYAJwAoACkAKgArACwALQAuAC8AMAAxADIAMwA0ADUANgA3ADgAOQA6ADsAPAA9AD4APwBAAEEAQgBDAEQARQBGAEcASABJAEoASwBMAE0ATgBPAFAAUQBSAFMAVABVAFYAVwBYAFkAWgBbAFwAXQBeAF8AYABhAGIAYwBkAGUAZgBnAGgAaQBqAGsAbABtAG4AbwBwAHEAcgBzAHQAdQB2AHcAeAB5AHoAewB8AH0AfgB/AIAAgQCCAIMAhACFAIYAhwCIAIkAigCLAIwAjQCOAI8AkACRAJIAkwCUAJUAlgCXAJgAmQCaAJsAnACdAJ4AnwCgAKEAogCjAKQApQCmAKcAqACpAKoAqwCsAK0ArgCvALAAsQCyALMAtAC1ALYAtwC4ALkAugC7ALwAvQC+AL8AwADBAMIAwwDEAMUAxgDHAMgAyQDKAMsAzADNAM4AzwDQANEA0gDTANQA1QDWANcA2ADZANoA2wDcAN0A3gDfAOAA4QDiAOMA5ADlAOYA5wDoAOkA6gDrAOwA7QDuAO8A8ADxAPIA8wD0APUA9gD3APgA+QD6APsA/AD9AP4A/wAAAQEBAgEDAQQBBQEGAQcBCAEJAQoBCwEMAQ0BDgEPARABEQESARMBFAEVARYBFwEYARkBGgEbARwBHQEeAR8BIAEhASIBIwEkASUBJgEnASgBKQEqASsBLAEtAS4BLwEwATEBMgEzATQBNQE2ATcBOAE5AToBOwE8AT0BPgE/AUABQQFCAUMBRAFFAUYBRwFIAUkBSgFLAUwBTQFOAU8BUAFRAVIBUwFUAVUBVgFXAVgBWQFaAVsBXAFdAV4BXwFgAWEBYgFjAWQBZQFmAWcBaAFpAWoBawFsAW0BbgFvAXABcQFyAXMBdAF1AXYBdwF4AXkBegF7AXwBfQF+AX8BgAGBAYIBgwGEAYUBhgGHAYgBiQGKAYsBjAGNAY4BjwGQAZEBkgGTAZQBlQGWAZcBmAGZAZoBmwGcAZ0BngGfAaABoQGiAaMBpAGlAaYBpwGoAakBqgGrAawBrQGuAa8BsAGxAbIBswG0AbUBtgG3AbgBuQG6AbsBvAG9Ab4BvwHAAcEBwgHDAcQBxQHGAccByAHJAcoBywHMAc0BzgHPAdAB0QHSAdMB1AHVAdYB1wHYAdkB2gHbAdwB3QHeAd8B4AHhAeIB4wHkAeUB5gHnAegB6QHqAesB7AHtAe4B7wHwAfEB8gHzAQ==",
          "dtype": "i2"
         },
         "legendgroup": "",
         "marker": {
          "color": {
           "bdata": "AAABAAIAAwAEAAUABgAHAAgACQAKAAsADAANAA4ADwAQABEAEgATABQAFQAWABcAGAAZABoAGwAcAB0AHgAfACAAIQAiACMAJAAlACYAJwAoACkAKgArACwALQAuAC8AMAAxADIAMwA0ADUANgA3ADgAOQA6ADsAPAA9AD4APwBAAEEAQgBDAEQARQBGAEcASABJAEoASwBMAE0ATgBPAFAAUQBSAFMAVABVAFYAVwBYAFkAWgBbAFwAXQBeAF8AYABhAGIAYwBkAGUAZgBnAGgAaQBqAGsAbABtAG4AbwBwAHEAcgBzAHQAdQB2AHcAeAB5AHoAewB8AH0AfgB/AIAAgQCCAIMAhACFAIYAhwCIAIkAigCLAIwAjQCOAI8AkACRAJIAkwCUAJUAlgCXAJgAmQCaAJsAnACdAJ4AnwCgAKEAogCjAKQApQCmAKcAqACpAKoAqwCsAK0ArgCvALAAsQCyALMAtAC1ALYAtwC4ALkAugC7ALwAvQC+AL8AwADBAMIAwwDEAMUAxgDHAMgAyQDKAMsAzADNAM4AzwDQANEA0gDTANQA1QDWANcA2ADZANoA2wDcAN0A3gDfAOAA4QDiAOMA5ADlAOYA5wDoAOkA6gDrAOwA7QDuAO8A8ADxAPIA8wD0APUA9gD3APgA+QD6APsA/AD9AP4A/wAAAQEBAgEDAQQBBQEGAQcBCAEJAQoBCwEMAQ0BDgEPARABEQESARMBFAEVARYBFwEYARkBGgEbARwBHQEeAR8BIAEhASIBIwEkASUBJgEnASgBKQEqASsBLAEtAS4BLwEwATEBMgEzATQBNQE2ATcBOAE5AToBOwE8AT0BPgE/AUABQQFCAUMBRAFFAUYBRwFIAUkBSgFLAUwBTQFOAU8BUAFRAVIBUwFUAVUBVgFXAVgBWQFaAVsBXAFdAV4BXwFgAWEBYgFjAWQBZQFmAWcBaAFpAWoBawFsAW0BbgFvAXABcQFyAXMBdAF1AXYBdwF4AXkBegF7AXwBfQF+AX8BgAGBAYIBgwGEAYUBhgGHAYgBiQGKAYsBjAGNAY4BjwGQAZEBkgGTAZQBlQGWAZcBmAGZAZoBmwGcAZ0BngGfAaABoQGiAaMBpAGlAaYBpwGoAakBqgGrAawBrQGuAa8BsAGxAbIBswG0AbUBtgG3AbgBuQG6AbsBvAG9Ab4BvwHAAcEBwgHDAcQBxQHGAccByAHJAcoBywHMAc0BzgHPAdAB0QHSAdMB1AHVAdYB1wHYAdkB2gHbAdwB3QHeAd8B4AHhAeIB4wHkAeUB5gHnAegB6QHqAesB7AHtAe4B7wHwAfEB8gHzAQ==",
           "dtype": "i2"
          },
          "coloraxis": "coloraxis",
          "symbol": "circle"
         },
         "mode": "markers",
         "name": "",
         "orientation": "v",
         "showlegend": false,
         "type": "scatter",
         "x": {
          "bdata": "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",
          "dtype": "f4"
         },
         "xaxis": "x",
         "y": {
          "bdata": "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",
          "dtype": "f4"
         },
         "yaxis": "y"
        }
       ],
       "frames": [
        {
         "data": [
          {
           "hovertemplate": "set=3 neighbors<br>x=%{x}<br>y=%{y}<br>index=%{marker.color}<extra></extra>",
           "ids": {
            "bdata": "AAABAAIAAwAEAAUABgAHAAgACQAKAAsADAANAA4ADwAQABEAEgATABQAFQAWABcAGAAZABoAGwAcAB0AHgAfACAAIQAiACMAJAAlACYAJwAoACkAKgArACwALQAuAC8AMAAxADIAMwA0ADUANgA3ADgAOQA6ADsAPAA9AD4APwBAAEEAQgBDAEQARQBGAEcASABJAEoASwBMAE0ATgBPAFAAUQBSAFMAVABVAFYAVwBYAFkAWgBbAFwAXQBeAF8AYABhAGIAYwBkAGUAZgBnAGgAaQBqAGsAbABtAG4AbwBwAHEAcgBzAHQAdQB2AHcAeAB5AHoAewB8AH0AfgB/AIAAgQCCAIMAhACFAIYAhwCIAIkAigCLAIwAjQCOAI8AkACRAJIAkwCUAJUAlgCXAJgAmQCaAJsAnACdAJ4AnwCgAKEAogCjAKQApQCmAKcAqACpAKoAqwCsAK0ArgCvALAAsQCyALMAtAC1ALYAtwC4ALkAugC7ALwAvQC+AL8AwADBAMIAwwDEAMUAxgDHAMgAyQDKAMsAzADNAM4AzwDQANEA0gDTANQA1QDWANcA2ADZANoA2wDcAN0A3gDfAOAA4QDiAOMA5ADlAOYA5wDoAOkA6gDrAOwA7QDuAO8A8ADxAPIA8wD0APUA9gD3APgA+QD6APsA/AD9AP4A/wAAAQEBAgEDAQQBBQEGAQcBCAEJAQoBCwEMAQ0BDgEPARABEQESARMBFAEVARYBFwEYARkBGgEbARwBHQEeAR8BIAEhASIBIwEkASUBJgEnASgBKQEqASsBLAEtAS4BLwEwATEBMgEzATQBNQE2ATcBOAE5AToBOwE8AT0BPgE/AUABQQFCAUMBRAFFAUYBRwFIAUkBSgFLAUwBTQFOAU8BUAFRAVIBUwFUAVUBVgFXAVgBWQFaAVsBXAFdAV4BXwFgAWEBYgFjAWQBZQFmAWcBaAFpAWoBawFsAW0BbgFvAXABcQFyAXMBdAF1AXYBdwF4AXkBegF7AXwBfQF+AX8BgAGBAYIBgwGEAYUBhgGHAYgBiQGKAYsBjAGNAY4BjwGQAZEBkgGTAZQBlQGWAZcBmAGZAZoBmwGcAZ0BngGfAaABoQGiAaMBpAGlAaYBpwGoAakBqgGrAawBrQGuAa8BsAGxAbIBswG0AbUBtgG3AbgBuQG6AbsBvAG9Ab4BvwHAAcEBwgHDAcQBxQHGAccByAHJAcoBywHMAc0BzgHPAdAB0QHSAdMB1AHVAdYB1wHYAdkB2gHbAdwB3QHeAd8B4AHhAeIB4wHkAeUB5gHnAegB6QHqAesB7AHtAe4B7wHwAfEB8gHzAQ==",
            "dtype": "i2"
           },
           "legendgroup": "",
           "marker": {
            "color": {
             "bdata": "AAABAAIAAwAEAAUABgAHAAgACQAKAAsADAANAA4ADwAQABEAEgATABQAFQAWABcAGAAZABoAGwAcAB0AHgAfACAAIQAiACMAJAAlACYAJwAoACkAKgArACwALQAuAC8AMAAxADIAMwA0ADUANgA3ADgAOQA6ADsAPAA9AD4APwBAAEEAQgBDAEQARQBGAEcASABJAEoASwBMAE0ATgBPAFAAUQBSAFMAVABVAFYAVwBYAFkAWgBbAFwAXQBeAF8AYABhAGIAYwBkAGUAZgBnAGgAaQBqAGsAbABtAG4AbwBwAHEAcgBzAHQAdQB2AHcAeAB5AHoAewB8AH0AfgB/AIAAgQCCAIMAhACFAIYAhwCIAIkAigCLAIwAjQCOAI8AkACRAJIAkwCUAJUAlgCXAJgAmQCaAJsAnACdAJ4AnwCgAKEAogCjAKQApQCmAKcAqACpAKoAqwCsAK0ArgCvALAAsQCyALMAtAC1ALYAtwC4ALkAugC7ALwAvQC+AL8AwADBAMIAwwDEAMUAxgDHAMgAyQDKAMsAzADNAM4AzwDQANEA0gDTANQA1QDWANcA2ADZANoA2wDcAN0A3gDfAOAA4QDiAOMA5ADlAOYA5wDoAOkA6gDrAOwA7QDuAO8A8ADxAPIA8wD0APUA9gD3APgA+QD6APsA/AD9AP4A/wAAAQEBAgEDAQQBBQEGAQcBCAEJAQoBCwEMAQ0BDgEPARABEQESARMBFAEVARYBFwEYARkBGgEbARwBHQEeAR8BIAEhASIBIwEkASUBJgEnASgBKQEqASsBLAEtAS4BLwEwATEBMgEzATQBNQE2ATcBOAE5AToBOwE8AT0BPgE/AUABQQFCAUMBRAFFAUYBRwFIAUkBSgFLAUwBTQFOAU8BUAFRAVIBUwFUAVUBVgFXAVgBWQFaAVsBXAFdAV4BXwFgAWEBYgFjAWQBZQFmAWcBaAFpAWoBawFsAW0BbgFvAXABcQFyAXMBdAF1AXYBdwF4AXkBegF7AXwBfQF+AX8BgAGBAYIBgwGEAYUBhgGHAYgBiQGKAYsBjAGNAY4BjwGQAZEBkgGTAZQBlQGWAZcBmAGZAZoBmwGcAZ0BngGfAaABoQGiAaMBpAGlAaYBpwGoAakBqgGrAawBrQGuAa8BsAGxAbIBswG0AbUBtgG3AbgBuQG6AbsBvAG9Ab4BvwHAAcEBwgHDAcQBxQHGAccByAHJAcoBywHMAc0BzgHPAdAB0QHSAdMB1AHVAdYB1wHYAdkB2gHbAdwB3QHeAd8B4AHhAeIB4wHkAeUB5gHnAegB6QHqAesB7AHtAe4B7wHwAfEB8gHzAQ==",
             "dtype": "i2"
            },
            "coloraxis": "coloraxis",
            "symbol": "circle"
           },
           "mode": "markers",
           "name": "",
           "orientation": "v",
           "showlegend": false,
           "type": "scatter",
           "x": {
            "bdata": "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",
            "dtype": "f4"
           },
           "xaxis": "x",
           "y": {
            "bdata": "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",
            "dtype": "f4"
           },
           "yaxis": "y"
          }
         ],
         "name": "3 neighbors"
        },
        {
         "data": [
          {
           "hovertemplate": "set=4 neighbors<br>x=%{x}<br>y=%{y}<br>index=%{marker.color}<extra></extra>",
           "ids": {
            "bdata": "AAABAAIAAwAEAAUABgAHAAgACQAKAAsADAANAA4ADwAQABEAEgATABQAFQAWABcAGAAZABoAGwAcAB0AHgAfACAAIQAiACMAJAAlACYAJwAoACkAKgArACwALQAuAC8AMAAxADIAMwA0ADUANgA3ADgAOQA6ADsAPAA9AD4APwBAAEEAQgBDAEQARQBGAEcASABJAEoASwBMAE0ATgBPAFAAUQBSAFMAVABVAFYAVwBYAFkAWgBbAFwAXQBeAF8AYABhAGIAYwBkAGUAZgBnAGgAaQBqAGsAbABtAG4AbwBwAHEAcgBzAHQAdQB2AHcAeAB5AHoAewB8AH0AfgB/AIAAgQCCAIMAhACFAIYAhwCIAIkAigCLAIwAjQCOAI8AkACRAJIAkwCUAJUAlgCXAJgAmQCaAJsAnACdAJ4AnwCgAKEAogCjAKQApQCmAKcAqACpAKoAqwCsAK0ArgCvALAAsQCyALMAtAC1ALYAtwC4ALkAugC7ALwAvQC+AL8AwADBAMIAwwDEAMUAxgDHAMgAyQDKAMsAzADNAM4AzwDQANEA0gDTANQA1QDWANcA2ADZANoA2wDcAN0A3gDfAOAA4QDiAOMA5ADlAOYA5wDoAOkA6gDrAOwA7QDuAO8A8ADxAPIA8wD0APUA9gD3APgA+QD6APsA/AD9AP4A/wAAAQEBAgEDAQQBBQEGAQcBCAEJAQoBCwEMAQ0BDgEPARABEQESARMBFAEVARYBFwEYARkBGgEbARwBHQEeAR8BIAEhASIBIwEkASUBJgEnASgBKQEqASsBLAEtAS4BLwEwATEBMgEzATQBNQE2ATcBOAE5AToBOwE8AT0BPgE/AUABQQFCAUMBRAFFAUYBRwFIAUkBSgFLAUwBTQFOAU8BUAFRAVIBUwFUAVUBVgFXAVgBWQFaAVsBXAFdAV4BXwFgAWEBYgFjAWQBZQFmAWcBaAFpAWoBawFsAW0BbgFvAXABcQFyAXMBdAF1AXYBdwF4AXkBegF7AXwBfQF+AX8BgAGBAYIBgwGEAYUBhgGHAYgBiQGKAYsBjAGNAY4BjwGQAZEBkgGTAZQBlQGWAZcBmAGZAZoBmwGcAZ0BngGfAaABoQGiAaMBpAGlAaYBpwGoAakBqgGrAawBrQGuAa8BsAGxAbIBswG0AbUBtgG3AbgBuQG6AbsBvAG9Ab4BvwHAAcEBwgHDAcQBxQHGAccByAHJAcoBywHMAc0BzgHPAdAB0QHSAdMB1AHVAdYB1wHYAdkB2gHbAdwB3QHeAd8B4AHhAeIB4wHkAeUB5gHnAegB6QHqAesB7AHtAe4B7wHwAfEB8gHzAQ==",
            "dtype": "i2"
           },
           "legendgroup": "",
           "marker": {
            "color": {
             "bdata": "AAABAAIAAwAEAAUABgAHAAgACQAKAAsADAANAA4ADwAQABEAEgATABQAFQAWABcAGAAZABoAGwAcAB0AHgAfACAAIQAiACMAJAAlACYAJwAoACkAKgArACwALQAuAC8AMAAxADIAMwA0ADUANgA3ADgAOQA6ADsAPAA9AD4APwBAAEEAQgBDAEQARQBGAEcASABJAEoASwBMAE0ATgBPAFAAUQBSAFMAVABVAFYAVwBYAFkAWgBbAFwAXQBeAF8AYABhAGIAYwBkAGUAZgBnAGgAaQBqAGsAbABtAG4AbwBwAHEAcgBzAHQAdQB2AHcAeAB5AHoAewB8AH0AfgB/AIAAgQCCAIMAhACFAIYAhwCIAIkAigCLAIwAjQCOAI8AkACRAJIAkwCUAJUAlgCXAJgAmQCaAJsAnACdAJ4AnwCgAKEAogCjAKQApQCmAKcAqACpAKoAqwCsAK0ArgCvALAAsQCyALMAtAC1ALYAtwC4ALkAugC7ALwAvQC+AL8AwADBAMIAwwDEAMUAxgDHAMgAyQDKAMsAzADNAM4AzwDQANEA0gDTANQA1QDWANcA2ADZANoA2wDcAN0A3gDfAOAA4QDiAOMA5ADlAOYA5wDoAOkA6gDrAOwA7QDuAO8A8ADxAPIA8wD0APUA9gD3APgA+QD6APsA/AD9AP4A/wAAAQEBAgEDAQQBBQEGAQcBCAEJAQoBCwEMAQ0BDgEPARABEQESARMBFAEVARYBFwEYARkBGgEbARwBHQEeAR8BIAEhASIBIwEkASUBJgEnASgBKQEqASsBLAEtAS4BLwEwATEBMgEzATQBNQE2ATcBOAE5AToBOwE8AT0BPgE/AUABQQFCAUMBRAFFAUYBRwFIAUkBSgFLAUwBTQFOAU8BUAFRAVIBUwFUAVUBVgFXAVgBWQFaAVsBXAFdAV4BXwFgAWEBYgFjAWQBZQFmAWcBaAFpAWoBawFsAW0BbgFvAXABcQFyAXMBdAF1AXYBdwF4AXkBegF7AXwBfQF+AX8BgAGBAYIBgwGEAYUBhgGHAYgBiQGKAYsBjAGNAY4BjwGQAZEBkgGTAZQBlQGWAZcBmAGZAZoBmwGcAZ0BngGfAaABoQGiAaMBpAGlAaYBpwGoAakBqgGrAawBrQGuAa8BsAGxAbIBswG0AbUBtgG3AbgBuQG6AbsBvAG9Ab4BvwHAAcEBwgHDAcQBxQHGAccByAHJAcoBywHMAc0BzgHPAdAB0QHSAdMB1AHVAdYB1wHYAdkB2gHbAdwB3QHeAd8B4AHhAeIB4wHkAeUB5gHnAegB6QHqAesB7AHtAe4B7wHwAfEB8gHzAQ==",
             "dtype": "i2"
            },
            "coloraxis": "coloraxis",
            "symbol": "circle"
           },
           "mode": "markers",
           "name": "",
           "orientation": "v",
           "showlegend": false,
           "type": "scatter",
           "x": {
            "bdata": "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",
            "dtype": "f4"
           },
           "xaxis": "x",
           "y": {
            "bdata": "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",
            "dtype": "f4"
           },
           "yaxis": "y"
          }
         ],
         "name": "4 neighbors"
        },
        {
         "data": [
          {
           "hovertemplate": "set=5 neighbors<br>x=%{x}<br>y=%{y}<br>index=%{marker.color}<extra></extra>",
           "ids": {
            "bdata": "AAABAAIAAwAEAAUABgAHAAgACQAKAAsADAANAA4ADwAQABEAEgATABQAFQAWABcAGAAZABoAGwAcAB0AHgAfACAAIQAiACMAJAAlACYAJwAoACkAKgArACwALQAuAC8AMAAxADIAMwA0ADUANgA3ADgAOQA6ADsAPAA9AD4APwBAAEEAQgBDAEQARQBGAEcASABJAEoASwBMAE0ATgBPAFAAUQBSAFMAVABVAFYAVwBYAFkAWgBbAFwAXQBeAF8AYABhAGIAYwBkAGUAZgBnAGgAaQBqAGsAbABtAG4AbwBwAHEAcgBzAHQAdQB2AHcAeAB5AHoAewB8AH0AfgB/AIAAgQCCAIMAhACFAIYAhwCIAIkAigCLAIwAjQCOAI8AkACRAJIAkwCUAJUAlgCXAJgAmQCaAJsAnACdAJ4AnwCgAKEAogCjAKQApQCmAKcAqACpAKoAqwCsAK0ArgCvALAAsQCyALMAtAC1ALYAtwC4ALkAugC7ALwAvQC+AL8AwADBAMIAwwDEAMUAxgDHAMgAyQDKAMsAzADNAM4AzwDQANEA0gDTANQA1QDWANcA2ADZANoA2wDcAN0A3gDfAOAA4QDiAOMA5ADlAOYA5wDoAOkA6gDrAOwA7QDuAO8A8ADxAPIA8wD0APUA9gD3APgA+QD6APsA/AD9AP4A/wAAAQEBAgEDAQQBBQEGAQcBCAEJAQoBCwEMAQ0BDgEPARABEQESARMBFAEVARYBFwEYARkBGgEbARwBHQEeAR8BIAEhASIBIwEkASUBJgEnASgBKQEqASsBLAEtAS4BLwEwATEBMgEzATQBNQE2ATcBOAE5AToBOwE8AT0BPgE/AUABQQFCAUMBRAFFAUYBRwFIAUkBSgFLAUwBTQFOAU8BUAFRAVIBUwFUAVUBVgFXAVgBWQFaAVsBXAFdAV4BXwFgAWEBYgFjAWQBZQFmAWcBaAFpAWoBawFsAW0BbgFvAXABcQFyAXMBdAF1AXYBdwF4AXkBegF7AXwBfQF+AX8BgAGBAYIBgwGEAYUBhgGHAYgBiQGKAYsBjAGNAY4BjwGQAZEBkgGTAZQBlQGWAZcBmAGZAZoBmwGcAZ0BngGfAaABoQGiAaMBpAGlAaYBpwGoAakBqgGrAawBrQGuAa8BsAGxAbIBswG0AbUBtgG3AbgBuQG6AbsBvAG9Ab4BvwHAAcEBwgHDAcQBxQHGAccByAHJAcoBywHMAc0BzgHPAdAB0QHSAdMB1AHVAdYB1wHYAdkB2gHbAdwB3QHeAd8B4AHhAeIB4wHkAeUB5gHnAegB6QHqAesB7AHtAe4B7wHwAfEB8gHzAQ==",
            "dtype": "i2"
           },
           "legendgroup": "",
           "marker": {
            "color": {
             "bdata": "AAABAAIAAwAEAAUABgAHAAgACQAKAAsADAANAA4ADwAQABEAEgATABQAFQAWABcAGAAZABoAGwAcAB0AHgAfACAAIQAiACMAJAAlACYAJwAoACkAKgArACwALQAuAC8AMAAxADIAMwA0ADUANgA3ADgAOQA6ADsAPAA9AD4APwBAAEEAQgBDAEQARQBGAEcASABJAEoASwBMAE0ATgBPAFAAUQBSAFMAVABVAFYAVwBYAFkAWgBbAFwAXQBeAF8AYABhAGIAYwBkAGUAZgBnAGgAaQBqAGsAbABtAG4AbwBwAHEAcgBzAHQAdQB2AHcAeAB5AHoAewB8AH0AfgB/AIAAgQCCAIMAhACFAIYAhwCIAIkAigCLAIwAjQCOAI8AkACRAJIAkwCUAJUAlgCXAJgAmQCaAJsAnACdAJ4AnwCgAKEAogCjAKQApQCmAKcAqACpAKoAqwCsAK0ArgCvALAAsQCyALMAtAC1ALYAtwC4ALkAugC7ALwAvQC+AL8AwADBAMIAwwDEAMUAxgDHAMgAyQDKAMsAzADNAM4AzwDQANEA0gDTANQA1QDWANcA2ADZANoA2wDcAN0A3gDfAOAA4QDiAOMA5ADlAOYA5wDoAOkA6gDrAOwA7QDuAO8A8ADxAPIA8wD0APUA9gD3APgA+QD6APsA/AD9AP4A/wAAAQEBAgEDAQQBBQEGAQcBCAEJAQoBCwEMAQ0BDgEPARABEQESARMBFAEVARYBFwEYARkBGgEbARwBHQEeAR8BIAEhASIBIwEkASUBJgEnASgBKQEqASsBLAEtAS4BLwEwATEBMgEzATQBNQE2ATcBOAE5AToBOwE8AT0BPgE/AUABQQFCAUMBRAFFAUYBRwFIAUkBSgFLAUwBTQFOAU8BUAFRAVIBUwFUAVUBVgFXAVgBWQFaAVsBXAFdAV4BXwFgAWEBYgFjAWQBZQFmAWcBaAFpAWoBawFsAW0BbgFvAXABcQFyAXMBdAF1AXYBdwF4AXkBegF7AXwBfQF+AX8BgAGBAYIBgwGEAYUBhgGHAYgBiQGKAYsBjAGNAY4BjwGQAZEBkgGTAZQBlQGWAZcBmAGZAZoBmwGcAZ0BngGfAaABoQGiAaMBpAGlAaYBpwGoAakBqgGrAawBrQGuAa8BsAGxAbIBswG0AbUBtgG3AbgBuQG6AbsBvAG9Ab4BvwHAAcEBwgHDAcQBxQHGAccByAHJAcoBywHMAc0BzgHPAdAB0QHSAdMB1AHVAdYB1wHYAdkB2gHbAdwB3QHeAd8B4AHhAeIB4wHkAeUB5gHnAegB6QHqAesB7AHtAe4B7wHwAfEB8gHzAQ==",
             "dtype": "i2"
            },
            "coloraxis": "coloraxis",
            "symbol": "circle"
           },
           "mode": "markers",
           "name": "",
           "orientation": "v",
           "showlegend": false,
           "type": "scatter",
           "x": {
            "bdata": "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",
            "dtype": "f4"
           },
           "xaxis": "x",
           "y": {
            "bdata": "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",
            "dtype": "f4"
           },
           "yaxis": "y"
          }
         ],
         "name": "5 neighbors"
        },
        {
         "data": [
          {
           "hovertemplate": "set=6 neighbors<br>x=%{x}<br>y=%{y}<br>index=%{marker.color}<extra></extra>",
           "ids": {
            "bdata": "AAABAAIAAwAEAAUABgAHAAgACQAKAAsADAANAA4ADwAQABEAEgATABQAFQAWABcAGAAZABoAGwAcAB0AHgAfACAAIQAiACMAJAAlACYAJwAoACkAKgArACwALQAuAC8AMAAxADIAMwA0ADUANgA3ADgAOQA6ADsAPAA9AD4APwBAAEEAQgBDAEQARQBGAEcASABJAEoASwBMAE0ATgBPAFAAUQBSAFMAVABVAFYAVwBYAFkAWgBbAFwAXQBeAF8AYABhAGIAYwBkAGUAZgBnAGgAaQBqAGsAbABtAG4AbwBwAHEAcgBzAHQAdQB2AHcAeAB5AHoAewB8AH0AfgB/AIAAgQCCAIMAhACFAIYAhwCIAIkAigCLAIwAjQCOAI8AkACRAJIAkwCUAJUAlgCXAJgAmQCaAJsAnACdAJ4AnwCgAKEAogCjAKQApQCmAKcAqACpAKoAqwCsAK0ArgCvALAAsQCyALMAtAC1ALYAtwC4ALkAugC7ALwAvQC+AL8AwADBAMIAwwDEAMUAxgDHAMgAyQDKAMsAzADNAM4AzwDQANEA0gDTANQA1QDWANcA2ADZANoA2wDcAN0A3gDfAOAA4QDiAOMA5ADlAOYA5wDoAOkA6gDrAOwA7QDuAO8A8ADxAPIA8wD0APUA9gD3APgA+QD6APsA/AD9AP4A/wAAAQEBAgEDAQQBBQEGAQcBCAEJAQoBCwEMAQ0BDgEPARABEQESARMBFAEVARYBFwEYARkBGgEbARwBHQEeAR8BIAEhASIBIwEkASUBJgEnASgBKQEqASsBLAEtAS4BLwEwATEBMgEzATQBNQE2ATcBOAE5AToBOwE8AT0BPgE/AUABQQFCAUMBRAFFAUYBRwFIAUkBSgFLAUwBTQFOAU8BUAFRAVIBUwFUAVUBVgFXAVgBWQFaAVsBXAFdAV4BXwFgAWEBYgFjAWQBZQFmAWcBaAFpAWoBawFsAW0BbgFvAXABcQFyAXMBdAF1AXYBdwF4AXkBegF7AXwBfQF+AX8BgAGBAYIBgwGEAYUBhgGHAYgBiQGKAYsBjAGNAY4BjwGQAZEBkgGTAZQBlQGWAZcBmAGZAZoBmwGcAZ0BngGfAaABoQGiAaMBpAGlAaYBpwGoAakBqgGrAawBrQGuAa8BsAGxAbIBswG0AbUBtgG3AbgBuQG6AbsBvAG9Ab4BvwHAAcEBwgHDAcQBxQHGAccByAHJAcoBywHMAc0BzgHPAdAB0QHSAdMB1AHVAdYB1wHYAdkB2gHbAdwB3QHeAd8B4AHhAeIB4wHkAeUB5gHnAegB6QHqAesB7AHtAe4B7wHwAfEB8gHzAQ==",
            "dtype": "i2"
           },
           "legendgroup": "",
           "marker": {
            "color": {
             "bdata": "AAABAAIAAwAEAAUABgAHAAgACQAKAAsADAANAA4ADwAQABEAEgATABQAFQAWABcAGAAZABoAGwAcAB0AHgAfACAAIQAiACMAJAAlACYAJwAoACkAKgArACwALQAuAC8AMAAxADIAMwA0ADUANgA3ADgAOQA6ADsAPAA9AD4APwBAAEEAQgBDAEQARQBGAEcASABJAEoASwBMAE0ATgBPAFAAUQBSAFMAVABVAFYAVwBYAFkAWgBbAFwAXQBeAF8AYABhAGIAYwBkAGUAZgBnAGgAaQBqAGsAbABtAG4AbwBwAHEAcgBzAHQAdQB2AHcAeAB5AHoAewB8AH0AfgB/AIAAgQCCAIMAhACFAIYAhwCIAIkAigCLAIwAjQCOAI8AkACRAJIAkwCUAJUAlgCXAJgAmQCaAJsAnACdAJ4AnwCgAKEAogCjAKQApQCmAKcAqACpAKoAqwCsAK0ArgCvALAAsQCyALMAtAC1ALYAtwC4ALkAugC7ALwAvQC+AL8AwADBAMIAwwDEAMUAxgDHAMgAyQDKAMsAzADNAM4AzwDQANEA0gDTANQA1QDWANcA2ADZANoA2wDcAN0A3gDfAOAA4QDiAOMA5ADlAOYA5wDoAOkA6gDrAOwA7QDuAO8A8ADxAPIA8wD0APUA9gD3APgA+QD6APsA/AD9AP4A/wAAAQEBAgEDAQQBBQEGAQcBCAEJAQoBCwEMAQ0BDgEPARABEQESARMBFAEVARYBFwEYARkBGgEbARwBHQEeAR8BIAEhASIBIwEkASUBJgEnASgBKQEqASsBLAEtAS4BLwEwATEBMgEzATQBNQE2ATcBOAE5AToBOwE8AT0BPgE/AUABQQFCAUMBRAFFAUYBRwFIAUkBSgFLAUwBTQFOAU8BUAFRAVIBUwFUAVUBVgFXAVgBWQFaAVsBXAFdAV4BXwFgAWEBYgFjAWQBZQFmAWcBaAFpAWoBawFsAW0BbgFvAXABcQFyAXMBdAF1AXYBdwF4AXkBegF7AXwBfQF+AX8BgAGBAYIBgwGEAYUBhgGHAYgBiQGKAYsBjAGNAY4BjwGQAZEBkgGTAZQBlQGWAZcBmAGZAZoBmwGcAZ0BngGfAaABoQGiAaMBpAGlAaYBpwGoAakBqgGrAawBrQGuAa8BsAGxAbIBswG0AbUBtgG3AbgBuQG6AbsBvAG9Ab4BvwHAAcEBwgHDAcQBxQHGAccByAHJAcoBywHMAc0BzgHPAdAB0QHSAdMB1AHVAdYB1wHYAdkB2gHbAdwB3QHeAd8B4AHhAeIB4wHkAeUB5gHnAegB6QHqAesB7AHtAe4B7wHwAfEB8gHzAQ==",
             "dtype": "i2"
            },
            "coloraxis": "coloraxis",
            "symbol": "circle"
           },
           "mode": "markers",
           "name": "",
           "orientation": "v",
           "showlegend": false,
           "type": "scatter",
           "x": {
            "bdata": "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",
            "dtype": "f4"
           },
           "xaxis": "x",
           "y": {
            "bdata": "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",
            "dtype": "f4"
           },
           "yaxis": "y"
          }
         ],
         "name": "6 neighbors"
        },
        {
         "data": [
          {
           "hovertemplate": "set=7 neighbors<br>x=%{x}<br>y=%{y}<br>index=%{marker.color}<extra></extra>",
           "ids": {
            "bdata": "AAABAAIAAwAEAAUABgAHAAgACQAKAAsADAANAA4ADwAQABEAEgATABQAFQAWABcAGAAZABoAGwAcAB0AHgAfACAAIQAiACMAJAAlACYAJwAoACkAKgArACwALQAuAC8AMAAxADIAMwA0ADUANgA3ADgAOQA6ADsAPAA9AD4APwBAAEEAQgBDAEQARQBGAEcASABJAEoASwBMAE0ATgBPAFAAUQBSAFMAVABVAFYAVwBYAFkAWgBbAFwAXQBeAF8AYABhAGIAYwBkAGUAZgBnAGgAaQBqAGsAbABtAG4AbwBwAHEAcgBzAHQAdQB2AHcAeAB5AHoAewB8AH0AfgB/AIAAgQCCAIMAhACFAIYAhwCIAIkAigCLAIwAjQCOAI8AkACRAJIAkwCUAJUAlgCXAJgAmQCaAJsAnACdAJ4AnwCgAKEAogCjAKQApQCmAKcAqACpAKoAqwCsAK0ArgCvALAAsQCyALMAtAC1ALYAtwC4ALkAugC7ALwAvQC+AL8AwADBAMIAwwDEAMUAxgDHAMgAyQDKAMsAzADNAM4AzwDQANEA0gDTANQA1QDWANcA2ADZANoA2wDcAN0A3gDfAOAA4QDiAOMA5ADlAOYA5wDoAOkA6gDrAOwA7QDuAO8A8ADxAPIA8wD0APUA9gD3APgA+QD6APsA/AD9AP4A/wAAAQEBAgEDAQQBBQEGAQcBCAEJAQoBCwEMAQ0BDgEPARABEQESARMBFAEVARYBFwEYARkBGgEbARwBHQEeAR8BIAEhASIBIwEkASUBJgEnASgBKQEqASsBLAEtAS4BLwEwATEBMgEzATQBNQE2ATcBOAE5AToBOwE8AT0BPgE/AUABQQFCAUMBRAFFAUYBRwFIAUkBSgFLAUwBTQFOAU8BUAFRAVIBUwFUAVUBVgFXAVgBWQFaAVsBXAFdAV4BXwFgAWEBYgFjAWQBZQFmAWcBaAFpAWoBawFsAW0BbgFvAXABcQFyAXMBdAF1AXYBdwF4AXkBegF7AXwBfQF+AX8BgAGBAYIBgwGEAYUBhgGHAYgBiQGKAYsBjAGNAY4BjwGQAZEBkgGTAZQBlQGWAZcBmAGZAZoBmwGcAZ0BngGfAaABoQGiAaMBpAGlAaYBpwGoAakBqgGrAawBrQGuAa8BsAGxAbIBswG0AbUBtgG3AbgBuQG6AbsBvAG9Ab4BvwHAAcEBwgHDAcQBxQHGAccByAHJAcoBywHMAc0BzgHPAdAB0QHSAdMB1AHVAdYB1wHYAdkB2gHbAdwB3QHeAd8B4AHhAeIB4wHkAeUB5gHnAegB6QHqAesB7AHtAe4B7wHwAfEB8gHzAQ==",
            "dtype": "i2"
           },
           "legendgroup": "",
           "marker": {
            "color": {
             "bdata": "AAABAAIAAwAEAAUABgAHAAgACQAKAAsADAANAA4ADwAQABEAEgATABQAFQAWABcAGAAZABoAGwAcAB0AHgAfACAAIQAiACMAJAAlACYAJwAoACkAKgArACwALQAuAC8AMAAxADIAMwA0ADUANgA3ADgAOQA6ADsAPAA9AD4APwBAAEEAQgBDAEQARQBGAEcASABJAEoASwBMAE0ATgBPAFAAUQBSAFMAVABVAFYAVwBYAFkAWgBbAFwAXQBeAF8AYABhAGIAYwBkAGUAZgBnAGgAaQBqAGsAbABtAG4AbwBwAHEAcgBzAHQAdQB2AHcAeAB5AHoAewB8AH0AfgB/AIAAgQCCAIMAhACFAIYAhwCIAIkAigCLAIwAjQCOAI8AkACRAJIAkwCUAJUAlgCXAJgAmQCaAJsAnACdAJ4AnwCgAKEAogCjAKQApQCmAKcAqACpAKoAqwCsAK0ArgCvALAAsQCyALMAtAC1ALYAtwC4ALkAugC7ALwAvQC+AL8AwADBAMIAwwDEAMUAxgDHAMgAyQDKAMsAzADNAM4AzwDQANEA0gDTANQA1QDWANcA2ADZANoA2wDcAN0A3gDfAOAA4QDiAOMA5ADlAOYA5wDoAOkA6gDrAOwA7QDuAO8A8ADxAPIA8wD0APUA9gD3APgA+QD6APsA/AD9AP4A/wAAAQEBAgEDAQQBBQEGAQcBCAEJAQoBCwEMAQ0BDgEPARABEQESARMBFAEVARYBFwEYARkBGgEbARwBHQEeAR8BIAEhASIBIwEkASUBJgEnASgBKQEqASsBLAEtAS4BLwEwATEBMgEzATQBNQE2ATcBOAE5AToBOwE8AT0BPgE/AUABQQFCAUMBRAFFAUYBRwFIAUkBSgFLAUwBTQFOAU8BUAFRAVIBUwFUAVUBVgFXAVgBWQFaAVsBXAFdAV4BXwFgAWEBYgFjAWQBZQFmAWcBaAFpAWoBawFsAW0BbgFvAXABcQFyAXMBdAF1AXYBdwF4AXkBegF7AXwBfQF+AX8BgAGBAYIBgwGEAYUBhgGHAYgBiQGKAYsBjAGNAY4BjwGQAZEBkgGTAZQBlQGWAZcBmAGZAZoBmwGcAZ0BngGfAaABoQGiAaMBpAGlAaYBpwGoAakBqgGrAawBrQGuAa8BsAGxAbIBswG0AbUBtgG3AbgBuQG6AbsBvAG9Ab4BvwHAAcEBwgHDAcQBxQHGAccByAHJAcoBywHMAc0BzgHPAdAB0QHSAdMB1AHVAdYB1wHYAdkB2gHbAdwB3QHeAd8B4AHhAeIB4wHkAeUB5gHnAegB6QHqAesB7AHtAe4B7wHwAfEB8gHzAQ==",
             "dtype": "i2"
            },
            "coloraxis": "coloraxis",
            "symbol": "circle"
           },
           "mode": "markers",
           "name": "",
           "orientation": "v",
           "showlegend": false,
           "type": "scatter",
           "x": {
            "bdata": "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",
            "dtype": "f4"
           },
           "xaxis": "x",
           "y": {
            "bdata": "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",
            "dtype": "f4"
           },
           "yaxis": "y"
          }
         ],
         "name": "7 neighbors"
        },
        {
         "data": [
          {
           "hovertemplate": "set=8 neighbors<br>x=%{x}<br>y=%{y}<br>index=%{marker.color}<extra></extra>",
           "ids": {
            "bdata": "AAABAAIAAwAEAAUABgAHAAgACQAKAAsADAANAA4ADwAQABEAEgATABQAFQAWABcAGAAZABoAGwAcAB0AHgAfACAAIQAiACMAJAAlACYAJwAoACkAKgArACwALQAuAC8AMAAxADIAMwA0ADUANgA3ADgAOQA6ADsAPAA9AD4APwBAAEEAQgBDAEQARQBGAEcASABJAEoASwBMAE0ATgBPAFAAUQBSAFMAVABVAFYAVwBYAFkAWgBbAFwAXQBeAF8AYABhAGIAYwBkAGUAZgBnAGgAaQBqAGsAbABtAG4AbwBwAHEAcgBzAHQAdQB2AHcAeAB5AHoAewB8AH0AfgB/AIAAgQCCAIMAhACFAIYAhwCIAIkAigCLAIwAjQCOAI8AkACRAJIAkwCUAJUAlgCXAJgAmQCaAJsAnACdAJ4AnwCgAKEAogCjAKQApQCmAKcAqACpAKoAqwCsAK0ArgCvALAAsQCyALMAtAC1ALYAtwC4ALkAugC7ALwAvQC+AL8AwADBAMIAwwDEAMUAxgDHAMgAyQDKAMsAzADNAM4AzwDQANEA0gDTANQA1QDWANcA2ADZANoA2wDcAN0A3gDfAOAA4QDiAOMA5ADlAOYA5wDoAOkA6gDrAOwA7QDuAO8A8ADxAPIA8wD0APUA9gD3APgA+QD6APsA/AD9AP4A/wAAAQEBAgEDAQQBBQEGAQcBCAEJAQoBCwEMAQ0BDgEPARABEQESARMBFAEVARYBFwEYARkBGgEbARwBHQEeAR8BIAEhASIBIwEkASUBJgEnASgBKQEqASsBLAEtAS4BLwEwATEBMgEzATQBNQE2ATcBOAE5AToBOwE8AT0BPgE/AUABQQFCAUMBRAFFAUYBRwFIAUkBSgFLAUwBTQFOAU8BUAFRAVIBUwFUAVUBVgFXAVgBWQFaAVsBXAFdAV4BXwFgAWEBYgFjAWQBZQFmAWcBaAFpAWoBawFsAW0BbgFvAXABcQFyAXMBdAF1AXYBdwF4AXkBegF7AXwBfQF+AX8BgAGBAYIBgwGEAYUBhgGHAYgBiQGKAYsBjAGNAY4BjwGQAZEBkgGTAZQBlQGWAZcBmAGZAZoBmwGcAZ0BngGfAaABoQGiAaMBpAGlAaYBpwGoAakBqgGrAawBrQGuAa8BsAGxAbIBswG0AbUBtgG3AbgBuQG6AbsBvAG9Ab4BvwHAAcEBwgHDAcQBxQHGAccByAHJAcoBywHMAc0BzgHPAdAB0QHSAdMB1AHVAdYB1wHYAdkB2gHbAdwB3QHeAd8B4AHhAeIB4wHkAeUB5gHnAegB6QHqAesB7AHtAe4B7wHwAfEB8gHzAQ==",
            "dtype": "i2"
           },
           "legendgroup": "",
           "marker": {
            "color": {
             "bdata": "AAABAAIAAwAEAAUABgAHAAgACQAKAAsADAANAA4ADwAQABEAEgATABQAFQAWABcAGAAZABoAGwAcAB0AHgAfACAAIQAiACMAJAAlACYAJwAoACkAKgArACwALQAuAC8AMAAxADIAMwA0ADUANgA3ADgAOQA6ADsAPAA9AD4APwBAAEEAQgBDAEQARQBGAEcASABJAEoASwBMAE0ATgBPAFAAUQBSAFMAVABVAFYAVwBYAFkAWgBbAFwAXQBeAF8AYABhAGIAYwBkAGUAZgBnAGgAaQBqAGsAbABtAG4AbwBwAHEAcgBzAHQAdQB2AHcAeAB5AHoAewB8AH0AfgB/AIAAgQCCAIMAhACFAIYAhwCIAIkAigCLAIwAjQCOAI8AkACRAJIAkwCUAJUAlgCXAJgAmQCaAJsAnACdAJ4AnwCgAKEAogCjAKQApQCmAKcAqACpAKoAqwCsAK0ArgCvALAAsQCyALMAtAC1ALYAtwC4ALkAugC7ALwAvQC+AL8AwADBAMIAwwDEAMUAxgDHAMgAyQDKAMsAzADNAM4AzwDQANEA0gDTANQA1QDWANcA2ADZANoA2wDcAN0A3gDfAOAA4QDiAOMA5ADlAOYA5wDoAOkA6gDrAOwA7QDuAO8A8ADxAPIA8wD0APUA9gD3APgA+QD6APsA/AD9AP4A/wAAAQEBAgEDAQQBBQEGAQcBCAEJAQoBCwEMAQ0BDgEPARABEQESARMBFAEVARYBFwEYARkBGgEbARwBHQEeAR8BIAEhASIBIwEkASUBJgEnASgBKQEqASsBLAEtAS4BLwEwATEBMgEzATQBNQE2ATcBOAE5AToBOwE8AT0BPgE/AUABQQFCAUMBRAFFAUYBRwFIAUkBSgFLAUwBTQFOAU8BUAFRAVIBUwFUAVUBVgFXAVgBWQFaAVsBXAFdAV4BXwFgAWEBYgFjAWQBZQFmAWcBaAFpAWoBawFsAW0BbgFvAXABcQFyAXMBdAF1AXYBdwF4AXkBegF7AXwBfQF+AX8BgAGBAYIBgwGEAYUBhgGHAYgBiQGKAYsBjAGNAY4BjwGQAZEBkgGTAZQBlQGWAZcBmAGZAZoBmwGcAZ0BngGfAaABoQGiAaMBpAGlAaYBpwGoAakBqgGrAawBrQGuAa8BsAGxAbIBswG0AbUBtgG3AbgBuQG6AbsBvAG9Ab4BvwHAAcEBwgHDAcQBxQHGAccByAHJAcoBywHMAc0BzgHPAdAB0QHSAdMB1AHVAdYB1wHYAdkB2gHbAdwB3QHeAd8B4AHhAeIB4wHkAeUB5gHnAegB6QHqAesB7AHtAe4B7wHwAfEB8gHzAQ==",
             "dtype": "i2"
            },
            "coloraxis": "coloraxis",
            "symbol": "circle"
           },
           "mode": "markers",
           "name": "",
           "orientation": "v",
           "showlegend": false,
           "type": "scatter",
           "x": {
            "bdata": "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",
            "dtype": "f4"
           },
           "xaxis": "x",
           "y": {
            "bdata": "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",
            "dtype": "f4"
           },
           "yaxis": "y"
          }
         ],
         "name": "8 neighbors"
        },
        {
         "data": [
          {
           "hovertemplate": "set=9 neighbors<br>x=%{x}<br>y=%{y}<br>index=%{marker.color}<extra></extra>",
           "ids": {
            "bdata": "AAABAAIAAwAEAAUABgAHAAgACQAKAAsADAANAA4ADwAQABEAEgATABQAFQAWABcAGAAZABoAGwAcAB0AHgAfACAAIQAiACMAJAAlACYAJwAoACkAKgArACwALQAuAC8AMAAxADIAMwA0ADUANgA3ADgAOQA6ADsAPAA9AD4APwBAAEEAQgBDAEQARQBGAEcASABJAEoASwBMAE0ATgBPAFAAUQBSAFMAVABVAFYAVwBYAFkAWgBbAFwAXQBeAF8AYABhAGIAYwBkAGUAZgBnAGgAaQBqAGsAbABtAG4AbwBwAHEAcgBzAHQAdQB2AHcAeAB5AHoAewB8AH0AfgB/AIAAgQCCAIMAhACFAIYAhwCIAIkAigCLAIwAjQCOAI8AkACRAJIAkwCUAJUAlgCXAJgAmQCaAJsAnACdAJ4AnwCgAKEAogCjAKQApQCmAKcAqACpAKoAqwCsAK0ArgCvALAAsQCyALMAtAC1ALYAtwC4ALkAugC7ALwAvQC+AL8AwADBAMIAwwDEAMUAxgDHAMgAyQDKAMsAzADNAM4AzwDQANEA0gDTANQA1QDWANcA2ADZANoA2wDcAN0A3gDfAOAA4QDiAOMA5ADlAOYA5wDoAOkA6gDrAOwA7QDuAO8A8ADxAPIA8wD0APUA9gD3APgA+QD6APsA/AD9AP4A/wAAAQEBAgEDAQQBBQEGAQcBCAEJAQoBCwEMAQ0BDgEPARABEQESARMBFAEVARYBFwEYARkBGgEbARwBHQEeAR8BIAEhASIBIwEkASUBJgEnASgBKQEqASsBLAEtAS4BLwEwATEBMgEzATQBNQE2ATcBOAE5AToBOwE8AT0BPgE/AUABQQFCAUMBRAFFAUYBRwFIAUkBSgFLAUwBTQFOAU8BUAFRAVIBUwFUAVUBVgFXAVgBWQFaAVsBXAFdAV4BXwFgAWEBYgFjAWQBZQFmAWcBaAFpAWoBawFsAW0BbgFvAXABcQFyAXMBdAF1AXYBdwF4AXkBegF7AXwBfQF+AX8BgAGBAYIBgwGEAYUBhgGHAYgBiQGKAYsBjAGNAY4BjwGQAZEBkgGTAZQBlQGWAZcBmAGZAZoBmwGcAZ0BngGfAaABoQGiAaMBpAGlAaYBpwGoAakBqgGrAawBrQGuAa8BsAGxAbIBswG0AbUBtgG3AbgBuQG6AbsBvAG9Ab4BvwHAAcEBwgHDAcQBxQHGAccByAHJAcoBywHMAc0BzgHPAdAB0QHSAdMB1AHVAdYB1wHYAdkB2gHbAdwB3QHeAd8B4AHhAeIB4wHkAeUB5gHnAegB6QHqAesB7AHtAe4B7wHwAfEB8gHzAQ==",
            "dtype": "i2"
           },
           "legendgroup": "",
           "marker": {
            "color": {
             "bdata": "AAABAAIAAwAEAAUABgAHAAgACQAKAAsADAANAA4ADwAQABEAEgATABQAFQAWABcAGAAZABoAGwAcAB0AHgAfACAAIQAiACMAJAAlACYAJwAoACkAKgArACwALQAuAC8AMAAxADIAMwA0ADUANgA3ADgAOQA6ADsAPAA9AD4APwBAAEEAQgBDAEQARQBGAEcASABJAEoASwBMAE0ATgBPAFAAUQBSAFMAVABVAFYAVwBYAFkAWgBbAFwAXQBeAF8AYABhAGIAYwBkAGUAZgBnAGgAaQBqAGsAbABtAG4AbwBwAHEAcgBzAHQAdQB2AHcAeAB5AHoAewB8AH0AfgB/AIAAgQCCAIMAhACFAIYAhwCIAIkAigCLAIwAjQCOAI8AkACRAJIAkwCUAJUAlgCXAJgAmQCaAJsAnACdAJ4AnwCgAKEAogCjAKQApQCmAKcAqACpAKoAqwCsAK0ArgCvALAAsQCyALMAtAC1ALYAtwC4ALkAugC7ALwAvQC+AL8AwADBAMIAwwDEAMUAxgDHAMgAyQDKAMsAzADNAM4AzwDQANEA0gDTANQA1QDWANcA2ADZANoA2wDcAN0A3gDfAOAA4QDiAOMA5ADlAOYA5wDoAOkA6gDrAOwA7QDuAO8A8ADxAPIA8wD0APUA9gD3APgA+QD6APsA/AD9AP4A/wAAAQEBAgEDAQQBBQEGAQcBCAEJAQoBCwEMAQ0BDgEPARABEQESARMBFAEVARYBFwEYARkBGgEbARwBHQEeAR8BIAEhASIBIwEkASUBJgEnASgBKQEqASsBLAEtAS4BLwEwATEBMgEzATQBNQE2ATcBOAE5AToBOwE8AT0BPgE/AUABQQFCAUMBRAFFAUYBRwFIAUkBSgFLAUwBTQFOAU8BUAFRAVIBUwFUAVUBVgFXAVgBWQFaAVsBXAFdAV4BXwFgAWEBYgFjAWQBZQFmAWcBaAFpAWoBawFsAW0BbgFvAXABcQFyAXMBdAF1AXYBdwF4AXkBegF7AXwBfQF+AX8BgAGBAYIBgwGEAYUBhgGHAYgBiQGKAYsBjAGNAY4BjwGQAZEBkgGTAZQBlQGWAZcBmAGZAZoBmwGcAZ0BngGfAaABoQGiAaMBpAGlAaYBpwGoAakBqgGrAawBrQGuAa8BsAGxAbIBswG0AbUBtgG3AbgBuQG6AbsBvAG9Ab4BvwHAAcEBwgHDAcQBxQHGAccByAHJAcoBywHMAc0BzgHPAdAB0QHSAdMB1AHVAdYB1wHYAdkB2gHbAdwB3QHeAd8B4AHhAeIB4wHkAeUB5gHnAegB6QHqAesB7AHtAe4B7wHwAfEB8gHzAQ==",
             "dtype": "i2"
            },
            "coloraxis": "coloraxis",
            "symbol": "circle"
           },
           "mode": "markers",
           "name": "",
           "orientation": "v",
           "showlegend": false,
           "type": "scatter",
           "x": {
            "bdata": "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",
            "dtype": "f4"
           },
           "xaxis": "x",
           "y": {
            "bdata": "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",
            "dtype": "f4"
           },
           "yaxis": "y"
          }
         ],
         "name": "9 neighbors"
        },
        {
         "data": [
          {
           "hovertemplate": "set=10 neighbors<br>x=%{x}<br>y=%{y}<br>index=%{marker.color}<extra></extra>",
           "ids": {
            "bdata": "AAABAAIAAwAEAAUABgAHAAgACQAKAAsADAANAA4ADwAQABEAEgATABQAFQAWABcAGAAZABoAGwAcAB0AHgAfACAAIQAiACMAJAAlACYAJwAoACkAKgArACwALQAuAC8AMAAxADIAMwA0ADUANgA3ADgAOQA6ADsAPAA9AD4APwBAAEEAQgBDAEQARQBGAEcASABJAEoASwBMAE0ATgBPAFAAUQBSAFMAVABVAFYAVwBYAFkAWgBbAFwAXQBeAF8AYABhAGIAYwBkAGUAZgBnAGgAaQBqAGsAbABtAG4AbwBwAHEAcgBzAHQAdQB2AHcAeAB5AHoAewB8AH0AfgB/AIAAgQCCAIMAhACFAIYAhwCIAIkAigCLAIwAjQCOAI8AkACRAJIAkwCUAJUAlgCXAJgAmQCaAJsAnACdAJ4AnwCgAKEAogCjAKQApQCmAKcAqACpAKoAqwCsAK0ArgCvALAAsQCyALMAtAC1ALYAtwC4ALkAugC7ALwAvQC+AL8AwADBAMIAwwDEAMUAxgDHAMgAyQDKAMsAzADNAM4AzwDQANEA0gDTANQA1QDWANcA2ADZANoA2wDcAN0A3gDfAOAA4QDiAOMA5ADlAOYA5wDoAOkA6gDrAOwA7QDuAO8A8ADxAPIA8wD0APUA9gD3APgA+QD6APsA/AD9AP4A/wAAAQEBAgEDAQQBBQEGAQcBCAEJAQoBCwEMAQ0BDgEPARABEQESARMBFAEVARYBFwEYARkBGgEbARwBHQEeAR8BIAEhASIBIwEkASUBJgEnASgBKQEqASsBLAEtAS4BLwEwATEBMgEzATQBNQE2ATcBOAE5AToBOwE8AT0BPgE/AUABQQFCAUMBRAFFAUYBRwFIAUkBSgFLAUwBTQFOAU8BUAFRAVIBUwFUAVUBVgFXAVgBWQFaAVsBXAFdAV4BXwFgAWEBYgFjAWQBZQFmAWcBaAFpAWoBawFsAW0BbgFvAXABcQFyAXMBdAF1AXYBdwF4AXkBegF7AXwBfQF+AX8BgAGBAYIBgwGEAYUBhgGHAYgBiQGKAYsBjAGNAY4BjwGQAZEBkgGTAZQBlQGWAZcBmAGZAZoBmwGcAZ0BngGfAaABoQGiAaMBpAGlAaYBpwGoAakBqgGrAawBrQGuAa8BsAGxAbIBswG0AbUBtgG3AbgBuQG6AbsBvAG9Ab4BvwHAAcEBwgHDAcQBxQHGAccByAHJAcoBywHMAc0BzgHPAdAB0QHSAdMB1AHVAdYB1wHYAdkB2gHbAdwB3QHeAd8B4AHhAeIB4wHkAeUB5gHnAegB6QHqAesB7AHtAe4B7wHwAfEB8gHzAQ==",
            "dtype": "i2"
           },
           "legendgroup": "",
           "marker": {
            "color": {
             "bdata": "AAABAAIAAwAEAAUABgAHAAgACQAKAAsADAANAA4ADwAQABEAEgATABQAFQAWABcAGAAZABoAGwAcAB0AHgAfACAAIQAiACMAJAAlACYAJwAoACkAKgArACwALQAuAC8AMAAxADIAMwA0ADUANgA3ADgAOQA6ADsAPAA9AD4APwBAAEEAQgBDAEQARQBGAEcASABJAEoASwBMAE0ATgBPAFAAUQBSAFMAVABVAFYAVwBYAFkAWgBbAFwAXQBeAF8AYABhAGIAYwBkAGUAZgBnAGgAaQBqAGsAbABtAG4AbwBwAHEAcgBzAHQAdQB2AHcAeAB5AHoAewB8AH0AfgB/AIAAgQCCAIMAhACFAIYAhwCIAIkAigCLAIwAjQCOAI8AkACRAJIAkwCUAJUAlgCXAJgAmQCaAJsAnACdAJ4AnwCgAKEAogCjAKQApQCmAKcAqACpAKoAqwCsAK0ArgCvALAAsQCyALMAtAC1ALYAtwC4ALkAugC7ALwAvQC+AL8AwADBAMIAwwDEAMUAxgDHAMgAyQDKAMsAzADNAM4AzwDQANEA0gDTANQA1QDWANcA2ADZANoA2wDcAN0A3gDfAOAA4QDiAOMA5ADlAOYA5wDoAOkA6gDrAOwA7QDuAO8A8ADxAPIA8wD0APUA9gD3APgA+QD6APsA/AD9AP4A/wAAAQEBAgEDAQQBBQEGAQcBCAEJAQoBCwEMAQ0BDgEPARABEQESARMBFAEVARYBFwEYARkBGgEbARwBHQEeAR8BIAEhASIBIwEkASUBJgEnASgBKQEqASsBLAEtAS4BLwEwATEBMgEzATQBNQE2ATcBOAE5AToBOwE8AT0BPgE/AUABQQFCAUMBRAFFAUYBRwFIAUkBSgFLAUwBTQFOAU8BUAFRAVIBUwFUAVUBVgFXAVgBWQFaAVsBXAFdAV4BXwFgAWEBYgFjAWQBZQFmAWcBaAFpAWoBawFsAW0BbgFvAXABcQFyAXMBdAF1AXYBdwF4AXkBegF7AXwBfQF+AX8BgAGBAYIBgwGEAYUBhgGHAYgBiQGKAYsBjAGNAY4BjwGQAZEBkgGTAZQBlQGWAZcBmAGZAZoBmwGcAZ0BngGfAaABoQGiAaMBpAGlAaYBpwGoAakBqgGrAawBrQGuAa8BsAGxAbIBswG0AbUBtgG3AbgBuQG6AbsBvAG9Ab4BvwHAAcEBwgHDAcQBxQHGAccByAHJAcoBywHMAc0BzgHPAdAB0QHSAdMB1AHVAdYB1wHYAdkB2gHbAdwB3QHeAd8B4AHhAeIB4wHkAeUB5gHnAegB6QHqAesB7AHtAe4B7wHwAfEB8gHzAQ==",
             "dtype": "i2"
            },
            "coloraxis": "coloraxis",
            "symbol": "circle"
           },
           "mode": "markers",
           "name": "",
           "orientation": "v",
           "showlegend": false,
           "type": "scatter",
           "x": {
            "bdata": "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",
            "dtype": "f4"
           },
           "xaxis": "x",
           "y": {
            "bdata": "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",
            "dtype": "f4"
           },
           "yaxis": "y"
          }
         ],
         "name": "10 neighbors"
        },
        {
         "data": [
          {
           "hovertemplate": "set=11 neighbors<br>x=%{x}<br>y=%{y}<br>index=%{marker.color}<extra></extra>",
           "ids": {
            "bdata": "AAABAAIAAwAEAAUABgAHAAgACQAKAAsADAANAA4ADwAQABEAEgATABQAFQAWABcAGAAZABoAGwAcAB0AHgAfACAAIQAiACMAJAAlACYAJwAoACkAKgArACwALQAuAC8AMAAxADIAMwA0ADUANgA3ADgAOQA6ADsAPAA9AD4APwBAAEEAQgBDAEQARQBGAEcASABJAEoASwBMAE0ATgBPAFAAUQBSAFMAVABVAFYAVwBYAFkAWgBbAFwAXQBeAF8AYABhAGIAYwBkAGUAZgBnAGgAaQBqAGsAbABtAG4AbwBwAHEAcgBzAHQAdQB2AHcAeAB5AHoAewB8AH0AfgB/AIAAgQCCAIMAhACFAIYAhwCIAIkAigCLAIwAjQCOAI8AkACRAJIAkwCUAJUAlgCXAJgAmQCaAJsAnACdAJ4AnwCgAKEAogCjAKQApQCmAKcAqACpAKoAqwCsAK0ArgCvALAAsQCyALMAtAC1ALYAtwC4ALkAugC7ALwAvQC+AL8AwADBAMIAwwDEAMUAxgDHAMgAyQDKAMsAzADNAM4AzwDQANEA0gDTANQA1QDWANcA2ADZANoA2wDcAN0A3gDfAOAA4QDiAOMA5ADlAOYA5wDoAOkA6gDrAOwA7QDuAO8A8ADxAPIA8wD0APUA9gD3APgA+QD6APsA/AD9AP4A/wAAAQEBAgEDAQQBBQEGAQcBCAEJAQoBCwEMAQ0BDgEPARABEQESARMBFAEVARYBFwEYARkBGgEbARwBHQEeAR8BIAEhASIBIwEkASUBJgEnASgBKQEqASsBLAEtAS4BLwEwATEBMgEzATQBNQE2ATcBOAE5AToBOwE8AT0BPgE/AUABQQFCAUMBRAFFAUYBRwFIAUkBSgFLAUwBTQFOAU8BUAFRAVIBUwFUAVUBVgFXAVgBWQFaAVsBXAFdAV4BXwFgAWEBYgFjAWQBZQFmAWcBaAFpAWoBawFsAW0BbgFvAXABcQFyAXMBdAF1AXYBdwF4AXkBegF7AXwBfQF+AX8BgAGBAYIBgwGEAYUBhgGHAYgBiQGKAYsBjAGNAY4BjwGQAZEBkgGTAZQBlQGWAZcBmAGZAZoBmwGcAZ0BngGfAaABoQGiAaMBpAGlAaYBpwGoAakBqgGrAawBrQGuAa8BsAGxAbIBswG0AbUBtgG3AbgBuQG6AbsBvAG9Ab4BvwHAAcEBwgHDAcQBxQHGAccByAHJAcoBywHMAc0BzgHPAdAB0QHSAdMB1AHVAdYB1wHYAdkB2gHbAdwB3QHeAd8B4AHhAeIB4wHkAeUB5gHnAegB6QHqAesB7AHtAe4B7wHwAfEB8gHzAQ==",
            "dtype": "i2"
           },
           "legendgroup": "",
           "marker": {
            "color": {
             "bdata": "AAABAAIAAwAEAAUABgAHAAgACQAKAAsADAANAA4ADwAQABEAEgATABQAFQAWABcAGAAZABoAGwAcAB0AHgAfACAAIQAiACMAJAAlACYAJwAoACkAKgArACwALQAuAC8AMAAxADIAMwA0ADUANgA3ADgAOQA6ADsAPAA9AD4APwBAAEEAQgBDAEQARQBGAEcASABJAEoASwBMAE0ATgBPAFAAUQBSAFMAVABVAFYAVwBYAFkAWgBbAFwAXQBeAF8AYABhAGIAYwBkAGUAZgBnAGgAaQBqAGsAbABtAG4AbwBwAHEAcgBzAHQAdQB2AHcAeAB5AHoAewB8AH0AfgB/AIAAgQCCAIMAhACFAIYAhwCIAIkAigCLAIwAjQCOAI8AkACRAJIAkwCUAJUAlgCXAJgAmQCaAJsAnACdAJ4AnwCgAKEAogCjAKQApQCmAKcAqACpAKoAqwCsAK0ArgCvALAAsQCyALMAtAC1ALYAtwC4ALkAugC7ALwAvQC+AL8AwADBAMIAwwDEAMUAxgDHAMgAyQDKAMsAzADNAM4AzwDQANEA0gDTANQA1QDWANcA2ADZANoA2wDcAN0A3gDfAOAA4QDiAOMA5ADlAOYA5wDoAOkA6gDrAOwA7QDuAO8A8ADxAPIA8wD0APUA9gD3APgA+QD6APsA/AD9AP4A/wAAAQEBAgEDAQQBBQEGAQcBCAEJAQoBCwEMAQ0BDgEPARABEQESARMBFAEVARYBFwEYARkBGgEbARwBHQEeAR8BIAEhASIBIwEkASUBJgEnASgBKQEqASsBLAEtAS4BLwEwATEBMgEzATQBNQE2ATcBOAE5AToBOwE8AT0BPgE/AUABQQFCAUMBRAFFAUYBRwFIAUkBSgFLAUwBTQFOAU8BUAFRAVIBUwFUAVUBVgFXAVgBWQFaAVsBXAFdAV4BXwFgAWEBYgFjAWQBZQFmAWcBaAFpAWoBawFsAW0BbgFvAXABcQFyAXMBdAF1AXYBdwF4AXkBegF7AXwBfQF+AX8BgAGBAYIBgwGEAYUBhgGHAYgBiQGKAYsBjAGNAY4BjwGQAZEBkgGTAZQBlQGWAZcBmAGZAZoBmwGcAZ0BngGfAaABoQGiAaMBpAGlAaYBpwGoAakBqgGrAawBrQGuAa8BsAGxAbIBswG0AbUBtgG3AbgBuQG6AbsBvAG9Ab4BvwHAAcEBwgHDAcQBxQHGAccByAHJAcoBywHMAc0BzgHPAdAB0QHSAdMB1AHVAdYB1wHYAdkB2gHbAdwB3QHeAd8B4AHhAeIB4wHkAeUB5gHnAegB6QHqAesB7AHtAe4B7wHwAfEB8gHzAQ==",
             "dtype": "i2"
            },
            "coloraxis": "coloraxis",
            "symbol": "circle"
           },
           "mode": "markers",
           "name": "",
           "orientation": "v",
           "showlegend": false,
           "type": "scatter",
           "x": {
            "bdata": "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",
            "dtype": "f4"
           },
           "xaxis": "x",
           "y": {
            "bdata": "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",
            "dtype": "f4"
           },
           "yaxis": "y"
          }
         ],
         "name": "11 neighbors"
        },
        {
         "data": [
          {
           "hovertemplate": "set=12 neighbors<br>x=%{x}<br>y=%{y}<br>index=%{marker.color}<extra></extra>",
           "ids": {
            "bdata": "AAABAAIAAwAEAAUABgAHAAgACQAKAAsADAANAA4ADwAQABEAEgATABQAFQAWABcAGAAZABoAGwAcAB0AHgAfACAAIQAiACMAJAAlACYAJwAoACkAKgArACwALQAuAC8AMAAxADIAMwA0ADUANgA3ADgAOQA6ADsAPAA9AD4APwBAAEEAQgBDAEQARQBGAEcASABJAEoASwBMAE0ATgBPAFAAUQBSAFMAVABVAFYAVwBYAFkAWgBbAFwAXQBeAF8AYABhAGIAYwBkAGUAZgBnAGgAaQBqAGsAbABtAG4AbwBwAHEAcgBzAHQAdQB2AHcAeAB5AHoAewB8AH0AfgB/AIAAgQCCAIMAhACFAIYAhwCIAIkAigCLAIwAjQCOAI8AkACRAJIAkwCUAJUAlgCXAJgAmQCaAJsAnACdAJ4AnwCgAKEAogCjAKQApQCmAKcAqACpAKoAqwCsAK0ArgCvALAAsQCyALMAtAC1ALYAtwC4ALkAugC7ALwAvQC+AL8AwADBAMIAwwDEAMUAxgDHAMgAyQDKAMsAzADNAM4AzwDQANEA0gDTANQA1QDWANcA2ADZANoA2wDcAN0A3gDfAOAA4QDiAOMA5ADlAOYA5wDoAOkA6gDrAOwA7QDuAO8A8ADxAPIA8wD0APUA9gD3APgA+QD6APsA/AD9AP4A/wAAAQEBAgEDAQQBBQEGAQcBCAEJAQoBCwEMAQ0BDgEPARABEQESARMBFAEVARYBFwEYARkBGgEbARwBHQEeAR8BIAEhASIBIwEkASUBJgEnASgBKQEqASsBLAEtAS4BLwEwATEBMgEzATQBNQE2ATcBOAE5AToBOwE8AT0BPgE/AUABQQFCAUMBRAFFAUYBRwFIAUkBSgFLAUwBTQFOAU8BUAFRAVIBUwFUAVUBVgFXAVgBWQFaAVsBXAFdAV4BXwFgAWEBYgFjAWQBZQFmAWcBaAFpAWoBawFsAW0BbgFvAXABcQFyAXMBdAF1AXYBdwF4AXkBegF7AXwBfQF+AX8BgAGBAYIBgwGEAYUBhgGHAYgBiQGKAYsBjAGNAY4BjwGQAZEBkgGTAZQBlQGWAZcBmAGZAZoBmwGcAZ0BngGfAaABoQGiAaMBpAGlAaYBpwGoAakBqgGrAawBrQGuAa8BsAGxAbIBswG0AbUBtgG3AbgBuQG6AbsBvAG9Ab4BvwHAAcEBwgHDAcQBxQHGAccByAHJAcoBywHMAc0BzgHPAdAB0QHSAdMB1AHVAdYB1wHYAdkB2gHbAdwB3QHeAd8B4AHhAeIB4wHkAeUB5gHnAegB6QHqAesB7AHtAe4B7wHwAfEB8gHzAQ==",
            "dtype": "i2"
           },
           "legendgroup": "",
           "marker": {
            "color": {
             "bdata": "AAABAAIAAwAEAAUABgAHAAgACQAKAAsADAANAA4ADwAQABEAEgATABQAFQAWABcAGAAZABoAGwAcAB0AHgAfACAAIQAiACMAJAAlACYAJwAoACkAKgArACwALQAuAC8AMAAxADIAMwA0ADUANgA3ADgAOQA6ADsAPAA9AD4APwBAAEEAQgBDAEQARQBGAEcASABJAEoASwBMAE0ATgBPAFAAUQBSAFMAVABVAFYAVwBYAFkAWgBbAFwAXQBeAF8AYABhAGIAYwBkAGUAZgBnAGgAaQBqAGsAbABtAG4AbwBwAHEAcgBzAHQAdQB2AHcAeAB5AHoAewB8AH0AfgB/AIAAgQCCAIMAhACFAIYAhwCIAIkAigCLAIwAjQCOAI8AkACRAJIAkwCUAJUAlgCXAJgAmQCaAJsAnACdAJ4AnwCgAKEAogCjAKQApQCmAKcAqACpAKoAqwCsAK0ArgCvALAAsQCyALMAtAC1ALYAtwC4ALkAugC7ALwAvQC+AL8AwADBAMIAwwDEAMUAxgDHAMgAyQDKAMsAzADNAM4AzwDQANEA0gDTANQA1QDWANcA2ADZANoA2wDcAN0A3gDfAOAA4QDiAOMA5ADlAOYA5wDoAOkA6gDrAOwA7QDuAO8A8ADxAPIA8wD0APUA9gD3APgA+QD6APsA/AD9AP4A/wAAAQEBAgEDAQQBBQEGAQcBCAEJAQoBCwEMAQ0BDgEPARABEQESARMBFAEVARYBFwEYARkBGgEbARwBHQEeAR8BIAEhASIBIwEkASUBJgEnASgBKQEqASsBLAEtAS4BLwEwATEBMgEzATQBNQE2ATcBOAE5AToBOwE8AT0BPgE/AUABQQFCAUMBRAFFAUYBRwFIAUkBSgFLAUwBTQFOAU8BUAFRAVIBUwFUAVUBVgFXAVgBWQFaAVsBXAFdAV4BXwFgAWEBYgFjAWQBZQFmAWcBaAFpAWoBawFsAW0BbgFvAXABcQFyAXMBdAF1AXYBdwF4AXkBegF7AXwBfQF+AX8BgAGBAYIBgwGEAYUBhgGHAYgBiQGKAYsBjAGNAY4BjwGQAZEBkgGTAZQBlQGWAZcBmAGZAZoBmwGcAZ0BngGfAaABoQGiAaMBpAGlAaYBpwGoAakBqgGrAawBrQGuAa8BsAGxAbIBswG0AbUBtgG3AbgBuQG6AbsBvAG9Ab4BvwHAAcEBwgHDAcQBxQHGAccByAHJAcoBywHMAc0BzgHPAdAB0QHSAdMB1AHVAdYB1wHYAdkB2gHbAdwB3QHeAd8B4AHhAeIB4wHkAeUB5gHnAegB6QHqAesB7AHtAe4B7wHwAfEB8gHzAQ==",
             "dtype": "i2"
            },
            "coloraxis": "coloraxis",
            "symbol": "circle"
           },
           "mode": "markers",
           "name": "",
           "orientation": "v",
           "showlegend": false,
           "type": "scatter",
           "x": {
            "bdata": "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",
            "dtype": "f4"
           },
           "xaxis": "x",
           "y": {
            "bdata": "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",
            "dtype": "f4"
           },
           "yaxis": "y"
          }
         ],
         "name": "12 neighbors"
        },
        {
         "data": [
          {
           "hovertemplate": "set=13 neighbors<br>x=%{x}<br>y=%{y}<br>index=%{marker.color}<extra></extra>",
           "ids": {
            "bdata": "AAABAAIAAwAEAAUABgAHAAgACQAKAAsADAANAA4ADwAQABEAEgATABQAFQAWABcAGAAZABoAGwAcAB0AHgAfACAAIQAiACMAJAAlACYAJwAoACkAKgArACwALQAuAC8AMAAxADIAMwA0ADUANgA3ADgAOQA6ADsAPAA9AD4APwBAAEEAQgBDAEQARQBGAEcASABJAEoASwBMAE0ATgBPAFAAUQBSAFMAVABVAFYAVwBYAFkAWgBbAFwAXQBeAF8AYABhAGIAYwBkAGUAZgBnAGgAaQBqAGsAbABtAG4AbwBwAHEAcgBzAHQAdQB2AHcAeAB5AHoAewB8AH0AfgB/AIAAgQCCAIMAhACFAIYAhwCIAIkAigCLAIwAjQCOAI8AkACRAJIAkwCUAJUAlgCXAJgAmQCaAJsAnACdAJ4AnwCgAKEAogCjAKQApQCmAKcAqACpAKoAqwCsAK0ArgCvALAAsQCyALMAtAC1ALYAtwC4ALkAugC7ALwAvQC+AL8AwADBAMIAwwDEAMUAxgDHAMgAyQDKAMsAzADNAM4AzwDQANEA0gDTANQA1QDWANcA2ADZANoA2wDcAN0A3gDfAOAA4QDiAOMA5ADlAOYA5wDoAOkA6gDrAOwA7QDuAO8A8ADxAPIA8wD0APUA9gD3APgA+QD6APsA/AD9AP4A/wAAAQEBAgEDAQQBBQEGAQcBCAEJAQoBCwEMAQ0BDgEPARABEQESARMBFAEVARYBFwEYARkBGgEbARwBHQEeAR8BIAEhASIBIwEkASUBJgEnASgBKQEqASsBLAEtAS4BLwEwATEBMgEzATQBNQE2ATcBOAE5AToBOwE8AT0BPgE/AUABQQFCAUMBRAFFAUYBRwFIAUkBSgFLAUwBTQFOAU8BUAFRAVIBUwFUAVUBVgFXAVgBWQFaAVsBXAFdAV4BXwFgAWEBYgFjAWQBZQFmAWcBaAFpAWoBawFsAW0BbgFvAXABcQFyAXMBdAF1AXYBdwF4AXkBegF7AXwBfQF+AX8BgAGBAYIBgwGEAYUBhgGHAYgBiQGKAYsBjAGNAY4BjwGQAZEBkgGTAZQBlQGWAZcBmAGZAZoBmwGcAZ0BngGfAaABoQGiAaMBpAGlAaYBpwGoAakBqgGrAawBrQGuAa8BsAGxAbIBswG0AbUBtgG3AbgBuQG6AbsBvAG9Ab4BvwHAAcEBwgHDAcQBxQHGAccByAHJAcoBywHMAc0BzgHPAdAB0QHSAdMB1AHVAdYB1wHYAdkB2gHbAdwB3QHeAd8B4AHhAeIB4wHkAeUB5gHnAegB6QHqAesB7AHtAe4B7wHwAfEB8gHzAQ==",
            "dtype": "i2"
           },
           "legendgroup": "",
           "marker": {
            "color": {
             "bdata": "AAABAAIAAwAEAAUABgAHAAgACQAKAAsADAANAA4ADwAQABEAEgATABQAFQAWABcAGAAZABoAGwAcAB0AHgAfACAAIQAiACMAJAAlACYAJwAoACkAKgArACwALQAuAC8AMAAxADIAMwA0ADUANgA3ADgAOQA6ADsAPAA9AD4APwBAAEEAQgBDAEQARQBGAEcASABJAEoASwBMAE0ATgBPAFAAUQBSAFMAVABVAFYAVwBYAFkAWgBbAFwAXQBeAF8AYABhAGIAYwBkAGUAZgBnAGgAaQBqAGsAbABtAG4AbwBwAHEAcgBzAHQAdQB2AHcAeAB5AHoAewB8AH0AfgB/AIAAgQCCAIMAhACFAIYAhwCIAIkAigCLAIwAjQCOAI8AkACRAJIAkwCUAJUAlgCXAJgAmQCaAJsAnACdAJ4AnwCgAKEAogCjAKQApQCmAKcAqACpAKoAqwCsAK0ArgCvALAAsQCyALMAtAC1ALYAtwC4ALkAugC7ALwAvQC+AL8AwADBAMIAwwDEAMUAxgDHAMgAyQDKAMsAzADNAM4AzwDQANEA0gDTANQA1QDWANcA2ADZANoA2wDcAN0A3gDfAOAA4QDiAOMA5ADlAOYA5wDoAOkA6gDrAOwA7QDuAO8A8ADxAPIA8wD0APUA9gD3APgA+QD6APsA/AD9AP4A/wAAAQEBAgEDAQQBBQEGAQcBCAEJAQoBCwEMAQ0BDgEPARABEQESARMBFAEVARYBFwEYARkBGgEbARwBHQEeAR8BIAEhASIBIwEkASUBJgEnASgBKQEqASsBLAEtAS4BLwEwATEBMgEzATQBNQE2ATcBOAE5AToBOwE8AT0BPgE/AUABQQFCAUMBRAFFAUYBRwFIAUkBSgFLAUwBTQFOAU8BUAFRAVIBUwFUAVUBVgFXAVgBWQFaAVsBXAFdAV4BXwFgAWEBYgFjAWQBZQFmAWcBaAFpAWoBawFsAW0BbgFvAXABcQFyAXMBdAF1AXYBdwF4AXkBegF7AXwBfQF+AX8BgAGBAYIBgwGEAYUBhgGHAYgBiQGKAYsBjAGNAY4BjwGQAZEBkgGTAZQBlQGWAZcBmAGZAZoBmwGcAZ0BngGfAaABoQGiAaMBpAGlAaYBpwGoAakBqgGrAawBrQGuAa8BsAGxAbIBswG0AbUBtgG3AbgBuQG6AbsBvAG9Ab4BvwHAAcEBwgHDAcQBxQHGAccByAHJAcoBywHMAc0BzgHPAdAB0QHSAdMB1AHVAdYB1wHYAdkB2gHbAdwB3QHeAd8B4AHhAeIB4wHkAeUB5gHnAegB6QHqAesB7AHtAe4B7wHwAfEB8gHzAQ==",
             "dtype": "i2"
            },
            "coloraxis": "coloraxis",
            "symbol": "circle"
           },
           "mode": "markers",
           "name": "",
           "orientation": "v",
           "showlegend": false,
           "type": "scatter",
           "x": {
            "bdata": "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",
            "dtype": "f4"
           },
           "xaxis": "x",
           "y": {
            "bdata": "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",
            "dtype": "f4"
           },
           "yaxis": "y"
          }
         ],
         "name": "13 neighbors"
        },
        {
         "data": [
          {
           "hovertemplate": "set=14 neighbors<br>x=%{x}<br>y=%{y}<br>index=%{marker.color}<extra></extra>",
           "ids": {
            "bdata": "AAABAAIAAwAEAAUABgAHAAgACQAKAAsADAANAA4ADwAQABEAEgATABQAFQAWABcAGAAZABoAGwAcAB0AHgAfACAAIQAiACMAJAAlACYAJwAoACkAKgArACwALQAuAC8AMAAxADIAMwA0ADUANgA3ADgAOQA6ADsAPAA9AD4APwBAAEEAQgBDAEQARQBGAEcASABJAEoASwBMAE0ATgBPAFAAUQBSAFMAVABVAFYAVwBYAFkAWgBbAFwAXQBeAF8AYABhAGIAYwBkAGUAZgBnAGgAaQBqAGsAbABtAG4AbwBwAHEAcgBzAHQAdQB2AHcAeAB5AHoAewB8AH0AfgB/AIAAgQCCAIMAhACFAIYAhwCIAIkAigCLAIwAjQCOAI8AkACRAJIAkwCUAJUAlgCXAJgAmQCaAJsAnACdAJ4AnwCgAKEAogCjAKQApQCmAKcAqACpAKoAqwCsAK0ArgCvALAAsQCyALMAtAC1ALYAtwC4ALkAugC7ALwAvQC+AL8AwADBAMIAwwDEAMUAxgDHAMgAyQDKAMsAzADNAM4AzwDQANEA0gDTANQA1QDWANcA2ADZANoA2wDcAN0A3gDfAOAA4QDiAOMA5ADlAOYA5wDoAOkA6gDrAOwA7QDuAO8A8ADxAPIA8wD0APUA9gD3APgA+QD6APsA/AD9AP4A/wAAAQEBAgEDAQQBBQEGAQcBCAEJAQoBCwEMAQ0BDgEPARABEQESARMBFAEVARYBFwEYARkBGgEbARwBHQEeAR8BIAEhASIBIwEkASUBJgEnASgBKQEqASsBLAEtAS4BLwEwATEBMgEzATQBNQE2ATcBOAE5AToBOwE8AT0BPgE/AUABQQFCAUMBRAFFAUYBRwFIAUkBSgFLAUwBTQFOAU8BUAFRAVIBUwFUAVUBVgFXAVgBWQFaAVsBXAFdAV4BXwFgAWEBYgFjAWQBZQFmAWcBaAFpAWoBawFsAW0BbgFvAXABcQFyAXMBdAF1AXYBdwF4AXkBegF7AXwBfQF+AX8BgAGBAYIBgwGEAYUBhgGHAYgBiQGKAYsBjAGNAY4BjwGQAZEBkgGTAZQBlQGWAZcBmAGZAZoBmwGcAZ0BngGfAaABoQGiAaMBpAGlAaYBpwGoAakBqgGrAawBrQGuAa8BsAGxAbIBswG0AbUBtgG3AbgBuQG6AbsBvAG9Ab4BvwHAAcEBwgHDAcQBxQHGAccByAHJAcoBywHMAc0BzgHPAdAB0QHSAdMB1AHVAdYB1wHYAdkB2gHbAdwB3QHeAd8B4AHhAeIB4wHkAeUB5gHnAegB6QHqAesB7AHtAe4B7wHwAfEB8gHzAQ==",
            "dtype": "i2"
           },
           "legendgroup": "",
           "marker": {
            "color": {
             "bdata": "AAABAAIAAwAEAAUABgAHAAgACQAKAAsADAANAA4ADwAQABEAEgATABQAFQAWABcAGAAZABoAGwAcAB0AHgAfACAAIQAiACMAJAAlACYAJwAoACkAKgArACwALQAuAC8AMAAxADIAMwA0ADUANgA3ADgAOQA6ADsAPAA9AD4APwBAAEEAQgBDAEQARQBGAEcASABJAEoASwBMAE0ATgBPAFAAUQBSAFMAVABVAFYAVwBYAFkAWgBbAFwAXQBeAF8AYABhAGIAYwBkAGUAZgBnAGgAaQBqAGsAbABtAG4AbwBwAHEAcgBzAHQAdQB2AHcAeAB5AHoAewB8AH0AfgB/AIAAgQCCAIMAhACFAIYAhwCIAIkAigCLAIwAjQCOAI8AkACRAJIAkwCUAJUAlgCXAJgAmQCaAJsAnACdAJ4AnwCgAKEAogCjAKQApQCmAKcAqACpAKoAqwCsAK0ArgCvALAAsQCyALMAtAC1ALYAtwC4ALkAugC7ALwAvQC+AL8AwADBAMIAwwDEAMUAxgDHAMgAyQDKAMsAzADNAM4AzwDQANEA0gDTANQA1QDWANcA2ADZANoA2wDcAN0A3gDfAOAA4QDiAOMA5ADlAOYA5wDoAOkA6gDrAOwA7QDuAO8A8ADxAPIA8wD0APUA9gD3APgA+QD6APsA/AD9AP4A/wAAAQEBAgEDAQQBBQEGAQcBCAEJAQoBCwEMAQ0BDgEPARABEQESARMBFAEVARYBFwEYARkBGgEbARwBHQEeAR8BIAEhASIBIwEkASUBJgEnASgBKQEqASsBLAEtAS4BLwEwATEBMgEzATQBNQE2ATcBOAE5AToBOwE8AT0BPgE/AUABQQFCAUMBRAFFAUYBRwFIAUkBSgFLAUwBTQFOAU8BUAFRAVIBUwFUAVUBVgFXAVgBWQFaAVsBXAFdAV4BXwFgAWEBYgFjAWQBZQFmAWcBaAFpAWoBawFsAW0BbgFvAXABcQFyAXMBdAF1AXYBdwF4AXkBegF7AXwBfQF+AX8BgAGBAYIBgwGEAYUBhgGHAYgBiQGKAYsBjAGNAY4BjwGQAZEBkgGTAZQBlQGWAZcBmAGZAZoBmwGcAZ0BngGfAaABoQGiAaMBpAGlAaYBpwGoAakBqgGrAawBrQGuAa8BsAGxAbIBswG0AbUBtgG3AbgBuQG6AbsBvAG9Ab4BvwHAAcEBwgHDAcQBxQHGAccByAHJAcoBywHMAc0BzgHPAdAB0QHSAdMB1AHVAdYB1wHYAdkB2gHbAdwB3QHeAd8B4AHhAeIB4wHkAeUB5gHnAegB6QHqAesB7AHtAe4B7wHwAfEB8gHzAQ==",
             "dtype": "i2"
            },
            "coloraxis": "coloraxis",
            "symbol": "circle"
           },
           "mode": "markers",
           "name": "",
           "orientation": "v",
           "showlegend": false,
           "type": "scatter",
           "x": {
            "bdata": "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",
            "dtype": "f4"
           },
           "xaxis": "x",
           "y": {
            "bdata": "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",
            "dtype": "f4"
           },
           "yaxis": "y"
          }
         ],
         "name": "14 neighbors"
        },
        {
         "data": [
          {
           "hovertemplate": "set=15 neighbors<br>x=%{x}<br>y=%{y}<br>index=%{marker.color}<extra></extra>",
           "ids": {
            "bdata": "AAABAAIAAwAEAAUABgAHAAgACQAKAAsADAANAA4ADwAQABEAEgATABQAFQAWABcAGAAZABoAGwAcAB0AHgAfACAAIQAiACMAJAAlACYAJwAoACkAKgArACwALQAuAC8AMAAxADIAMwA0ADUANgA3ADgAOQA6ADsAPAA9AD4APwBAAEEAQgBDAEQARQBGAEcASABJAEoASwBMAE0ATgBPAFAAUQBSAFMAVABVAFYAVwBYAFkAWgBbAFwAXQBeAF8AYABhAGIAYwBkAGUAZgBnAGgAaQBqAGsAbABtAG4AbwBwAHEAcgBzAHQAdQB2AHcAeAB5AHoAewB8AH0AfgB/AIAAgQCCAIMAhACFAIYAhwCIAIkAigCLAIwAjQCOAI8AkACRAJIAkwCUAJUAlgCXAJgAmQCaAJsAnACdAJ4AnwCgAKEAogCjAKQApQCmAKcAqACpAKoAqwCsAK0ArgCvALAAsQCyALMAtAC1ALYAtwC4ALkAugC7ALwAvQC+AL8AwADBAMIAwwDEAMUAxgDHAMgAyQDKAMsAzADNAM4AzwDQANEA0gDTANQA1QDWANcA2ADZANoA2wDcAN0A3gDfAOAA4QDiAOMA5ADlAOYA5wDoAOkA6gDrAOwA7QDuAO8A8ADxAPIA8wD0APUA9gD3APgA+QD6APsA/AD9AP4A/wAAAQEBAgEDAQQBBQEGAQcBCAEJAQoBCwEMAQ0BDgEPARABEQESARMBFAEVARYBFwEYARkBGgEbARwBHQEeAR8BIAEhASIBIwEkASUBJgEnASgBKQEqASsBLAEtAS4BLwEwATEBMgEzATQBNQE2ATcBOAE5AToBOwE8AT0BPgE/AUABQQFCAUMBRAFFAUYBRwFIAUkBSgFLAUwBTQFOAU8BUAFRAVIBUwFUAVUBVgFXAVgBWQFaAVsBXAFdAV4BXwFgAWEBYgFjAWQBZQFmAWcBaAFpAWoBawFsAW0BbgFvAXABcQFyAXMBdAF1AXYBdwF4AXkBegF7AXwBfQF+AX8BgAGBAYIBgwGEAYUBhgGHAYgBiQGKAYsBjAGNAY4BjwGQAZEBkgGTAZQBlQGWAZcBmAGZAZoBmwGcAZ0BngGfAaABoQGiAaMBpAGlAaYBpwGoAakBqgGrAawBrQGuAa8BsAGxAbIBswG0AbUBtgG3AbgBuQG6AbsBvAG9Ab4BvwHAAcEBwgHDAcQBxQHGAccByAHJAcoBywHMAc0BzgHPAdAB0QHSAdMB1AHVAdYB1wHYAdkB2gHbAdwB3QHeAd8B4AHhAeIB4wHkAeUB5gHnAegB6QHqAesB7AHtAe4B7wHwAfEB8gHzAQ==",
            "dtype": "i2"
           },
           "legendgroup": "",
           "marker": {
            "color": {
             "bdata": "AAABAAIAAwAEAAUABgAHAAgACQAKAAsADAANAA4ADwAQABEAEgATABQAFQAWABcAGAAZABoAGwAcAB0AHgAfACAAIQAiACMAJAAlACYAJwAoACkAKgArACwALQAuAC8AMAAxADIAMwA0ADUANgA3ADgAOQA6ADsAPAA9AD4APwBAAEEAQgBDAEQARQBGAEcASABJAEoASwBMAE0ATgBPAFAAUQBSAFMAVABVAFYAVwBYAFkAWgBbAFwAXQBeAF8AYABhAGIAYwBkAGUAZgBnAGgAaQBqAGsAbABtAG4AbwBwAHEAcgBzAHQAdQB2AHcAeAB5AHoAewB8AH0AfgB/AIAAgQCCAIMAhACFAIYAhwCIAIkAigCLAIwAjQCOAI8AkACRAJIAkwCUAJUAlgCXAJgAmQCaAJsAnACdAJ4AnwCgAKEAogCjAKQApQCmAKcAqACpAKoAqwCsAK0ArgCvALAAsQCyALMAtAC1ALYAtwC4ALkAugC7ALwAvQC+AL8AwADBAMIAwwDEAMUAxgDHAMgAyQDKAMsAzADNAM4AzwDQANEA0gDTANQA1QDWANcA2ADZANoA2wDcAN0A3gDfAOAA4QDiAOMA5ADlAOYA5wDoAOkA6gDrAOwA7QDuAO8A8ADxAPIA8wD0APUA9gD3APgA+QD6APsA/AD9AP4A/wAAAQEBAgEDAQQBBQEGAQcBCAEJAQoBCwEMAQ0BDgEPARABEQESARMBFAEVARYBFwEYARkBGgEbARwBHQEeAR8BIAEhASIBIwEkASUBJgEnASgBKQEqASsBLAEtAS4BLwEwATEBMgEzATQBNQE2ATcBOAE5AToBOwE8AT0BPgE/AUABQQFCAUMBRAFFAUYBRwFIAUkBSgFLAUwBTQFOAU8BUAFRAVIBUwFUAVUBVgFXAVgBWQFaAVsBXAFdAV4BXwFgAWEBYgFjAWQBZQFmAWcBaAFpAWoBawFsAW0BbgFvAXABcQFyAXMBdAF1AXYBdwF4AXkBegF7AXwBfQF+AX8BgAGBAYIBgwGEAYUBhgGHAYgBiQGKAYsBjAGNAY4BjwGQAZEBkgGTAZQBlQGWAZcBmAGZAZoBmwGcAZ0BngGfAaABoQGiAaMBpAGlAaYBpwGoAakBqgGrAawBrQGuAa8BsAGxAbIBswG0AbUBtgG3AbgBuQG6AbsBvAG9Ab4BvwHAAcEBwgHDAcQBxQHGAccByAHJAcoBywHMAc0BzgHPAdAB0QHSAdMB1AHVAdYB1wHYAdkB2gHbAdwB3QHeAd8B4AHhAeIB4wHkAeUB5gHnAegB6QHqAesB7AHtAe4B7wHwAfEB8gHzAQ==",
             "dtype": "i2"
            },
            "coloraxis": "coloraxis",
            "symbol": "circle"
           },
           "mode": "markers",
           "name": "",
           "orientation": "v",
           "showlegend": false,
           "type": "scatter",
           "x": {
            "bdata": "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",
            "dtype": "f4"
           },
           "xaxis": "x",
           "y": {
            "bdata": "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",
            "dtype": "f4"
           },
           "yaxis": "y"
          }
         ],
         "name": "15 neighbors"
        },
        {
         "data": [
          {
           "hovertemplate": "set=16 neighbors<br>x=%{x}<br>y=%{y}<br>index=%{marker.color}<extra></extra>",
           "ids": {
            "bdata": "AAABAAIAAwAEAAUABgAHAAgACQAKAAsADAANAA4ADwAQABEAEgATABQAFQAWABcAGAAZABoAGwAcAB0AHgAfACAAIQAiACMAJAAlACYAJwAoACkAKgArACwALQAuAC8AMAAxADIAMwA0ADUANgA3ADgAOQA6ADsAPAA9AD4APwBAAEEAQgBDAEQARQBGAEcASABJAEoASwBMAE0ATgBPAFAAUQBSAFMAVABVAFYAVwBYAFkAWgBbAFwAXQBeAF8AYABhAGIAYwBkAGUAZgBnAGgAaQBqAGsAbABtAG4AbwBwAHEAcgBzAHQAdQB2AHcAeAB5AHoAewB8AH0AfgB/AIAAgQCCAIMAhACFAIYAhwCIAIkAigCLAIwAjQCOAI8AkACRAJIAkwCUAJUAlgCXAJgAmQCaAJsAnACdAJ4AnwCgAKEAogCjAKQApQCmAKcAqACpAKoAqwCsAK0ArgCvALAAsQCyALMAtAC1ALYAtwC4ALkAugC7ALwAvQC+AL8AwADBAMIAwwDEAMUAxgDHAMgAyQDKAMsAzADNAM4AzwDQANEA0gDTANQA1QDWANcA2ADZANoA2wDcAN0A3gDfAOAA4QDiAOMA5ADlAOYA5wDoAOkA6gDrAOwA7QDuAO8A8ADxAPIA8wD0APUA9gD3APgA+QD6APsA/AD9AP4A/wAAAQEBAgEDAQQBBQEGAQcBCAEJAQoBCwEMAQ0BDgEPARABEQESARMBFAEVARYBFwEYARkBGgEbARwBHQEeAR8BIAEhASIBIwEkASUBJgEnASgBKQEqASsBLAEtAS4BLwEwATEBMgEzATQBNQE2ATcBOAE5AToBOwE8AT0BPgE/AUABQQFCAUMBRAFFAUYBRwFIAUkBSgFLAUwBTQFOAU8BUAFRAVIBUwFUAVUBVgFXAVgBWQFaAVsBXAFdAV4BXwFgAWEBYgFjAWQBZQFmAWcBaAFpAWoBawFsAW0BbgFvAXABcQFyAXMBdAF1AXYBdwF4AXkBegF7AXwBfQF+AX8BgAGBAYIBgwGEAYUBhgGHAYgBiQGKAYsBjAGNAY4BjwGQAZEBkgGTAZQBlQGWAZcBmAGZAZoBmwGcAZ0BngGfAaABoQGiAaMBpAGlAaYBpwGoAakBqgGrAawBrQGuAa8BsAGxAbIBswG0AbUBtgG3AbgBuQG6AbsBvAG9Ab4BvwHAAcEBwgHDAcQBxQHGAccByAHJAcoBywHMAc0BzgHPAdAB0QHSAdMB1AHVAdYB1wHYAdkB2gHbAdwB3QHeAd8B4AHhAeIB4wHkAeUB5gHnAegB6QHqAesB7AHtAe4B7wHwAfEB8gHzAQ==",
            "dtype": "i2"
           },
           "legendgroup": "",
           "marker": {
            "color": {
             "bdata": "AAABAAIAAwAEAAUABgAHAAgACQAKAAsADAANAA4ADwAQABEAEgATABQAFQAWABcAGAAZABoAGwAcAB0AHgAfACAAIQAiACMAJAAlACYAJwAoACkAKgArACwALQAuAC8AMAAxADIAMwA0ADUANgA3ADgAOQA6ADsAPAA9AD4APwBAAEEAQgBDAEQARQBGAEcASABJAEoASwBMAE0ATgBPAFAAUQBSAFMAVABVAFYAVwBYAFkAWgBbAFwAXQBeAF8AYABhAGIAYwBkAGUAZgBnAGgAaQBqAGsAbABtAG4AbwBwAHEAcgBzAHQAdQB2AHcAeAB5AHoAewB8AH0AfgB/AIAAgQCCAIMAhACFAIYAhwCIAIkAigCLAIwAjQCOAI8AkACRAJIAkwCUAJUAlgCXAJgAmQCaAJsAnACdAJ4AnwCgAKEAogCjAKQApQCmAKcAqACpAKoAqwCsAK0ArgCvALAAsQCyALMAtAC1ALYAtwC4ALkAugC7ALwAvQC+AL8AwADBAMIAwwDEAMUAxgDHAMgAyQDKAMsAzADNAM4AzwDQANEA0gDTANQA1QDWANcA2ADZANoA2wDcAN0A3gDfAOAA4QDiAOMA5ADlAOYA5wDoAOkA6gDrAOwA7QDuAO8A8ADxAPIA8wD0APUA9gD3APgA+QD6APsA/AD9AP4A/wAAAQEBAgEDAQQBBQEGAQcBCAEJAQoBCwEMAQ0BDgEPARABEQESARMBFAEVARYBFwEYARkBGgEbARwBHQEeAR8BIAEhASIBIwEkASUBJgEnASgBKQEqASsBLAEtAS4BLwEwATEBMgEzATQBNQE2ATcBOAE5AToBOwE8AT0BPgE/AUABQQFCAUMBRAFFAUYBRwFIAUkBSgFLAUwBTQFOAU8BUAFRAVIBUwFUAVUBVgFXAVgBWQFaAVsBXAFdAV4BXwFgAWEBYgFjAWQBZQFmAWcBaAFpAWoBawFsAW0BbgFvAXABcQFyAXMBdAF1AXYBdwF4AXkBegF7AXwBfQF+AX8BgAGBAYIBgwGEAYUBhgGHAYgBiQGKAYsBjAGNAY4BjwGQAZEBkgGTAZQBlQGWAZcBmAGZAZoBmwGcAZ0BngGfAaABoQGiAaMBpAGlAaYBpwGoAakBqgGrAawBrQGuAa8BsAGxAbIBswG0AbUBtgG3AbgBuQG6AbsBvAG9Ab4BvwHAAcEBwgHDAcQBxQHGAccByAHJAcoBywHMAc0BzgHPAdAB0QHSAdMB1AHVAdYB1wHYAdkB2gHbAdwB3QHeAd8B4AHhAeIB4wHkAeUB5gHnAegB6QHqAesB7AHtAe4B7wHwAfEB8gHzAQ==",
             "dtype": "i2"
            },
            "coloraxis": "coloraxis",
            "symbol": "circle"
           },
           "mode": "markers",
           "name": "",
           "orientation": "v",
           "showlegend": false,
           "type": "scatter",
           "x": {
            "bdata": "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",
            "dtype": "f4"
           },
           "xaxis": "x",
           "y": {
            "bdata": "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",
            "dtype": "f4"
           },
           "yaxis": "y"
          }
         ],
         "name": "16 neighbors"
        },
        {
         "data": [
          {
           "hovertemplate": "set=17 neighbors<br>x=%{x}<br>y=%{y}<br>index=%{marker.color}<extra></extra>",
           "ids": {
            "bdata": "AAABAAIAAwAEAAUABgAHAAgACQAKAAsADAANAA4ADwAQABEAEgATABQAFQAWABcAGAAZABoAGwAcAB0AHgAfACAAIQAiACMAJAAlACYAJwAoACkAKgArACwALQAuAC8AMAAxADIAMwA0ADUANgA3ADgAOQA6ADsAPAA9AD4APwBAAEEAQgBDAEQARQBGAEcASABJAEoASwBMAE0ATgBPAFAAUQBSAFMAVABVAFYAVwBYAFkAWgBbAFwAXQBeAF8AYABhAGIAYwBkAGUAZgBnAGgAaQBqAGsAbABtAG4AbwBwAHEAcgBzAHQAdQB2AHcAeAB5AHoAewB8AH0AfgB/AIAAgQCCAIMAhACFAIYAhwCIAIkAigCLAIwAjQCOAI8AkACRAJIAkwCUAJUAlgCXAJgAmQCaAJsAnACdAJ4AnwCgAKEAogCjAKQApQCmAKcAqACpAKoAqwCsAK0ArgCvALAAsQCyALMAtAC1ALYAtwC4ALkAugC7ALwAvQC+AL8AwADBAMIAwwDEAMUAxgDHAMgAyQDKAMsAzADNAM4AzwDQANEA0gDTANQA1QDWANcA2ADZANoA2wDcAN0A3gDfAOAA4QDiAOMA5ADlAOYA5wDoAOkA6gDrAOwA7QDuAO8A8ADxAPIA8wD0APUA9gD3APgA+QD6APsA/AD9AP4A/wAAAQEBAgEDAQQBBQEGAQcBCAEJAQoBCwEMAQ0BDgEPARABEQESARMBFAEVARYBFwEYARkBGgEbARwBHQEeAR8BIAEhASIBIwEkASUBJgEnASgBKQEqASsBLAEtAS4BLwEwATEBMgEzATQBNQE2ATcBOAE5AToBOwE8AT0BPgE/AUABQQFCAUMBRAFFAUYBRwFIAUkBSgFLAUwBTQFOAU8BUAFRAVIBUwFUAVUBVgFXAVgBWQFaAVsBXAFdAV4BXwFgAWEBYgFjAWQBZQFmAWcBaAFpAWoBawFsAW0BbgFvAXABcQFyAXMBdAF1AXYBdwF4AXkBegF7AXwBfQF+AX8BgAGBAYIBgwGEAYUBhgGHAYgBiQGKAYsBjAGNAY4BjwGQAZEBkgGTAZQBlQGWAZcBmAGZAZoBmwGcAZ0BngGfAaABoQGiAaMBpAGlAaYBpwGoAakBqgGrAawBrQGuAa8BsAGxAbIBswG0AbUBtgG3AbgBuQG6AbsBvAG9Ab4BvwHAAcEBwgHDAcQBxQHGAccByAHJAcoBywHMAc0BzgHPAdAB0QHSAdMB1AHVAdYB1wHYAdkB2gHbAdwB3QHeAd8B4AHhAeIB4wHkAeUB5gHnAegB6QHqAesB7AHtAe4B7wHwAfEB8gHzAQ==",
            "dtype": "i2"
           },
           "legendgroup": "",
           "marker": {
            "color": {
             "bdata": "AAABAAIAAwAEAAUABgAHAAgACQAKAAsADAANAA4ADwAQABEAEgATABQAFQAWABcAGAAZABoAGwAcAB0AHgAfACAAIQAiACMAJAAlACYAJwAoACkAKgArACwALQAuAC8AMAAxADIAMwA0ADUANgA3ADgAOQA6ADsAPAA9AD4APwBAAEEAQgBDAEQARQBGAEcASABJAEoASwBMAE0ATgBPAFAAUQBSAFMAVABVAFYAVwBYAFkAWgBbAFwAXQBeAF8AYABhAGIAYwBkAGUAZgBnAGgAaQBqAGsAbABtAG4AbwBwAHEAcgBzAHQAdQB2AHcAeAB5AHoAewB8AH0AfgB/AIAAgQCCAIMAhACFAIYAhwCIAIkAigCLAIwAjQCOAI8AkACRAJIAkwCUAJUAlgCXAJgAmQCaAJsAnACdAJ4AnwCgAKEAogCjAKQApQCmAKcAqACpAKoAqwCsAK0ArgCvALAAsQCyALMAtAC1ALYAtwC4ALkAugC7ALwAvQC+AL8AwADBAMIAwwDEAMUAxgDHAMgAyQDKAMsAzADNAM4AzwDQANEA0gDTANQA1QDWANcA2ADZANoA2wDcAN0A3gDfAOAA4QDiAOMA5ADlAOYA5wDoAOkA6gDrAOwA7QDuAO8A8ADxAPIA8wD0APUA9gD3APgA+QD6APsA/AD9AP4A/wAAAQEBAgEDAQQBBQEGAQcBCAEJAQoBCwEMAQ0BDgEPARABEQESARMBFAEVARYBFwEYARkBGgEbARwBHQEeAR8BIAEhASIBIwEkASUBJgEnASgBKQEqASsBLAEtAS4BLwEwATEBMgEzATQBNQE2ATcBOAE5AToBOwE8AT0BPgE/AUABQQFCAUMBRAFFAUYBRwFIAUkBSgFLAUwBTQFOAU8BUAFRAVIBUwFUAVUBVgFXAVgBWQFaAVsBXAFdAV4BXwFgAWEBYgFjAWQBZQFmAWcBaAFpAWoBawFsAW0BbgFvAXABcQFyAXMBdAF1AXYBdwF4AXkBegF7AXwBfQF+AX8BgAGBAYIBgwGEAYUBhgGHAYgBiQGKAYsBjAGNAY4BjwGQAZEBkgGTAZQBlQGWAZcBmAGZAZoBmwGcAZ0BngGfAaABoQGiAaMBpAGlAaYBpwGoAakBqgGrAawBrQGuAa8BsAGxAbIBswG0AbUBtgG3AbgBuQG6AbsBvAG9Ab4BvwHAAcEBwgHDAcQBxQHGAccByAHJAcoBywHMAc0BzgHPAdAB0QHSAdMB1AHVAdYB1wHYAdkB2gHbAdwB3QHeAd8B4AHhAeIB4wHkAeUB5gHnAegB6QHqAesB7AHtAe4B7wHwAfEB8gHzAQ==",
             "dtype": "i2"
            },
            "coloraxis": "coloraxis",
            "symbol": "circle"
           },
           "mode": "markers",
           "name": "",
           "orientation": "v",
           "showlegend": false,
           "type": "scatter",
           "x": {
            "bdata": "Y1YeQAFyNEHX7g1Bp2n8QNflJUF2JCRAH5AWQH2HA0D9zL5As1PjQBTUPUCSwDPAqIpqwDTYfT9JDxZBWpeYwHXessAR/9S9ecL+QAnOGUBN6RZB5emSQcqB40ASyy5ArfCUwMK4C0Fv1d5AEVlEQND1BEC5deTAOfrKPQLBsj/rxbRA0jDHQF0ZSECKcztB26ylQAdymsDSrgxBpak3Qf3mF76LW/9ApqsAQfBXPEFX8zJBYxAIQG9L3sDA/FlA5PifPyUr+0APALI/ptYzQXndA0FhKYfA3W+jQAa+9T9wLf4/Fdx7Py3TCEEcFNc/dGIZQJEyGkHwtNhAhsemPxgj5ECas3c+7fUEQUoBDj1Rsx9BD3Aqv7vtEEEGihlBW1NpQB86pT8TAzZBptgkQb98WD878FdAtmkbQaWyqkCdwAtB/rsUQYX1NEH1uZ0/lSMBQfq0MkBB1jdBydUcQBovtcAdmoY9i1A6QccNb8CMUQY+Pz+OQZX8JEGZ6QW/ZnIQQdyrez2GzyvAD3BswAZ5Z8AFxztADGQ7QYADIkGJXZLAuS0JQcOPFUHy7c/A1ikcQeD5Z0D8+AxBZ2zoQK0gfz+R5SZB7vQOQanQdD+4AbPAwcbwvfZd+0Ct/udAlEeoQJt7t0AmAI5BNs3mQE2mWUAyCgtBIRo5QTBQN0GfGZBBvOrCP5h5YUArk5c/AlzmQEJVRkCDNeM/M+mNQUkZtcBbD1xAJnw0QSIFDEAVS1NAgjoZQSdcYUD6HntB57BDQNjOvkBAiwFB4CrXQMmtZUHQaRpBOTsAQYC+oD+n5gNA6j8LQW/sosDyNvRAtjgOQXy+HEDEer0/rp4NQdK04MBvg7fATWg8QQ1eN0EWzxQ/Ku/UQMYrEkAuDWRBUi3qQPTmOkE82jtBbSYkQa57JkHssMK/P+bsQOLjo0CZjDxAvWXbPy45ZEEfMrtAHhsavnOWFEDbYQZBt6A4QYd8aMAF0Q9BBnUwQIG/g8BSPjPAP9rbQMkdJEF8+49BIkU0QQ1C5UAvDCJBaKoDQSLJ3T3zjurALlmYwAjw+kDljoc/0ZIrQM5uuUBxB/ZATB3LQFtoxj868+dAqzJ8QRM0tMAVazBBpjcjQYWzL0EnDDdBvxX9QBw5ZEGd0nJA9BITQY8NC0GLeClAygBkQTeF6sDBgF1A8JTpQKXVKEBCI9FAz8wEQF+Ne0FlklFAPnQaQRE4HUC1XZrAxa92QF3SKkCn8eXAw4e+vT5yWj8RMQBB3yrIwHnPIL8dih9B3TDHQJ8+iz+eDhtBilkRQez/BkEaASJAETFUwFEA2kC4XRBAAwWTQRxiEUGm8bpALfcaQRoqZkD2QnpBFBwiQNod6sADRwtBaWwVQUGZDUHk/F8969K5QPujC0ExsIfAnQNywHBbAUEj75I/EwwXQQ7iEECfsejAZKv6PxmGKMAdX55AX87nQBPIAUEboQNBekJUwNz7LEAW+P5AwbkzQUcc6cA1MwBAdRKTQbafwEDkYilAMFMNQZAnNUFBTY3AT6bFQILHj0F1F/1AU5WDwJiaZMDHT6tAoXzpQFnGI0HX2jFB4qq3QKe4Hb9SsaBA1R/pQFfbjz/yITpB7vGnwIn6J71OvABBaPbcQGIEN0BSAzZBAvIlQPeqQUDIXxdAVyFRQKc4kEGxJwpAzfv7QCGzA0FC4JtAiVM2QDj9LkErjgJBXnlRQHzAJUCHjBpBFr8qQGIWVEADYSlAr/4CQQsqfz+IJrxArPtqPQorukDVnBpBIIM5QQQjCkHM1TJAs4whPrELp8CA6ehAoTExwAo8o8C7SrNAhFs8QVOLL0Ai5wJBiqEnQEF9AkGjTpBBBSvjQCScWsDK8Do/2vaYP8GyM78STPpA8alpQIDypUCHtxNAxhM3QXJKgz/bjzTAxg0YQTcZEUGx24+9e+q7QIK2RUDWbh9BoY4mQan8EUHmJxFBZsKDwN+yU0AXpCdAuCw4QJr4X8DbrWVBTMJpQHXGLr8HNBpBmiapQCagJEGq2mNBaYSoQI4W2cDj7pjA7CMPQaMdhEATuCNAglMRQauNAkFLoDhAZEKpwDjgHECIFdLAvS/HQB1+AUFTpTVARIU7wCHH2sBVxwm92gb8QNz9EkFwUJo9OxnFwA7sLUDbTetADUdcPwl30kC/l8g99WIGQbuk1UC9vEpASkkaQcK7g8Dla6vAydofQYb7IEGy5xNBRIq6QClAkz9EoFhAOSfJwAOrQ8DJZjbAKolZQJS6qUB98Jc/OTUDQLg7+j/mNJHAy91XQAXSckCbHHtB3qs7QSx8C0EVzfZAV/O8v3UlFEE4y+s/Uh4ywBAbAUF8bwJBBHoXQfFrlcDqrWVBKxHoQMTXgkCDFSRBr617P14h6UBEzWFA+TYNQXko+UCrFovAXOgbQcDrdD/+PBZBqlsKQXvkNEHWxB9BR4UwQbvbNEBapSpAitw5QXyN8kBHMOI/x58kQbURVkATxgBBaVs0QF58O0GO2CFARMV3QIgPakAtrfdAavAZQZZ7DkEgKYzA0h/MP+yjHL7iXUk+kYi4v7yVN0B0rAtB/fwUQblYE0HbJBtBeWYvQL1obT+/8ihAaHI2QQzc8D++M7PA8EcjQetIHEHu0Hc/dqyAP8yH6cCFe1Q/cRc4QROzWUA=",
            "dtype": "f4"
           },
           "xaxis": "x",
           "y": {
            "bdata": "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",
            "dtype": "f4"
           },
           "yaxis": "y"
          }
         ],
         "name": "17 neighbors"
        },
        {
         "data": [
          {
           "hovertemplate": "set=18 neighbors<br>x=%{x}<br>y=%{y}<br>index=%{marker.color}<extra></extra>",
           "ids": {
            "bdata": "AAABAAIAAwAEAAUABgAHAAgACQAKAAsADAANAA4ADwAQABEAEgATABQAFQAWABcAGAAZABoAGwAcAB0AHgAfACAAIQAiACMAJAAlACYAJwAoACkAKgArACwALQAuAC8AMAAxADIAMwA0ADUANgA3ADgAOQA6ADsAPAA9AD4APwBAAEEAQgBDAEQARQBGAEcASABJAEoASwBMAE0ATgBPAFAAUQBSAFMAVABVAFYAVwBYAFkAWgBbAFwAXQBeAF8AYABhAGIAYwBkAGUAZgBnAGgAaQBqAGsAbABtAG4AbwBwAHEAcgBzAHQAdQB2AHcAeAB5AHoAewB8AH0AfgB/AIAAgQCCAIMAhACFAIYAhwCIAIkAigCLAIwAjQCOAI8AkACRAJIAkwCUAJUAlgCXAJgAmQCaAJsAnACdAJ4AnwCgAKEAogCjAKQApQCmAKcAqACpAKoAqwCsAK0ArgCvALAAsQCyALMAtAC1ALYAtwC4ALkAugC7ALwAvQC+AL8AwADBAMIAwwDEAMUAxgDHAMgAyQDKAMsAzADNAM4AzwDQANEA0gDTANQA1QDWANcA2ADZANoA2wDcAN0A3gDfAOAA4QDiAOMA5ADlAOYA5wDoAOkA6gDrAOwA7QDuAO8A8ADxAPIA8wD0APUA9gD3APgA+QD6APsA/AD9AP4A/wAAAQEBAgEDAQQBBQEGAQcBCAEJAQoBCwEMAQ0BDgEPARABEQESARMBFAEVARYBFwEYARkBGgEbARwBHQEeAR8BIAEhASIBIwEkASUBJgEnASgBKQEqASsBLAEtAS4BLwEwATEBMgEzATQBNQE2ATcBOAE5AToBOwE8AT0BPgE/AUABQQFCAUMBRAFFAUYBRwFIAUkBSgFLAUwBTQFOAU8BUAFRAVIBUwFUAVUBVgFXAVgBWQFaAVsBXAFdAV4BXwFgAWEBYgFjAWQBZQFmAWcBaAFpAWoBawFsAW0BbgFvAXABcQFyAXMBdAF1AXYBdwF4AXkBegF7AXwBfQF+AX8BgAGBAYIBgwGEAYUBhgGHAYgBiQGKAYsBjAGNAY4BjwGQAZEBkgGTAZQBlQGWAZcBmAGZAZoBmwGcAZ0BngGfAaABoQGiAaMBpAGlAaYBpwGoAakBqgGrAawBrQGuAa8BsAGxAbIBswG0AbUBtgG3AbgBuQG6AbsBvAG9Ab4BvwHAAcEBwgHDAcQBxQHGAccByAHJAcoBywHMAc0BzgHPAdAB0QHSAdMB1AHVAdYB1wHYAdkB2gHbAdwB3QHeAd8B4AHhAeIB4wHkAeUB5gHnAegB6QHqAesB7AHtAe4B7wHwAfEB8gHzAQ==",
            "dtype": "i2"
           },
           "legendgroup": "",
           "marker": {
            "color": {
             "bdata": "AAABAAIAAwAEAAUABgAHAAgACQAKAAsADAANAA4ADwAQABEAEgATABQAFQAWABcAGAAZABoAGwAcAB0AHgAfACAAIQAiACMAJAAlACYAJwAoACkAKgArACwALQAuAC8AMAAxADIAMwA0ADUANgA3ADgAOQA6ADsAPAA9AD4APwBAAEEAQgBDAEQARQBGAEcASABJAEoASwBMAE0ATgBPAFAAUQBSAFMAVABVAFYAVwBYAFkAWgBbAFwAXQBeAF8AYABhAGIAYwBkAGUAZgBnAGgAaQBqAGsAbABtAG4AbwBwAHEAcgBzAHQAdQB2AHcAeAB5AHoAewB8AH0AfgB/AIAAgQCCAIMAhACFAIYAhwCIAIkAigCLAIwAjQCOAI8AkACRAJIAkwCUAJUAlgCXAJgAmQCaAJsAnACdAJ4AnwCgAKEAogCjAKQApQCmAKcAqACpAKoAqwCsAK0ArgCvALAAsQCyALMAtAC1ALYAtwC4ALkAugC7ALwAvQC+AL8AwADBAMIAwwDEAMUAxgDHAMgAyQDKAMsAzADNAM4AzwDQANEA0gDTANQA1QDWANcA2ADZANoA2wDcAN0A3gDfAOAA4QDiAOMA5ADlAOYA5wDoAOkA6gDrAOwA7QDuAO8A8ADxAPIA8wD0APUA9gD3APgA+QD6APsA/AD9AP4A/wAAAQEBAgEDAQQBBQEGAQcBCAEJAQoBCwEMAQ0BDgEPARABEQESARMBFAEVARYBFwEYARkBGgEbARwBHQEeAR8BIAEhASIBIwEkASUBJgEnASgBKQEqASsBLAEtAS4BLwEwATEBMgEzATQBNQE2ATcBOAE5AToBOwE8AT0BPgE/AUABQQFCAUMBRAFFAUYBRwFIAUkBSgFLAUwBTQFOAU8BUAFRAVIBUwFUAVUBVgFXAVgBWQFaAVsBXAFdAV4BXwFgAWEBYgFjAWQBZQFmAWcBaAFpAWoBawFsAW0BbgFvAXABcQFyAXMBdAF1AXYBdwF4AXkBegF7AXwBfQF+AX8BgAGBAYIBgwGEAYUBhgGHAYgBiQGKAYsBjAGNAY4BjwGQAZEBkgGTAZQBlQGWAZcBmAGZAZoBmwGcAZ0BngGfAaABoQGiAaMBpAGlAaYBpwGoAakBqgGrAawBrQGuAa8BsAGxAbIBswG0AbUBtgG3AbgBuQG6AbsBvAG9Ab4BvwHAAcEBwgHDAcQBxQHGAccByAHJAcoBywHMAc0BzgHPAdAB0QHSAdMB1AHVAdYB1wHYAdkB2gHbAdwB3QHeAd8B4AHhAeIB4wHkAeUB5gHnAegB6QHqAesB7AHtAe4B7wHwAfEB8gHzAQ==",
             "dtype": "i2"
            },
            "coloraxis": "coloraxis",
            "symbol": "circle"
           },
           "mode": "markers",
           "name": "",
           "orientation": "v",
           "showlegend": false,
           "type": "scatter",
           "x": {
            "bdata": "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",
            "dtype": "f4"
           },
           "xaxis": "x",
           "y": {
            "bdata": "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",
            "dtype": "f4"
           },
           "yaxis": "y"
          }
         ],
         "name": "18 neighbors"
        },
        {
         "data": [
          {
           "hovertemplate": "set=19 neighbors<br>x=%{x}<br>y=%{y}<br>index=%{marker.color}<extra></extra>",
           "ids": {
            "bdata": "AAABAAIAAwAEAAUABgAHAAgACQAKAAsADAANAA4ADwAQABEAEgATABQAFQAWABcAGAAZABoAGwAcAB0AHgAfACAAIQAiACMAJAAlACYAJwAoACkAKgArACwALQAuAC8AMAAxADIAMwA0ADUANgA3ADgAOQA6ADsAPAA9AD4APwBAAEEAQgBDAEQARQBGAEcASABJAEoASwBMAE0ATgBPAFAAUQBSAFMAVABVAFYAVwBYAFkAWgBbAFwAXQBeAF8AYABhAGIAYwBkAGUAZgBnAGgAaQBqAGsAbABtAG4AbwBwAHEAcgBzAHQAdQB2AHcAeAB5AHoAewB8AH0AfgB/AIAAgQCCAIMAhACFAIYAhwCIAIkAigCLAIwAjQCOAI8AkACRAJIAkwCUAJUAlgCXAJgAmQCaAJsAnACdAJ4AnwCgAKEAogCjAKQApQCmAKcAqACpAKoAqwCsAK0ArgCvALAAsQCyALMAtAC1ALYAtwC4ALkAugC7ALwAvQC+AL8AwADBAMIAwwDEAMUAxgDHAMgAyQDKAMsAzADNAM4AzwDQANEA0gDTANQA1QDWANcA2ADZANoA2wDcAN0A3gDfAOAA4QDiAOMA5ADlAOYA5wDoAOkA6gDrAOwA7QDuAO8A8ADxAPIA8wD0APUA9gD3APgA+QD6APsA/AD9AP4A/wAAAQEBAgEDAQQBBQEGAQcBCAEJAQoBCwEMAQ0BDgEPARABEQESARMBFAEVARYBFwEYARkBGgEbARwBHQEeAR8BIAEhASIBIwEkASUBJgEnASgBKQEqASsBLAEtAS4BLwEwATEBMgEzATQBNQE2ATcBOAE5AToBOwE8AT0BPgE/AUABQQFCAUMBRAFFAUYBRwFIAUkBSgFLAUwBTQFOAU8BUAFRAVIBUwFUAVUBVgFXAVgBWQFaAVsBXAFdAV4BXwFgAWEBYgFjAWQBZQFmAWcBaAFpAWoBawFsAW0BbgFvAXABcQFyAXMBdAF1AXYBdwF4AXkBegF7AXwBfQF+AX8BgAGBAYIBgwGEAYUBhgGHAYgBiQGKAYsBjAGNAY4BjwGQAZEBkgGTAZQBlQGWAZcBmAGZAZoBmwGcAZ0BngGfAaABoQGiAaMBpAGlAaYBpwGoAakBqgGrAawBrQGuAa8BsAGxAbIBswG0AbUBtgG3AbgBuQG6AbsBvAG9Ab4BvwHAAcEBwgHDAcQBxQHGAccByAHJAcoBywHMAc0BzgHPAdAB0QHSAdMB1AHVAdYB1wHYAdkB2gHbAdwB3QHeAd8B4AHhAeIB4wHkAeUB5gHnAegB6QHqAesB7AHtAe4B7wHwAfEB8gHzAQ==",
            "dtype": "i2"
           },
           "legendgroup": "",
           "marker": {
            "color": {
             "bdata": "AAABAAIAAwAEAAUABgAHAAgACQAKAAsADAANAA4ADwAQABEAEgATABQAFQAWABcAGAAZABoAGwAcAB0AHgAfACAAIQAiACMAJAAlACYAJwAoACkAKgArACwALQAuAC8AMAAxADIAMwA0ADUANgA3ADgAOQA6ADsAPAA9AD4APwBAAEEAQgBDAEQARQBGAEcASABJAEoASwBMAE0ATgBPAFAAUQBSAFMAVABVAFYAVwBYAFkAWgBbAFwAXQBeAF8AYABhAGIAYwBkAGUAZgBnAGgAaQBqAGsAbABtAG4AbwBwAHEAcgBzAHQAdQB2AHcAeAB5AHoAewB8AH0AfgB/AIAAgQCCAIMAhACFAIYAhwCIAIkAigCLAIwAjQCOAI8AkACRAJIAkwCUAJUAlgCXAJgAmQCaAJsAnACdAJ4AnwCgAKEAogCjAKQApQCmAKcAqACpAKoAqwCsAK0ArgCvALAAsQCyALMAtAC1ALYAtwC4ALkAugC7ALwAvQC+AL8AwADBAMIAwwDEAMUAxgDHAMgAyQDKAMsAzADNAM4AzwDQANEA0gDTANQA1QDWANcA2ADZANoA2wDcAN0A3gDfAOAA4QDiAOMA5ADlAOYA5wDoAOkA6gDrAOwA7QDuAO8A8ADxAPIA8wD0APUA9gD3APgA+QD6APsA/AD9AP4A/wAAAQEBAgEDAQQBBQEGAQcBCAEJAQoBCwEMAQ0BDgEPARABEQESARMBFAEVARYBFwEYARkBGgEbARwBHQEeAR8BIAEhASIBIwEkASUBJgEnASgBKQEqASsBLAEtAS4BLwEwATEBMgEzATQBNQE2ATcBOAE5AToBOwE8AT0BPgE/AUABQQFCAUMBRAFFAUYBRwFIAUkBSgFLAUwBTQFOAU8BUAFRAVIBUwFUAVUBVgFXAVgBWQFaAVsBXAFdAV4BXwFgAWEBYgFjAWQBZQFmAWcBaAFpAWoBawFsAW0BbgFvAXABcQFyAXMBdAF1AXYBdwF4AXkBegF7AXwBfQF+AX8BgAGBAYIBgwGEAYUBhgGHAYgBiQGKAYsBjAGNAY4BjwGQAZEBkgGTAZQBlQGWAZcBmAGZAZoBmwGcAZ0BngGfAaABoQGiAaMBpAGlAaYBpwGoAakBqgGrAawBrQGuAa8BsAGxAbIBswG0AbUBtgG3AbgBuQG6AbsBvAG9Ab4BvwHAAcEBwgHDAcQBxQHGAccByAHJAcoBywHMAc0BzgHPAdAB0QHSAdMB1AHVAdYB1wHYAdkB2gHbAdwB3QHeAd8B4AHhAeIB4wHkAeUB5gHnAegB6QHqAesB7AHtAe4B7wHwAfEB8gHzAQ==",
             "dtype": "i2"
            },
            "coloraxis": "coloraxis",
            "symbol": "circle"
           },
           "mode": "markers",
           "name": "",
           "orientation": "v",
           "showlegend": false,
           "type": "scatter",
           "x": {
            "bdata": "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",
            "dtype": "f4"
           },
           "xaxis": "x",
           "y": {
            "bdata": "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",
            "dtype": "f4"
           },
           "yaxis": "y"
          }
         ],
         "name": "19 neighbors"
        },
        {
         "data": [
          {
           "hovertemplate": "set=20 neighbors<br>x=%{x}<br>y=%{y}<br>index=%{marker.color}<extra></extra>",
           "ids": {
            "bdata": "AAABAAIAAwAEAAUABgAHAAgACQAKAAsADAANAA4ADwAQABEAEgATABQAFQAWABcAGAAZABoAGwAcAB0AHgAfACAAIQAiACMAJAAlACYAJwAoACkAKgArACwALQAuAC8AMAAxADIAMwA0ADUANgA3ADgAOQA6ADsAPAA9AD4APwBAAEEAQgBDAEQARQBGAEcASABJAEoASwBMAE0ATgBPAFAAUQBSAFMAVABVAFYAVwBYAFkAWgBbAFwAXQBeAF8AYABhAGIAYwBkAGUAZgBnAGgAaQBqAGsAbABtAG4AbwBwAHEAcgBzAHQAdQB2AHcAeAB5AHoAewB8AH0AfgB/AIAAgQCCAIMAhACFAIYAhwCIAIkAigCLAIwAjQCOAI8AkACRAJIAkwCUAJUAlgCXAJgAmQCaAJsAnACdAJ4AnwCgAKEAogCjAKQApQCmAKcAqACpAKoAqwCsAK0ArgCvALAAsQCyALMAtAC1ALYAtwC4ALkAugC7ALwAvQC+AL8AwADBAMIAwwDEAMUAxgDHAMgAyQDKAMsAzADNAM4AzwDQANEA0gDTANQA1QDWANcA2ADZANoA2wDcAN0A3gDfAOAA4QDiAOMA5ADlAOYA5wDoAOkA6gDrAOwA7QDuAO8A8ADxAPIA8wD0APUA9gD3APgA+QD6APsA/AD9AP4A/wAAAQEBAgEDAQQBBQEGAQcBCAEJAQoBCwEMAQ0BDgEPARABEQESARMBFAEVARYBFwEYARkBGgEbARwBHQEeAR8BIAEhASIBIwEkASUBJgEnASgBKQEqASsBLAEtAS4BLwEwATEBMgEzATQBNQE2ATcBOAE5AToBOwE8AT0BPgE/AUABQQFCAUMBRAFFAUYBRwFIAUkBSgFLAUwBTQFOAU8BUAFRAVIBUwFUAVUBVgFXAVgBWQFaAVsBXAFdAV4BXwFgAWEBYgFjAWQBZQFmAWcBaAFpAWoBawFsAW0BbgFvAXABcQFyAXMBdAF1AXYBdwF4AXkBegF7AXwBfQF+AX8BgAGBAYIBgwGEAYUBhgGHAYgBiQGKAYsBjAGNAY4BjwGQAZEBkgGTAZQBlQGWAZcBmAGZAZoBmwGcAZ0BngGfAaABoQGiAaMBpAGlAaYBpwGoAakBqgGrAawBrQGuAa8BsAGxAbIBswG0AbUBtgG3AbgBuQG6AbsBvAG9Ab4BvwHAAcEBwgHDAcQBxQHGAccByAHJAcoBywHMAc0BzgHPAdAB0QHSAdMB1AHVAdYB1wHYAdkB2gHbAdwB3QHeAd8B4AHhAeIB4wHkAeUB5gHnAegB6QHqAesB7AHtAe4B7wHwAfEB8gHzAQ==",
            "dtype": "i2"
           },
           "legendgroup": "",
           "marker": {
            "color": {
             "bdata": "AAABAAIAAwAEAAUABgAHAAgACQAKAAsADAANAA4ADwAQABEAEgATABQAFQAWABcAGAAZABoAGwAcAB0AHgAfACAAIQAiACMAJAAlACYAJwAoACkAKgArACwALQAuAC8AMAAxADIAMwA0ADUANgA3ADgAOQA6ADsAPAA9AD4APwBAAEEAQgBDAEQARQBGAEcASABJAEoASwBMAE0ATgBPAFAAUQBSAFMAVABVAFYAVwBYAFkAWgBbAFwAXQBeAF8AYABhAGIAYwBkAGUAZgBnAGgAaQBqAGsAbABtAG4AbwBwAHEAcgBzAHQAdQB2AHcAeAB5AHoAewB8AH0AfgB/AIAAgQCCAIMAhACFAIYAhwCIAIkAigCLAIwAjQCOAI8AkACRAJIAkwCUAJUAlgCXAJgAmQCaAJsAnACdAJ4AnwCgAKEAogCjAKQApQCmAKcAqACpAKoAqwCsAK0ArgCvALAAsQCyALMAtAC1ALYAtwC4ALkAugC7ALwAvQC+AL8AwADBAMIAwwDEAMUAxgDHAMgAyQDKAMsAzADNAM4AzwDQANEA0gDTANQA1QDWANcA2ADZANoA2wDcAN0A3gDfAOAA4QDiAOMA5ADlAOYA5wDoAOkA6gDrAOwA7QDuAO8A8ADxAPIA8wD0APUA9gD3APgA+QD6APsA/AD9AP4A/wAAAQEBAgEDAQQBBQEGAQcBCAEJAQoBCwEMAQ0BDgEPARABEQESARMBFAEVARYBFwEYARkBGgEbARwBHQEeAR8BIAEhASIBIwEkASUBJgEnASgBKQEqASsBLAEtAS4BLwEwATEBMgEzATQBNQE2ATcBOAE5AToBOwE8AT0BPgE/AUABQQFCAUMBRAFFAUYBRwFIAUkBSgFLAUwBTQFOAU8BUAFRAVIBUwFUAVUBVgFXAVgBWQFaAVsBXAFdAV4BXwFgAWEBYgFjAWQBZQFmAWcBaAFpAWoBawFsAW0BbgFvAXABcQFyAXMBdAF1AXYBdwF4AXkBegF7AXwBfQF+AX8BgAGBAYIBgwGEAYUBhgGHAYgBiQGKAYsBjAGNAY4BjwGQAZEBkgGTAZQBlQGWAZcBmAGZAZoBmwGcAZ0BngGfAaABoQGiAaMBpAGlAaYBpwGoAakBqgGrAawBrQGuAa8BsAGxAbIBswG0AbUBtgG3AbgBuQG6AbsBvAG9Ab4BvwHAAcEBwgHDAcQBxQHGAccByAHJAcoBywHMAc0BzgHPAdAB0QHSAdMB1AHVAdYB1wHYAdkB2gHbAdwB3QHeAd8B4AHhAeIB4wHkAeUB5gHnAegB6QHqAesB7AHtAe4B7wHwAfEB8gHzAQ==",
             "dtype": "i2"
            },
            "coloraxis": "coloraxis",
            "symbol": "circle"
           },
           "mode": "markers",
           "name": "",
           "orientation": "v",
           "showlegend": false,
           "type": "scatter",
           "x": {
            "bdata": "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",
            "dtype": "f4"
           },
           "xaxis": "x",
           "y": {
            "bdata": "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",
            "dtype": "f4"
           },
           "yaxis": "y"
          }
         ],
         "name": "20 neighbors"
        },
        {
         "data": [
          {
           "hovertemplate": "set=21 neighbors<br>x=%{x}<br>y=%{y}<br>index=%{marker.color}<extra></extra>",
           "ids": {
            "bdata": "AAABAAIAAwAEAAUABgAHAAgACQAKAAsADAANAA4ADwAQABEAEgATABQAFQAWABcAGAAZABoAGwAcAB0AHgAfACAAIQAiACMAJAAlACYAJwAoACkAKgArACwALQAuAC8AMAAxADIAMwA0ADUANgA3ADgAOQA6ADsAPAA9AD4APwBAAEEAQgBDAEQARQBGAEcASABJAEoASwBMAE0ATgBPAFAAUQBSAFMAVABVAFYAVwBYAFkAWgBbAFwAXQBeAF8AYABhAGIAYwBkAGUAZgBnAGgAaQBqAGsAbABtAG4AbwBwAHEAcgBzAHQAdQB2AHcAeAB5AHoAewB8AH0AfgB/AIAAgQCCAIMAhACFAIYAhwCIAIkAigCLAIwAjQCOAI8AkACRAJIAkwCUAJUAlgCXAJgAmQCaAJsAnACdAJ4AnwCgAKEAogCjAKQApQCmAKcAqACpAKoAqwCsAK0ArgCvALAAsQCyALMAtAC1ALYAtwC4ALkAugC7ALwAvQC+AL8AwADBAMIAwwDEAMUAxgDHAMgAyQDKAMsAzADNAM4AzwDQANEA0gDTANQA1QDWANcA2ADZANoA2wDcAN0A3gDfAOAA4QDiAOMA5ADlAOYA5wDoAOkA6gDrAOwA7QDuAO8A8ADxAPIA8wD0APUA9gD3APgA+QD6APsA/AD9AP4A/wAAAQEBAgEDAQQBBQEGAQcBCAEJAQoBCwEMAQ0BDgEPARABEQESARMBFAEVARYBFwEYARkBGgEbARwBHQEeAR8BIAEhASIBIwEkASUBJgEnASgBKQEqASsBLAEtAS4BLwEwATEBMgEzATQBNQE2ATcBOAE5AToBOwE8AT0BPgE/AUABQQFCAUMBRAFFAUYBRwFIAUkBSgFLAUwBTQFOAU8BUAFRAVIBUwFUAVUBVgFXAVgBWQFaAVsBXAFdAV4BXwFgAWEBYgFjAWQBZQFmAWcBaAFpAWoBawFsAW0BbgFvAXABcQFyAXMBdAF1AXYBdwF4AXkBegF7AXwBfQF+AX8BgAGBAYIBgwGEAYUBhgGHAYgBiQGKAYsBjAGNAY4BjwGQAZEBkgGTAZQBlQGWAZcBmAGZAZoBmwGcAZ0BngGfAaABoQGiAaMBpAGlAaYBpwGoAakBqgGrAawBrQGuAa8BsAGxAbIBswG0AbUBtgG3AbgBuQG6AbsBvAG9Ab4BvwHAAcEBwgHDAcQBxQHGAccByAHJAcoBywHMAc0BzgHPAdAB0QHSAdMB1AHVAdYB1wHYAdkB2gHbAdwB3QHeAd8B4AHhAeIB4wHkAeUB5gHnAegB6QHqAesB7AHtAe4B7wHwAfEB8gHzAQ==",
            "dtype": "i2"
           },
           "legendgroup": "",
           "marker": {
            "color": {
             "bdata": "AAABAAIAAwAEAAUABgAHAAgACQAKAAsADAANAA4ADwAQABEAEgATABQAFQAWABcAGAAZABoAGwAcAB0AHgAfACAAIQAiACMAJAAlACYAJwAoACkAKgArACwALQAuAC8AMAAxADIAMwA0ADUANgA3ADgAOQA6ADsAPAA9AD4APwBAAEEAQgBDAEQARQBGAEcASABJAEoASwBMAE0ATgBPAFAAUQBSAFMAVABVAFYAVwBYAFkAWgBbAFwAXQBeAF8AYABhAGIAYwBkAGUAZgBnAGgAaQBqAGsAbABtAG4AbwBwAHEAcgBzAHQAdQB2AHcAeAB5AHoAewB8AH0AfgB/AIAAgQCCAIMAhACFAIYAhwCIAIkAigCLAIwAjQCOAI8AkACRAJIAkwCUAJUAlgCXAJgAmQCaAJsAnACdAJ4AnwCgAKEAogCjAKQApQCmAKcAqACpAKoAqwCsAK0ArgCvALAAsQCyALMAtAC1ALYAtwC4ALkAugC7ALwAvQC+AL8AwADBAMIAwwDEAMUAxgDHAMgAyQDKAMsAzADNAM4AzwDQANEA0gDTANQA1QDWANcA2ADZANoA2wDcAN0A3gDfAOAA4QDiAOMA5ADlAOYA5wDoAOkA6gDrAOwA7QDuAO8A8ADxAPIA8wD0APUA9gD3APgA+QD6APsA/AD9AP4A/wAAAQEBAgEDAQQBBQEGAQcBCAEJAQoBCwEMAQ0BDgEPARABEQESARMBFAEVARYBFwEYARkBGgEbARwBHQEeAR8BIAEhASIBIwEkASUBJgEnASgBKQEqASsBLAEtAS4BLwEwATEBMgEzATQBNQE2ATcBOAE5AToBOwE8AT0BPgE/AUABQQFCAUMBRAFFAUYBRwFIAUkBSgFLAUwBTQFOAU8BUAFRAVIBUwFUAVUBVgFXAVgBWQFaAVsBXAFdAV4BXwFgAWEBYgFjAWQBZQFmAWcBaAFpAWoBawFsAW0BbgFvAXABcQFyAXMBdAF1AXYBdwF4AXkBegF7AXwBfQF+AX8BgAGBAYIBgwGEAYUBhgGHAYgBiQGKAYsBjAGNAY4BjwGQAZEBkgGTAZQBlQGWAZcBmAGZAZoBmwGcAZ0BngGfAaABoQGiAaMBpAGlAaYBpwGoAakBqgGrAawBrQGuAa8BsAGxAbIBswG0AbUBtgG3AbgBuQG6AbsBvAG9Ab4BvwHAAcEBwgHDAcQBxQHGAccByAHJAcoBywHMAc0BzgHPAdAB0QHSAdMB1AHVAdYB1wHYAdkB2gHbAdwB3QHeAd8B4AHhAeIB4wHkAeUB5gHnAegB6QHqAesB7AHtAe4B7wHwAfEB8gHzAQ==",
             "dtype": "i2"
            },
            "coloraxis": "coloraxis",
            "symbol": "circle"
           },
           "mode": "markers",
           "name": "",
           "orientation": "v",
           "showlegend": false,
           "type": "scatter",
           "x": {
            "bdata": "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",
            "dtype": "f4"
           },
           "xaxis": "x",
           "y": {
            "bdata": "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",
            "dtype": "f4"
           },
           "yaxis": "y"
          }
         ],
         "name": "21 neighbors"
        },
        {
         "data": [
          {
           "hovertemplate": "set=22 neighbors<br>x=%{x}<br>y=%{y}<br>index=%{marker.color}<extra></extra>",
           "ids": {
            "bdata": "AAABAAIAAwAEAAUABgAHAAgACQAKAAsADAANAA4ADwAQABEAEgATABQAFQAWABcAGAAZABoAGwAcAB0AHgAfACAAIQAiACMAJAAlACYAJwAoACkAKgArACwALQAuAC8AMAAxADIAMwA0ADUANgA3ADgAOQA6ADsAPAA9AD4APwBAAEEAQgBDAEQARQBGAEcASABJAEoASwBMAE0ATgBPAFAAUQBSAFMAVABVAFYAVwBYAFkAWgBbAFwAXQBeAF8AYABhAGIAYwBkAGUAZgBnAGgAaQBqAGsAbABtAG4AbwBwAHEAcgBzAHQAdQB2AHcAeAB5AHoAewB8AH0AfgB/AIAAgQCCAIMAhACFAIYAhwCIAIkAigCLAIwAjQCOAI8AkACRAJIAkwCUAJUAlgCXAJgAmQCaAJsAnACdAJ4AnwCgAKEAogCjAKQApQCmAKcAqACpAKoAqwCsAK0ArgCvALAAsQCyALMAtAC1ALYAtwC4ALkAugC7ALwAvQC+AL8AwADBAMIAwwDEAMUAxgDHAMgAyQDKAMsAzADNAM4AzwDQANEA0gDTANQA1QDWANcA2ADZANoA2wDcAN0A3gDfAOAA4QDiAOMA5ADlAOYA5wDoAOkA6gDrAOwA7QDuAO8A8ADxAPIA8wD0APUA9gD3APgA+QD6APsA/AD9AP4A/wAAAQEBAgEDAQQBBQEGAQcBCAEJAQoBCwEMAQ0BDgEPARABEQESARMBFAEVARYBFwEYARkBGgEbARwBHQEeAR8BIAEhASIBIwEkASUBJgEnASgBKQEqASsBLAEtAS4BLwEwATEBMgEzATQBNQE2ATcBOAE5AToBOwE8AT0BPgE/AUABQQFCAUMBRAFFAUYBRwFIAUkBSgFLAUwBTQFOAU8BUAFRAVIBUwFUAVUBVgFXAVgBWQFaAVsBXAFdAV4BXwFgAWEBYgFjAWQBZQFmAWcBaAFpAWoBawFsAW0BbgFvAXABcQFyAXMBdAF1AXYBdwF4AXkBegF7AXwBfQF+AX8BgAGBAYIBgwGEAYUBhgGHAYgBiQGKAYsBjAGNAY4BjwGQAZEBkgGTAZQBlQGWAZcBmAGZAZoBmwGcAZ0BngGfAaABoQGiAaMBpAGlAaYBpwGoAakBqgGrAawBrQGuAa8BsAGxAbIBswG0AbUBtgG3AbgBuQG6AbsBvAG9Ab4BvwHAAcEBwgHDAcQBxQHGAccByAHJAcoBywHMAc0BzgHPAdAB0QHSAdMB1AHVAdYB1wHYAdkB2gHbAdwB3QHeAd8B4AHhAeIB4wHkAeUB5gHnAegB6QHqAesB7AHtAe4B7wHwAfEB8gHzAQ==",
            "dtype": "i2"
           },
           "legendgroup": "",
           "marker": {
            "color": {
             "bdata": "AAABAAIAAwAEAAUABgAHAAgACQAKAAsADAANAA4ADwAQABEAEgATABQAFQAWABcAGAAZABoAGwAcAB0AHgAfACAAIQAiACMAJAAlACYAJwAoACkAKgArACwALQAuAC8AMAAxADIAMwA0ADUANgA3ADgAOQA6ADsAPAA9AD4APwBAAEEAQgBDAEQARQBGAEcASABJAEoASwBMAE0ATgBPAFAAUQBSAFMAVABVAFYAVwBYAFkAWgBbAFwAXQBeAF8AYABhAGIAYwBkAGUAZgBnAGgAaQBqAGsAbABtAG4AbwBwAHEAcgBzAHQAdQB2AHcAeAB5AHoAewB8AH0AfgB/AIAAgQCCAIMAhACFAIYAhwCIAIkAigCLAIwAjQCOAI8AkACRAJIAkwCUAJUAlgCXAJgAmQCaAJsAnACdAJ4AnwCgAKEAogCjAKQApQCmAKcAqACpAKoAqwCsAK0ArgCvALAAsQCyALMAtAC1ALYAtwC4ALkAugC7ALwAvQC+AL8AwADBAMIAwwDEAMUAxgDHAMgAyQDKAMsAzADNAM4AzwDQANEA0gDTANQA1QDWANcA2ADZANoA2wDcAN0A3gDfAOAA4QDiAOMA5ADlAOYA5wDoAOkA6gDrAOwA7QDuAO8A8ADxAPIA8wD0APUA9gD3APgA+QD6APsA/AD9AP4A/wAAAQEBAgEDAQQBBQEGAQcBCAEJAQoBCwEMAQ0BDgEPARABEQESARMBFAEVARYBFwEYARkBGgEbARwBHQEeAR8BIAEhASIBIwEkASUBJgEnASgBKQEqASsBLAEtAS4BLwEwATEBMgEzATQBNQE2ATcBOAE5AToBOwE8AT0BPgE/AUABQQFCAUMBRAFFAUYBRwFIAUkBSgFLAUwBTQFOAU8BUAFRAVIBUwFUAVUBVgFXAVgBWQFaAVsBXAFdAV4BXwFgAWEBYgFjAWQBZQFmAWcBaAFpAWoBawFsAW0BbgFvAXABcQFyAXMBdAF1AXYBdwF4AXkBegF7AXwBfQF+AX8BgAGBAYIBgwGEAYUBhgGHAYgBiQGKAYsBjAGNAY4BjwGQAZEBkgGTAZQBlQGWAZcBmAGZAZoBmwGcAZ0BngGfAaABoQGiAaMBpAGlAaYBpwGoAakBqgGrAawBrQGuAa8BsAGxAbIBswG0AbUBtgG3AbgBuQG6AbsBvAG9Ab4BvwHAAcEBwgHDAcQBxQHGAccByAHJAcoBywHMAc0BzgHPAdAB0QHSAdMB1AHVAdYB1wHYAdkB2gHbAdwB3QHeAd8B4AHhAeIB4wHkAeUB5gHnAegB6QHqAesB7AHtAe4B7wHwAfEB8gHzAQ==",
             "dtype": "i2"
            },
            "coloraxis": "coloraxis",
            "symbol": "circle"
           },
           "mode": "markers",
           "name": "",
           "orientation": "v",
           "showlegend": false,
           "type": "scatter",
           "x": {
            "bdata": "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",
            "dtype": "f4"
           },
           "xaxis": "x",
           "y": {
            "bdata": "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",
            "dtype": "f4"
           },
           "yaxis": "y"
          }
         ],
         "name": "22 neighbors"
        },
        {
         "data": [
          {
           "hovertemplate": "set=23 neighbors<br>x=%{x}<br>y=%{y}<br>index=%{marker.color}<extra></extra>",
           "ids": {
            "bdata": "AAABAAIAAwAEAAUABgAHAAgACQAKAAsADAANAA4ADwAQABEAEgATABQAFQAWABcAGAAZABoAGwAcAB0AHgAfACAAIQAiACMAJAAlACYAJwAoACkAKgArACwALQAuAC8AMAAxADIAMwA0ADUANgA3ADgAOQA6ADsAPAA9AD4APwBAAEEAQgBDAEQARQBGAEcASABJAEoASwBMAE0ATgBPAFAAUQBSAFMAVABVAFYAVwBYAFkAWgBbAFwAXQBeAF8AYABhAGIAYwBkAGUAZgBnAGgAaQBqAGsAbABtAG4AbwBwAHEAcgBzAHQAdQB2AHcAeAB5AHoAewB8AH0AfgB/AIAAgQCCAIMAhACFAIYAhwCIAIkAigCLAIwAjQCOAI8AkACRAJIAkwCUAJUAlgCXAJgAmQCaAJsAnACdAJ4AnwCgAKEAogCjAKQApQCmAKcAqACpAKoAqwCsAK0ArgCvALAAsQCyALMAtAC1ALYAtwC4ALkAugC7ALwAvQC+AL8AwADBAMIAwwDEAMUAxgDHAMgAyQDKAMsAzADNAM4AzwDQANEA0gDTANQA1QDWANcA2ADZANoA2wDcAN0A3gDfAOAA4QDiAOMA5ADlAOYA5wDoAOkA6gDrAOwA7QDuAO8A8ADxAPIA8wD0APUA9gD3APgA+QD6APsA/AD9AP4A/wAAAQEBAgEDAQQBBQEGAQcBCAEJAQoBCwEMAQ0BDgEPARABEQESARMBFAEVARYBFwEYARkBGgEbARwBHQEeAR8BIAEhASIBIwEkASUBJgEnASgBKQEqASsBLAEtAS4BLwEwATEBMgEzATQBNQE2ATcBOAE5AToBOwE8AT0BPgE/AUABQQFCAUMBRAFFAUYBRwFIAUkBSgFLAUwBTQFOAU8BUAFRAVIBUwFUAVUBVgFXAVgBWQFaAVsBXAFdAV4BXwFgAWEBYgFjAWQBZQFmAWcBaAFpAWoBawFsAW0BbgFvAXABcQFyAXMBdAF1AXYBdwF4AXkBegF7AXwBfQF+AX8BgAGBAYIBgwGEAYUBhgGHAYgBiQGKAYsBjAGNAY4BjwGQAZEBkgGTAZQBlQGWAZcBmAGZAZoBmwGcAZ0BngGfAaABoQGiAaMBpAGlAaYBpwGoAakBqgGrAawBrQGuAa8BsAGxAbIBswG0AbUBtgG3AbgBuQG6AbsBvAG9Ab4BvwHAAcEBwgHDAcQBxQHGAccByAHJAcoBywHMAc0BzgHPAdAB0QHSAdMB1AHVAdYB1wHYAdkB2gHbAdwB3QHeAd8B4AHhAeIB4wHkAeUB5gHnAegB6QHqAesB7AHtAe4B7wHwAfEB8gHzAQ==",
            "dtype": "i2"
           },
           "legendgroup": "",
           "marker": {
            "color": {
             "bdata": "AAABAAIAAwAEAAUABgAHAAgACQAKAAsADAANAA4ADwAQABEAEgATABQAFQAWABcAGAAZABoAGwAcAB0AHgAfACAAIQAiACMAJAAlACYAJwAoACkAKgArACwALQAuAC8AMAAxADIAMwA0ADUANgA3ADgAOQA6ADsAPAA9AD4APwBAAEEAQgBDAEQARQBGAEcASABJAEoASwBMAE0ATgBPAFAAUQBSAFMAVABVAFYAVwBYAFkAWgBbAFwAXQBeAF8AYABhAGIAYwBkAGUAZgBnAGgAaQBqAGsAbABtAG4AbwBwAHEAcgBzAHQAdQB2AHcAeAB5AHoAewB8AH0AfgB/AIAAgQCCAIMAhACFAIYAhwCIAIkAigCLAIwAjQCOAI8AkACRAJIAkwCUAJUAlgCXAJgAmQCaAJsAnACdAJ4AnwCgAKEAogCjAKQApQCmAKcAqACpAKoAqwCsAK0ArgCvALAAsQCyALMAtAC1ALYAtwC4ALkAugC7ALwAvQC+AL8AwADBAMIAwwDEAMUAxgDHAMgAyQDKAMsAzADNAM4AzwDQANEA0gDTANQA1QDWANcA2ADZANoA2wDcAN0A3gDfAOAA4QDiAOMA5ADlAOYA5wDoAOkA6gDrAOwA7QDuAO8A8ADxAPIA8wD0APUA9gD3APgA+QD6APsA/AD9AP4A/wAAAQEBAgEDAQQBBQEGAQcBCAEJAQoBCwEMAQ0BDgEPARABEQESARMBFAEVARYBFwEYARkBGgEbARwBHQEeAR8BIAEhASIBIwEkASUBJgEnASgBKQEqASsBLAEtAS4BLwEwATEBMgEzATQBNQE2ATcBOAE5AToBOwE8AT0BPgE/AUABQQFCAUMBRAFFAUYBRwFIAUkBSgFLAUwBTQFOAU8BUAFRAVIBUwFUAVUBVgFXAVgBWQFaAVsBXAFdAV4BXwFgAWEBYgFjAWQBZQFmAWcBaAFpAWoBawFsAW0BbgFvAXABcQFyAXMBdAF1AXYBdwF4AXkBegF7AXwBfQF+AX8BgAGBAYIBgwGEAYUBhgGHAYgBiQGKAYsBjAGNAY4BjwGQAZEBkgGTAZQBlQGWAZcBmAGZAZoBmwGcAZ0BngGfAaABoQGiAaMBpAGlAaYBpwGoAakBqgGrAawBrQGuAa8BsAGxAbIBswG0AbUBtgG3AbgBuQG6AbsBvAG9Ab4BvwHAAcEBwgHDAcQBxQHGAccByAHJAcoBywHMAc0BzgHPAdAB0QHSAdMB1AHVAdYB1wHYAdkB2gHbAdwB3QHeAd8B4AHhAeIB4wHkAeUB5gHnAegB6QHqAesB7AHtAe4B7wHwAfEB8gHzAQ==",
             "dtype": "i2"
            },
            "coloraxis": "coloraxis",
            "symbol": "circle"
           },
           "mode": "markers",
           "name": "",
           "orientation": "v",
           "showlegend": false,
           "type": "scatter",
           "x": {
            "bdata": "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",
            "dtype": "f4"
           },
           "xaxis": "x",
           "y": {
            "bdata": "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",
            "dtype": "f4"
           },
           "yaxis": "y"
          }
         ],
         "name": "23 neighbors"
        },
        {
         "data": [
          {
           "hovertemplate": "set=24 neighbors<br>x=%{x}<br>y=%{y}<br>index=%{marker.color}<extra></extra>",
           "ids": {
            "bdata": "AAABAAIAAwAEAAUABgAHAAgACQAKAAsADAANAA4ADwAQABEAEgATABQAFQAWABcAGAAZABoAGwAcAB0AHgAfACAAIQAiACMAJAAlACYAJwAoACkAKgArACwALQAuAC8AMAAxADIAMwA0ADUANgA3ADgAOQA6ADsAPAA9AD4APwBAAEEAQgBDAEQARQBGAEcASABJAEoASwBMAE0ATgBPAFAAUQBSAFMAVABVAFYAVwBYAFkAWgBbAFwAXQBeAF8AYABhAGIAYwBkAGUAZgBnAGgAaQBqAGsAbABtAG4AbwBwAHEAcgBzAHQAdQB2AHcAeAB5AHoAewB8AH0AfgB/AIAAgQCCAIMAhACFAIYAhwCIAIkAigCLAIwAjQCOAI8AkACRAJIAkwCUAJUAlgCXAJgAmQCaAJsAnACdAJ4AnwCgAKEAogCjAKQApQCmAKcAqACpAKoAqwCsAK0ArgCvALAAsQCyALMAtAC1ALYAtwC4ALkAugC7ALwAvQC+AL8AwADBAMIAwwDEAMUAxgDHAMgAyQDKAMsAzADNAM4AzwDQANEA0gDTANQA1QDWANcA2ADZANoA2wDcAN0A3gDfAOAA4QDiAOMA5ADlAOYA5wDoAOkA6gDrAOwA7QDuAO8A8ADxAPIA8wD0APUA9gD3APgA+QD6APsA/AD9AP4A/wAAAQEBAgEDAQQBBQEGAQcBCAEJAQoBCwEMAQ0BDgEPARABEQESARMBFAEVARYBFwEYARkBGgEbARwBHQEeAR8BIAEhASIBIwEkASUBJgEnASgBKQEqASsBLAEtAS4BLwEwATEBMgEzATQBNQE2ATcBOAE5AToBOwE8AT0BPgE/AUABQQFCAUMBRAFFAUYBRwFIAUkBSgFLAUwBTQFOAU8BUAFRAVIBUwFUAVUBVgFXAVgBWQFaAVsBXAFdAV4BXwFgAWEBYgFjAWQBZQFmAWcBaAFpAWoBawFsAW0BbgFvAXABcQFyAXMBdAF1AXYBdwF4AXkBegF7AXwBfQF+AX8BgAGBAYIBgwGEAYUBhgGHAYgBiQGKAYsBjAGNAY4BjwGQAZEBkgGTAZQBlQGWAZcBmAGZAZoBmwGcAZ0BngGfAaABoQGiAaMBpAGlAaYBpwGoAakBqgGrAawBrQGuAa8BsAGxAbIBswG0AbUBtgG3AbgBuQG6AbsBvAG9Ab4BvwHAAcEBwgHDAcQBxQHGAccByAHJAcoBywHMAc0BzgHPAdAB0QHSAdMB1AHVAdYB1wHYAdkB2gHbAdwB3QHeAd8B4AHhAeIB4wHkAeUB5gHnAegB6QHqAesB7AHtAe4B7wHwAfEB8gHzAQ==",
            "dtype": "i2"
           },
           "legendgroup": "",
           "marker": {
            "color": {
             "bdata": "AAABAAIAAwAEAAUABgAHAAgACQAKAAsADAANAA4ADwAQABEAEgATABQAFQAWABcAGAAZABoAGwAcAB0AHgAfACAAIQAiACMAJAAlACYAJwAoACkAKgArACwALQAuAC8AMAAxADIAMwA0ADUANgA3ADgAOQA6ADsAPAA9AD4APwBAAEEAQgBDAEQARQBGAEcASABJAEoASwBMAE0ATgBPAFAAUQBSAFMAVABVAFYAVwBYAFkAWgBbAFwAXQBeAF8AYABhAGIAYwBkAGUAZgBnAGgAaQBqAGsAbABtAG4AbwBwAHEAcgBzAHQAdQB2AHcAeAB5AHoAewB8AH0AfgB/AIAAgQCCAIMAhACFAIYAhwCIAIkAigCLAIwAjQCOAI8AkACRAJIAkwCUAJUAlgCXAJgAmQCaAJsAnACdAJ4AnwCgAKEAogCjAKQApQCmAKcAqACpAKoAqwCsAK0ArgCvALAAsQCyALMAtAC1ALYAtwC4ALkAugC7ALwAvQC+AL8AwADBAMIAwwDEAMUAxgDHAMgAyQDKAMsAzADNAM4AzwDQANEA0gDTANQA1QDWANcA2ADZANoA2wDcAN0A3gDfAOAA4QDiAOMA5ADlAOYA5wDoAOkA6gDrAOwA7QDuAO8A8ADxAPIA8wD0APUA9gD3APgA+QD6APsA/AD9AP4A/wAAAQEBAgEDAQQBBQEGAQcBCAEJAQoBCwEMAQ0BDgEPARABEQESARMBFAEVARYBFwEYARkBGgEbARwBHQEeAR8BIAEhASIBIwEkASUBJgEnASgBKQEqASsBLAEtAS4BLwEwATEBMgEzATQBNQE2ATcBOAE5AToBOwE8AT0BPgE/AUABQQFCAUMBRAFFAUYBRwFIAUkBSgFLAUwBTQFOAU8BUAFRAVIBUwFUAVUBVgFXAVgBWQFaAVsBXAFdAV4BXwFgAWEBYgFjAWQBZQFmAWcBaAFpAWoBawFsAW0BbgFvAXABcQFyAXMBdAF1AXYBdwF4AXkBegF7AXwBfQF+AX8BgAGBAYIBgwGEAYUBhgGHAYgBiQGKAYsBjAGNAY4BjwGQAZEBkgGTAZQBlQGWAZcBmAGZAZoBmwGcAZ0BngGfAaABoQGiAaMBpAGlAaYBpwGoAakBqgGrAawBrQGuAa8BsAGxAbIBswG0AbUBtgG3AbgBuQG6AbsBvAG9Ab4BvwHAAcEBwgHDAcQBxQHGAccByAHJAcoBywHMAc0BzgHPAdAB0QHSAdMB1AHVAdYB1wHYAdkB2gHbAdwB3QHeAd8B4AHhAeIB4wHkAeUB5gHnAegB6QHqAesB7AHtAe4B7wHwAfEB8gHzAQ==",
             "dtype": "i2"
            },
            "coloraxis": "coloraxis",
            "symbol": "circle"
           },
           "mode": "markers",
           "name": "",
           "orientation": "v",
           "showlegend": false,
           "type": "scatter",
           "x": {
            "bdata": "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",
            "dtype": "f4"
           },
           "xaxis": "x",
           "y": {
            "bdata": "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",
            "dtype": "f4"
           },
           "yaxis": "y"
          }
         ],
         "name": "24 neighbors"
        },
        {
         "data": [
          {
           "hovertemplate": "set=25 neighbors<br>x=%{x}<br>y=%{y}<br>index=%{marker.color}<extra></extra>",
           "ids": {
            "bdata": "AAABAAIAAwAEAAUABgAHAAgACQAKAAsADAANAA4ADwAQABEAEgATABQAFQAWABcAGAAZABoAGwAcAB0AHgAfACAAIQAiACMAJAAlACYAJwAoACkAKgArACwALQAuAC8AMAAxADIAMwA0ADUANgA3ADgAOQA6ADsAPAA9AD4APwBAAEEAQgBDAEQARQBGAEcASABJAEoASwBMAE0ATgBPAFAAUQBSAFMAVABVAFYAVwBYAFkAWgBbAFwAXQBeAF8AYABhAGIAYwBkAGUAZgBnAGgAaQBqAGsAbABtAG4AbwBwAHEAcgBzAHQAdQB2AHcAeAB5AHoAewB8AH0AfgB/AIAAgQCCAIMAhACFAIYAhwCIAIkAigCLAIwAjQCOAI8AkACRAJIAkwCUAJUAlgCXAJgAmQCaAJsAnACdAJ4AnwCgAKEAogCjAKQApQCmAKcAqACpAKoAqwCsAK0ArgCvALAAsQCyALMAtAC1ALYAtwC4ALkAugC7ALwAvQC+AL8AwADBAMIAwwDEAMUAxgDHAMgAyQDKAMsAzADNAM4AzwDQANEA0gDTANQA1QDWANcA2ADZANoA2wDcAN0A3gDfAOAA4QDiAOMA5ADlAOYA5wDoAOkA6gDrAOwA7QDuAO8A8ADxAPIA8wD0APUA9gD3APgA+QD6APsA/AD9AP4A/wAAAQEBAgEDAQQBBQEGAQcBCAEJAQoBCwEMAQ0BDgEPARABEQESARMBFAEVARYBFwEYARkBGgEbARwBHQEeAR8BIAEhASIBIwEkASUBJgEnASgBKQEqASsBLAEtAS4BLwEwATEBMgEzATQBNQE2ATcBOAE5AToBOwE8AT0BPgE/AUABQQFCAUMBRAFFAUYBRwFIAUkBSgFLAUwBTQFOAU8BUAFRAVIBUwFUAVUBVgFXAVgBWQFaAVsBXAFdAV4BXwFgAWEBYgFjAWQBZQFmAWcBaAFpAWoBawFsAW0BbgFvAXABcQFyAXMBdAF1AXYBdwF4AXkBegF7AXwBfQF+AX8BgAGBAYIBgwGEAYUBhgGHAYgBiQGKAYsBjAGNAY4BjwGQAZEBkgGTAZQBlQGWAZcBmAGZAZoBmwGcAZ0BngGfAaABoQGiAaMBpAGlAaYBpwGoAakBqgGrAawBrQGuAa8BsAGxAbIBswG0AbUBtgG3AbgBuQG6AbsBvAG9Ab4BvwHAAcEBwgHDAcQBxQHGAccByAHJAcoBywHMAc0BzgHPAdAB0QHSAdMB1AHVAdYB1wHYAdkB2gHbAdwB3QHeAd8B4AHhAeIB4wHkAeUB5gHnAegB6QHqAesB7AHtAe4B7wHwAfEB8gHzAQ==",
            "dtype": "i2"
           },
           "legendgroup": "",
           "marker": {
            "color": {
             "bdata": "AAABAAIAAwAEAAUABgAHAAgACQAKAAsADAANAA4ADwAQABEAEgATABQAFQAWABcAGAAZABoAGwAcAB0AHgAfACAAIQAiACMAJAAlACYAJwAoACkAKgArACwALQAuAC8AMAAxADIAMwA0ADUANgA3ADgAOQA6ADsAPAA9AD4APwBAAEEAQgBDAEQARQBGAEcASABJAEoASwBMAE0ATgBPAFAAUQBSAFMAVABVAFYAVwBYAFkAWgBbAFwAXQBeAF8AYABhAGIAYwBkAGUAZgBnAGgAaQBqAGsAbABtAG4AbwBwAHEAcgBzAHQAdQB2AHcAeAB5AHoAewB8AH0AfgB/AIAAgQCCAIMAhACFAIYAhwCIAIkAigCLAIwAjQCOAI8AkACRAJIAkwCUAJUAlgCXAJgAmQCaAJsAnACdAJ4AnwCgAKEAogCjAKQApQCmAKcAqACpAKoAqwCsAK0ArgCvALAAsQCyALMAtAC1ALYAtwC4ALkAugC7ALwAvQC+AL8AwADBAMIAwwDEAMUAxgDHAMgAyQDKAMsAzADNAM4AzwDQANEA0gDTANQA1QDWANcA2ADZANoA2wDcAN0A3gDfAOAA4QDiAOMA5ADlAOYA5wDoAOkA6gDrAOwA7QDuAO8A8ADxAPIA8wD0APUA9gD3APgA+QD6APsA/AD9AP4A/wAAAQEBAgEDAQQBBQEGAQcBCAEJAQoBCwEMAQ0BDgEPARABEQESARMBFAEVARYBFwEYARkBGgEbARwBHQEeAR8BIAEhASIBIwEkASUBJgEnASgBKQEqASsBLAEtAS4BLwEwATEBMgEzATQBNQE2ATcBOAE5AToBOwE8AT0BPgE/AUABQQFCAUMBRAFFAUYBRwFIAUkBSgFLAUwBTQFOAU8BUAFRAVIBUwFUAVUBVgFXAVgBWQFaAVsBXAFdAV4BXwFgAWEBYgFjAWQBZQFmAWcBaAFpAWoBawFsAW0BbgFvAXABcQFyAXMBdAF1AXYBdwF4AXkBegF7AXwBfQF+AX8BgAGBAYIBgwGEAYUBhgGHAYgBiQGKAYsBjAGNAY4BjwGQAZEBkgGTAZQBlQGWAZcBmAGZAZoBmwGcAZ0BngGfAaABoQGiAaMBpAGlAaYBpwGoAakBqgGrAawBrQGuAa8BsAGxAbIBswG0AbUBtgG3AbgBuQG6AbsBvAG9Ab4BvwHAAcEBwgHDAcQBxQHGAccByAHJAcoBywHMAc0BzgHPAdAB0QHSAdMB1AHVAdYB1wHYAdkB2gHbAdwB3QHeAd8B4AHhAeIB4wHkAeUB5gHnAegB6QHqAesB7AHtAe4B7wHwAfEB8gHzAQ==",
             "dtype": "i2"
            },
            "coloraxis": "coloraxis",
            "symbol": "circle"
           },
           "mode": "markers",
           "name": "",
           "orientation": "v",
           "showlegend": false,
           "type": "scatter",
           "x": {
            "bdata": "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",
            "dtype": "f4"
           },
           "xaxis": "x",
           "y": {
            "bdata": "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",
            "dtype": "f4"
           },
           "yaxis": "y"
          }
         ],
         "name": "25 neighbors"
        },
        {
         "data": [
          {
           "hovertemplate": "set=26 neighbors<br>x=%{x}<br>y=%{y}<br>index=%{marker.color}<extra></extra>",
           "ids": {
            "bdata": "AAABAAIAAwAEAAUABgAHAAgACQAKAAsADAANAA4ADwAQABEAEgATABQAFQAWABcAGAAZABoAGwAcAB0AHgAfACAAIQAiACMAJAAlACYAJwAoACkAKgArACwALQAuAC8AMAAxADIAMwA0ADUANgA3ADgAOQA6ADsAPAA9AD4APwBAAEEAQgBDAEQARQBGAEcASABJAEoASwBMAE0ATgBPAFAAUQBSAFMAVABVAFYAVwBYAFkAWgBbAFwAXQBeAF8AYABhAGIAYwBkAGUAZgBnAGgAaQBqAGsAbABtAG4AbwBwAHEAcgBzAHQAdQB2AHcAeAB5AHoAewB8AH0AfgB/AIAAgQCCAIMAhACFAIYAhwCIAIkAigCLAIwAjQCOAI8AkACRAJIAkwCUAJUAlgCXAJgAmQCaAJsAnACdAJ4AnwCgAKEAogCjAKQApQCmAKcAqACpAKoAqwCsAK0ArgCvALAAsQCyALMAtAC1ALYAtwC4ALkAugC7ALwAvQC+AL8AwADBAMIAwwDEAMUAxgDHAMgAyQDKAMsAzADNAM4AzwDQANEA0gDTANQA1QDWANcA2ADZANoA2wDcAN0A3gDfAOAA4QDiAOMA5ADlAOYA5wDoAOkA6gDrAOwA7QDuAO8A8ADxAPIA8wD0APUA9gD3APgA+QD6APsA/AD9AP4A/wAAAQEBAgEDAQQBBQEGAQcBCAEJAQoBCwEMAQ0BDgEPARABEQESARMBFAEVARYBFwEYARkBGgEbARwBHQEeAR8BIAEhASIBIwEkASUBJgEnASgBKQEqASsBLAEtAS4BLwEwATEBMgEzATQBNQE2ATcBOAE5AToBOwE8AT0BPgE/AUABQQFCAUMBRAFFAUYBRwFIAUkBSgFLAUwBTQFOAU8BUAFRAVIBUwFUAVUBVgFXAVgBWQFaAVsBXAFdAV4BXwFgAWEBYgFjAWQBZQFmAWcBaAFpAWoBawFsAW0BbgFvAXABcQFyAXMBdAF1AXYBdwF4AXkBegF7AXwBfQF+AX8BgAGBAYIBgwGEAYUBhgGHAYgBiQGKAYsBjAGNAY4BjwGQAZEBkgGTAZQBlQGWAZcBmAGZAZoBmwGcAZ0BngGfAaABoQGiAaMBpAGlAaYBpwGoAakBqgGrAawBrQGuAa8BsAGxAbIBswG0AbUBtgG3AbgBuQG6AbsBvAG9Ab4BvwHAAcEBwgHDAcQBxQHGAccByAHJAcoBywHMAc0BzgHPAdAB0QHSAdMB1AHVAdYB1wHYAdkB2gHbAdwB3QHeAd8B4AHhAeIB4wHkAeUB5gHnAegB6QHqAesB7AHtAe4B7wHwAfEB8gHzAQ==",
            "dtype": "i2"
           },
           "legendgroup": "",
           "marker": {
            "color": {
             "bdata": "AAABAAIAAwAEAAUABgAHAAgACQAKAAsADAANAA4ADwAQABEAEgATABQAFQAWABcAGAAZABoAGwAcAB0AHgAfACAAIQAiACMAJAAlACYAJwAoACkAKgArACwALQAuAC8AMAAxADIAMwA0ADUANgA3ADgAOQA6ADsAPAA9AD4APwBAAEEAQgBDAEQARQBGAEcASABJAEoASwBMAE0ATgBPAFAAUQBSAFMAVABVAFYAVwBYAFkAWgBbAFwAXQBeAF8AYABhAGIAYwBkAGUAZgBnAGgAaQBqAGsAbABtAG4AbwBwAHEAcgBzAHQAdQB2AHcAeAB5AHoAewB8AH0AfgB/AIAAgQCCAIMAhACFAIYAhwCIAIkAigCLAIwAjQCOAI8AkACRAJIAkwCUAJUAlgCXAJgAmQCaAJsAnACdAJ4AnwCgAKEAogCjAKQApQCmAKcAqACpAKoAqwCsAK0ArgCvALAAsQCyALMAtAC1ALYAtwC4ALkAugC7ALwAvQC+AL8AwADBAMIAwwDEAMUAxgDHAMgAyQDKAMsAzADNAM4AzwDQANEA0gDTANQA1QDWANcA2ADZANoA2wDcAN0A3gDfAOAA4QDiAOMA5ADlAOYA5wDoAOkA6gDrAOwA7QDuAO8A8ADxAPIA8wD0APUA9gD3APgA+QD6APsA/AD9AP4A/wAAAQEBAgEDAQQBBQEGAQcBCAEJAQoBCwEMAQ0BDgEPARABEQESARMBFAEVARYBFwEYARkBGgEbARwBHQEeAR8BIAEhASIBIwEkASUBJgEnASgBKQEqASsBLAEtAS4BLwEwATEBMgEzATQBNQE2ATcBOAE5AToBOwE8AT0BPgE/AUABQQFCAUMBRAFFAUYBRwFIAUkBSgFLAUwBTQFOAU8BUAFRAVIBUwFUAVUBVgFXAVgBWQFaAVsBXAFdAV4BXwFgAWEBYgFjAWQBZQFmAWcBaAFpAWoBawFsAW0BbgFvAXABcQFyAXMBdAF1AXYBdwF4AXkBegF7AXwBfQF+AX8BgAGBAYIBgwGEAYUBhgGHAYgBiQGKAYsBjAGNAY4BjwGQAZEBkgGTAZQBlQGWAZcBmAGZAZoBmwGcAZ0BngGfAaABoQGiAaMBpAGlAaYBpwGoAakBqgGrAawBrQGuAa8BsAGxAbIBswG0AbUBtgG3AbgBuQG6AbsBvAG9Ab4BvwHAAcEBwgHDAcQBxQHGAccByAHJAcoBywHMAc0BzgHPAdAB0QHSAdMB1AHVAdYB1wHYAdkB2gHbAdwB3QHeAd8B4AHhAeIB4wHkAeUB5gHnAegB6QHqAesB7AHtAe4B7wHwAfEB8gHzAQ==",
             "dtype": "i2"
            },
            "coloraxis": "coloraxis",
            "symbol": "circle"
           },
           "mode": "markers",
           "name": "",
           "orientation": "v",
           "showlegend": false,
           "type": "scatter",
           "x": {
            "bdata": "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",
            "dtype": "f4"
           },
           "xaxis": "x",
           "y": {
            "bdata": "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",
            "dtype": "f4"
           },
           "yaxis": "y"
          }
         ],
         "name": "26 neighbors"
        },
        {
         "data": [
          {
           "hovertemplate": "set=27 neighbors<br>x=%{x}<br>y=%{y}<br>index=%{marker.color}<extra></extra>",
           "ids": {
            "bdata": "AAABAAIAAwAEAAUABgAHAAgACQAKAAsADAANAA4ADwAQABEAEgATABQAFQAWABcAGAAZABoAGwAcAB0AHgAfACAAIQAiACMAJAAlACYAJwAoACkAKgArACwALQAuAC8AMAAxADIAMwA0ADUANgA3ADgAOQA6ADsAPAA9AD4APwBAAEEAQgBDAEQARQBGAEcASABJAEoASwBMAE0ATgBPAFAAUQBSAFMAVABVAFYAVwBYAFkAWgBbAFwAXQBeAF8AYABhAGIAYwBkAGUAZgBnAGgAaQBqAGsAbABtAG4AbwBwAHEAcgBzAHQAdQB2AHcAeAB5AHoAewB8AH0AfgB/AIAAgQCCAIMAhACFAIYAhwCIAIkAigCLAIwAjQCOAI8AkACRAJIAkwCUAJUAlgCXAJgAmQCaAJsAnACdAJ4AnwCgAKEAogCjAKQApQCmAKcAqACpAKoAqwCsAK0ArgCvALAAsQCyALMAtAC1ALYAtwC4ALkAugC7ALwAvQC+AL8AwADBAMIAwwDEAMUAxgDHAMgAyQDKAMsAzADNAM4AzwDQANEA0gDTANQA1QDWANcA2ADZANoA2wDcAN0A3gDfAOAA4QDiAOMA5ADlAOYA5wDoAOkA6gDrAOwA7QDuAO8A8ADxAPIA8wD0APUA9gD3APgA+QD6APsA/AD9AP4A/wAAAQEBAgEDAQQBBQEGAQcBCAEJAQoBCwEMAQ0BDgEPARABEQESARMBFAEVARYBFwEYARkBGgEbARwBHQEeAR8BIAEhASIBIwEkASUBJgEnASgBKQEqASsBLAEtAS4BLwEwATEBMgEzATQBNQE2ATcBOAE5AToBOwE8AT0BPgE/AUABQQFCAUMBRAFFAUYBRwFIAUkBSgFLAUwBTQFOAU8BUAFRAVIBUwFUAVUBVgFXAVgBWQFaAVsBXAFdAV4BXwFgAWEBYgFjAWQBZQFmAWcBaAFpAWoBawFsAW0BbgFvAXABcQFyAXMBdAF1AXYBdwF4AXkBegF7AXwBfQF+AX8BgAGBAYIBgwGEAYUBhgGHAYgBiQGKAYsBjAGNAY4BjwGQAZEBkgGTAZQBlQGWAZcBmAGZAZoBmwGcAZ0BngGfAaABoQGiAaMBpAGlAaYBpwGoAakBqgGrAawBrQGuAa8BsAGxAbIBswG0AbUBtgG3AbgBuQG6AbsBvAG9Ab4BvwHAAcEBwgHDAcQBxQHGAccByAHJAcoBywHMAc0BzgHPAdAB0QHSAdMB1AHVAdYB1wHYAdkB2gHbAdwB3QHeAd8B4AHhAeIB4wHkAeUB5gHnAegB6QHqAesB7AHtAe4B7wHwAfEB8gHzAQ==",
            "dtype": "i2"
           },
           "legendgroup": "",
           "marker": {
            "color": {
             "bdata": "AAABAAIAAwAEAAUABgAHAAgACQAKAAsADAANAA4ADwAQABEAEgATABQAFQAWABcAGAAZABoAGwAcAB0AHgAfACAAIQAiACMAJAAlACYAJwAoACkAKgArACwALQAuAC8AMAAxADIAMwA0ADUANgA3ADgAOQA6ADsAPAA9AD4APwBAAEEAQgBDAEQARQBGAEcASABJAEoASwBMAE0ATgBPAFAAUQBSAFMAVABVAFYAVwBYAFkAWgBbAFwAXQBeAF8AYABhAGIAYwBkAGUAZgBnAGgAaQBqAGsAbABtAG4AbwBwAHEAcgBzAHQAdQB2AHcAeAB5AHoAewB8AH0AfgB/AIAAgQCCAIMAhACFAIYAhwCIAIkAigCLAIwAjQCOAI8AkACRAJIAkwCUAJUAlgCXAJgAmQCaAJsAnACdAJ4AnwCgAKEAogCjAKQApQCmAKcAqACpAKoAqwCsAK0ArgCvALAAsQCyALMAtAC1ALYAtwC4ALkAugC7ALwAvQC+AL8AwADBAMIAwwDEAMUAxgDHAMgAyQDKAMsAzADNAM4AzwDQANEA0gDTANQA1QDWANcA2ADZANoA2wDcAN0A3gDfAOAA4QDiAOMA5ADlAOYA5wDoAOkA6gDrAOwA7QDuAO8A8ADxAPIA8wD0APUA9gD3APgA+QD6APsA/AD9AP4A/wAAAQEBAgEDAQQBBQEGAQcBCAEJAQoBCwEMAQ0BDgEPARABEQESARMBFAEVARYBFwEYARkBGgEbARwBHQEeAR8BIAEhASIBIwEkASUBJgEnASgBKQEqASsBLAEtAS4BLwEwATEBMgEzATQBNQE2ATcBOAE5AToBOwE8AT0BPgE/AUABQQFCAUMBRAFFAUYBRwFIAUkBSgFLAUwBTQFOAU8BUAFRAVIBUwFUAVUBVgFXAVgBWQFaAVsBXAFdAV4BXwFgAWEBYgFjAWQBZQFmAWcBaAFpAWoBawFsAW0BbgFvAXABcQFyAXMBdAF1AXYBdwF4AXkBegF7AXwBfQF+AX8BgAGBAYIBgwGEAYUBhgGHAYgBiQGKAYsBjAGNAY4BjwGQAZEBkgGTAZQBlQGWAZcBmAGZAZoBmwGcAZ0BngGfAaABoQGiAaMBpAGlAaYBpwGoAakBqgGrAawBrQGuAa8BsAGxAbIBswG0AbUBtgG3AbgBuQG6AbsBvAG9Ab4BvwHAAcEBwgHDAcQBxQHGAccByAHJAcoBywHMAc0BzgHPAdAB0QHSAdMB1AHVAdYB1wHYAdkB2gHbAdwB3QHeAd8B4AHhAeIB4wHkAeUB5gHnAegB6QHqAesB7AHtAe4B7wHwAfEB8gHzAQ==",
             "dtype": "i2"
            },
            "coloraxis": "coloraxis",
            "symbol": "circle"
           },
           "mode": "markers",
           "name": "",
           "orientation": "v",
           "showlegend": false,
           "type": "scatter",
           "x": {
            "bdata": "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",
            "dtype": "f4"
           },
           "xaxis": "x",
           "y": {
            "bdata": "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",
            "dtype": "f4"
           },
           "yaxis": "y"
          }
         ],
         "name": "27 neighbors"
        },
        {
         "data": [
          {
           "hovertemplate": "set=28 neighbors<br>x=%{x}<br>y=%{y}<br>index=%{marker.color}<extra></extra>",
           "ids": {
            "bdata": "AAABAAIAAwAEAAUABgAHAAgACQAKAAsADAANAA4ADwAQABEAEgATABQAFQAWABcAGAAZABoAGwAcAB0AHgAfACAAIQAiACMAJAAlACYAJwAoACkAKgArACwALQAuAC8AMAAxADIAMwA0ADUANgA3ADgAOQA6ADsAPAA9AD4APwBAAEEAQgBDAEQARQBGAEcASABJAEoASwBMAE0ATgBPAFAAUQBSAFMAVABVAFYAVwBYAFkAWgBbAFwAXQBeAF8AYABhAGIAYwBkAGUAZgBnAGgAaQBqAGsAbABtAG4AbwBwAHEAcgBzAHQAdQB2AHcAeAB5AHoAewB8AH0AfgB/AIAAgQCCAIMAhACFAIYAhwCIAIkAigCLAIwAjQCOAI8AkACRAJIAkwCUAJUAlgCXAJgAmQCaAJsAnACdAJ4AnwCgAKEAogCjAKQApQCmAKcAqACpAKoAqwCsAK0ArgCvALAAsQCyALMAtAC1ALYAtwC4ALkAugC7ALwAvQC+AL8AwADBAMIAwwDEAMUAxgDHAMgAyQDKAMsAzADNAM4AzwDQANEA0gDTANQA1QDWANcA2ADZANoA2wDcAN0A3gDfAOAA4QDiAOMA5ADlAOYA5wDoAOkA6gDrAOwA7QDuAO8A8ADxAPIA8wD0APUA9gD3APgA+QD6APsA/AD9AP4A/wAAAQEBAgEDAQQBBQEGAQcBCAEJAQoBCwEMAQ0BDgEPARABEQESARMBFAEVARYBFwEYARkBGgEbARwBHQEeAR8BIAEhASIBIwEkASUBJgEnASgBKQEqASsBLAEtAS4BLwEwATEBMgEzATQBNQE2ATcBOAE5AToBOwE8AT0BPgE/AUABQQFCAUMBRAFFAUYBRwFIAUkBSgFLAUwBTQFOAU8BUAFRAVIBUwFUAVUBVgFXAVgBWQFaAVsBXAFdAV4BXwFgAWEBYgFjAWQBZQFmAWcBaAFpAWoBawFsAW0BbgFvAXABcQFyAXMBdAF1AXYBdwF4AXkBegF7AXwBfQF+AX8BgAGBAYIBgwGEAYUBhgGHAYgBiQGKAYsBjAGNAY4BjwGQAZEBkgGTAZQBlQGWAZcBmAGZAZoBmwGcAZ0BngGfAaABoQGiAaMBpAGlAaYBpwGoAakBqgGrAawBrQGuAa8BsAGxAbIBswG0AbUBtgG3AbgBuQG6AbsBvAG9Ab4BvwHAAcEBwgHDAcQBxQHGAccByAHJAcoBywHMAc0BzgHPAdAB0QHSAdMB1AHVAdYB1wHYAdkB2gHbAdwB3QHeAd8B4AHhAeIB4wHkAeUB5gHnAegB6QHqAesB7AHtAe4B7wHwAfEB8gHzAQ==",
            "dtype": "i2"
           },
           "legendgroup": "",
           "marker": {
            "color": {
             "bdata": "AAABAAIAAwAEAAUABgAHAAgACQAKAAsADAANAA4ADwAQABEAEgATABQAFQAWABcAGAAZABoAGwAcAB0AHgAfACAAIQAiACMAJAAlACYAJwAoACkAKgArACwALQAuAC8AMAAxADIAMwA0ADUANgA3ADgAOQA6ADsAPAA9AD4APwBAAEEAQgBDAEQARQBGAEcASABJAEoASwBMAE0ATgBPAFAAUQBSAFMAVABVAFYAVwBYAFkAWgBbAFwAXQBeAF8AYABhAGIAYwBkAGUAZgBnAGgAaQBqAGsAbABtAG4AbwBwAHEAcgBzAHQAdQB2AHcAeAB5AHoAewB8AH0AfgB/AIAAgQCCAIMAhACFAIYAhwCIAIkAigCLAIwAjQCOAI8AkACRAJIAkwCUAJUAlgCXAJgAmQCaAJsAnACdAJ4AnwCgAKEAogCjAKQApQCmAKcAqACpAKoAqwCsAK0ArgCvALAAsQCyALMAtAC1ALYAtwC4ALkAugC7ALwAvQC+AL8AwADBAMIAwwDEAMUAxgDHAMgAyQDKAMsAzADNAM4AzwDQANEA0gDTANQA1QDWANcA2ADZANoA2wDcAN0A3gDfAOAA4QDiAOMA5ADlAOYA5wDoAOkA6gDrAOwA7QDuAO8A8ADxAPIA8wD0APUA9gD3APgA+QD6APsA/AD9AP4A/wAAAQEBAgEDAQQBBQEGAQcBCAEJAQoBCwEMAQ0BDgEPARABEQESARMBFAEVARYBFwEYARkBGgEbARwBHQEeAR8BIAEhASIBIwEkASUBJgEnASgBKQEqASsBLAEtAS4BLwEwATEBMgEzATQBNQE2ATcBOAE5AToBOwE8AT0BPgE/AUABQQFCAUMBRAFFAUYBRwFIAUkBSgFLAUwBTQFOAU8BUAFRAVIBUwFUAVUBVgFXAVgBWQFaAVsBXAFdAV4BXwFgAWEBYgFjAWQBZQFmAWcBaAFpAWoBawFsAW0BbgFvAXABcQFyAXMBdAF1AXYBdwF4AXkBegF7AXwBfQF+AX8BgAGBAYIBgwGEAYUBhgGHAYgBiQGKAYsBjAGNAY4BjwGQAZEBkgGTAZQBlQGWAZcBmAGZAZoBmwGcAZ0BngGfAaABoQGiAaMBpAGlAaYBpwGoAakBqgGrAawBrQGuAa8BsAGxAbIBswG0AbUBtgG3AbgBuQG6AbsBvAG9Ab4BvwHAAcEBwgHDAcQBxQHGAccByAHJAcoBywHMAc0BzgHPAdAB0QHSAdMB1AHVAdYB1wHYAdkB2gHbAdwB3QHeAd8B4AHhAeIB4wHkAeUB5gHnAegB6QHqAesB7AHtAe4B7wHwAfEB8gHzAQ==",
             "dtype": "i2"
            },
            "coloraxis": "coloraxis",
            "symbol": "circle"
           },
           "mode": "markers",
           "name": "",
           "orientation": "v",
           "showlegend": false,
           "type": "scatter",
           "x": {
            "bdata": "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",
            "dtype": "f4"
           },
           "xaxis": "x",
           "y": {
            "bdata": "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",
            "dtype": "f4"
           },
           "yaxis": "y"
          }
         ],
         "name": "28 neighbors"
        },
        {
         "data": [
          {
           "hovertemplate": "set=29 neighbors<br>x=%{x}<br>y=%{y}<br>index=%{marker.color}<extra></extra>",
           "ids": {
            "bdata": "AAABAAIAAwAEAAUABgAHAAgACQAKAAsADAANAA4ADwAQABEAEgATABQAFQAWABcAGAAZABoAGwAcAB0AHgAfACAAIQAiACMAJAAlACYAJwAoACkAKgArACwALQAuAC8AMAAxADIAMwA0ADUANgA3ADgAOQA6ADsAPAA9AD4APwBAAEEAQgBDAEQARQBGAEcASABJAEoASwBMAE0ATgBPAFAAUQBSAFMAVABVAFYAVwBYAFkAWgBbAFwAXQBeAF8AYABhAGIAYwBkAGUAZgBnAGgAaQBqAGsAbABtAG4AbwBwAHEAcgBzAHQAdQB2AHcAeAB5AHoAewB8AH0AfgB/AIAAgQCCAIMAhACFAIYAhwCIAIkAigCLAIwAjQCOAI8AkACRAJIAkwCUAJUAlgCXAJgAmQCaAJsAnACdAJ4AnwCgAKEAogCjAKQApQCmAKcAqACpAKoAqwCsAK0ArgCvALAAsQCyALMAtAC1ALYAtwC4ALkAugC7ALwAvQC+AL8AwADBAMIAwwDEAMUAxgDHAMgAyQDKAMsAzADNAM4AzwDQANEA0gDTANQA1QDWANcA2ADZANoA2wDcAN0A3gDfAOAA4QDiAOMA5ADlAOYA5wDoAOkA6gDrAOwA7QDuAO8A8ADxAPIA8wD0APUA9gD3APgA+QD6APsA/AD9AP4A/wAAAQEBAgEDAQQBBQEGAQcBCAEJAQoBCwEMAQ0BDgEPARABEQESARMBFAEVARYBFwEYARkBGgEbARwBHQEeAR8BIAEhASIBIwEkASUBJgEnASgBKQEqASsBLAEtAS4BLwEwATEBMgEzATQBNQE2ATcBOAE5AToBOwE8AT0BPgE/AUABQQFCAUMBRAFFAUYBRwFIAUkBSgFLAUwBTQFOAU8BUAFRAVIBUwFUAVUBVgFXAVgBWQFaAVsBXAFdAV4BXwFgAWEBYgFjAWQBZQFmAWcBaAFpAWoBawFsAW0BbgFvAXABcQFyAXMBdAF1AXYBdwF4AXkBegF7AXwBfQF+AX8BgAGBAYIBgwGEAYUBhgGHAYgBiQGKAYsBjAGNAY4BjwGQAZEBkgGTAZQBlQGWAZcBmAGZAZoBmwGcAZ0BngGfAaABoQGiAaMBpAGlAaYBpwGoAakBqgGrAawBrQGuAa8BsAGxAbIBswG0AbUBtgG3AbgBuQG6AbsBvAG9Ab4BvwHAAcEBwgHDAcQBxQHGAccByAHJAcoBywHMAc0BzgHPAdAB0QHSAdMB1AHVAdYB1wHYAdkB2gHbAdwB3QHeAd8B4AHhAeIB4wHkAeUB5gHnAegB6QHqAesB7AHtAe4B7wHwAfEB8gHzAQ==",
            "dtype": "i2"
           },
           "legendgroup": "",
           "marker": {
            "color": {
             "bdata": "AAABAAIAAwAEAAUABgAHAAgACQAKAAsADAANAA4ADwAQABEAEgATABQAFQAWABcAGAAZABoAGwAcAB0AHgAfACAAIQAiACMAJAAlACYAJwAoACkAKgArACwALQAuAC8AMAAxADIAMwA0ADUANgA3ADgAOQA6ADsAPAA9AD4APwBAAEEAQgBDAEQARQBGAEcASABJAEoASwBMAE0ATgBPAFAAUQBSAFMAVABVAFYAVwBYAFkAWgBbAFwAXQBeAF8AYABhAGIAYwBkAGUAZgBnAGgAaQBqAGsAbABtAG4AbwBwAHEAcgBzAHQAdQB2AHcAeAB5AHoAewB8AH0AfgB/AIAAgQCCAIMAhACFAIYAhwCIAIkAigCLAIwAjQCOAI8AkACRAJIAkwCUAJUAlgCXAJgAmQCaAJsAnACdAJ4AnwCgAKEAogCjAKQApQCmAKcAqACpAKoAqwCsAK0ArgCvALAAsQCyALMAtAC1ALYAtwC4ALkAugC7ALwAvQC+AL8AwADBAMIAwwDEAMUAxgDHAMgAyQDKAMsAzADNAM4AzwDQANEA0gDTANQA1QDWANcA2ADZANoA2wDcAN0A3gDfAOAA4QDiAOMA5ADlAOYA5wDoAOkA6gDrAOwA7QDuAO8A8ADxAPIA8wD0APUA9gD3APgA+QD6APsA/AD9AP4A/wAAAQEBAgEDAQQBBQEGAQcBCAEJAQoBCwEMAQ0BDgEPARABEQESARMBFAEVARYBFwEYARkBGgEbARwBHQEeAR8BIAEhASIBIwEkASUBJgEnASgBKQEqASsBLAEtAS4BLwEwATEBMgEzATQBNQE2ATcBOAE5AToBOwE8AT0BPgE/AUABQQFCAUMBRAFFAUYBRwFIAUkBSgFLAUwBTQFOAU8BUAFRAVIBUwFUAVUBVgFXAVgBWQFaAVsBXAFdAV4BXwFgAWEBYgFjAWQBZQFmAWcBaAFpAWoBawFsAW0BbgFvAXABcQFyAXMBdAF1AXYBdwF4AXkBegF7AXwBfQF+AX8BgAGBAYIBgwGEAYUBhgGHAYgBiQGKAYsBjAGNAY4BjwGQAZEBkgGTAZQBlQGWAZcBmAGZAZoBmwGcAZ0BngGfAaABoQGiAaMBpAGlAaYBpwGoAakBqgGrAawBrQGuAa8BsAGxAbIBswG0AbUBtgG3AbgBuQG6AbsBvAG9Ab4BvwHAAcEBwgHDAcQBxQHGAccByAHJAcoBywHMAc0BzgHPAdAB0QHSAdMB1AHVAdYB1wHYAdkB2gHbAdwB3QHeAd8B4AHhAeIB4wHkAeUB5gHnAegB6QHqAesB7AHtAe4B7wHwAfEB8gHzAQ==",
             "dtype": "i2"
            },
            "coloraxis": "coloraxis",
            "symbol": "circle"
           },
           "mode": "markers",
           "name": "",
           "orientation": "v",
           "showlegend": false,
           "type": "scatter",
           "x": {
            "bdata": "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",
            "dtype": "f4"
           },
           "xaxis": "x",
           "y": {
            "bdata": "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",
            "dtype": "f4"
           },
           "yaxis": "y"
          }
         ],
         "name": "29 neighbors"
        }
       ],
       "layout": {
        "coloraxis": {
         "colorbar": {
          "title": {
           "text": "index"
          }
         },
         "colorscale": [
          [
           0,
           "#0d0887"
          ],
          [
           0.1111111111111111,
           "#46039f"
          ],
          [
           0.2222222222222222,
           "#7201a8"
          ],
          [
           0.3333333333333333,
           "#9c179e"
          ],
          [
           0.4444444444444444,
           "#bd3786"
          ],
          [
           0.5555555555555556,
           "#d8576b"
          ],
          [
           0.6666666666666666,
           "#ed7953"
          ],
          [
           0.7777777777777778,
           "#fb9f3a"
          ],
          [
           0.8888888888888888,
           "#fdca26"
          ],
          [
           1,
           "#f0f921"
          ]
         ]
        },
        "legend": {
         "tracegroupgap": 0
        },
        "margin": {
         "t": 60
        },
        "sliders": [
         {
          "active": 0,
          "currentvalue": {
           "prefix": "set="
          },
          "len": 0.9,
          "pad": {
           "b": 10,
           "t": 60
          },
          "steps": [
           {
            "args": [
             [
              "3 neighbors"
             ],
             {
              "frame": {
               "duration": 0,
               "redraw": false
              },
              "fromcurrent": true,
              "mode": "immediate",
              "transition": {
               "duration": 0,
               "easing": "linear"
              }
             }
            ],
            "label": "3 neighbors",
            "method": "animate"
           },
           {
            "args": [
             [
              "4 neighbors"
             ],
             {
              "frame": {
               "duration": 0,
               "redraw": false
              },
              "fromcurrent": true,
              "mode": "immediate",
              "transition": {
               "duration": 0,
               "easing": "linear"
              }
             }
            ],
            "label": "4 neighbors",
            "method": "animate"
           },
           {
            "args": [
             [
              "5 neighbors"
             ],
             {
              "frame": {
               "duration": 0,
               "redraw": false
              },
              "fromcurrent": true,
              "mode": "immediate",
              "transition": {
               "duration": 0,
               "easing": "linear"
              }
             }
            ],
            "label": "5 neighbors",
            "method": "animate"
           },
           {
            "args": [
             [
              "6 neighbors"
             ],
             {
              "frame": {
               "duration": 0,
               "redraw": false
              },
              "fromcurrent": true,
              "mode": "immediate",
              "transition": {
               "duration": 0,
               "easing": "linear"
              }
             }
            ],
            "label": "6 neighbors",
            "method": "animate"
           },
           {
            "args": [
             [
              "7 neighbors"
             ],
             {
              "frame": {
               "duration": 0,
               "redraw": false
              },
              "fromcurrent": true,
              "mode": "immediate",
              "transition": {
               "duration": 0,
               "easing": "linear"
              }
             }
            ],
            "label": "7 neighbors",
            "method": "animate"
           },
           {
            "args": [
             [
              "8 neighbors"
             ],
             {
              "frame": {
               "duration": 0,
               "redraw": false
              },
              "fromcurrent": true,
              "mode": "immediate",
              "transition": {
               "duration": 0,
               "easing": "linear"
              }
             }
            ],
            "label": "8 neighbors",
            "method": "animate"
           },
           {
            "args": [
             [
              "9 neighbors"
             ],
             {
              "frame": {
               "duration": 0,
               "redraw": false
              },
              "fromcurrent": true,
              "mode": "immediate",
              "transition": {
               "duration": 0,
               "easing": "linear"
              }
             }
            ],
            "label": "9 neighbors",
            "method": "animate"
           },
           {
            "args": [
             [
              "10 neighbors"
             ],
             {
              "frame": {
               "duration": 0,
               "redraw": false
              },
              "fromcurrent": true,
              "mode": "immediate",
              "transition": {
               "duration": 0,
               "easing": "linear"
              }
             }
            ],
            "label": "10 neighbors",
            "method": "animate"
           },
           {
            "args": [
             [
              "11 neighbors"
             ],
             {
              "frame": {
               "duration": 0,
               "redraw": false
              },
              "fromcurrent": true,
              "mode": "immediate",
              "transition": {
               "duration": 0,
               "easing": "linear"
              }
             }
            ],
            "label": "11 neighbors",
            "method": "animate"
           },
           {
            "args": [
             [
              "12 neighbors"
             ],
             {
              "frame": {
               "duration": 0,
               "redraw": false
              },
              "fromcurrent": true,
              "mode": "immediate",
              "transition": {
               "duration": 0,
               "easing": "linear"
              }
             }
            ],
            "label": "12 neighbors",
            "method": "animate"
           },
           {
            "args": [
             [
              "13 neighbors"
             ],
             {
              "frame": {
               "duration": 0,
               "redraw": false
              },
              "fromcurrent": true,
              "mode": "immediate",
              "transition": {
               "duration": 0,
               "easing": "linear"
              }
             }
            ],
            "label": "13 neighbors",
            "method": "animate"
           },
           {
            "args": [
             [
              "14 neighbors"
             ],
             {
              "frame": {
               "duration": 0,
               "redraw": false
              },
              "fromcurrent": true,
              "mode": "immediate",
              "transition": {
               "duration": 0,
               "easing": "linear"
              }
             }
            ],
            "label": "14 neighbors",
            "method": "animate"
           },
           {
            "args": [
             [
              "15 neighbors"
             ],
             {
              "frame": {
               "duration": 0,
               "redraw": false
              },
              "fromcurrent": true,
              "mode": "immediate",
              "transition": {
               "duration": 0,
               "easing": "linear"
              }
             }
            ],
            "label": "15 neighbors",
            "method": "animate"
           },
           {
            "args": [
             [
              "16 neighbors"
             ],
             {
              "frame": {
               "duration": 0,
               "redraw": false
              },
              "fromcurrent": true,
              "mode": "immediate",
              "transition": {
               "duration": 0,
               "easing": "linear"
              }
             }
            ],
            "label": "16 neighbors",
            "method": "animate"
           },
           {
            "args": [
             [
              "17 neighbors"
             ],
             {
              "frame": {
               "duration": 0,
               "redraw": false
              },
              "fromcurrent": true,
              "mode": "immediate",
              "transition": {
               "duration": 0,
               "easing": "linear"
              }
             }
            ],
            "label": "17 neighbors",
            "method": "animate"
           },
           {
            "args": [
             [
              "18 neighbors"
             ],
             {
              "frame": {
               "duration": 0,
               "redraw": false
              },
              "fromcurrent": true,
              "mode": "immediate",
              "transition": {
               "duration": 0,
               "easing": "linear"
              }
             }
            ],
            "label": "18 neighbors",
            "method": "animate"
           },
           {
            "args": [
             [
              "19 neighbors"
             ],
             {
              "frame": {
               "duration": 0,
               "redraw": false
              },
              "fromcurrent": true,
              "mode": "immediate",
              "transition": {
               "duration": 0,
               "easing": "linear"
              }
             }
            ],
            "label": "19 neighbors",
            "method": "animate"
           },
           {
            "args": [
             [
              "20 neighbors"
             ],
             {
              "frame": {
               "duration": 0,
               "redraw": false
              },
              "fromcurrent": true,
              "mode": "immediate",
              "transition": {
               "duration": 0,
               "easing": "linear"
              }
             }
            ],
            "label": "20 neighbors",
            "method": "animate"
           },
           {
            "args": [
             [
              "21 neighbors"
             ],
             {
              "frame": {
               "duration": 0,
               "redraw": false
              },
              "fromcurrent": true,
              "mode": "immediate",
              "transition": {
               "duration": 0,
               "easing": "linear"
              }
             }
            ],
            "label": "21 neighbors",
            "method": "animate"
           },
           {
            "args": [
             [
              "22 neighbors"
             ],
             {
              "frame": {
               "duration": 0,
               "redraw": false
              },
              "fromcurrent": true,
              "mode": "immediate",
              "transition": {
               "duration": 0,
               "easing": "linear"
              }
             }
            ],
            "label": "22 neighbors",
            "method": "animate"
           },
           {
            "args": [
             [
              "23 neighbors"
             ],
             {
              "frame": {
               "duration": 0,
               "redraw": false
              },
              "fromcurrent": true,
              "mode": "immediate",
              "transition": {
               "duration": 0,
               "easing": "linear"
              }
             }
            ],
            "label": "23 neighbors",
            "method": "animate"
           },
           {
            "args": [
             [
              "24 neighbors"
             ],
             {
              "frame": {
               "duration": 0,
               "redraw": false
              },
              "fromcurrent": true,
              "mode": "immediate",
              "transition": {
               "duration": 0,
               "easing": "linear"
              }
             }
            ],
            "label": "24 neighbors",
            "method": "animate"
           },
           {
            "args": [
             [
              "25 neighbors"
             ],
             {
              "frame": {
               "duration": 0,
               "redraw": false
              },
              "fromcurrent": true,
              "mode": "immediate",
              "transition": {
               "duration": 0,
               "easing": "linear"
              }
             }
            ],
            "label": "25 neighbors",
            "method": "animate"
           },
           {
            "args": [
             [
              "26 neighbors"
             ],
             {
              "frame": {
               "duration": 0,
               "redraw": false
              },
              "fromcurrent": true,
              "mode": "immediate",
              "transition": {
               "duration": 0,
               "easing": "linear"
              }
             }
            ],
            "label": "26 neighbors",
            "method": "animate"
           },
           {
            "args": [
             [
              "27 neighbors"
             ],
             {
              "frame": {
               "duration": 0,
               "redraw": false
              },
              "fromcurrent": true,
              "mode": "immediate",
              "transition": {
               "duration": 0,
               "easing": "linear"
              }
             }
            ],
            "label": "27 neighbors",
            "method": "animate"
           },
           {
            "args": [
             [
              "28 neighbors"
             ],
             {
              "frame": {
               "duration": 0,
               "redraw": false
              },
              "fromcurrent": true,
              "mode": "immediate",
              "transition": {
               "duration": 0,
               "easing": "linear"
              }
             }
            ],
            "label": "28 neighbors",
            "method": "animate"
           },
           {
            "args": [
             [
              "29 neighbors"
             ],
             {
              "frame": {
               "duration": 0,
               "redraw": false
              },
              "fromcurrent": true,
              "mode": "immediate",
              "transition": {
               "duration": 0,
               "easing": "linear"
              }
             }
            ],
            "label": "29 neighbors",
            "method": "animate"
           }
          ],
          "x": 0.1,
          "xanchor": "left",
          "y": 0,
          "yanchor": "top"
         }
        ],
        "template": {
         "data": {
          "bar": [
           {
            "error_x": {
             "color": "#2a3f5f"
            },
            "error_y": {
             "color": "#2a3f5f"
            },
            "marker": {
             "line": {
              "color": "#E5ECF6",
              "width": 0.5
             },
             "pattern": {
              "fillmode": "overlay",
              "size": 10,
              "solidity": 0.2
             }
            },
            "type": "bar"
           }
          ],
          "barpolar": [
           {
            "marker": {
             "line": {
              "color": "#E5ECF6",
              "width": 0.5
             },
             "pattern": {
              "fillmode": "overlay",
              "size": 10,
              "solidity": 0.2
             }
            },
            "type": "barpolar"
           }
          ],
          "carpet": [
           {
            "aaxis": {
             "endlinecolor": "#2a3f5f",
             "gridcolor": "white",
             "linecolor": "white",
             "minorgridcolor": "white",
             "startlinecolor": "#2a3f5f"
            },
            "baxis": {
             "endlinecolor": "#2a3f5f",
             "gridcolor": "white",
             "linecolor": "white",
             "minorgridcolor": "white",
             "startlinecolor": "#2a3f5f"
            },
            "type": "carpet"
           }
          ],
          "choropleth": [
           {
            "colorbar": {
             "outlinewidth": 0,
             "ticks": ""
            },
            "type": "choropleth"
           }
          ],
          "contour": [
           {
            "colorbar": {
             "outlinewidth": 0,
             "ticks": ""
            },
            "colorscale": [
             [
              0,
              "#0d0887"
             ],
             [
              0.1111111111111111,
              "#46039f"
             ],
             [
              0.2222222222222222,
              "#7201a8"
             ],
             [
              0.3333333333333333,
              "#9c179e"
             ],
             [
              0.4444444444444444,
              "#bd3786"
             ],
             [
              0.5555555555555556,
              "#d8576b"
             ],
             [
              0.6666666666666666,
              "#ed7953"
             ],
             [
              0.7777777777777778,
              "#fb9f3a"
             ],
             [
              0.8888888888888888,
              "#fdca26"
             ],
             [
              1,
              "#f0f921"
             ]
            ],
            "type": "contour"
           }
          ],
          "contourcarpet": [
           {
            "colorbar": {
             "outlinewidth": 0,
             "ticks": ""
            },
            "type": "contourcarpet"
           }
          ],
          "heatmap": [
           {
            "colorbar": {
             "outlinewidth": 0,
             "ticks": ""
            },
            "colorscale": [
             [
              0,
              "#0d0887"
             ],
             [
              0.1111111111111111,
              "#46039f"
             ],
             [
              0.2222222222222222,
              "#7201a8"
             ],
             [
              0.3333333333333333,
              "#9c179e"
             ],
             [
              0.4444444444444444,
              "#bd3786"
             ],
             [
              0.5555555555555556,
              "#d8576b"
             ],
             [
              0.6666666666666666,
              "#ed7953"
             ],
             [
              0.7777777777777778,
              "#fb9f3a"
             ],
             [
              0.8888888888888888,
              "#fdca26"
             ],
             [
              1,
              "#f0f921"
             ]
            ],
            "type": "heatmap"
           }
          ],
          "histogram": [
           {
            "marker": {
             "pattern": {
              "fillmode": "overlay",
              "size": 10,
              "solidity": 0.2
             }
            },
            "type": "histogram"
           }
          ],
          "histogram2d": [
           {
            "colorbar": {
             "outlinewidth": 0,
             "ticks": ""
            },
            "colorscale": [
             [
              0,
              "#0d0887"
             ],
             [
              0.1111111111111111,
              "#46039f"
             ],
             [
              0.2222222222222222,
              "#7201a8"
             ],
             [
              0.3333333333333333,
              "#9c179e"
             ],
             [
              0.4444444444444444,
              "#bd3786"
             ],
             [
              0.5555555555555556,
              "#d8576b"
             ],
             [
              0.6666666666666666,
              "#ed7953"
             ],
             [
              0.7777777777777778,
              "#fb9f3a"
             ],
             [
              0.8888888888888888,
              "#fdca26"
             ],
             [
              1,
              "#f0f921"
             ]
            ],
            "type": "histogram2d"
           }
          ],
          "histogram2dcontour": [
           {
            "colorbar": {
             "outlinewidth": 0,
             "ticks": ""
            },
            "colorscale": [
             [
              0,
              "#0d0887"
             ],
             [
              0.1111111111111111,
              "#46039f"
             ],
             [
              0.2222222222222222,
              "#7201a8"
             ],
             [
              0.3333333333333333,
              "#9c179e"
             ],
             [
              0.4444444444444444,
              "#bd3786"
             ],
             [
              0.5555555555555556,
              "#d8576b"
             ],
             [
              0.6666666666666666,
              "#ed7953"
             ],
             [
              0.7777777777777778,
              "#fb9f3a"
             ],
             [
              0.8888888888888888,
              "#fdca26"
             ],
             [
              1,
              "#f0f921"
             ]
            ],
            "type": "histogram2dcontour"
           }
          ],
          "mesh3d": [
           {
            "colorbar": {
             "outlinewidth": 0,
             "ticks": ""
            },
            "type": "mesh3d"
           }
          ],
          "parcoords": [
           {
            "line": {
             "colorbar": {
              "outlinewidth": 0,
              "ticks": ""
             }
            },
            "type": "parcoords"
           }
          ],
          "pie": [
           {
            "automargin": true,
            "type": "pie"
           }
          ],
          "scatter": [
           {
            "fillpattern": {
             "fillmode": "overlay",
             "size": 10,
             "solidity": 0.2
            },
            "type": "scatter"
           }
          ],
          "scatter3d": [
           {
            "line": {
             "colorbar": {
              "outlinewidth": 0,
              "ticks": ""
             }
            },
            "marker": {
             "colorbar": {
              "outlinewidth": 0,
              "ticks": ""
             }
            },
            "type": "scatter3d"
           }
          ],
          "scattercarpet": [
           {
            "marker": {
             "colorbar": {
              "outlinewidth": 0,
              "ticks": ""
             }
            },
            "type": "scattercarpet"
           }
          ],
          "scattergeo": [
           {
            "marker": {
             "colorbar": {
              "outlinewidth": 0,
              "ticks": ""
             }
            },
            "type": "scattergeo"
           }
          ],
          "scattergl": [
           {
            "marker": {
             "colorbar": {
              "outlinewidth": 0,
              "ticks": ""
             }
            },
            "type": "scattergl"
           }
          ],
          "scattermap": [
           {
            "marker": {
             "colorbar": {
              "outlinewidth": 0,
              "ticks": ""
             }
            },
            "type": "scattermap"
           }
          ],
          "scattermapbox": [
           {
            "marker": {
             "colorbar": {
              "outlinewidth": 0,
              "ticks": ""
             }
            },
            "type": "scattermapbox"
           }
          ],
          "scatterpolar": [
           {
            "marker": {
             "colorbar": {
              "outlinewidth": 0,
              "ticks": ""
             }
            },
            "type": "scatterpolar"
           }
          ],
          "scatterpolargl": [
           {
            "marker": {
             "colorbar": {
              "outlinewidth": 0,
              "ticks": ""
             }
            },
            "type": "scatterpolargl"
           }
          ],
          "scatterternary": [
           {
            "marker": {
             "colorbar": {
              "outlinewidth": 0,
              "ticks": ""
             }
            },
            "type": "scatterternary"
           }
          ],
          "surface": [
           {
            "colorbar": {
             "outlinewidth": 0,
             "ticks": ""
            },
            "colorscale": [
             [
              0,
              "#0d0887"
             ],
             [
              0.1111111111111111,
              "#46039f"
             ],
             [
              0.2222222222222222,
              "#7201a8"
             ],
             [
              0.3333333333333333,
              "#9c179e"
             ],
             [
              0.4444444444444444,
              "#bd3786"
             ],
             [
              0.5555555555555556,
              "#d8576b"
             ],
             [
              0.6666666666666666,
              "#ed7953"
             ],
             [
              0.7777777777777778,
              "#fb9f3a"
             ],
             [
              0.8888888888888888,
              "#fdca26"
             ],
             [
              1,
              "#f0f921"
             ]
            ],
            "type": "surface"
           }
          ],
          "table": [
           {
            "cells": {
             "fill": {
              "color": "#EBF0F8"
             },
             "line": {
              "color": "white"
             }
            },
            "header": {
             "fill": {
              "color": "#C8D4E3"
             },
             "line": {
              "color": "white"
             }
            },
            "type": "table"
           }
          ]
         },
         "layout": {
          "annotationdefaults": {
           "arrowcolor": "#2a3f5f",
           "arrowhead": 0,
           "arrowwidth": 1
          },
          "autotypenumbers": "strict",
          "coloraxis": {
           "colorbar": {
            "outlinewidth": 0,
            "ticks": ""
           }
          },
          "colorscale": {
           "diverging": [
            [
             0,
             "#8e0152"
            ],
            [
             0.1,
             "#c51b7d"
            ],
            [
             0.2,
             "#de77ae"
            ],
            [
             0.3,
             "#f1b6da"
            ],
            [
             0.4,
             "#fde0ef"
            ],
            [
             0.5,
             "#f7f7f7"
            ],
            [
             0.6,
             "#e6f5d0"
            ],
            [
             0.7,
             "#b8e186"
            ],
            [
             0.8,
             "#7fbc41"
            ],
            [
             0.9,
             "#4d9221"
            ],
            [
             1,
             "#276419"
            ]
           ],
           "sequential": [
            [
             0,
             "#0d0887"
            ],
            [
             0.1111111111111111,
             "#46039f"
            ],
            [
             0.2222222222222222,
             "#7201a8"
            ],
            [
             0.3333333333333333,
             "#9c179e"
            ],
            [
             0.4444444444444444,
             "#bd3786"
            ],
            [
             0.5555555555555556,
             "#d8576b"
            ],
            [
             0.6666666666666666,
             "#ed7953"
            ],
            [
             0.7777777777777778,
             "#fb9f3a"
            ],
            [
             0.8888888888888888,
             "#fdca26"
            ],
            [
             1,
             "#f0f921"
            ]
           ],
           "sequentialminus": [
            [
             0,
             "#0d0887"
            ],
            [
             0.1111111111111111,
             "#46039f"
            ],
            [
             0.2222222222222222,
             "#7201a8"
            ],
            [
             0.3333333333333333,
             "#9c179e"
            ],
            [
             0.4444444444444444,
             "#bd3786"
            ],
            [
             0.5555555555555556,
             "#d8576b"
            ],
            [
             0.6666666666666666,
             "#ed7953"
            ],
            [
             0.7777777777777778,
             "#fb9f3a"
            ],
            [
             0.8888888888888888,
             "#fdca26"
            ],
            [
             1,
             "#f0f921"
            ]
           ]
          },
          "colorway": [
           "#636efa",
           "#EF553B",
           "#00cc96",
           "#ab63fa",
           "#FFA15A",
           "#19d3f3",
           "#FF6692",
           "#B6E880",
           "#FF97FF",
           "#FECB52"
          ],
          "font": {
           "color": "#2a3f5f"
          },
          "geo": {
           "bgcolor": "white",
           "lakecolor": "white",
           "landcolor": "#E5ECF6",
           "showlakes": true,
           "showland": true,
           "subunitcolor": "white"
          },
          "hoverlabel": {
           "align": "left"
          },
          "hovermode": "closest",
          "mapbox": {
           "style": "light"
          },
          "paper_bgcolor": "white",
          "plot_bgcolor": "#E5ECF6",
          "polar": {
           "angularaxis": {
            "gridcolor": "white",
            "linecolor": "white",
            "ticks": ""
           },
           "bgcolor": "#E5ECF6",
           "radialaxis": {
            "gridcolor": "white",
            "linecolor": "white",
            "ticks": ""
           }
          },
          "scene": {
           "xaxis": {
            "backgroundcolor": "#E5ECF6",
            "gridcolor": "white",
            "gridwidth": 2,
            "linecolor": "white",
            "showbackground": true,
            "ticks": "",
            "zerolinecolor": "white"
           },
           "yaxis": {
            "backgroundcolor": "#E5ECF6",
            "gridcolor": "white",
            "gridwidth": 2,
            "linecolor": "white",
            "showbackground": true,
            "ticks": "",
            "zerolinecolor": "white"
           },
           "zaxis": {
            "backgroundcolor": "#E5ECF6",
            "gridcolor": "white",
            "gridwidth": 2,
            "linecolor": "white",
            "showbackground": true,
            "ticks": "",
            "zerolinecolor": "white"
           }
          },
          "shapedefaults": {
           "line": {
            "color": "#2a3f5f"
           }
          },
          "ternary": {
           "aaxis": {
            "gridcolor": "white",
            "linecolor": "white",
            "ticks": ""
           },
           "baxis": {
            "gridcolor": "white",
            "linecolor": "white",
            "ticks": ""
           },
           "bgcolor": "#E5ECF6",
           "caxis": {
            "gridcolor": "white",
            "linecolor": "white",
            "ticks": ""
           }
          },
          "title": {
           "x": 0.05
          },
          "xaxis": {
           "automargin": true,
           "gridcolor": "white",
           "linecolor": "white",
           "ticks": "",
           "title": {
            "standoff": 15
           },
           "zerolinecolor": "white",
           "zerolinewidth": 2
          },
          "yaxis": {
           "automargin": true,
           "gridcolor": "white",
           "linecolor": "white",
           "ticks": "",
           "title": {
            "standoff": 15
           },
           "zerolinecolor": "white",
           "zerolinewidth": 2
          }
         }
        },
        "updatemenus": [
         {
          "buttons": [
           {
            "args": [
             null,
             {
              "frame": {
               "duration": 500,
               "redraw": false
              },
              "fromcurrent": true,
              "mode": "immediate",
              "transition": {
               "duration": 500,
               "easing": "linear"
              }
             }
            ],
            "label": "&#9654;",
            "method": "animate"
           },
           {
            "args": [
             [
              null
             ],
             {
              "frame": {
               "duration": 0,
               "redraw": false
              },
              "fromcurrent": true,
              "mode": "immediate",
              "transition": {
               "duration": 0,
               "easing": "linear"
              }
             }
            ],
            "label": "&#9724;",
            "method": "animate"
           }
          ],
          "direction": "left",
          "pad": {
           "r": 10,
           "t": 70
          },
          "showactive": false,
          "type": "buttons",
          "x": 0.1,
          "xanchor": "right",
          "y": 0,
          "yanchor": "top"
         }
        ],
        "xaxis": {
         "anchor": "y",
         "domain": [
          0,
          1
         ],
         "range": [
          -7.329949855804443,
          18.38401222229004
         ],
         "title": {
          "text": "x"
         }
        },
        "yaxis": {
         "anchor": "x",
         "domain": [
          0,
          1
         ],
         "range": [
          -7.9271650314331055,
          14.94637680053711
         ],
         "title": {
          "text": "y"
         }
        }
       }
      }
     },
     "metadata": {},
     "output_type": "display_data"
    }
   ],
   "source": [
    "# prior to running another comparison, reset manager to defaults\n",
    "manager.reset()\n",
    "\n",
    "reductions = {}\n",
    "for i in range(3, 30):\n",
    "    reductions[f'{i} neighbors'] = dict(\n",
    "        n_neighbors=i,\n",
    "        # ensure that compared reductions start from the same random state\n",
    "        random_state=0, \n",
    "        n_jobs=1,\n",
    "    )\n",
    "manager.compare_reductions(**reductions)"
   ]
  },
  {
   "cell_type": "markdown",
   "id": "5e1d3dfb-4ddc-45b3-a115-cace789b32e4",
   "metadata": {},
   "source": [
    "Exclude columns from the data"
   ]
  },
  {
   "cell_type": "code",
   "execution_count": 11,
   "id": "95a8316c-6e6e-4eae-a60e-ba42ba51eb1c",
   "metadata": {},
   "outputs": [
    {
     "data": {
      "text/html": [
       "<div>\n",
       "<style scoped>\n",
       "    .dataframe tbody tr th:only-of-type {\n",
       "        vertical-align: middle;\n",
       "    }\n",
       "\n",
       "    .dataframe tbody tr th {\n",
       "        vertical-align: top;\n",
       "    }\n",
       "\n",
       "    .dataframe thead th {\n",
       "        text-align: right;\n",
       "    }\n",
       "</style>\n",
       "<table border=\"1\" class=\"dataframe\">\n",
       "  <thead>\n",
       "    <tr style=\"text-align: right;\">\n",
       "      <th></th>\n",
       "      <th>Orientation.Orientation</th>\n",
       "      <th>Size.Area</th>\n",
       "      <th>Size.ConvexHullArea</th>\n",
       "      <th>Size.MajorAxisLength</th>\n",
       "      <th>Size.MinorAxisLength</th>\n",
       "      <th>Size.Perimeter</th>\n",
       "      <th>Shape.Circularity</th>\n",
       "      <th>Shape.Eccentricity</th>\n",
       "      <th>Shape.EquivalentDiameter</th>\n",
       "      <th>Shape.Extent</th>\n",
       "      <th>...</th>\n",
       "      <th>Shape.WeightedHuMoments5</th>\n",
       "      <th>Shape.WeightedHuMoments6</th>\n",
       "      <th>Shape.WeightedHuMoments7</th>\n",
       "      <th>Shape.FSD1</th>\n",
       "      <th>Shape.FSD2</th>\n",
       "      <th>Shape.FSD3</th>\n",
       "      <th>Shape.FSD4</th>\n",
       "      <th>Shape.FSD5</th>\n",
       "      <th>Shape.FSD6</th>\n",
       "      <th>density</th>\n",
       "    </tr>\n",
       "  </thead>\n",
       "  <tbody>\n",
       "    <tr>\n",
       "      <th>713</th>\n",
       "      <td>0.478489</td>\n",
       "      <td>86.0</td>\n",
       "      <td>88.0</td>\n",
       "      <td>12.494227</td>\n",
       "      <td>8.879231</td>\n",
       "      <td>33.071068</td>\n",
       "      <td>0.988125</td>\n",
       "      <td>0.703529</td>\n",
       "      <td>10.464158</td>\n",
       "      <td>0.868687</td>\n",
       "      <td>...</td>\n",
       "      <td>1.107565e-24</td>\n",
       "      <td>1.370674e-16</td>\n",
       "      <td>-1.284443e-25</td>\n",
       "      <td>0.476573</td>\n",
       "      <td>0.003441</td>\n",
       "      <td>0.002777</td>\n",
       "      <td>0.207177</td>\n",
       "      <td>0.031787</td>\n",
       "      <td>0.021962</td>\n",
       "      <td>0.003543</td>\n",
       "    </tr>\n",
       "    <tr>\n",
       "      <th>981</th>\n",
       "      <td>1.272146</td>\n",
       "      <td>68.0</td>\n",
       "      <td>72.0</td>\n",
       "      <td>11.152618</td>\n",
       "      <td>7.850225</td>\n",
       "      <td>29.071068</td>\n",
       "      <td>1.011106</td>\n",
       "      <td>0.710308</td>\n",
       "      <td>9.304853</td>\n",
       "      <td>0.850000</td>\n",
       "      <td>...</td>\n",
       "      <td>-2.537944e-23</td>\n",
       "      <td>-1.241087e-15</td>\n",
       "      <td>3.736413e-23</td>\n",
       "      <td>0.480720</td>\n",
       "      <td>0.003897</td>\n",
       "      <td>0.169036</td>\n",
       "      <td>0.124727</td>\n",
       "      <td>0.028719</td>\n",
       "      <td>0.017857</td>\n",
       "      <td>0.001893</td>\n",
       "    </tr>\n",
       "    <tr>\n",
       "      <th>838</th>\n",
       "      <td>-0.878354</td>\n",
       "      <td>74.0</td>\n",
       "      <td>75.0</td>\n",
       "      <td>10.118835</td>\n",
       "      <td>9.365985</td>\n",
       "      <td>29.071068</td>\n",
       "      <td>1.100322</td>\n",
       "      <td>0.378505</td>\n",
       "      <td>9.706685</td>\n",
       "      <td>0.913580</td>\n",
       "      <td>...</td>\n",
       "      <td>-1.240664e-22</td>\n",
       "      <td>-1.201140e-15</td>\n",
       "      <td>-7.701913e-23</td>\n",
       "      <td>0.488873</td>\n",
       "      <td>0.001623</td>\n",
       "      <td>0.007743</td>\n",
       "      <td>0.209030</td>\n",
       "      <td>0.025610</td>\n",
       "      <td>0.017766</td>\n",
       "      <td>0.002044</td>\n",
       "    </tr>\n",
       "    <tr>\n",
       "      <th>802</th>\n",
       "      <td>-1.527077</td>\n",
       "      <td>51.0</td>\n",
       "      <td>52.0</td>\n",
       "      <td>10.006601</td>\n",
       "      <td>6.563109</td>\n",
       "      <td>24.828427</td>\n",
       "      <td>1.039637</td>\n",
       "      <td>0.754867</td>\n",
       "      <td>8.058239</td>\n",
       "      <td>0.944444</td>\n",
       "      <td>...</td>\n",
       "      <td>1.060282e-20</td>\n",
       "      <td>6.488486e-14</td>\n",
       "      <td>3.140625e-20</td>\n",
       "      <td>0.470940</td>\n",
       "      <td>0.009280</td>\n",
       "      <td>0.210435</td>\n",
       "      <td>0.015014</td>\n",
       "      <td>0.030360</td>\n",
       "      <td>0.011037</td>\n",
       "      <td>0.196419</td>\n",
       "    </tr>\n",
       "    <tr>\n",
       "      <th>240</th>\n",
       "      <td>-1.493003</td>\n",
       "      <td>195.0</td>\n",
       "      <td>201.0</td>\n",
       "      <td>26.481735</td>\n",
       "      <td>9.533471</td>\n",
       "      <td>58.485281</td>\n",
       "      <td>0.716393</td>\n",
       "      <td>0.932952</td>\n",
       "      <td>15.756958</td>\n",
       "      <td>0.902778</td>\n",
       "      <td>...</td>\n",
       "      <td>5.464368e-21</td>\n",
       "      <td>8.286507e-14</td>\n",
       "      <td>-1.778594e-23</td>\n",
       "      <td>0.501147</td>\n",
       "      <td>0.002175</td>\n",
       "      <td>0.013548</td>\n",
       "      <td>0.198070</td>\n",
       "      <td>0.025145</td>\n",
       "      <td>0.018335</td>\n",
       "      <td>0.080353</td>\n",
       "    </tr>\n",
       "  </tbody>\n",
       "</table>\n",
       "<p>5 rows × 34 columns</p>\n",
       "</div>"
      ],
      "text/plain": [
       "     Orientation.Orientation  Size.Area  Size.ConvexHullArea  \\\n",
       "713                 0.478489       86.0                 88.0   \n",
       "981                 1.272146       68.0                 72.0   \n",
       "838                -0.878354       74.0                 75.0   \n",
       "802                -1.527077       51.0                 52.0   \n",
       "240                -1.493003      195.0                201.0   \n",
       "\n",
       "     Size.MajorAxisLength  Size.MinorAxisLength  Size.Perimeter  \\\n",
       "713             12.494227              8.879231       33.071068   \n",
       "981             11.152618              7.850225       29.071068   \n",
       "838             10.118835              9.365985       29.071068   \n",
       "802             10.006601              6.563109       24.828427   \n",
       "240             26.481735              9.533471       58.485281   \n",
       "\n",
       "     Shape.Circularity  Shape.Eccentricity  Shape.EquivalentDiameter  \\\n",
       "713           0.988125            0.703529                 10.464158   \n",
       "981           1.011106            0.710308                  9.304853   \n",
       "838           1.100322            0.378505                  9.706685   \n",
       "802           1.039637            0.754867                  8.058239   \n",
       "240           0.716393            0.932952                 15.756958   \n",
       "\n",
       "     Shape.Extent  ...  Shape.WeightedHuMoments5  Shape.WeightedHuMoments6  \\\n",
       "713      0.868687  ...              1.107565e-24              1.370674e-16   \n",
       "981      0.850000  ...             -2.537944e-23             -1.241087e-15   \n",
       "838      0.913580  ...             -1.240664e-22             -1.201140e-15   \n",
       "802      0.944444  ...              1.060282e-20              6.488486e-14   \n",
       "240      0.902778  ...              5.464368e-21              8.286507e-14   \n",
       "\n",
       "     Shape.WeightedHuMoments7  Shape.FSD1  Shape.FSD2  Shape.FSD3  Shape.FSD4  \\\n",
       "713             -1.284443e-25    0.476573    0.003441    0.002777    0.207177   \n",
       "981              3.736413e-23    0.480720    0.003897    0.169036    0.124727   \n",
       "838             -7.701913e-23    0.488873    0.001623    0.007743    0.209030   \n",
       "802              3.140625e-20    0.470940    0.009280    0.210435    0.015014   \n",
       "240             -1.778594e-23    0.501147    0.002175    0.013548    0.198070   \n",
       "\n",
       "     Shape.FSD5  Shape.FSD6   density  \n",
       "713    0.031787    0.021962  0.003543  \n",
       "981    0.028719    0.017857  0.001893  \n",
       "838    0.025610    0.017766  0.002044  \n",
       "802    0.030360    0.011037  0.196419  \n",
       "240    0.025145    0.018335  0.080353  \n",
       "\n",
       "[5 rows x 34 columns]"
      ]
     },
     "execution_count": 11,
     "metadata": {},
     "output_type": "execute_result"
    }
   ],
   "source": [
    "column_patterns = ['slide', 'roiname', 'Identifier.', 'ClassifProbab.', 'Cytoplasm.', 'Nucleus.']\n",
    "manager.exclude_columns = [\n",
    "    c for c in manager.columns\n",
    "    if any(p in c for p in column_patterns)\n",
    "]\n",
    "manager.data.head(5)"
   ]
  },
  {
   "cell_type": "markdown",
   "id": "ee5d9a5c-0540-476d-9bb0-aa49775d0328",
   "metadata": {},
   "source": [
    "Compare results when excluding different sets of columns"
   ]
  },
  {
   "cell_type": "code",
   "execution_count": 12,
   "id": "4a6a7e74-0907-44b1-9d5e-653eb04f3699",
   "metadata": {},
   "outputs": [
    {
     "name": "stdout",
     "output_type": "stream",
     "text": [
      "Training UMAP Transform.\n",
      "Completed training in 1.011346 seconds.\n",
      "Running inference on 500 cells with trained UMAP Transform.\n",
      "Completed inference in 0.001217 seconds.\n",
      "Running inference on 500 cells with trained UMAP Transform.\n",
      "Completed inference in 0.000867 seconds.\n",
      "Running inference on 500 cells with trained UMAP Transform.\n",
      "Completed inference in 0.000742 seconds.\n",
      "Running inference on 500 cells with trained UMAP Transform.\n",
      "Completed inference in 3.895386 seconds.\n",
      "Running inference on 500 cells with trained UMAP Transform.\n",
      "Completed inference in 1.003898 seconds.\n",
      "Running inference on 500 cells with trained UMAP Transform.\n",
      "Completed inference in 0.987853 seconds.\n",
      "Running inference on 500 cells with trained UMAP Transform.\n",
      "Completed inference in 1.167189 seconds.\n"
     ]
    },
    {
     "data": {
      "application/vnd.plotly.v1+json": {
       "config": {
        "plotlyServerURL": "https://plot.ly"
       },
       "data": [
        {
         "hovertemplate": "set=exclude 0 columns<br>x=%{x}<br>y=%{y}<br>index=%{marker.color}<extra></extra>",
         "ids": {
          "bdata": "AAABAAIAAwAEAAUABgAHAAgACQAKAAsADAANAA4ADwAQABEAEgATABQAFQAWABcAGAAZABoAGwAcAB0AHgAfACAAIQAiACMAJAAlACYAJwAoACkAKgArACwALQAuAC8AMAAxADIAMwA0ADUANgA3ADgAOQA6ADsAPAA9AD4APwBAAEEAQgBDAEQARQBGAEcASABJAEoASwBMAE0ATgBPAFAAUQBSAFMAVABVAFYAVwBYAFkAWgBbAFwAXQBeAF8AYABhAGIAYwBkAGUAZgBnAGgAaQBqAGsAbABtAG4AbwBwAHEAcgBzAHQAdQB2AHcAeAB5AHoAewB8AH0AfgB/AIAAgQCCAIMAhACFAIYAhwCIAIkAigCLAIwAjQCOAI8AkACRAJIAkwCUAJUAlgCXAJgAmQCaAJsAnACdAJ4AnwCgAKEAogCjAKQApQCmAKcAqACpAKoAqwCsAK0ArgCvALAAsQCyALMAtAC1ALYAtwC4ALkAugC7ALwAvQC+AL8AwADBAMIAwwDEAMUAxgDHAMgAyQDKAMsAzADNAM4AzwDQANEA0gDTANQA1QDWANcA2ADZANoA2wDcAN0A3gDfAOAA4QDiAOMA5ADlAOYA5wDoAOkA6gDrAOwA7QDuAO8A8ADxAPIA8wD0APUA9gD3APgA+QD6APsA/AD9AP4A/wAAAQEBAgEDAQQBBQEGAQcBCAEJAQoBCwEMAQ0BDgEPARABEQESARMBFAEVARYBFwEYARkBGgEbARwBHQEeAR8BIAEhASIBIwEkASUBJgEnASgBKQEqASsBLAEtAS4BLwEwATEBMgEzATQBNQE2ATcBOAE5AToBOwE8AT0BPgE/AUABQQFCAUMBRAFFAUYBRwFIAUkBSgFLAUwBTQFOAU8BUAFRAVIBUwFUAVUBVgFXAVgBWQFaAVsBXAFdAV4BXwFgAWEBYgFjAWQBZQFmAWcBaAFpAWoBawFsAW0BbgFvAXABcQFyAXMBdAF1AXYBdwF4AXkBegF7AXwBfQF+AX8BgAGBAYIBgwGEAYUBhgGHAYgBiQGKAYsBjAGNAY4BjwGQAZEBkgGTAZQBlQGWAZcBmAGZAZoBmwGcAZ0BngGfAaABoQGiAaMBpAGlAaYBpwGoAakBqgGrAawBrQGuAa8BsAGxAbIBswG0AbUBtgG3AbgBuQG6AbsBvAG9Ab4BvwHAAcEBwgHDAcQBxQHGAccByAHJAcoBywHMAc0BzgHPAdAB0QHSAdMB1AHVAdYB1wHYAdkB2gHbAdwB3QHeAd8B4AHhAeIB4wHkAeUB5gHnAegB6QHqAesB7AHtAe4B7wHwAfEB8gHzAQ==",
          "dtype": "i2"
         },
         "legendgroup": "",
         "marker": {
          "color": {
           "bdata": "AAABAAIAAwAEAAUABgAHAAgACQAKAAsADAANAA4ADwAQABEAEgATABQAFQAWABcAGAAZABoAGwAcAB0AHgAfACAAIQAiACMAJAAlACYAJwAoACkAKgArACwALQAuAC8AMAAxADIAMwA0ADUANgA3ADgAOQA6ADsAPAA9AD4APwBAAEEAQgBDAEQARQBGAEcASABJAEoASwBMAE0ATgBPAFAAUQBSAFMAVABVAFYAVwBYAFkAWgBbAFwAXQBeAF8AYABhAGIAYwBkAGUAZgBnAGgAaQBqAGsAbABtAG4AbwBwAHEAcgBzAHQAdQB2AHcAeAB5AHoAewB8AH0AfgB/AIAAgQCCAIMAhACFAIYAhwCIAIkAigCLAIwAjQCOAI8AkACRAJIAkwCUAJUAlgCXAJgAmQCaAJsAnACdAJ4AnwCgAKEAogCjAKQApQCmAKcAqACpAKoAqwCsAK0ArgCvALAAsQCyALMAtAC1ALYAtwC4ALkAugC7ALwAvQC+AL8AwADBAMIAwwDEAMUAxgDHAMgAyQDKAMsAzADNAM4AzwDQANEA0gDTANQA1QDWANcA2ADZANoA2wDcAN0A3gDfAOAA4QDiAOMA5ADlAOYA5wDoAOkA6gDrAOwA7QDuAO8A8ADxAPIA8wD0APUA9gD3APgA+QD6APsA/AD9AP4A/wAAAQEBAgEDAQQBBQEGAQcBCAEJAQoBCwEMAQ0BDgEPARABEQESARMBFAEVARYBFwEYARkBGgEbARwBHQEeAR8BIAEhASIBIwEkASUBJgEnASgBKQEqASsBLAEtAS4BLwEwATEBMgEzATQBNQE2ATcBOAE5AToBOwE8AT0BPgE/AUABQQFCAUMBRAFFAUYBRwFIAUkBSgFLAUwBTQFOAU8BUAFRAVIBUwFUAVUBVgFXAVgBWQFaAVsBXAFdAV4BXwFgAWEBYgFjAWQBZQFmAWcBaAFpAWoBawFsAW0BbgFvAXABcQFyAXMBdAF1AXYBdwF4AXkBegF7AXwBfQF+AX8BgAGBAYIBgwGEAYUBhgGHAYgBiQGKAYsBjAGNAY4BjwGQAZEBkgGTAZQBlQGWAZcBmAGZAZoBmwGcAZ0BngGfAaABoQGiAaMBpAGlAaYBpwGoAakBqgGrAawBrQGuAa8BsAGxAbIBswG0AbUBtgG3AbgBuQG6AbsBvAG9Ab4BvwHAAcEBwgHDAcQBxQHGAccByAHJAcoBywHMAc0BzgHPAdAB0QHSAdMB1AHVAdYB1wHYAdkB2gHbAdwB3QHeAd8B4AHhAeIB4wHkAeUB5gHnAegB6QHqAesB7AHtAe4B7wHwAfEB8gHzAQ==",
           "dtype": "i2"
          },
          "coloraxis": "coloraxis",
          "symbol": "circle"
         },
         "mode": "markers",
         "name": "",
         "orientation": "v",
         "showlegend": false,
         "type": "scatter",
         "x": {
          "bdata": "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",
          "dtype": "f4"
         },
         "xaxis": "x",
         "y": {
          "bdata": "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",
          "dtype": "f4"
         },
         "yaxis": "y"
        }
       ],
       "frames": [
        {
         "data": [
          {
           "hovertemplate": "set=exclude 0 columns<br>x=%{x}<br>y=%{y}<br>index=%{marker.color}<extra></extra>",
           "ids": {
            "bdata": "AAABAAIAAwAEAAUABgAHAAgACQAKAAsADAANAA4ADwAQABEAEgATABQAFQAWABcAGAAZABoAGwAcAB0AHgAfACAAIQAiACMAJAAlACYAJwAoACkAKgArACwALQAuAC8AMAAxADIAMwA0ADUANgA3ADgAOQA6ADsAPAA9AD4APwBAAEEAQgBDAEQARQBGAEcASABJAEoASwBMAE0ATgBPAFAAUQBSAFMAVABVAFYAVwBYAFkAWgBbAFwAXQBeAF8AYABhAGIAYwBkAGUAZgBnAGgAaQBqAGsAbABtAG4AbwBwAHEAcgBzAHQAdQB2AHcAeAB5AHoAewB8AH0AfgB/AIAAgQCCAIMAhACFAIYAhwCIAIkAigCLAIwAjQCOAI8AkACRAJIAkwCUAJUAlgCXAJgAmQCaAJsAnACdAJ4AnwCgAKEAogCjAKQApQCmAKcAqACpAKoAqwCsAK0ArgCvALAAsQCyALMAtAC1ALYAtwC4ALkAugC7ALwAvQC+AL8AwADBAMIAwwDEAMUAxgDHAMgAyQDKAMsAzADNAM4AzwDQANEA0gDTANQA1QDWANcA2ADZANoA2wDcAN0A3gDfAOAA4QDiAOMA5ADlAOYA5wDoAOkA6gDrAOwA7QDuAO8A8ADxAPIA8wD0APUA9gD3APgA+QD6APsA/AD9AP4A/wAAAQEBAgEDAQQBBQEGAQcBCAEJAQoBCwEMAQ0BDgEPARABEQESARMBFAEVARYBFwEYARkBGgEbARwBHQEeAR8BIAEhASIBIwEkASUBJgEnASgBKQEqASsBLAEtAS4BLwEwATEBMgEzATQBNQE2ATcBOAE5AToBOwE8AT0BPgE/AUABQQFCAUMBRAFFAUYBRwFIAUkBSgFLAUwBTQFOAU8BUAFRAVIBUwFUAVUBVgFXAVgBWQFaAVsBXAFdAV4BXwFgAWEBYgFjAWQBZQFmAWcBaAFpAWoBawFsAW0BbgFvAXABcQFyAXMBdAF1AXYBdwF4AXkBegF7AXwBfQF+AX8BgAGBAYIBgwGEAYUBhgGHAYgBiQGKAYsBjAGNAY4BjwGQAZEBkgGTAZQBlQGWAZcBmAGZAZoBmwGcAZ0BngGfAaABoQGiAaMBpAGlAaYBpwGoAakBqgGrAawBrQGuAa8BsAGxAbIBswG0AbUBtgG3AbgBuQG6AbsBvAG9Ab4BvwHAAcEBwgHDAcQBxQHGAccByAHJAcoBywHMAc0BzgHPAdAB0QHSAdMB1AHVAdYB1wHYAdkB2gHbAdwB3QHeAd8B4AHhAeIB4wHkAeUB5gHnAegB6QHqAesB7AHtAe4B7wHwAfEB8gHzAQ==",
            "dtype": "i2"
           },
           "legendgroup": "",
           "marker": {
            "color": {
             "bdata": "AAABAAIAAwAEAAUABgAHAAgACQAKAAsADAANAA4ADwAQABEAEgATABQAFQAWABcAGAAZABoAGwAcAB0AHgAfACAAIQAiACMAJAAlACYAJwAoACkAKgArACwALQAuAC8AMAAxADIAMwA0ADUANgA3ADgAOQA6ADsAPAA9AD4APwBAAEEAQgBDAEQARQBGAEcASABJAEoASwBMAE0ATgBPAFAAUQBSAFMAVABVAFYAVwBYAFkAWgBbAFwAXQBeAF8AYABhAGIAYwBkAGUAZgBnAGgAaQBqAGsAbABtAG4AbwBwAHEAcgBzAHQAdQB2AHcAeAB5AHoAewB8AH0AfgB/AIAAgQCCAIMAhACFAIYAhwCIAIkAigCLAIwAjQCOAI8AkACRAJIAkwCUAJUAlgCXAJgAmQCaAJsAnACdAJ4AnwCgAKEAogCjAKQApQCmAKcAqACpAKoAqwCsAK0ArgCvALAAsQCyALMAtAC1ALYAtwC4ALkAugC7ALwAvQC+AL8AwADBAMIAwwDEAMUAxgDHAMgAyQDKAMsAzADNAM4AzwDQANEA0gDTANQA1QDWANcA2ADZANoA2wDcAN0A3gDfAOAA4QDiAOMA5ADlAOYA5wDoAOkA6gDrAOwA7QDuAO8A8ADxAPIA8wD0APUA9gD3APgA+QD6APsA/AD9AP4A/wAAAQEBAgEDAQQBBQEGAQcBCAEJAQoBCwEMAQ0BDgEPARABEQESARMBFAEVARYBFwEYARkBGgEbARwBHQEeAR8BIAEhASIBIwEkASUBJgEnASgBKQEqASsBLAEtAS4BLwEwATEBMgEzATQBNQE2ATcBOAE5AToBOwE8AT0BPgE/AUABQQFCAUMBRAFFAUYBRwFIAUkBSgFLAUwBTQFOAU8BUAFRAVIBUwFUAVUBVgFXAVgBWQFaAVsBXAFdAV4BXwFgAWEBYgFjAWQBZQFmAWcBaAFpAWoBawFsAW0BbgFvAXABcQFyAXMBdAF1AXYBdwF4AXkBegF7AXwBfQF+AX8BgAGBAYIBgwGEAYUBhgGHAYgBiQGKAYsBjAGNAY4BjwGQAZEBkgGTAZQBlQGWAZcBmAGZAZoBmwGcAZ0BngGfAaABoQGiAaMBpAGlAaYBpwGoAakBqgGrAawBrQGuAa8BsAGxAbIBswG0AbUBtgG3AbgBuQG6AbsBvAG9Ab4BvwHAAcEBwgHDAcQBxQHGAccByAHJAcoBywHMAc0BzgHPAdAB0QHSAdMB1AHVAdYB1wHYAdkB2gHbAdwB3QHeAd8B4AHhAeIB4wHkAeUB5gHnAegB6QHqAesB7AHtAe4B7wHwAfEB8gHzAQ==",
             "dtype": "i2"
            },
            "coloraxis": "coloraxis",
            "symbol": "circle"
           },
           "mode": "markers",
           "name": "",
           "orientation": "v",
           "showlegend": false,
           "type": "scatter",
           "x": {
            "bdata": "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",
            "dtype": "f4"
           },
           "xaxis": "x",
           "y": {
            "bdata": "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",
            "dtype": "f4"
           },
           "yaxis": "y"
          }
         ],
         "name": "exclude 0 columns"
        },
        {
         "data": [
          {
           "hovertemplate": "set=exclude 1 columns<br>x=%{x}<br>y=%{y}<br>index=%{marker.color}<extra></extra>",
           "ids": {
            "bdata": "AAABAAIAAwAEAAUABgAHAAgACQAKAAsADAANAA4ADwAQABEAEgATABQAFQAWABcAGAAZABoAGwAcAB0AHgAfACAAIQAiACMAJAAlACYAJwAoACkAKgArACwALQAuAC8AMAAxADIAMwA0ADUANgA3ADgAOQA6ADsAPAA9AD4APwBAAEEAQgBDAEQARQBGAEcASABJAEoASwBMAE0ATgBPAFAAUQBSAFMAVABVAFYAVwBYAFkAWgBbAFwAXQBeAF8AYABhAGIAYwBkAGUAZgBnAGgAaQBqAGsAbABtAG4AbwBwAHEAcgBzAHQAdQB2AHcAeAB5AHoAewB8AH0AfgB/AIAAgQCCAIMAhACFAIYAhwCIAIkAigCLAIwAjQCOAI8AkACRAJIAkwCUAJUAlgCXAJgAmQCaAJsAnACdAJ4AnwCgAKEAogCjAKQApQCmAKcAqACpAKoAqwCsAK0ArgCvALAAsQCyALMAtAC1ALYAtwC4ALkAugC7ALwAvQC+AL8AwADBAMIAwwDEAMUAxgDHAMgAyQDKAMsAzADNAM4AzwDQANEA0gDTANQA1QDWANcA2ADZANoA2wDcAN0A3gDfAOAA4QDiAOMA5ADlAOYA5wDoAOkA6gDrAOwA7QDuAO8A8ADxAPIA8wD0APUA9gD3APgA+QD6APsA/AD9AP4A/wAAAQEBAgEDAQQBBQEGAQcBCAEJAQoBCwEMAQ0BDgEPARABEQESARMBFAEVARYBFwEYARkBGgEbARwBHQEeAR8BIAEhASIBIwEkASUBJgEnASgBKQEqASsBLAEtAS4BLwEwATEBMgEzATQBNQE2ATcBOAE5AToBOwE8AT0BPgE/AUABQQFCAUMBRAFFAUYBRwFIAUkBSgFLAUwBTQFOAU8BUAFRAVIBUwFUAVUBVgFXAVgBWQFaAVsBXAFdAV4BXwFgAWEBYgFjAWQBZQFmAWcBaAFpAWoBawFsAW0BbgFvAXABcQFyAXMBdAF1AXYBdwF4AXkBegF7AXwBfQF+AX8BgAGBAYIBgwGEAYUBhgGHAYgBiQGKAYsBjAGNAY4BjwGQAZEBkgGTAZQBlQGWAZcBmAGZAZoBmwGcAZ0BngGfAaABoQGiAaMBpAGlAaYBpwGoAakBqgGrAawBrQGuAa8BsAGxAbIBswG0AbUBtgG3AbgBuQG6AbsBvAG9Ab4BvwHAAcEBwgHDAcQBxQHGAccByAHJAcoBywHMAc0BzgHPAdAB0QHSAdMB1AHVAdYB1wHYAdkB2gHbAdwB3QHeAd8B4AHhAeIB4wHkAeUB5gHnAegB6QHqAesB7AHtAe4B7wHwAfEB8gHzAQ==",
            "dtype": "i2"
           },
           "legendgroup": "",
           "marker": {
            "color": {
             "bdata": "AAABAAIAAwAEAAUABgAHAAgACQAKAAsADAANAA4ADwAQABEAEgATABQAFQAWABcAGAAZABoAGwAcAB0AHgAfACAAIQAiACMAJAAlACYAJwAoACkAKgArACwALQAuAC8AMAAxADIAMwA0ADUANgA3ADgAOQA6ADsAPAA9AD4APwBAAEEAQgBDAEQARQBGAEcASABJAEoASwBMAE0ATgBPAFAAUQBSAFMAVABVAFYAVwBYAFkAWgBbAFwAXQBeAF8AYABhAGIAYwBkAGUAZgBnAGgAaQBqAGsAbABtAG4AbwBwAHEAcgBzAHQAdQB2AHcAeAB5AHoAewB8AH0AfgB/AIAAgQCCAIMAhACFAIYAhwCIAIkAigCLAIwAjQCOAI8AkACRAJIAkwCUAJUAlgCXAJgAmQCaAJsAnACdAJ4AnwCgAKEAogCjAKQApQCmAKcAqACpAKoAqwCsAK0ArgCvALAAsQCyALMAtAC1ALYAtwC4ALkAugC7ALwAvQC+AL8AwADBAMIAwwDEAMUAxgDHAMgAyQDKAMsAzADNAM4AzwDQANEA0gDTANQA1QDWANcA2ADZANoA2wDcAN0A3gDfAOAA4QDiAOMA5ADlAOYA5wDoAOkA6gDrAOwA7QDuAO8A8ADxAPIA8wD0APUA9gD3APgA+QD6APsA/AD9AP4A/wAAAQEBAgEDAQQBBQEGAQcBCAEJAQoBCwEMAQ0BDgEPARABEQESARMBFAEVARYBFwEYARkBGgEbARwBHQEeAR8BIAEhASIBIwEkASUBJgEnASgBKQEqASsBLAEtAS4BLwEwATEBMgEzATQBNQE2ATcBOAE5AToBOwE8AT0BPgE/AUABQQFCAUMBRAFFAUYBRwFIAUkBSgFLAUwBTQFOAU8BUAFRAVIBUwFUAVUBVgFXAVgBWQFaAVsBXAFdAV4BXwFgAWEBYgFjAWQBZQFmAWcBaAFpAWoBawFsAW0BbgFvAXABcQFyAXMBdAF1AXYBdwF4AXkBegF7AXwBfQF+AX8BgAGBAYIBgwGEAYUBhgGHAYgBiQGKAYsBjAGNAY4BjwGQAZEBkgGTAZQBlQGWAZcBmAGZAZoBmwGcAZ0BngGfAaABoQGiAaMBpAGlAaYBpwGoAakBqgGrAawBrQGuAa8BsAGxAbIBswG0AbUBtgG3AbgBuQG6AbsBvAG9Ab4BvwHAAcEBwgHDAcQBxQHGAccByAHJAcoBywHMAc0BzgHPAdAB0QHSAdMB1AHVAdYB1wHYAdkB2gHbAdwB3QHeAd8B4AHhAeIB4wHkAeUB5gHnAegB6QHqAesB7AHtAe4B7wHwAfEB8gHzAQ==",
             "dtype": "i2"
            },
            "coloraxis": "coloraxis",
            "symbol": "circle"
           },
           "mode": "markers",
           "name": "",
           "orientation": "v",
           "showlegend": false,
           "type": "scatter",
           "x": {
            "bdata": "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",
            "dtype": "f4"
           },
           "xaxis": "x",
           "y": {
            "bdata": "o8jLQBWpuEABHXdAlXujQKujrkBUx/1A+BgAQZVjDkF36IVAHbDrQKwrwkBYgbhAg86+QGMOw0CwfKZAL/nIQGLGokAZYshAKliVQCBpC0GHdaVAVlegQKAfyEBEiutAvtPHQFGeoUDNfe9AVO/KQE5u6UApGs1AQb7XQBKixUDr2JdAKzbcQO9rCEEaA79A2in8QFx/ykAXcadA97TiQLS30UArYapASP6qQKKexkCjpbtAn+TLQFp6zkCv/+VATs4DQRcepkBsstlAI6W4QAJKvUDmIcFAASb6QOA2CUHW5+RAWzD8QLGQnUArzNdA38MOQeh8xkAf69xAoQbbQPa96UCaL9tA3NihQF/L4UDid8xAmRDVQGgTn0C7cs9A1eCvQHZY2UDFH5BAYLR+QGBCAEHsYsFAK1h0QHZJbEABltlA7JulQBRizECWawNBMlKXQGDOv0DxS8pArEq+QDHLyUCjReBAS7GnQA12vEANOthA4jqWQA3QkUDEHNtAt0ikQB+y10DyBb1ANO2/QHMDvEAAugVB6/u2QC+1hUB788hA+WCqQO/4o0DhUNBAKufRQCH85UBewZ5ApNzKQOIk/UAEjq5AJ8emQNxW4UCCuKVAUvHhQNfSsUC4MsJAkLn6QIAecECeTJ9AhhXuQAO45kBWeaVAL5ylQO17sEC/+5pAPFvWQF07s0DjRthALw/dQFpOxkAyYdlA6vSgQDDVxUDyiQpBRZmtQI2HC0HaAchAPEbLQAs3DUHbCfFASCjvQLOse0BdwatAEUTtQCygkECckHBAReioQEc83ECPvtNAVYCuQN2YzEApOOFAjD6MQIBWvECdWtJAeHSrQFhaxUDhocdAKLelQF+D3kC/vdhAdJLhQEAe9EAJQsdAr7vOQP9qtUC9b6ZAiALSQOWNhUBeKr5AfLemQLso/EC7r/NAwDbVQIoIwUCO6plACJTeQA7n90Dg1cNAYompQOjcvEAtjYBAEpCwQFCIjUDHjLpANJDTQLy3jkAeHZpAhorEQN685EBAIM9Atte1QEew10CSvNRAeYTJQFxzqEC0APdAsjnwQKszjkDYnddA9rLwQNBN0kCJqeRAxsv1QAIqzEBZnrtAI2S7QABFvECkhdhAXbXnQKHywUCrYw9BG2fSQPoIsECY1q5A5EbKQFpB10CbLwZBN83MQCcGEUHHde1AQBIKQTgt8kBt8Q1Bz8O+QM1YyEChv8pARsUOQdXcCUGQk9ZAYT7UQOlY0UBrV6BAcFnDQIZP1kDQeMNAAoDeQNakskDfTr1AqwugQPminkCEI79AQ5qsQC9l6ED0WOpAwmufQDvccEDx9ZdAes7EQNYOskBA3vFAJpzCQHZG2EAKu65AA2OoQHKic0DGotVA/ryEQMysoEAuqL5ALPvJQNK1p0ApTvdA+9WkQPtbDkFxMdNA3XcOQQYkuUDudflAPsLqQKKbnkAPHK5A8fypQLtFrkBeuLNA2RTFQPEz1kCxrtJAPRqnQBxedECwAwVBeV2vQA0DzECRksNAA/L1QEmfl0BNPZNAUyaOQAlFskDdxWhALnfnQCUOd0Bh5cNA/GCUQLny2EABd/lAkVK6QDAeA0HcfKpAbwLKQFGYzUBv9ZdAJWvUQHiDx0BA3LtA0E4PQXy6ykCug/9AEGPIQEr7nUBxDg9BQWGtQExfp0Cx0f1AX/HFQFzgvEDaMZ1ALs3pQNxrrkA7gndAdeytQF+IwUCGawlB2cuZQIIW2UCC/oJAwRnhQEYKmkB4voBAPd63QCJRykDv9QZBF3PbQCknzUDNhsBATO68QFF/x0CwDZNACIfEQPWjvECc/KRAytuzQG/pp0DZNqdAlqXuQHC8r0DJaMlA/Q7xQM5hw0DkTqZAc2TSQJ6t+UBXk/tAOK+gQP2E30CGGrZAxizSQO2UpkBq2dxA/EFvQKxZ80BqddBAkUiwQBLi10C684pAWQOeQNYZCUHbARBBvC3AQJIbq0B2XI1AiD0MQVzE2UBO14BAikL7QNADs0AP/bhAZ/n7QEVgwUAUf8tATT+KQFon/kBDbA5BGzGHQJ9GsUBCV8lAggbFQOzu+0AC2cFAsUvZQIzBqEDZ8w9BWCWwQAQBz0CCSd5ApRWkQO37ekB8Qt5AWebDQE3jrUD59qpALtkDQYdH4kBvztlA7KfGQETB7EBFketAzxRxQPcYkkA+itFA6enPQMcQjUBzraRAmo6VQNRy20AZ8wlBs/7BQD3uqkDfAr5AZBALQTdJcEB+RQRBo+QDQTo0BkGKPcpADsTpQMyyD0H/KPhAdCCyQAeGokCG/+VAi6e4QLE4cUCGoA1Bc/a0QKlkqEChNJtARwrRQOWHyUDlVY1ADqDoQO6QDEHZTc9Ae1MDQaCTyED8LgxBNsZyQGX7rkAzpsVAl27LQCsk7EDoutBAbcGrQB5LvkC2LolA2J+8QBiK8EAPmcRAC1qqQORD8EBT2QdBffd6QNQoDUGf36hABJCyQDS3pUApLLxAqVcPQTeBtEDSfr5AEQ7RQCd/l0CTHs1ANfjVQD1l2ED5OttAztW/QMpcvUDx8rBAfqfQQN+Fe0BO7b1AI8aqQHkX50AUzLhAJN2PQIZ+5ECSTKhANY7RQKgu0ECGq+9A3afaQG/T2UA/LQFBksGzQLO0CkE=",
            "dtype": "f4"
           },
           "yaxis": "y"
          }
         ],
         "name": "exclude 1 columns"
        },
        {
         "data": [
          {
           "hovertemplate": "set=exclude 2 columns<br>x=%{x}<br>y=%{y}<br>index=%{marker.color}<extra></extra>",
           "ids": {
            "bdata": "AAABAAIAAwAEAAUABgAHAAgACQAKAAsADAANAA4ADwAQABEAEgATABQAFQAWABcAGAAZABoAGwAcAB0AHgAfACAAIQAiACMAJAAlACYAJwAoACkAKgArACwALQAuAC8AMAAxADIAMwA0ADUANgA3ADgAOQA6ADsAPAA9AD4APwBAAEEAQgBDAEQARQBGAEcASABJAEoASwBMAE0ATgBPAFAAUQBSAFMAVABVAFYAVwBYAFkAWgBbAFwAXQBeAF8AYABhAGIAYwBkAGUAZgBnAGgAaQBqAGsAbABtAG4AbwBwAHEAcgBzAHQAdQB2AHcAeAB5AHoAewB8AH0AfgB/AIAAgQCCAIMAhACFAIYAhwCIAIkAigCLAIwAjQCOAI8AkACRAJIAkwCUAJUAlgCXAJgAmQCaAJsAnACdAJ4AnwCgAKEAogCjAKQApQCmAKcAqACpAKoAqwCsAK0ArgCvALAAsQCyALMAtAC1ALYAtwC4ALkAugC7ALwAvQC+AL8AwADBAMIAwwDEAMUAxgDHAMgAyQDKAMsAzADNAM4AzwDQANEA0gDTANQA1QDWANcA2ADZANoA2wDcAN0A3gDfAOAA4QDiAOMA5ADlAOYA5wDoAOkA6gDrAOwA7QDuAO8A8ADxAPIA8wD0APUA9gD3APgA+QD6APsA/AD9AP4A/wAAAQEBAgEDAQQBBQEGAQcBCAEJAQoBCwEMAQ0BDgEPARABEQESARMBFAEVARYBFwEYARkBGgEbARwBHQEeAR8BIAEhASIBIwEkASUBJgEnASgBKQEqASsBLAEtAS4BLwEwATEBMgEzATQBNQE2ATcBOAE5AToBOwE8AT0BPgE/AUABQQFCAUMBRAFFAUYBRwFIAUkBSgFLAUwBTQFOAU8BUAFRAVIBUwFUAVUBVgFXAVgBWQFaAVsBXAFdAV4BXwFgAWEBYgFjAWQBZQFmAWcBaAFpAWoBawFsAW0BbgFvAXABcQFyAXMBdAF1AXYBdwF4AXkBegF7AXwBfQF+AX8BgAGBAYIBgwGEAYUBhgGHAYgBiQGKAYsBjAGNAY4BjwGQAZEBkgGTAZQBlQGWAZcBmAGZAZoBmwGcAZ0BngGfAaABoQGiAaMBpAGlAaYBpwGoAakBqgGrAawBrQGuAa8BsAGxAbIBswG0AbUBtgG3AbgBuQG6AbsBvAG9Ab4BvwHAAcEBwgHDAcQBxQHGAccByAHJAcoBywHMAc0BzgHPAdAB0QHSAdMB1AHVAdYB1wHYAdkB2gHbAdwB3QHeAd8B4AHhAeIB4wHkAeUB5gHnAegB6QHqAesB7AHtAe4B7wHwAfEB8gHzAQ==",
            "dtype": "i2"
           },
           "legendgroup": "",
           "marker": {
            "color": {
             "bdata": "AAABAAIAAwAEAAUABgAHAAgACQAKAAsADAANAA4ADwAQABEAEgATABQAFQAWABcAGAAZABoAGwAcAB0AHgAfACAAIQAiACMAJAAlACYAJwAoACkAKgArACwALQAuAC8AMAAxADIAMwA0ADUANgA3ADgAOQA6ADsAPAA9AD4APwBAAEEAQgBDAEQARQBGAEcASABJAEoASwBMAE0ATgBPAFAAUQBSAFMAVABVAFYAVwBYAFkAWgBbAFwAXQBeAF8AYABhAGIAYwBkAGUAZgBnAGgAaQBqAGsAbABtAG4AbwBwAHEAcgBzAHQAdQB2AHcAeAB5AHoAewB8AH0AfgB/AIAAgQCCAIMAhACFAIYAhwCIAIkAigCLAIwAjQCOAI8AkACRAJIAkwCUAJUAlgCXAJgAmQCaAJsAnACdAJ4AnwCgAKEAogCjAKQApQCmAKcAqACpAKoAqwCsAK0ArgCvALAAsQCyALMAtAC1ALYAtwC4ALkAugC7ALwAvQC+AL8AwADBAMIAwwDEAMUAxgDHAMgAyQDKAMsAzADNAM4AzwDQANEA0gDTANQA1QDWANcA2ADZANoA2wDcAN0A3gDfAOAA4QDiAOMA5ADlAOYA5wDoAOkA6gDrAOwA7QDuAO8A8ADxAPIA8wD0APUA9gD3APgA+QD6APsA/AD9AP4A/wAAAQEBAgEDAQQBBQEGAQcBCAEJAQoBCwEMAQ0BDgEPARABEQESARMBFAEVARYBFwEYARkBGgEbARwBHQEeAR8BIAEhASIBIwEkASUBJgEnASgBKQEqASsBLAEtAS4BLwEwATEBMgEzATQBNQE2ATcBOAE5AToBOwE8AT0BPgE/AUABQQFCAUMBRAFFAUYBRwFIAUkBSgFLAUwBTQFOAU8BUAFRAVIBUwFUAVUBVgFXAVgBWQFaAVsBXAFdAV4BXwFgAWEBYgFjAWQBZQFmAWcBaAFpAWoBawFsAW0BbgFvAXABcQFyAXMBdAF1AXYBdwF4AXkBegF7AXwBfQF+AX8BgAGBAYIBgwGEAYUBhgGHAYgBiQGKAYsBjAGNAY4BjwGQAZEBkgGTAZQBlQGWAZcBmAGZAZoBmwGcAZ0BngGfAaABoQGiAaMBpAGlAaYBpwGoAakBqgGrAawBrQGuAa8BsAGxAbIBswG0AbUBtgG3AbgBuQG6AbsBvAG9Ab4BvwHAAcEBwgHDAcQBxQHGAccByAHJAcoBywHMAc0BzgHPAdAB0QHSAdMB1AHVAdYB1wHYAdkB2gHbAdwB3QHeAd8B4AHhAeIB4wHkAeUB5gHnAegB6QHqAesB7AHtAe4B7wHwAfEB8gHzAQ==",
             "dtype": "i2"
            },
            "coloraxis": "coloraxis",
            "symbol": "circle"
           },
           "mode": "markers",
           "name": "",
           "orientation": "v",
           "showlegend": false,
           "type": "scatter",
           "x": {
            "bdata": "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",
            "dtype": "f4"
           },
           "xaxis": "x",
           "y": {
            "bdata": "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",
            "dtype": "f4"
           },
           "yaxis": "y"
          }
         ],
         "name": "exclude 2 columns"
        },
        {
         "data": [
          {
           "hovertemplate": "set=exclude 17 columns<br>x=%{x}<br>y=%{y}<br>index=%{marker.color}<extra></extra>",
           "ids": {
            "bdata": "AAABAAIAAwAEAAUABgAHAAgACQAKAAsADAANAA4ADwAQABEAEgATABQAFQAWABcAGAAZABoAGwAcAB0AHgAfACAAIQAiACMAJAAlACYAJwAoACkAKgArACwALQAuAC8AMAAxADIAMwA0ADUANgA3ADgAOQA6ADsAPAA9AD4APwBAAEEAQgBDAEQARQBGAEcASABJAEoASwBMAE0ATgBPAFAAUQBSAFMAVABVAFYAVwBYAFkAWgBbAFwAXQBeAF8AYABhAGIAYwBkAGUAZgBnAGgAaQBqAGsAbABtAG4AbwBwAHEAcgBzAHQAdQB2AHcAeAB5AHoAewB8AH0AfgB/AIAAgQCCAIMAhACFAIYAhwCIAIkAigCLAIwAjQCOAI8AkACRAJIAkwCUAJUAlgCXAJgAmQCaAJsAnACdAJ4AnwCgAKEAogCjAKQApQCmAKcAqACpAKoAqwCsAK0ArgCvALAAsQCyALMAtAC1ALYAtwC4ALkAugC7ALwAvQC+AL8AwADBAMIAwwDEAMUAxgDHAMgAyQDKAMsAzADNAM4AzwDQANEA0gDTANQA1QDWANcA2ADZANoA2wDcAN0A3gDfAOAA4QDiAOMA5ADlAOYA5wDoAOkA6gDrAOwA7QDuAO8A8ADxAPIA8wD0APUA9gD3APgA+QD6APsA/AD9AP4A/wAAAQEBAgEDAQQBBQEGAQcBCAEJAQoBCwEMAQ0BDgEPARABEQESARMBFAEVARYBFwEYARkBGgEbARwBHQEeAR8BIAEhASIBIwEkASUBJgEnASgBKQEqASsBLAEtAS4BLwEwATEBMgEzATQBNQE2ATcBOAE5AToBOwE8AT0BPgE/AUABQQFCAUMBRAFFAUYBRwFIAUkBSgFLAUwBTQFOAU8BUAFRAVIBUwFUAVUBVgFXAVgBWQFaAVsBXAFdAV4BXwFgAWEBYgFjAWQBZQFmAWcBaAFpAWoBawFsAW0BbgFvAXABcQFyAXMBdAF1AXYBdwF4AXkBegF7AXwBfQF+AX8BgAGBAYIBgwGEAYUBhgGHAYgBiQGKAYsBjAGNAY4BjwGQAZEBkgGTAZQBlQGWAZcBmAGZAZoBmwGcAZ0BngGfAaABoQGiAaMBpAGlAaYBpwGoAakBqgGrAawBrQGuAa8BsAGxAbIBswG0AbUBtgG3AbgBuQG6AbsBvAG9Ab4BvwHAAcEBwgHDAcQBxQHGAccByAHJAcoBywHMAc0BzgHPAdAB0QHSAdMB1AHVAdYB1wHYAdkB2gHbAdwB3QHeAd8B4AHhAeIB4wHkAeUB5gHnAegB6QHqAesB7AHtAe4B7wHwAfEB8gHzAQ==",
            "dtype": "i2"
           },
           "legendgroup": "",
           "marker": {
            "color": {
             "bdata": "AAABAAIAAwAEAAUABgAHAAgACQAKAAsADAANAA4ADwAQABEAEgATABQAFQAWABcAGAAZABoAGwAcAB0AHgAfACAAIQAiACMAJAAlACYAJwAoACkAKgArACwALQAuAC8AMAAxADIAMwA0ADUANgA3ADgAOQA6ADsAPAA9AD4APwBAAEEAQgBDAEQARQBGAEcASABJAEoASwBMAE0ATgBPAFAAUQBSAFMAVABVAFYAVwBYAFkAWgBbAFwAXQBeAF8AYABhAGIAYwBkAGUAZgBnAGgAaQBqAGsAbABtAG4AbwBwAHEAcgBzAHQAdQB2AHcAeAB5AHoAewB8AH0AfgB/AIAAgQCCAIMAhACFAIYAhwCIAIkAigCLAIwAjQCOAI8AkACRAJIAkwCUAJUAlgCXAJgAmQCaAJsAnACdAJ4AnwCgAKEAogCjAKQApQCmAKcAqACpAKoAqwCsAK0ArgCvALAAsQCyALMAtAC1ALYAtwC4ALkAugC7ALwAvQC+AL8AwADBAMIAwwDEAMUAxgDHAMgAyQDKAMsAzADNAM4AzwDQANEA0gDTANQA1QDWANcA2ADZANoA2wDcAN0A3gDfAOAA4QDiAOMA5ADlAOYA5wDoAOkA6gDrAOwA7QDuAO8A8ADxAPIA8wD0APUA9gD3APgA+QD6APsA/AD9AP4A/wAAAQEBAgEDAQQBBQEGAQcBCAEJAQoBCwEMAQ0BDgEPARABEQESARMBFAEVARYBFwEYARkBGgEbARwBHQEeAR8BIAEhASIBIwEkASUBJgEnASgBKQEqASsBLAEtAS4BLwEwATEBMgEzATQBNQE2ATcBOAE5AToBOwE8AT0BPgE/AUABQQFCAUMBRAFFAUYBRwFIAUkBSgFLAUwBTQFOAU8BUAFRAVIBUwFUAVUBVgFXAVgBWQFaAVsBXAFdAV4BXwFgAWEBYgFjAWQBZQFmAWcBaAFpAWoBawFsAW0BbgFvAXABcQFyAXMBdAF1AXYBdwF4AXkBegF7AXwBfQF+AX8BgAGBAYIBgwGEAYUBhgGHAYgBiQGKAYsBjAGNAY4BjwGQAZEBkgGTAZQBlQGWAZcBmAGZAZoBmwGcAZ0BngGfAaABoQGiAaMBpAGlAaYBpwGoAakBqgGrAawBrQGuAa8BsAGxAbIBswG0AbUBtgG3AbgBuQG6AbsBvAG9Ab4BvwHAAcEBwgHDAcQBxQHGAccByAHJAcoBywHMAc0BzgHPAdAB0QHSAdMB1AHVAdYB1wHYAdkB2gHbAdwB3QHeAd8B4AHhAeIB4wHkAeUB5gHnAegB6QHqAesB7AHtAe4B7wHwAfEB8gHzAQ==",
             "dtype": "i2"
            },
            "coloraxis": "coloraxis",
            "symbol": "circle"
           },
           "mode": "markers",
           "name": "",
           "orientation": "v",
           "showlegend": false,
           "type": "scatter",
           "x": {
            "bdata": "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",
            "dtype": "f4"
           },
           "xaxis": "x",
           "y": {
            "bdata": "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",
            "dtype": "f4"
           },
           "yaxis": "y"
          }
         ],
         "name": "exclude 17 columns"
        },
        {
         "data": [
          {
           "hovertemplate": "set=exclude 47 columns<br>x=%{x}<br>y=%{y}<br>index=%{marker.color}<extra></extra>",
           "ids": {
            "bdata": "AAABAAIAAwAEAAUABgAHAAgACQAKAAsADAANAA4ADwAQABEAEgATABQAFQAWABcAGAAZABoAGwAcAB0AHgAfACAAIQAiACMAJAAlACYAJwAoACkAKgArACwALQAuAC8AMAAxADIAMwA0ADUANgA3ADgAOQA6ADsAPAA9AD4APwBAAEEAQgBDAEQARQBGAEcASABJAEoASwBMAE0ATgBPAFAAUQBSAFMAVABVAFYAVwBYAFkAWgBbAFwAXQBeAF8AYABhAGIAYwBkAGUAZgBnAGgAaQBqAGsAbABtAG4AbwBwAHEAcgBzAHQAdQB2AHcAeAB5AHoAewB8AH0AfgB/AIAAgQCCAIMAhACFAIYAhwCIAIkAigCLAIwAjQCOAI8AkACRAJIAkwCUAJUAlgCXAJgAmQCaAJsAnACdAJ4AnwCgAKEAogCjAKQApQCmAKcAqACpAKoAqwCsAK0ArgCvALAAsQCyALMAtAC1ALYAtwC4ALkAugC7ALwAvQC+AL8AwADBAMIAwwDEAMUAxgDHAMgAyQDKAMsAzADNAM4AzwDQANEA0gDTANQA1QDWANcA2ADZANoA2wDcAN0A3gDfAOAA4QDiAOMA5ADlAOYA5wDoAOkA6gDrAOwA7QDuAO8A8ADxAPIA8wD0APUA9gD3APgA+QD6APsA/AD9AP4A/wAAAQEBAgEDAQQBBQEGAQcBCAEJAQoBCwEMAQ0BDgEPARABEQESARMBFAEVARYBFwEYARkBGgEbARwBHQEeAR8BIAEhASIBIwEkASUBJgEnASgBKQEqASsBLAEtAS4BLwEwATEBMgEzATQBNQE2ATcBOAE5AToBOwE8AT0BPgE/AUABQQFCAUMBRAFFAUYBRwFIAUkBSgFLAUwBTQFOAU8BUAFRAVIBUwFUAVUBVgFXAVgBWQFaAVsBXAFdAV4BXwFgAWEBYgFjAWQBZQFmAWcBaAFpAWoBawFsAW0BbgFvAXABcQFyAXMBdAF1AXYBdwF4AXkBegF7AXwBfQF+AX8BgAGBAYIBgwGEAYUBhgGHAYgBiQGKAYsBjAGNAY4BjwGQAZEBkgGTAZQBlQGWAZcBmAGZAZoBmwGcAZ0BngGfAaABoQGiAaMBpAGlAaYBpwGoAakBqgGrAawBrQGuAa8BsAGxAbIBswG0AbUBtgG3AbgBuQG6AbsBvAG9Ab4BvwHAAcEBwgHDAcQBxQHGAccByAHJAcoBywHMAc0BzgHPAdAB0QHSAdMB1AHVAdYB1wHYAdkB2gHbAdwB3QHeAd8B4AHhAeIB4wHkAeUB5gHnAegB6QHqAesB7AHtAe4B7wHwAfEB8gHzAQ==",
            "dtype": "i2"
           },
           "legendgroup": "",
           "marker": {
            "color": {
             "bdata": "AAABAAIAAwAEAAUABgAHAAgACQAKAAsADAANAA4ADwAQABEAEgATABQAFQAWABcAGAAZABoAGwAcAB0AHgAfACAAIQAiACMAJAAlACYAJwAoACkAKgArACwALQAuAC8AMAAxADIAMwA0ADUANgA3ADgAOQA6ADsAPAA9AD4APwBAAEEAQgBDAEQARQBGAEcASABJAEoASwBMAE0ATgBPAFAAUQBSAFMAVABVAFYAVwBYAFkAWgBbAFwAXQBeAF8AYABhAGIAYwBkAGUAZgBnAGgAaQBqAGsAbABtAG4AbwBwAHEAcgBzAHQAdQB2AHcAeAB5AHoAewB8AH0AfgB/AIAAgQCCAIMAhACFAIYAhwCIAIkAigCLAIwAjQCOAI8AkACRAJIAkwCUAJUAlgCXAJgAmQCaAJsAnACdAJ4AnwCgAKEAogCjAKQApQCmAKcAqACpAKoAqwCsAK0ArgCvALAAsQCyALMAtAC1ALYAtwC4ALkAugC7ALwAvQC+AL8AwADBAMIAwwDEAMUAxgDHAMgAyQDKAMsAzADNAM4AzwDQANEA0gDTANQA1QDWANcA2ADZANoA2wDcAN0A3gDfAOAA4QDiAOMA5ADlAOYA5wDoAOkA6gDrAOwA7QDuAO8A8ADxAPIA8wD0APUA9gD3APgA+QD6APsA/AD9AP4A/wAAAQEBAgEDAQQBBQEGAQcBCAEJAQoBCwEMAQ0BDgEPARABEQESARMBFAEVARYBFwEYARkBGgEbARwBHQEeAR8BIAEhASIBIwEkASUBJgEnASgBKQEqASsBLAEtAS4BLwEwATEBMgEzATQBNQE2ATcBOAE5AToBOwE8AT0BPgE/AUABQQFCAUMBRAFFAUYBRwFIAUkBSgFLAUwBTQFOAU8BUAFRAVIBUwFUAVUBVgFXAVgBWQFaAVsBXAFdAV4BXwFgAWEBYgFjAWQBZQFmAWcBaAFpAWoBawFsAW0BbgFvAXABcQFyAXMBdAF1AXYBdwF4AXkBegF7AXwBfQF+AX8BgAGBAYIBgwGEAYUBhgGHAYgBiQGKAYsBjAGNAY4BjwGQAZEBkgGTAZQBlQGWAZcBmAGZAZoBmwGcAZ0BngGfAaABoQGiAaMBpAGlAaYBpwGoAakBqgGrAawBrQGuAa8BsAGxAbIBswG0AbUBtgG3AbgBuQG6AbsBvAG9Ab4BvwHAAcEBwgHDAcQBxQHGAccByAHJAcoBywHMAc0BzgHPAdAB0QHSAdMB1AHVAdYB1wHYAdkB2gHbAdwB3QHeAd8B4AHhAeIB4wHkAeUB5gHnAegB6QHqAesB7AHtAe4B7wHwAfEB8gHzAQ==",
             "dtype": "i2"
            },
            "coloraxis": "coloraxis",
            "symbol": "circle"
           },
           "mode": "markers",
           "name": "",
           "orientation": "v",
           "showlegend": false,
           "type": "scatter",
           "x": {
            "bdata": "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",
            "dtype": "f4"
           },
           "xaxis": "x",
           "y": {
            "bdata": "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",
            "dtype": "f4"
           },
           "yaxis": "y"
          }
         ],
         "name": "exclude 47 columns"
        },
        {
         "data": [
          {
           "hovertemplate": "set=exclude 93 columns<br>x=%{x}<br>y=%{y}<br>index=%{marker.color}<extra></extra>",
           "ids": {
            "bdata": "AAABAAIAAwAEAAUABgAHAAgACQAKAAsADAANAA4ADwAQABEAEgATABQAFQAWABcAGAAZABoAGwAcAB0AHgAfACAAIQAiACMAJAAlACYAJwAoACkAKgArACwALQAuAC8AMAAxADIAMwA0ADUANgA3ADgAOQA6ADsAPAA9AD4APwBAAEEAQgBDAEQARQBGAEcASABJAEoASwBMAE0ATgBPAFAAUQBSAFMAVABVAFYAVwBYAFkAWgBbAFwAXQBeAF8AYABhAGIAYwBkAGUAZgBnAGgAaQBqAGsAbABtAG4AbwBwAHEAcgBzAHQAdQB2AHcAeAB5AHoAewB8AH0AfgB/AIAAgQCCAIMAhACFAIYAhwCIAIkAigCLAIwAjQCOAI8AkACRAJIAkwCUAJUAlgCXAJgAmQCaAJsAnACdAJ4AnwCgAKEAogCjAKQApQCmAKcAqACpAKoAqwCsAK0ArgCvALAAsQCyALMAtAC1ALYAtwC4ALkAugC7ALwAvQC+AL8AwADBAMIAwwDEAMUAxgDHAMgAyQDKAMsAzADNAM4AzwDQANEA0gDTANQA1QDWANcA2ADZANoA2wDcAN0A3gDfAOAA4QDiAOMA5ADlAOYA5wDoAOkA6gDrAOwA7QDuAO8A8ADxAPIA8wD0APUA9gD3APgA+QD6APsA/AD9AP4A/wAAAQEBAgEDAQQBBQEGAQcBCAEJAQoBCwEMAQ0BDgEPARABEQESARMBFAEVARYBFwEYARkBGgEbARwBHQEeAR8BIAEhASIBIwEkASUBJgEnASgBKQEqASsBLAEtAS4BLwEwATEBMgEzATQBNQE2ATcBOAE5AToBOwE8AT0BPgE/AUABQQFCAUMBRAFFAUYBRwFIAUkBSgFLAUwBTQFOAU8BUAFRAVIBUwFUAVUBVgFXAVgBWQFaAVsBXAFdAV4BXwFgAWEBYgFjAWQBZQFmAWcBaAFpAWoBawFsAW0BbgFvAXABcQFyAXMBdAF1AXYBdwF4AXkBegF7AXwBfQF+AX8BgAGBAYIBgwGEAYUBhgGHAYgBiQGKAYsBjAGNAY4BjwGQAZEBkgGTAZQBlQGWAZcBmAGZAZoBmwGcAZ0BngGfAaABoQGiAaMBpAGlAaYBpwGoAakBqgGrAawBrQGuAa8BsAGxAbIBswG0AbUBtgG3AbgBuQG6AbsBvAG9Ab4BvwHAAcEBwgHDAcQBxQHGAccByAHJAcoBywHMAc0BzgHPAdAB0QHSAdMB1AHVAdYB1wHYAdkB2gHbAdwB3QHeAd8B4AHhAeIB4wHkAeUB5gHnAegB6QHqAesB7AHtAe4B7wHwAfEB8gHzAQ==",
            "dtype": "i2"
           },
           "legendgroup": "",
           "marker": {
            "color": {
             "bdata": "AAABAAIAAwAEAAUABgAHAAgACQAKAAsADAANAA4ADwAQABEAEgATABQAFQAWABcAGAAZABoAGwAcAB0AHgAfACAAIQAiACMAJAAlACYAJwAoACkAKgArACwALQAuAC8AMAAxADIAMwA0ADUANgA3ADgAOQA6ADsAPAA9AD4APwBAAEEAQgBDAEQARQBGAEcASABJAEoASwBMAE0ATgBPAFAAUQBSAFMAVABVAFYAVwBYAFkAWgBbAFwAXQBeAF8AYABhAGIAYwBkAGUAZgBnAGgAaQBqAGsAbABtAG4AbwBwAHEAcgBzAHQAdQB2AHcAeAB5AHoAewB8AH0AfgB/AIAAgQCCAIMAhACFAIYAhwCIAIkAigCLAIwAjQCOAI8AkACRAJIAkwCUAJUAlgCXAJgAmQCaAJsAnACdAJ4AnwCgAKEAogCjAKQApQCmAKcAqACpAKoAqwCsAK0ArgCvALAAsQCyALMAtAC1ALYAtwC4ALkAugC7ALwAvQC+AL8AwADBAMIAwwDEAMUAxgDHAMgAyQDKAMsAzADNAM4AzwDQANEA0gDTANQA1QDWANcA2ADZANoA2wDcAN0A3gDfAOAA4QDiAOMA5ADlAOYA5wDoAOkA6gDrAOwA7QDuAO8A8ADxAPIA8wD0APUA9gD3APgA+QD6APsA/AD9AP4A/wAAAQEBAgEDAQQBBQEGAQcBCAEJAQoBCwEMAQ0BDgEPARABEQESARMBFAEVARYBFwEYARkBGgEbARwBHQEeAR8BIAEhASIBIwEkASUBJgEnASgBKQEqASsBLAEtAS4BLwEwATEBMgEzATQBNQE2ATcBOAE5AToBOwE8AT0BPgE/AUABQQFCAUMBRAFFAUYBRwFIAUkBSgFLAUwBTQFOAU8BUAFRAVIBUwFUAVUBVgFXAVgBWQFaAVsBXAFdAV4BXwFgAWEBYgFjAWQBZQFmAWcBaAFpAWoBawFsAW0BbgFvAXABcQFyAXMBdAF1AXYBdwF4AXkBegF7AXwBfQF+AX8BgAGBAYIBgwGEAYUBhgGHAYgBiQGKAYsBjAGNAY4BjwGQAZEBkgGTAZQBlQGWAZcBmAGZAZoBmwGcAZ0BngGfAaABoQGiAaMBpAGlAaYBpwGoAakBqgGrAawBrQGuAa8BsAGxAbIBswG0AbUBtgG3AbgBuQG6AbsBvAG9Ab4BvwHAAcEBwgHDAcQBxQHGAccByAHJAcoBywHMAc0BzgHPAdAB0QHSAdMB1AHVAdYB1wHYAdkB2gHbAdwB3QHeAd8B4AHhAeIB4wHkAeUB5gHnAegB6QHqAesB7AHtAe4B7wHwAfEB8gHzAQ==",
             "dtype": "i2"
            },
            "coloraxis": "coloraxis",
            "symbol": "circle"
           },
           "mode": "markers",
           "name": "",
           "orientation": "v",
           "showlegend": false,
           "type": "scatter",
           "x": {
            "bdata": "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",
            "dtype": "f4"
           },
           "xaxis": "x",
           "y": {
            "bdata": "S+7iQDyV6ED7K+tAKLLxQOmz4EDvhvpA3xb5QAIU4UDeBuhA/Fz4QCJJ6kD5Ou1AeObqQFby80CNetNAevvqQNhd7UDzdNtAzM7hQDRn5EDFI9tAVpjmQKF36UDUjehA40jjQHkz5kAkH+tA5q7rQC+15kDH/OFAtdTfQGWI80DogOVA917jQHAT8kDPnuNAthHpQN355ECHl+JALGL4QHhx30BeRu1AkNziQKVA40DMZulAX6nUQDbg50BUVvJAlmTlQI9H7kBREfBAO+brQJnU+0BRpeFAtW/hQOnc6EBseuRAHh3mQK303UBmBeNAglL5QNUS4kCzt/JAAHPjQGw+6UAAh+tA7kbsQGR85UBuhuNAxILnQJTB2UB8WetAABz3QMct+UBmye1AY63sQP9o40D0l+lAso/3QECQ10CmNelABnLaQCZR6UDoxuVANT7nQM9N5EATyNNAq+DoQCi0+EBGC+5ApabkQLeX6UAVdeRAY8DnQIxo8EBn9eZAGL3fQG6b6EAynt9A+cD1QJ2g5UDBQfVAe0DrQL2Z80DMi+ZA5jHoQOFx40CdZepAGwnnQA4E5kC9CeNAf8HlQO6C6kCwuNtA7jXlQPuB8UASIelAQIvkQBSi6UA8r/NA1NLtQGJr4UCkQepA82n5QEHc40C3mtVAVMz1QFRf8EBDzetA59blQPZ17EDVMeVA4qLtQIpa6UAjMtdAunnmQGxT50BbOuhA2znwQC1750BJPutAEL3iQOSR7UAWSOJAhuv0QG6n50BUSutARsztQKjd4ECehPNAPdHlQA337kD+eOZAPgDlQBkM90Bwo+VAtKDiQLh58UAMvvNAKDnfQOXs6UDWtuVAM7D0QEyY9kAD8OZAMsf1QHM85UB2JedAEr7rQIj26UAfROpATwrkQEBC7EAGENxAre3uQI1K7EBNreNA2SLbQLtT5EAY9uZA6bfuQOxM60CNEfhAGjv2QBox6kA11+NArZvkQCBm90C1gOlAz3LnQEZ430BMoe5Ao33lQAdi60AKFetAOZD1QOdX60AzieRABg7qQD8C40Cg5OhAVZjlQLsp8EAA5vZARw7lQHSo9kAGK+xAV1bmQCQn4kDGsulA1sHeQK8w6kDaSuRAtjbeQHXT1UA4VfFAkFzgQKYJ5UBAFOVAdAfmQKdC5EBMuPBADtHqQD504kCpLONAih3vQHGA50DzCeNA6WjjQDoW6kDu/utA/rXlQGsC40A3FfNAQSbeQJA+50BEoupAFPrtQMBU40BH5tpAh771QKVB60A0ZeRAx+jeQMpj50AtOeNAuyHqQIqa5EAhdOFAoJT4QN0P40C+zedAj7XqQP4E5UAj4udAGRzoQJ1H6kAt1OVA+uvSQCKZ5UCRROdAP0jtQNCx5kD7FuRAOe34QKZy50BFzOdAgZniQHJT70DwE+NA5EThQBXL4kDc+OJAPE7jQN4V+EC9ifhA1JHlQC9O60ARO+ZAQQXrQMqW90A0u+tAtMTwQNZm6UC2lfFAimTnQCh550C2vNVAmM/jQENK5EBEHOpA2X/nQHHe6kBRItdAg/f6QDTP6UD78upArlDkQJ0r7kAGEOtAdijmQKvC6kAmsvJA8C7lQEIn50Cg5+dAiH3nQONt7EC9b+ZASYjqQEU75kCbeudA/BTuQHxP6UDtjPBAlL3lQLbV4EDbOeJAf77lQC9o6EDJcOxAnD/2QGdu6kAli/ZAoGznQAcG7UBVLPJAr0LnQLK06EA4QOxAomvmQK0+7EDZEupAG0TrQCkV9UD+qfhAReLoQBF06UC0DeJAoZfpQFAC5EDkV+VA1cHjQDLn6EC7cehAZXntQNw96kDr8eVABADvQLd/6kCSRuNAyzjoQAx/5UCteu5AXKT2QBYp60AEUPFAzB7sQL2M7kDVhuxAldbfQHpv5UAYTeRATtjlQK167EBciOVAtDzVQKiI4EB5jOBAu3f5QIc96EAnq+NAB/H0QDUc5EBiseRAXy7WQCY26UC0y+hAPQ3iQKuQ5ED1QOlAiCv1QL/A5kBTq+NARiHoQLqD50DJaetAWP3oQNWJ8UC67PZAILLpQOqn9kABd+NAEi3nQP6d8EBzROdAeZTtQE/V70Dx9uxAmgTwQIRt50DLMOJAqAf3QCl9+0DRBvNAvazpQKv480Cbl+dAdIv0QO416kBdkeNAfgXtQNGS80BfeOZA2orgQIdq7EANSNJABwnrQIY350A/LOFAJeDsQH3z80DbTORAuRfkQCPT1UBIM+VAtK7yQB7E50Aal9hAQLL6QGrg7kCS8dRAPDPkQFHT40D2reVAGiThQML/30Dlw+NAIijoQJeK+EAfMe9A0SHTQJVD5UB2lutAbh35QD7M70CDD+ZAnhLZQPmE40DgrNZAhBLvQKk87kA5HOZAOKnVQJY180DVSeNAZnblQC/86UB70+9AYZzxQHg/60DQZudAQqfnQDvz50BuWutAIwDoQCmN5UA4me9AWcTkQPA87kB9ZPpAF27hQFNn8EBZhulAOOfkQBN85kAwj+ZA5b/sQOAP1UAxFe5AIg/iQEPC+EDdAOlAClrhQLTZ6EDGI99A+f/5QJoL7EAaNPtAtzXrQKzk60CmFeNALoboQOPp10Doc+ZAkirrQGTh6kCAetZAfkjlQHbm9EA=",
            "dtype": "f4"
           },
           "yaxis": "y"
          }
         ],
         "name": "exclude 93 columns"
        },
        {
         "data": [
          {
           "hovertemplate": "set=exclude 139 columns<br>x=%{x}<br>y=%{y}<br>index=%{marker.color}<extra></extra>",
           "ids": {
            "bdata": "AAABAAIAAwAEAAUABgAHAAgACQAKAAsADAANAA4ADwAQABEAEgATABQAFQAWABcAGAAZABoAGwAcAB0AHgAfACAAIQAiACMAJAAlACYAJwAoACkAKgArACwALQAuAC8AMAAxADIAMwA0ADUANgA3ADgAOQA6ADsAPAA9AD4APwBAAEEAQgBDAEQARQBGAEcASABJAEoASwBMAE0ATgBPAFAAUQBSAFMAVABVAFYAVwBYAFkAWgBbAFwAXQBeAF8AYABhAGIAYwBkAGUAZgBnAGgAaQBqAGsAbABtAG4AbwBwAHEAcgBzAHQAdQB2AHcAeAB5AHoAewB8AH0AfgB/AIAAgQCCAIMAhACFAIYAhwCIAIkAigCLAIwAjQCOAI8AkACRAJIAkwCUAJUAlgCXAJgAmQCaAJsAnACdAJ4AnwCgAKEAogCjAKQApQCmAKcAqACpAKoAqwCsAK0ArgCvALAAsQCyALMAtAC1ALYAtwC4ALkAugC7ALwAvQC+AL8AwADBAMIAwwDEAMUAxgDHAMgAyQDKAMsAzADNAM4AzwDQANEA0gDTANQA1QDWANcA2ADZANoA2wDcAN0A3gDfAOAA4QDiAOMA5ADlAOYA5wDoAOkA6gDrAOwA7QDuAO8A8ADxAPIA8wD0APUA9gD3APgA+QD6APsA/AD9AP4A/wAAAQEBAgEDAQQBBQEGAQcBCAEJAQoBCwEMAQ0BDgEPARABEQESARMBFAEVARYBFwEYARkBGgEbARwBHQEeAR8BIAEhASIBIwEkASUBJgEnASgBKQEqASsBLAEtAS4BLwEwATEBMgEzATQBNQE2ATcBOAE5AToBOwE8AT0BPgE/AUABQQFCAUMBRAFFAUYBRwFIAUkBSgFLAUwBTQFOAU8BUAFRAVIBUwFUAVUBVgFXAVgBWQFaAVsBXAFdAV4BXwFgAWEBYgFjAWQBZQFmAWcBaAFpAWoBawFsAW0BbgFvAXABcQFyAXMBdAF1AXYBdwF4AXkBegF7AXwBfQF+AX8BgAGBAYIBgwGEAYUBhgGHAYgBiQGKAYsBjAGNAY4BjwGQAZEBkgGTAZQBlQGWAZcBmAGZAZoBmwGcAZ0BngGfAaABoQGiAaMBpAGlAaYBpwGoAakBqgGrAawBrQGuAa8BsAGxAbIBswG0AbUBtgG3AbgBuQG6AbsBvAG9Ab4BvwHAAcEBwgHDAcQBxQHGAccByAHJAcoBywHMAc0BzgHPAdAB0QHSAdMB1AHVAdYB1wHYAdkB2gHbAdwB3QHeAd8B4AHhAeIB4wHkAeUB5gHnAegB6QHqAesB7AHtAe4B7wHwAfEB8gHzAQ==",
            "dtype": "i2"
           },
           "legendgroup": "",
           "marker": {
            "color": {
             "bdata": "AAABAAIAAwAEAAUABgAHAAgACQAKAAsADAANAA4ADwAQABEAEgATABQAFQAWABcAGAAZABoAGwAcAB0AHgAfACAAIQAiACMAJAAlACYAJwAoACkAKgArACwALQAuAC8AMAAxADIAMwA0ADUANgA3ADgAOQA6ADsAPAA9AD4APwBAAEEAQgBDAEQARQBGAEcASABJAEoASwBMAE0ATgBPAFAAUQBSAFMAVABVAFYAVwBYAFkAWgBbAFwAXQBeAF8AYABhAGIAYwBkAGUAZgBnAGgAaQBqAGsAbABtAG4AbwBwAHEAcgBzAHQAdQB2AHcAeAB5AHoAewB8AH0AfgB/AIAAgQCCAIMAhACFAIYAhwCIAIkAigCLAIwAjQCOAI8AkACRAJIAkwCUAJUAlgCXAJgAmQCaAJsAnACdAJ4AnwCgAKEAogCjAKQApQCmAKcAqACpAKoAqwCsAK0ArgCvALAAsQCyALMAtAC1ALYAtwC4ALkAugC7ALwAvQC+AL8AwADBAMIAwwDEAMUAxgDHAMgAyQDKAMsAzADNAM4AzwDQANEA0gDTANQA1QDWANcA2ADZANoA2wDcAN0A3gDfAOAA4QDiAOMA5ADlAOYA5wDoAOkA6gDrAOwA7QDuAO8A8ADxAPIA8wD0APUA9gD3APgA+QD6APsA/AD9AP4A/wAAAQEBAgEDAQQBBQEGAQcBCAEJAQoBCwEMAQ0BDgEPARABEQESARMBFAEVARYBFwEYARkBGgEbARwBHQEeAR8BIAEhASIBIwEkASUBJgEnASgBKQEqASsBLAEtAS4BLwEwATEBMgEzATQBNQE2ATcBOAE5AToBOwE8AT0BPgE/AUABQQFCAUMBRAFFAUYBRwFIAUkBSgFLAUwBTQFOAU8BUAFRAVIBUwFUAVUBVgFXAVgBWQFaAVsBXAFdAV4BXwFgAWEBYgFjAWQBZQFmAWcBaAFpAWoBawFsAW0BbgFvAXABcQFyAXMBdAF1AXYBdwF4AXkBegF7AXwBfQF+AX8BgAGBAYIBgwGEAYUBhgGHAYgBiQGKAYsBjAGNAY4BjwGQAZEBkgGTAZQBlQGWAZcBmAGZAZoBmwGcAZ0BngGfAaABoQGiAaMBpAGlAaYBpwGoAakBqgGrAawBrQGuAa8BsAGxAbIBswG0AbUBtgG3AbgBuQG6AbsBvAG9Ab4BvwHAAcEBwgHDAcQBxQHGAccByAHJAcoBywHMAc0BzgHPAdAB0QHSAdMB1AHVAdYB1wHYAdkB2gHbAdwB3QHeAd8B4AHhAeIB4wHkAeUB5gHnAegB6QHqAesB7AHtAe4B7wHwAfEB8gHzAQ==",
             "dtype": "i2"
            },
            "coloraxis": "coloraxis",
            "symbol": "circle"
           },
           "mode": "markers",
           "name": "",
           "orientation": "v",
           "showlegend": false,
           "type": "scatter",
           "x": {
            "bdata": "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",
            "dtype": "f4"
           },
           "xaxis": "x",
           "y": {
            "bdata": "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",
            "dtype": "f4"
           },
           "yaxis": "y"
          }
         ],
         "name": "exclude 139 columns"
        }
       ],
       "layout": {
        "coloraxis": {
         "colorbar": {
          "title": {
           "text": "index"
          }
         },
         "colorscale": [
          [
           0,
           "#0d0887"
          ],
          [
           0.1111111111111111,
           "#46039f"
          ],
          [
           0.2222222222222222,
           "#7201a8"
          ],
          [
           0.3333333333333333,
           "#9c179e"
          ],
          [
           0.4444444444444444,
           "#bd3786"
          ],
          [
           0.5555555555555556,
           "#d8576b"
          ],
          [
           0.6666666666666666,
           "#ed7953"
          ],
          [
           0.7777777777777778,
           "#fb9f3a"
          ],
          [
           0.8888888888888888,
           "#fdca26"
          ],
          [
           1,
           "#f0f921"
          ]
         ]
        },
        "legend": {
         "tracegroupgap": 0
        },
        "margin": {
         "t": 60
        },
        "sliders": [
         {
          "active": 0,
          "currentvalue": {
           "prefix": "set="
          },
          "len": 0.9,
          "pad": {
           "b": 10,
           "t": 60
          },
          "steps": [
           {
            "args": [
             [
              "exclude 0 columns"
             ],
             {
              "frame": {
               "duration": 0,
               "redraw": false
              },
              "fromcurrent": true,
              "mode": "immediate",
              "transition": {
               "duration": 0,
               "easing": "linear"
              }
             }
            ],
            "label": "exclude 0 columns",
            "method": "animate"
           },
           {
            "args": [
             [
              "exclude 1 columns"
             ],
             {
              "frame": {
               "duration": 0,
               "redraw": false
              },
              "fromcurrent": true,
              "mode": "immediate",
              "transition": {
               "duration": 0,
               "easing": "linear"
              }
             }
            ],
            "label": "exclude 1 columns",
            "method": "animate"
           },
           {
            "args": [
             [
              "exclude 2 columns"
             ],
             {
              "frame": {
               "duration": 0,
               "redraw": false
              },
              "fromcurrent": true,
              "mode": "immediate",
              "transition": {
               "duration": 0,
               "easing": "linear"
              }
             }
            ],
            "label": "exclude 2 columns",
            "method": "animate"
           },
           {
            "args": [
             [
              "exclude 17 columns"
             ],
             {
              "frame": {
               "duration": 0,
               "redraw": false
              },
              "fromcurrent": true,
              "mode": "immediate",
              "transition": {
               "duration": 0,
               "easing": "linear"
              }
             }
            ],
            "label": "exclude 17 columns",
            "method": "animate"
           },
           {
            "args": [
             [
              "exclude 47 columns"
             ],
             {
              "frame": {
               "duration": 0,
               "redraw": false
              },
              "fromcurrent": true,
              "mode": "immediate",
              "transition": {
               "duration": 0,
               "easing": "linear"
              }
             }
            ],
            "label": "exclude 47 columns",
            "method": "animate"
           },
           {
            "args": [
             [
              "exclude 93 columns"
             ],
             {
              "frame": {
               "duration": 0,
               "redraw": false
              },
              "fromcurrent": true,
              "mode": "immediate",
              "transition": {
               "duration": 0,
               "easing": "linear"
              }
             }
            ],
            "label": "exclude 93 columns",
            "method": "animate"
           },
           {
            "args": [
             [
              "exclude 139 columns"
             ],
             {
              "frame": {
               "duration": 0,
               "redraw": false
              },
              "fromcurrent": true,
              "mode": "immediate",
              "transition": {
               "duration": 0,
               "easing": "linear"
              }
             }
            ],
            "label": "exclude 139 columns",
            "method": "animate"
           }
          ],
          "x": 0.1,
          "xanchor": "left",
          "y": 0,
          "yanchor": "top"
         }
        ],
        "template": {
         "data": {
          "bar": [
           {
            "error_x": {
             "color": "#2a3f5f"
            },
            "error_y": {
             "color": "#2a3f5f"
            },
            "marker": {
             "line": {
              "color": "#E5ECF6",
              "width": 0.5
             },
             "pattern": {
              "fillmode": "overlay",
              "size": 10,
              "solidity": 0.2
             }
            },
            "type": "bar"
           }
          ],
          "barpolar": [
           {
            "marker": {
             "line": {
              "color": "#E5ECF6",
              "width": 0.5
             },
             "pattern": {
              "fillmode": "overlay",
              "size": 10,
              "solidity": 0.2
             }
            },
            "type": "barpolar"
           }
          ],
          "carpet": [
           {
            "aaxis": {
             "endlinecolor": "#2a3f5f",
             "gridcolor": "white",
             "linecolor": "white",
             "minorgridcolor": "white",
             "startlinecolor": "#2a3f5f"
            },
            "baxis": {
             "endlinecolor": "#2a3f5f",
             "gridcolor": "white",
             "linecolor": "white",
             "minorgridcolor": "white",
             "startlinecolor": "#2a3f5f"
            },
            "type": "carpet"
           }
          ],
          "choropleth": [
           {
            "colorbar": {
             "outlinewidth": 0,
             "ticks": ""
            },
            "type": "choropleth"
           }
          ],
          "contour": [
           {
            "colorbar": {
             "outlinewidth": 0,
             "ticks": ""
            },
            "colorscale": [
             [
              0,
              "#0d0887"
             ],
             [
              0.1111111111111111,
              "#46039f"
             ],
             [
              0.2222222222222222,
              "#7201a8"
             ],
             [
              0.3333333333333333,
              "#9c179e"
             ],
             [
              0.4444444444444444,
              "#bd3786"
             ],
             [
              0.5555555555555556,
              "#d8576b"
             ],
             [
              0.6666666666666666,
              "#ed7953"
             ],
             [
              0.7777777777777778,
              "#fb9f3a"
             ],
             [
              0.8888888888888888,
              "#fdca26"
             ],
             [
              1,
              "#f0f921"
             ]
            ],
            "type": "contour"
           }
          ],
          "contourcarpet": [
           {
            "colorbar": {
             "outlinewidth": 0,
             "ticks": ""
            },
            "type": "contourcarpet"
           }
          ],
          "heatmap": [
           {
            "colorbar": {
             "outlinewidth": 0,
             "ticks": ""
            },
            "colorscale": [
             [
              0,
              "#0d0887"
             ],
             [
              0.1111111111111111,
              "#46039f"
             ],
             [
              0.2222222222222222,
              "#7201a8"
             ],
             [
              0.3333333333333333,
              "#9c179e"
             ],
             [
              0.4444444444444444,
              "#bd3786"
             ],
             [
              0.5555555555555556,
              "#d8576b"
             ],
             [
              0.6666666666666666,
              "#ed7953"
             ],
             [
              0.7777777777777778,
              "#fb9f3a"
             ],
             [
              0.8888888888888888,
              "#fdca26"
             ],
             [
              1,
              "#f0f921"
             ]
            ],
            "type": "heatmap"
           }
          ],
          "histogram": [
           {
            "marker": {
             "pattern": {
              "fillmode": "overlay",
              "size": 10,
              "solidity": 0.2
             }
            },
            "type": "histogram"
           }
          ],
          "histogram2d": [
           {
            "colorbar": {
             "outlinewidth": 0,
             "ticks": ""
            },
            "colorscale": [
             [
              0,
              "#0d0887"
             ],
             [
              0.1111111111111111,
              "#46039f"
             ],
             [
              0.2222222222222222,
              "#7201a8"
             ],
             [
              0.3333333333333333,
              "#9c179e"
             ],
             [
              0.4444444444444444,
              "#bd3786"
             ],
             [
              0.5555555555555556,
              "#d8576b"
             ],
             [
              0.6666666666666666,
              "#ed7953"
             ],
             [
              0.7777777777777778,
              "#fb9f3a"
             ],
             [
              0.8888888888888888,
              "#fdca26"
             ],
             [
              1,
              "#f0f921"
             ]
            ],
            "type": "histogram2d"
           }
          ],
          "histogram2dcontour": [
           {
            "colorbar": {
             "outlinewidth": 0,
             "ticks": ""
            },
            "colorscale": [
             [
              0,
              "#0d0887"
             ],
             [
              0.1111111111111111,
              "#46039f"
             ],
             [
              0.2222222222222222,
              "#7201a8"
             ],
             [
              0.3333333333333333,
              "#9c179e"
             ],
             [
              0.4444444444444444,
              "#bd3786"
             ],
             [
              0.5555555555555556,
              "#d8576b"
             ],
             [
              0.6666666666666666,
              "#ed7953"
             ],
             [
              0.7777777777777778,
              "#fb9f3a"
             ],
             [
              0.8888888888888888,
              "#fdca26"
             ],
             [
              1,
              "#f0f921"
             ]
            ],
            "type": "histogram2dcontour"
           }
          ],
          "mesh3d": [
           {
            "colorbar": {
             "outlinewidth": 0,
             "ticks": ""
            },
            "type": "mesh3d"
           }
          ],
          "parcoords": [
           {
            "line": {
             "colorbar": {
              "outlinewidth": 0,
              "ticks": ""
             }
            },
            "type": "parcoords"
           }
          ],
          "pie": [
           {
            "automargin": true,
            "type": "pie"
           }
          ],
          "scatter": [
           {
            "fillpattern": {
             "fillmode": "overlay",
             "size": 10,
             "solidity": 0.2
            },
            "type": "scatter"
           }
          ],
          "scatter3d": [
           {
            "line": {
             "colorbar": {
              "outlinewidth": 0,
              "ticks": ""
             }
            },
            "marker": {
             "colorbar": {
              "outlinewidth": 0,
              "ticks": ""
             }
            },
            "type": "scatter3d"
           }
          ],
          "scattercarpet": [
           {
            "marker": {
             "colorbar": {
              "outlinewidth": 0,
              "ticks": ""
             }
            },
            "type": "scattercarpet"
           }
          ],
          "scattergeo": [
           {
            "marker": {
             "colorbar": {
              "outlinewidth": 0,
              "ticks": ""
             }
            },
            "type": "scattergeo"
           }
          ],
          "scattergl": [
           {
            "marker": {
             "colorbar": {
              "outlinewidth": 0,
              "ticks": ""
             }
            },
            "type": "scattergl"
           }
          ],
          "scattermap": [
           {
            "marker": {
             "colorbar": {
              "outlinewidth": 0,
              "ticks": ""
             }
            },
            "type": "scattermap"
           }
          ],
          "scattermapbox": [
           {
            "marker": {
             "colorbar": {
              "outlinewidth": 0,
              "ticks": ""
             }
            },
            "type": "scattermapbox"
           }
          ],
          "scatterpolar": [
           {
            "marker": {
             "colorbar": {
              "outlinewidth": 0,
              "ticks": ""
             }
            },
            "type": "scatterpolar"
           }
          ],
          "scatterpolargl": [
           {
            "marker": {
             "colorbar": {
              "outlinewidth": 0,
              "ticks": ""
             }
            },
            "type": "scatterpolargl"
           }
          ],
          "scatterternary": [
           {
            "marker": {
             "colorbar": {
              "outlinewidth": 0,
              "ticks": ""
             }
            },
            "type": "scatterternary"
           }
          ],
          "surface": [
           {
            "colorbar": {
             "outlinewidth": 0,
             "ticks": ""
            },
            "colorscale": [
             [
              0,
              "#0d0887"
             ],
             [
              0.1111111111111111,
              "#46039f"
             ],
             [
              0.2222222222222222,
              "#7201a8"
             ],
             [
              0.3333333333333333,
              "#9c179e"
             ],
             [
              0.4444444444444444,
              "#bd3786"
             ],
             [
              0.5555555555555556,
              "#d8576b"
             ],
             [
              0.6666666666666666,
              "#ed7953"
             ],
             [
              0.7777777777777778,
              "#fb9f3a"
             ],
             [
              0.8888888888888888,
              "#fdca26"
             ],
             [
              1,
              "#f0f921"
             ]
            ],
            "type": "surface"
           }
          ],
          "table": [
           {
            "cells": {
             "fill": {
              "color": "#EBF0F8"
             },
             "line": {
              "color": "white"
             }
            },
            "header": {
             "fill": {
              "color": "#C8D4E3"
             },
             "line": {
              "color": "white"
             }
            },
            "type": "table"
           }
          ]
         },
         "layout": {
          "annotationdefaults": {
           "arrowcolor": "#2a3f5f",
           "arrowhead": 0,
           "arrowwidth": 1
          },
          "autotypenumbers": "strict",
          "coloraxis": {
           "colorbar": {
            "outlinewidth": 0,
            "ticks": ""
           }
          },
          "colorscale": {
           "diverging": [
            [
             0,
             "#8e0152"
            ],
            [
             0.1,
             "#c51b7d"
            ],
            [
             0.2,
             "#de77ae"
            ],
            [
             0.3,
             "#f1b6da"
            ],
            [
             0.4,
             "#fde0ef"
            ],
            [
             0.5,
             "#f7f7f7"
            ],
            [
             0.6,
             "#e6f5d0"
            ],
            [
             0.7,
             "#b8e186"
            ],
            [
             0.8,
             "#7fbc41"
            ],
            [
             0.9,
             "#4d9221"
            ],
            [
             1,
             "#276419"
            ]
           ],
           "sequential": [
            [
             0,
             "#0d0887"
            ],
            [
             0.1111111111111111,
             "#46039f"
            ],
            [
             0.2222222222222222,
             "#7201a8"
            ],
            [
             0.3333333333333333,
             "#9c179e"
            ],
            [
             0.4444444444444444,
             "#bd3786"
            ],
            [
             0.5555555555555556,
             "#d8576b"
            ],
            [
             0.6666666666666666,
             "#ed7953"
            ],
            [
             0.7777777777777778,
             "#fb9f3a"
            ],
            [
             0.8888888888888888,
             "#fdca26"
            ],
            [
             1,
             "#f0f921"
            ]
           ],
           "sequentialminus": [
            [
             0,
             "#0d0887"
            ],
            [
             0.1111111111111111,
             "#46039f"
            ],
            [
             0.2222222222222222,
             "#7201a8"
            ],
            [
             0.3333333333333333,
             "#9c179e"
            ],
            [
             0.4444444444444444,
             "#bd3786"
            ],
            [
             0.5555555555555556,
             "#d8576b"
            ],
            [
             0.6666666666666666,
             "#ed7953"
            ],
            [
             0.7777777777777778,
             "#fb9f3a"
            ],
            [
             0.8888888888888888,
             "#fdca26"
            ],
            [
             1,
             "#f0f921"
            ]
           ]
          },
          "colorway": [
           "#636efa",
           "#EF553B",
           "#00cc96",
           "#ab63fa",
           "#FFA15A",
           "#19d3f3",
           "#FF6692",
           "#B6E880",
           "#FF97FF",
           "#FECB52"
          ],
          "font": {
           "color": "#2a3f5f"
          },
          "geo": {
           "bgcolor": "white",
           "lakecolor": "white",
           "landcolor": "#E5ECF6",
           "showlakes": true,
           "showland": true,
           "subunitcolor": "white"
          },
          "hoverlabel": {
           "align": "left"
          },
          "hovermode": "closest",
          "mapbox": {
           "style": "light"
          },
          "paper_bgcolor": "white",
          "plot_bgcolor": "#E5ECF6",
          "polar": {
           "angularaxis": {
            "gridcolor": "white",
            "linecolor": "white",
            "ticks": ""
           },
           "bgcolor": "#E5ECF6",
           "radialaxis": {
            "gridcolor": "white",
            "linecolor": "white",
            "ticks": ""
           }
          },
          "scene": {
           "xaxis": {
            "backgroundcolor": "#E5ECF6",
            "gridcolor": "white",
            "gridwidth": 2,
            "linecolor": "white",
            "showbackground": true,
            "ticks": "",
            "zerolinecolor": "white"
           },
           "yaxis": {
            "backgroundcolor": "#E5ECF6",
            "gridcolor": "white",
            "gridwidth": 2,
            "linecolor": "white",
            "showbackground": true,
            "ticks": "",
            "zerolinecolor": "white"
           },
           "zaxis": {
            "backgroundcolor": "#E5ECF6",
            "gridcolor": "white",
            "gridwidth": 2,
            "linecolor": "white",
            "showbackground": true,
            "ticks": "",
            "zerolinecolor": "white"
           }
          },
          "shapedefaults": {
           "line": {
            "color": "#2a3f5f"
           }
          },
          "ternary": {
           "aaxis": {
            "gridcolor": "white",
            "linecolor": "white",
            "ticks": ""
           },
           "baxis": {
            "gridcolor": "white",
            "linecolor": "white",
            "ticks": ""
           },
           "bgcolor": "#E5ECF6",
           "caxis": {
            "gridcolor": "white",
            "linecolor": "white",
            "ticks": ""
           }
          },
          "title": {
           "x": 0.05
          },
          "xaxis": {
           "automargin": true,
           "gridcolor": "white",
           "linecolor": "white",
           "ticks": "",
           "title": {
            "standoff": 15
           },
           "zerolinecolor": "white",
           "zerolinewidth": 2
          },
          "yaxis": {
           "automargin": true,
           "gridcolor": "white",
           "linecolor": "white",
           "ticks": "",
           "title": {
            "standoff": 15
           },
           "zerolinecolor": "white",
           "zerolinewidth": 2
          }
         }
        },
        "updatemenus": [
         {
          "buttons": [
           {
            "args": [
             null,
             {
              "frame": {
               "duration": 500,
               "redraw": false
              },
              "fromcurrent": true,
              "mode": "immediate",
              "transition": {
               "duration": 500,
               "easing": "linear"
              }
             }
            ],
            "label": "&#9654;",
            "method": "animate"
           },
           {
            "args": [
             [
              null
             ],
             {
              "frame": {
               "duration": 0,
               "redraw": false
              },
              "fromcurrent": true,
              "mode": "immediate",
              "transition": {
               "duration": 0,
               "easing": "linear"
              }
             }
            ],
            "label": "&#9724;",
            "method": "animate"
           }
          ],
          "direction": "left",
          "pad": {
           "r": 10,
           "t": 70
          },
          "showactive": false,
          "type": "buttons",
          "x": 0.1,
          "xanchor": "right",
          "y": 0,
          "yanchor": "top"
         }
        ],
        "xaxis": {
         "anchor": "y",
         "domain": [
          0,
          1
         ],
         "range": [
          -2.0940449237823486,
          12.621967315673828
         ],
         "title": {
          "text": "x"
         }
        },
        "yaxis": {
         "anchor": "x",
         "domain": [
          0,
          1
         ],
         "range": [
          3.6370766162872314,
          9.06400203704834
         ],
         "title": {
          "text": "y"
         }
        }
       }
      }
     },
     "metadata": {},
     "output_type": "display_data"
    }
   ],
   "source": [
    "# prior to running another comparison, reset manager to defaults\n",
    "manager.reset()\n",
    "\n",
    "reductions = {}\n",
    "for i in range(0, 20):\n",
    "    exclude_columns = [\n",
    "        c for c in manager.columns\n",
    "        if any(p in c for p in column_patterns[:i])\n",
    "    ]\n",
    "    reductions[f'exclude {len(exclude_columns)} columns'] = dict(\n",
    "        exclude_columns=exclude_columns,\n",
    "        # ensure that compared reductions start from the same random state\n",
    "        random_state=0, \n",
    "        n_jobs=1,\n",
    "    )\n",
    "manager.compare_reductions(**reductions)"
   ]
  },
  {
   "cell_type": "markdown",
   "id": "a3330c1b-072b-418c-853c-738cc00cac43",
   "metadata": {},
   "source": [
    "Compare results for different values for the ``metric`` argument"
   ]
  },
  {
   "cell_type": "code",
   "execution_count": 13,
   "id": "783736fe-4b05-4597-b72c-449cc1895ad0",
   "metadata": {},
   "outputs": [
    {
     "name": "stdout",
     "output_type": "stream",
     "text": [
      "Training UMAP Transform.\n",
      "Completed training in 1.154219 seconds.\n",
      "Running inference on 500 cells with trained UMAP Transform.\n",
      "Completed inference in 0.001603 seconds.\n",
      "Running inference on 500 cells with trained UMAP Transform.\n",
      "Completed inference in 0.000841 seconds.\n",
      "Running inference on 500 cells with trained UMAP Transform.\n",
      "Completed inference in 0.00066 seconds.\n",
      "Running inference on 500 cells with trained UMAP Transform.\n",
      "Completed inference in 0.00086 seconds.\n",
      "Running inference on 500 cells with trained UMAP Transform.\n",
      "Completed inference in 0.000837 seconds.\n",
      "Running inference on 500 cells with trained UMAP Transform.\n",
      "Completed inference in 0.000778 seconds.\n",
      "Running inference on 500 cells with trained UMAP Transform.\n",
      "Completed inference in 0.000835 seconds.\n",
      "Running inference on 500 cells with trained UMAP Transform.\n",
      "Completed inference in 0.000696 seconds.\n",
      "Running inference on 500 cells with trained UMAP Transform.\n",
      "Completed inference in 0.000658 seconds.\n",
      "Running inference on 500 cells with trained UMAP Transform.\n",
      "Completed inference in 0.001097 seconds.\n"
     ]
    },
    {
     "data": {
      "application/vnd.plotly.v1+json": {
       "config": {
        "plotlyServerURL": "https://plot.ly"
       },
       "data": [
        {
         "hovertemplate": "set=euclidean<br>x=%{x}<br>y=%{y}<br>index=%{marker.color}<extra></extra>",
         "ids": {
          "bdata": "AAABAAIAAwAEAAUABgAHAAgACQAKAAsADAANAA4ADwAQABEAEgATABQAFQAWABcAGAAZABoAGwAcAB0AHgAfACAAIQAiACMAJAAlACYAJwAoACkAKgArACwALQAuAC8AMAAxADIAMwA0ADUANgA3ADgAOQA6ADsAPAA9AD4APwBAAEEAQgBDAEQARQBGAEcASABJAEoASwBMAE0ATgBPAFAAUQBSAFMAVABVAFYAVwBYAFkAWgBbAFwAXQBeAF8AYABhAGIAYwBkAGUAZgBnAGgAaQBqAGsAbABtAG4AbwBwAHEAcgBzAHQAdQB2AHcAeAB5AHoAewB8AH0AfgB/AIAAgQCCAIMAhACFAIYAhwCIAIkAigCLAIwAjQCOAI8AkACRAJIAkwCUAJUAlgCXAJgAmQCaAJsAnACdAJ4AnwCgAKEAogCjAKQApQCmAKcAqACpAKoAqwCsAK0ArgCvALAAsQCyALMAtAC1ALYAtwC4ALkAugC7ALwAvQC+AL8AwADBAMIAwwDEAMUAxgDHAMgAyQDKAMsAzADNAM4AzwDQANEA0gDTANQA1QDWANcA2ADZANoA2wDcAN0A3gDfAOAA4QDiAOMA5ADlAOYA5wDoAOkA6gDrAOwA7QDuAO8A8ADxAPIA8wD0APUA9gD3APgA+QD6APsA/AD9AP4A/wAAAQEBAgEDAQQBBQEGAQcBCAEJAQoBCwEMAQ0BDgEPARABEQESARMBFAEVARYBFwEYARkBGgEbARwBHQEeAR8BIAEhASIBIwEkASUBJgEnASgBKQEqASsBLAEtAS4BLwEwATEBMgEzATQBNQE2ATcBOAE5AToBOwE8AT0BPgE/AUABQQFCAUMBRAFFAUYBRwFIAUkBSgFLAUwBTQFOAU8BUAFRAVIBUwFUAVUBVgFXAVgBWQFaAVsBXAFdAV4BXwFgAWEBYgFjAWQBZQFmAWcBaAFpAWoBawFsAW0BbgFvAXABcQFyAXMBdAF1AXYBdwF4AXkBegF7AXwBfQF+AX8BgAGBAYIBgwGEAYUBhgGHAYgBiQGKAYsBjAGNAY4BjwGQAZEBkgGTAZQBlQGWAZcBmAGZAZoBmwGcAZ0BngGfAaABoQGiAaMBpAGlAaYBpwGoAakBqgGrAawBrQGuAa8BsAGxAbIBswG0AbUBtgG3AbgBuQG6AbsBvAG9Ab4BvwHAAcEBwgHDAcQBxQHGAccByAHJAcoBywHMAc0BzgHPAdAB0QHSAdMB1AHVAdYB1wHYAdkB2gHbAdwB3QHeAd8B4AHhAeIB4wHkAeUB5gHnAegB6QHqAesB7AHtAe4B7wHwAfEB8gHzAQ==",
          "dtype": "i2"
         },
         "legendgroup": "",
         "marker": {
          "color": {
           "bdata": "AAABAAIAAwAEAAUABgAHAAgACQAKAAsADAANAA4ADwAQABEAEgATABQAFQAWABcAGAAZABoAGwAcAB0AHgAfACAAIQAiACMAJAAlACYAJwAoACkAKgArACwALQAuAC8AMAAxADIAMwA0ADUANgA3ADgAOQA6ADsAPAA9AD4APwBAAEEAQgBDAEQARQBGAEcASABJAEoASwBMAE0ATgBPAFAAUQBSAFMAVABVAFYAVwBYAFkAWgBbAFwAXQBeAF8AYABhAGIAYwBkAGUAZgBnAGgAaQBqAGsAbABtAG4AbwBwAHEAcgBzAHQAdQB2AHcAeAB5AHoAewB8AH0AfgB/AIAAgQCCAIMAhACFAIYAhwCIAIkAigCLAIwAjQCOAI8AkACRAJIAkwCUAJUAlgCXAJgAmQCaAJsAnACdAJ4AnwCgAKEAogCjAKQApQCmAKcAqACpAKoAqwCsAK0ArgCvALAAsQCyALMAtAC1ALYAtwC4ALkAugC7ALwAvQC+AL8AwADBAMIAwwDEAMUAxgDHAMgAyQDKAMsAzADNAM4AzwDQANEA0gDTANQA1QDWANcA2ADZANoA2wDcAN0A3gDfAOAA4QDiAOMA5ADlAOYA5wDoAOkA6gDrAOwA7QDuAO8A8ADxAPIA8wD0APUA9gD3APgA+QD6APsA/AD9AP4A/wAAAQEBAgEDAQQBBQEGAQcBCAEJAQoBCwEMAQ0BDgEPARABEQESARMBFAEVARYBFwEYARkBGgEbARwBHQEeAR8BIAEhASIBIwEkASUBJgEnASgBKQEqASsBLAEtAS4BLwEwATEBMgEzATQBNQE2ATcBOAE5AToBOwE8AT0BPgE/AUABQQFCAUMBRAFFAUYBRwFIAUkBSgFLAUwBTQFOAU8BUAFRAVIBUwFUAVUBVgFXAVgBWQFaAVsBXAFdAV4BXwFgAWEBYgFjAWQBZQFmAWcBaAFpAWoBawFsAW0BbgFvAXABcQFyAXMBdAF1AXYBdwF4AXkBegF7AXwBfQF+AX8BgAGBAYIBgwGEAYUBhgGHAYgBiQGKAYsBjAGNAY4BjwGQAZEBkgGTAZQBlQGWAZcBmAGZAZoBmwGcAZ0BngGfAaABoQGiAaMBpAGlAaYBpwGoAakBqgGrAawBrQGuAa8BsAGxAbIBswG0AbUBtgG3AbgBuQG6AbsBvAG9Ab4BvwHAAcEBwgHDAcQBxQHGAccByAHJAcoBywHMAc0BzgHPAdAB0QHSAdMB1AHVAdYB1wHYAdkB2gHbAdwB3QHeAd8B4AHhAeIB4wHkAeUB5gHnAegB6QHqAesB7AHtAe4B7wHwAfEB8gHzAQ==",
           "dtype": "i2"
          },
          "coloraxis": "coloraxis",
          "symbol": "circle"
         },
         "mode": "markers",
         "name": "",
         "orientation": "v",
         "showlegend": false,
         "type": "scatter",
         "x": {
          "bdata": "K48cQNx1y0AvN8RASkmcQGAZD0GjXjhB2q8yQQHPR0GP3N9A9YvsQCJWY0Cf6wU/2urcvvFUsj/W7Gg/wP3nv1cEhUAbqhQ/LueQQAtnQ0FTiVw/MqgDQd4yG0GWkDRBmo7vvz3HGEHTTwRBs7FJQF/iMEFcvUm/9oVmPzysIEADQ/1Aa1B9vvpVPEGj79BAV/0FQbY8BcC3XAhB6YXcQOCmNT+xaRlBjTMbQf6E0kDum8NAS+sNQFFWWr9cmTBBLRdCQVcBpUCop/w//w/FQIBy+0ClfJ2/5IsHQV6HSEFmLixByCVAQZX6h0BncxdAiohFQbC9IUE/URlBbiLLPzkKAEGmN5M/1KaPQCG2ID/uxy1B2eGVPrpt7kAd8xxBkE+NQMdEN0EFy9lAZ4/eQCieQ0Fh1E9Ai7zMQEhL3ECtYgZBm2B0Px/6wUD7QDtBX5OOQFUhYEA5LcRAGU88QO/d27/tcvo+G67+P+SPHr/ffto/1CwEQS8v10AAgo8+3fjvQBTiuj9uMvM9ySLYvS65Cb8Ecz9BT/XXQIgRwUDexwHAfUceQTqogD/zw7m/69kgQSIZJkFTduNA95cPQYqnQUG0xBJB59XWQADbOkGxPYNAb9UePqfbG0HGAA5B1lADQbA24EB12wdBQZT8QLXPMkEvDIlAb5LQP6+My0AuURRBCTwxQbGnc0C8DjhBFt4AQZHsW0CdiAhA+/0CQVXFtL9lYDdBrvjIQMW/Q0Gua0xAOFkoQTrzOEHA8+hAPZM4Qbgd3UAM1x9BVq/tQBSrBkHe0dVAy6cbQSjI6T/wkwhA4jyEQCIvy78nzAJB5cLbQEghQkClZBRAHbIHQYR8r75iG8S/FvS/P+Hd2UAFRaI/IpUcQRWRL0HOUX8/C6sCQcjA2kCNr70/G4g0QVdu4UAFrDE/jUgQQV75BUE/3ztBTCIUQMWclj+IqwpBexHrPiP1L0FjC/hAQgQFQAWOIL5qk7xAj5cZQCSp8UAlKFQ+lFscQbtQ0UBXQA9Bt/fDQFDD+kA4zy9BSIsGQSLG4T9vZ4+/ggAGwMf7okDmrD5BqyM5QagEBEEC0PdA8Fb7QLzNLUE1uvNAYbXpQE/v3L+cMLhA2nMNQUpqukC3KNFArfcFQQnteT/IDz1BJSwDQX8WI0HY2hhAOOalP+3Wlr/v1DJBjacEQUr7REHs++5ALnpFQWtx5UA7EDxB63cjQbM2JUDVBAbA1M05QWoCNkFBMqm/Nzw7Pz2XsD+3OpVAYxEvv5zBOLukxwhBycwzvhxzsj8W4SBBzHLqQIcghUCrrx1AqPgWP7Lw4kALdStBkL0DQRJiyEBkQxFBAKgiQe7WfkDLKeVAngJGQHZbnb+bRQ1B9S9UP48vykA1vwA/JIr0QBKYG0GXXGS/DStVv7SqG0GFej5BXBl2P40OR0G1nle/LwNHQXM5jD6ZZwlBFYUAQQOjikBXgAVBQJ0vP7AxE0BGRhlBP8e7QB3poL+wihJAaYH+QFA/2kDPTzVBWgTjQPdTxEBacbS/qhn9QJEUDkHeipNAH8HfQPxNAT3bad1AZhX5QNEk2EA6srZAs3UIQRlmbL72MwlBRwoOQSs4QUFRnAJAQcP3v7xhXD8JYZFALEAcQWrvU0BGcNVA35Q+QfbmVEC71zFBaUpNQECLCUE+f0dBrKGOQH3CH0GZUQpB7IdaQBW9sUDjNRVBbBE0QfILAEA3vNJAlyoRQCh6SUDhPEFBwfyQQDelNUHMBeZAB70cPwpoBEGuhsBABP7TQJTa/0AMI0JB8yv/P9hSzr8hjwhB6w/CPQPs/L/4MwBBZ0DOQEpkZ0ACthFB6VsRQLKaGUGLCg5BQaUAQQlyoD4Bx4E/Trk+QV5Vkz7Dd5xAosEKQcGUBkFHNzdBDYnUQFuGqz/MlBc/MVsLQYmV5UCjIR0/ssHjQJu0OUGzGiRBWSMUQZDfDUHYAt1ADGf3QHITN0H340JB2p9YQKtt0j6o6wJB508wQaiCET4d18JAnRAAQfUVEEHgfow/NPEEQZWu/r7+9wHASIysQEvQCkHmVz1B3T7bQBxcFkGwv1RACZz0vzY+OEGv1Ru/+tvpvnz6HkFMXUZB/RpLPwpvd7/q+EM/0zmaQFM0zEAzpSo/WBmJv/x5GUCUiAxBN3NFQfX0G0G8694/eHz4QJGW4kD7JjZB0B/VQM5r80Dnqry/c1MnQRYjskDV63c/QEsOQWw50z//rDRB//EnvyS3AD9ruTq9nKAzQWGw4ED+1z5BD8RBQZFuQ0H1zuO/LFkwQd/qO0HQtO1AWbbeQPf0HEHxFAVBO7M/P9zw0UCU80lBQquKP3niGkGmHI1Aa0UQQTjxAMCa9gFBqxTtQBqqMUFDyjJBf39CQSY9B0GK1TRBhMbJQNjjH0GFNdm/ZCcKQdRqPkEzvAtBVoyKQKXsxEDW0LhA5dW0QBm4OkGVITpAAL0GQBpIBUERt0dBp17aQJtJNUGFrBxBn0iBQOkOxj85yBBA1dM1QVrXdEDBjiJBUK4WQdz34EAFLcC/x60wQXbQKD8MwQ9AWapcP+8aZUBwLYhA1XwHQXjoz0DpkSNB09cNQMf5PUF4zhJAQ0nXQP55L0FnMYVAH1g1QYfh8UDC+j5BeR7BP24Sf7+Ot0RBtgfRQDCrOEE=",
          "dtype": "f4"
         },
         "xaxis": "x",
         "y": {
          "bdata": "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",
          "dtype": "f4"
         },
         "yaxis": "y"
        }
       ],
       "frames": [
        {
         "data": [
          {
           "hovertemplate": "set=euclidean<br>x=%{x}<br>y=%{y}<br>index=%{marker.color}<extra></extra>",
           "ids": {
            "bdata": "AAABAAIAAwAEAAUABgAHAAgACQAKAAsADAANAA4ADwAQABEAEgATABQAFQAWABcAGAAZABoAGwAcAB0AHgAfACAAIQAiACMAJAAlACYAJwAoACkAKgArACwALQAuAC8AMAAxADIAMwA0ADUANgA3ADgAOQA6ADsAPAA9AD4APwBAAEEAQgBDAEQARQBGAEcASABJAEoASwBMAE0ATgBPAFAAUQBSAFMAVABVAFYAVwBYAFkAWgBbAFwAXQBeAF8AYABhAGIAYwBkAGUAZgBnAGgAaQBqAGsAbABtAG4AbwBwAHEAcgBzAHQAdQB2AHcAeAB5AHoAewB8AH0AfgB/AIAAgQCCAIMAhACFAIYAhwCIAIkAigCLAIwAjQCOAI8AkACRAJIAkwCUAJUAlgCXAJgAmQCaAJsAnACdAJ4AnwCgAKEAogCjAKQApQCmAKcAqACpAKoAqwCsAK0ArgCvALAAsQCyALMAtAC1ALYAtwC4ALkAugC7ALwAvQC+AL8AwADBAMIAwwDEAMUAxgDHAMgAyQDKAMsAzADNAM4AzwDQANEA0gDTANQA1QDWANcA2ADZANoA2wDcAN0A3gDfAOAA4QDiAOMA5ADlAOYA5wDoAOkA6gDrAOwA7QDuAO8A8ADxAPIA8wD0APUA9gD3APgA+QD6APsA/AD9AP4A/wAAAQEBAgEDAQQBBQEGAQcBCAEJAQoBCwEMAQ0BDgEPARABEQESARMBFAEVARYBFwEYARkBGgEbARwBHQEeAR8BIAEhASIBIwEkASUBJgEnASgBKQEqASsBLAEtAS4BLwEwATEBMgEzATQBNQE2ATcBOAE5AToBOwE8AT0BPgE/AUABQQFCAUMBRAFFAUYBRwFIAUkBSgFLAUwBTQFOAU8BUAFRAVIBUwFUAVUBVgFXAVgBWQFaAVsBXAFdAV4BXwFgAWEBYgFjAWQBZQFmAWcBaAFpAWoBawFsAW0BbgFvAXABcQFyAXMBdAF1AXYBdwF4AXkBegF7AXwBfQF+AX8BgAGBAYIBgwGEAYUBhgGHAYgBiQGKAYsBjAGNAY4BjwGQAZEBkgGTAZQBlQGWAZcBmAGZAZoBmwGcAZ0BngGfAaABoQGiAaMBpAGlAaYBpwGoAakBqgGrAawBrQGuAa8BsAGxAbIBswG0AbUBtgG3AbgBuQG6AbsBvAG9Ab4BvwHAAcEBwgHDAcQBxQHGAccByAHJAcoBywHMAc0BzgHPAdAB0QHSAdMB1AHVAdYB1wHYAdkB2gHbAdwB3QHeAd8B4AHhAeIB4wHkAeUB5gHnAegB6QHqAesB7AHtAe4B7wHwAfEB8gHzAQ==",
            "dtype": "i2"
           },
           "legendgroup": "",
           "marker": {
            "color": {
             "bdata": "AAABAAIAAwAEAAUABgAHAAgACQAKAAsADAANAA4ADwAQABEAEgATABQAFQAWABcAGAAZABoAGwAcAB0AHgAfACAAIQAiACMAJAAlACYAJwAoACkAKgArACwALQAuAC8AMAAxADIAMwA0ADUANgA3ADgAOQA6ADsAPAA9AD4APwBAAEEAQgBDAEQARQBGAEcASABJAEoASwBMAE0ATgBPAFAAUQBSAFMAVABVAFYAVwBYAFkAWgBbAFwAXQBeAF8AYABhAGIAYwBkAGUAZgBnAGgAaQBqAGsAbABtAG4AbwBwAHEAcgBzAHQAdQB2AHcAeAB5AHoAewB8AH0AfgB/AIAAgQCCAIMAhACFAIYAhwCIAIkAigCLAIwAjQCOAI8AkACRAJIAkwCUAJUAlgCXAJgAmQCaAJsAnACdAJ4AnwCgAKEAogCjAKQApQCmAKcAqACpAKoAqwCsAK0ArgCvALAAsQCyALMAtAC1ALYAtwC4ALkAugC7ALwAvQC+AL8AwADBAMIAwwDEAMUAxgDHAMgAyQDKAMsAzADNAM4AzwDQANEA0gDTANQA1QDWANcA2ADZANoA2wDcAN0A3gDfAOAA4QDiAOMA5ADlAOYA5wDoAOkA6gDrAOwA7QDuAO8A8ADxAPIA8wD0APUA9gD3APgA+QD6APsA/AD9AP4A/wAAAQEBAgEDAQQBBQEGAQcBCAEJAQoBCwEMAQ0BDgEPARABEQESARMBFAEVARYBFwEYARkBGgEbARwBHQEeAR8BIAEhASIBIwEkASUBJgEnASgBKQEqASsBLAEtAS4BLwEwATEBMgEzATQBNQE2ATcBOAE5AToBOwE8AT0BPgE/AUABQQFCAUMBRAFFAUYBRwFIAUkBSgFLAUwBTQFOAU8BUAFRAVIBUwFUAVUBVgFXAVgBWQFaAVsBXAFdAV4BXwFgAWEBYgFjAWQBZQFmAWcBaAFpAWoBawFsAW0BbgFvAXABcQFyAXMBdAF1AXYBdwF4AXkBegF7AXwBfQF+AX8BgAGBAYIBgwGEAYUBhgGHAYgBiQGKAYsBjAGNAY4BjwGQAZEBkgGTAZQBlQGWAZcBmAGZAZoBmwGcAZ0BngGfAaABoQGiAaMBpAGlAaYBpwGoAakBqgGrAawBrQGuAa8BsAGxAbIBswG0AbUBtgG3AbgBuQG6AbsBvAG9Ab4BvwHAAcEBwgHDAcQBxQHGAccByAHJAcoBywHMAc0BzgHPAdAB0QHSAdMB1AHVAdYB1wHYAdkB2gHbAdwB3QHeAd8B4AHhAeIB4wHkAeUB5gHnAegB6QHqAesB7AHtAe4B7wHwAfEB8gHzAQ==",
             "dtype": "i2"
            },
            "coloraxis": "coloraxis",
            "symbol": "circle"
           },
           "mode": "markers",
           "name": "",
           "orientation": "v",
           "showlegend": false,
           "type": "scatter",
           "x": {
            "bdata": "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",
            "dtype": "f4"
           },
           "xaxis": "x",
           "y": {
            "bdata": "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",
            "dtype": "f4"
           },
           "yaxis": "y"
          }
         ],
         "name": "euclidean"
        },
        {
         "data": [
          {
           "hovertemplate": "set=manhattan<br>x=%{x}<br>y=%{y}<br>index=%{marker.color}<extra></extra>",
           "ids": {
            "bdata": "AAABAAIAAwAEAAUABgAHAAgACQAKAAsADAANAA4ADwAQABEAEgATABQAFQAWABcAGAAZABoAGwAcAB0AHgAfACAAIQAiACMAJAAlACYAJwAoACkAKgArACwALQAuAC8AMAAxADIAMwA0ADUANgA3ADgAOQA6ADsAPAA9AD4APwBAAEEAQgBDAEQARQBGAEcASABJAEoASwBMAE0ATgBPAFAAUQBSAFMAVABVAFYAVwBYAFkAWgBbAFwAXQBeAF8AYABhAGIAYwBkAGUAZgBnAGgAaQBqAGsAbABtAG4AbwBwAHEAcgBzAHQAdQB2AHcAeAB5AHoAewB8AH0AfgB/AIAAgQCCAIMAhACFAIYAhwCIAIkAigCLAIwAjQCOAI8AkACRAJIAkwCUAJUAlgCXAJgAmQCaAJsAnACdAJ4AnwCgAKEAogCjAKQApQCmAKcAqACpAKoAqwCsAK0ArgCvALAAsQCyALMAtAC1ALYAtwC4ALkAugC7ALwAvQC+AL8AwADBAMIAwwDEAMUAxgDHAMgAyQDKAMsAzADNAM4AzwDQANEA0gDTANQA1QDWANcA2ADZANoA2wDcAN0A3gDfAOAA4QDiAOMA5ADlAOYA5wDoAOkA6gDrAOwA7QDuAO8A8ADxAPIA8wD0APUA9gD3APgA+QD6APsA/AD9AP4A/wAAAQEBAgEDAQQBBQEGAQcBCAEJAQoBCwEMAQ0BDgEPARABEQESARMBFAEVARYBFwEYARkBGgEbARwBHQEeAR8BIAEhASIBIwEkASUBJgEnASgBKQEqASsBLAEtAS4BLwEwATEBMgEzATQBNQE2ATcBOAE5AToBOwE8AT0BPgE/AUABQQFCAUMBRAFFAUYBRwFIAUkBSgFLAUwBTQFOAU8BUAFRAVIBUwFUAVUBVgFXAVgBWQFaAVsBXAFdAV4BXwFgAWEBYgFjAWQBZQFmAWcBaAFpAWoBawFsAW0BbgFvAXABcQFyAXMBdAF1AXYBdwF4AXkBegF7AXwBfQF+AX8BgAGBAYIBgwGEAYUBhgGHAYgBiQGKAYsBjAGNAY4BjwGQAZEBkgGTAZQBlQGWAZcBmAGZAZoBmwGcAZ0BngGfAaABoQGiAaMBpAGlAaYBpwGoAakBqgGrAawBrQGuAa8BsAGxAbIBswG0AbUBtgG3AbgBuQG6AbsBvAG9Ab4BvwHAAcEBwgHDAcQBxQHGAccByAHJAcoBywHMAc0BzgHPAdAB0QHSAdMB1AHVAdYB1wHYAdkB2gHbAdwB3QHeAd8B4AHhAeIB4wHkAeUB5gHnAegB6QHqAesB7AHtAe4B7wHwAfEB8gHzAQ==",
            "dtype": "i2"
           },
           "legendgroup": "",
           "marker": {
            "color": {
             "bdata": "AAABAAIAAwAEAAUABgAHAAgACQAKAAsADAANAA4ADwAQABEAEgATABQAFQAWABcAGAAZABoAGwAcAB0AHgAfACAAIQAiACMAJAAlACYAJwAoACkAKgArACwALQAuAC8AMAAxADIAMwA0ADUANgA3ADgAOQA6ADsAPAA9AD4APwBAAEEAQgBDAEQARQBGAEcASABJAEoASwBMAE0ATgBPAFAAUQBSAFMAVABVAFYAVwBYAFkAWgBbAFwAXQBeAF8AYABhAGIAYwBkAGUAZgBnAGgAaQBqAGsAbABtAG4AbwBwAHEAcgBzAHQAdQB2AHcAeAB5AHoAewB8AH0AfgB/AIAAgQCCAIMAhACFAIYAhwCIAIkAigCLAIwAjQCOAI8AkACRAJIAkwCUAJUAlgCXAJgAmQCaAJsAnACdAJ4AnwCgAKEAogCjAKQApQCmAKcAqACpAKoAqwCsAK0ArgCvALAAsQCyALMAtAC1ALYAtwC4ALkAugC7ALwAvQC+AL8AwADBAMIAwwDEAMUAxgDHAMgAyQDKAMsAzADNAM4AzwDQANEA0gDTANQA1QDWANcA2ADZANoA2wDcAN0A3gDfAOAA4QDiAOMA5ADlAOYA5wDoAOkA6gDrAOwA7QDuAO8A8ADxAPIA8wD0APUA9gD3APgA+QD6APsA/AD9AP4A/wAAAQEBAgEDAQQBBQEGAQcBCAEJAQoBCwEMAQ0BDgEPARABEQESARMBFAEVARYBFwEYARkBGgEbARwBHQEeAR8BIAEhASIBIwEkASUBJgEnASgBKQEqASsBLAEtAS4BLwEwATEBMgEzATQBNQE2ATcBOAE5AToBOwE8AT0BPgE/AUABQQFCAUMBRAFFAUYBRwFIAUkBSgFLAUwBTQFOAU8BUAFRAVIBUwFUAVUBVgFXAVgBWQFaAVsBXAFdAV4BXwFgAWEBYgFjAWQBZQFmAWcBaAFpAWoBawFsAW0BbgFvAXABcQFyAXMBdAF1AXYBdwF4AXkBegF7AXwBfQF+AX8BgAGBAYIBgwGEAYUBhgGHAYgBiQGKAYsBjAGNAY4BjwGQAZEBkgGTAZQBlQGWAZcBmAGZAZoBmwGcAZ0BngGfAaABoQGiAaMBpAGlAaYBpwGoAakBqgGrAawBrQGuAa8BsAGxAbIBswG0AbUBtgG3AbgBuQG6AbsBvAG9Ab4BvwHAAcEBwgHDAcQBxQHGAccByAHJAcoBywHMAc0BzgHPAdAB0QHSAdMB1AHVAdYB1wHYAdkB2gHbAdwB3QHeAd8B4AHhAeIB4wHkAeUB5gHnAegB6QHqAesB7AHtAe4B7wHwAfEB8gHzAQ==",
             "dtype": "i2"
            },
            "coloraxis": "coloraxis",
            "symbol": "circle"
           },
           "mode": "markers",
           "name": "",
           "orientation": "v",
           "showlegend": false,
           "type": "scatter",
           "x": {
            "bdata": "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",
            "dtype": "f4"
           },
           "xaxis": "x",
           "y": {
            "bdata": "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",
            "dtype": "f4"
           },
           "yaxis": "y"
          }
         ],
         "name": "manhattan"
        },
        {
         "data": [
          {
           "hovertemplate": "set=chebyshev<br>x=%{x}<br>y=%{y}<br>index=%{marker.color}<extra></extra>",
           "ids": {
            "bdata": "AAABAAIAAwAEAAUABgAHAAgACQAKAAsADAANAA4ADwAQABEAEgATABQAFQAWABcAGAAZABoAGwAcAB0AHgAfACAAIQAiACMAJAAlACYAJwAoACkAKgArACwALQAuAC8AMAAxADIAMwA0ADUANgA3ADgAOQA6ADsAPAA9AD4APwBAAEEAQgBDAEQARQBGAEcASABJAEoASwBMAE0ATgBPAFAAUQBSAFMAVABVAFYAVwBYAFkAWgBbAFwAXQBeAF8AYABhAGIAYwBkAGUAZgBnAGgAaQBqAGsAbABtAG4AbwBwAHEAcgBzAHQAdQB2AHcAeAB5AHoAewB8AH0AfgB/AIAAgQCCAIMAhACFAIYAhwCIAIkAigCLAIwAjQCOAI8AkACRAJIAkwCUAJUAlgCXAJgAmQCaAJsAnACdAJ4AnwCgAKEAogCjAKQApQCmAKcAqACpAKoAqwCsAK0ArgCvALAAsQCyALMAtAC1ALYAtwC4ALkAugC7ALwAvQC+AL8AwADBAMIAwwDEAMUAxgDHAMgAyQDKAMsAzADNAM4AzwDQANEA0gDTANQA1QDWANcA2ADZANoA2wDcAN0A3gDfAOAA4QDiAOMA5ADlAOYA5wDoAOkA6gDrAOwA7QDuAO8A8ADxAPIA8wD0APUA9gD3APgA+QD6APsA/AD9AP4A/wAAAQEBAgEDAQQBBQEGAQcBCAEJAQoBCwEMAQ0BDgEPARABEQESARMBFAEVARYBFwEYARkBGgEbARwBHQEeAR8BIAEhASIBIwEkASUBJgEnASgBKQEqASsBLAEtAS4BLwEwATEBMgEzATQBNQE2ATcBOAE5AToBOwE8AT0BPgE/AUABQQFCAUMBRAFFAUYBRwFIAUkBSgFLAUwBTQFOAU8BUAFRAVIBUwFUAVUBVgFXAVgBWQFaAVsBXAFdAV4BXwFgAWEBYgFjAWQBZQFmAWcBaAFpAWoBawFsAW0BbgFvAXABcQFyAXMBdAF1AXYBdwF4AXkBegF7AXwBfQF+AX8BgAGBAYIBgwGEAYUBhgGHAYgBiQGKAYsBjAGNAY4BjwGQAZEBkgGTAZQBlQGWAZcBmAGZAZoBmwGcAZ0BngGfAaABoQGiAaMBpAGlAaYBpwGoAakBqgGrAawBrQGuAa8BsAGxAbIBswG0AbUBtgG3AbgBuQG6AbsBvAG9Ab4BvwHAAcEBwgHDAcQBxQHGAccByAHJAcoBywHMAc0BzgHPAdAB0QHSAdMB1AHVAdYB1wHYAdkB2gHbAdwB3QHeAd8B4AHhAeIB4wHkAeUB5gHnAegB6QHqAesB7AHtAe4B7wHwAfEB8gHzAQ==",
            "dtype": "i2"
           },
           "legendgroup": "",
           "marker": {
            "color": {
             "bdata": "AAABAAIAAwAEAAUABgAHAAgACQAKAAsADAANAA4ADwAQABEAEgATABQAFQAWABcAGAAZABoAGwAcAB0AHgAfACAAIQAiACMAJAAlACYAJwAoACkAKgArACwALQAuAC8AMAAxADIAMwA0ADUANgA3ADgAOQA6ADsAPAA9AD4APwBAAEEAQgBDAEQARQBGAEcASABJAEoASwBMAE0ATgBPAFAAUQBSAFMAVABVAFYAVwBYAFkAWgBbAFwAXQBeAF8AYABhAGIAYwBkAGUAZgBnAGgAaQBqAGsAbABtAG4AbwBwAHEAcgBzAHQAdQB2AHcAeAB5AHoAewB8AH0AfgB/AIAAgQCCAIMAhACFAIYAhwCIAIkAigCLAIwAjQCOAI8AkACRAJIAkwCUAJUAlgCXAJgAmQCaAJsAnACdAJ4AnwCgAKEAogCjAKQApQCmAKcAqACpAKoAqwCsAK0ArgCvALAAsQCyALMAtAC1ALYAtwC4ALkAugC7ALwAvQC+AL8AwADBAMIAwwDEAMUAxgDHAMgAyQDKAMsAzADNAM4AzwDQANEA0gDTANQA1QDWANcA2ADZANoA2wDcAN0A3gDfAOAA4QDiAOMA5ADlAOYA5wDoAOkA6gDrAOwA7QDuAO8A8ADxAPIA8wD0APUA9gD3APgA+QD6APsA/AD9AP4A/wAAAQEBAgEDAQQBBQEGAQcBCAEJAQoBCwEMAQ0BDgEPARABEQESARMBFAEVARYBFwEYARkBGgEbARwBHQEeAR8BIAEhASIBIwEkASUBJgEnASgBKQEqASsBLAEtAS4BLwEwATEBMgEzATQBNQE2ATcBOAE5AToBOwE8AT0BPgE/AUABQQFCAUMBRAFFAUYBRwFIAUkBSgFLAUwBTQFOAU8BUAFRAVIBUwFUAVUBVgFXAVgBWQFaAVsBXAFdAV4BXwFgAWEBYgFjAWQBZQFmAWcBaAFpAWoBawFsAW0BbgFvAXABcQFyAXMBdAF1AXYBdwF4AXkBegF7AXwBfQF+AX8BgAGBAYIBgwGEAYUBhgGHAYgBiQGKAYsBjAGNAY4BjwGQAZEBkgGTAZQBlQGWAZcBmAGZAZoBmwGcAZ0BngGfAaABoQGiAaMBpAGlAaYBpwGoAakBqgGrAawBrQGuAa8BsAGxAbIBswG0AbUBtgG3AbgBuQG6AbsBvAG9Ab4BvwHAAcEBwgHDAcQBxQHGAccByAHJAcoBywHMAc0BzgHPAdAB0QHSAdMB1AHVAdYB1wHYAdkB2gHbAdwB3QHeAd8B4AHhAeIB4wHkAeUB5gHnAegB6QHqAesB7AHtAe4B7wHwAfEB8gHzAQ==",
             "dtype": "i2"
            },
            "coloraxis": "coloraxis",
            "symbol": "circle"
           },
           "mode": "markers",
           "name": "",
           "orientation": "v",
           "showlegend": false,
           "type": "scatter",
           "x": {
            "bdata": "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",
            "dtype": "f4"
           },
           "xaxis": "x",
           "y": {
            "bdata": "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",
            "dtype": "f4"
           },
           "yaxis": "y"
          }
         ],
         "name": "chebyshev"
        },
        {
         "data": [
          {
           "hovertemplate": "set=minkowski<br>x=%{x}<br>y=%{y}<br>index=%{marker.color}<extra></extra>",
           "ids": {
            "bdata": "AAABAAIAAwAEAAUABgAHAAgACQAKAAsADAANAA4ADwAQABEAEgATABQAFQAWABcAGAAZABoAGwAcAB0AHgAfACAAIQAiACMAJAAlACYAJwAoACkAKgArACwALQAuAC8AMAAxADIAMwA0ADUANgA3ADgAOQA6ADsAPAA9AD4APwBAAEEAQgBDAEQARQBGAEcASABJAEoASwBMAE0ATgBPAFAAUQBSAFMAVABVAFYAVwBYAFkAWgBbAFwAXQBeAF8AYABhAGIAYwBkAGUAZgBnAGgAaQBqAGsAbABtAG4AbwBwAHEAcgBzAHQAdQB2AHcAeAB5AHoAewB8AH0AfgB/AIAAgQCCAIMAhACFAIYAhwCIAIkAigCLAIwAjQCOAI8AkACRAJIAkwCUAJUAlgCXAJgAmQCaAJsAnACdAJ4AnwCgAKEAogCjAKQApQCmAKcAqACpAKoAqwCsAK0ArgCvALAAsQCyALMAtAC1ALYAtwC4ALkAugC7ALwAvQC+AL8AwADBAMIAwwDEAMUAxgDHAMgAyQDKAMsAzADNAM4AzwDQANEA0gDTANQA1QDWANcA2ADZANoA2wDcAN0A3gDfAOAA4QDiAOMA5ADlAOYA5wDoAOkA6gDrAOwA7QDuAO8A8ADxAPIA8wD0APUA9gD3APgA+QD6APsA/AD9AP4A/wAAAQEBAgEDAQQBBQEGAQcBCAEJAQoBCwEMAQ0BDgEPARABEQESARMBFAEVARYBFwEYARkBGgEbARwBHQEeAR8BIAEhASIBIwEkASUBJgEnASgBKQEqASsBLAEtAS4BLwEwATEBMgEzATQBNQE2ATcBOAE5AToBOwE8AT0BPgE/AUABQQFCAUMBRAFFAUYBRwFIAUkBSgFLAUwBTQFOAU8BUAFRAVIBUwFUAVUBVgFXAVgBWQFaAVsBXAFdAV4BXwFgAWEBYgFjAWQBZQFmAWcBaAFpAWoBawFsAW0BbgFvAXABcQFyAXMBdAF1AXYBdwF4AXkBegF7AXwBfQF+AX8BgAGBAYIBgwGEAYUBhgGHAYgBiQGKAYsBjAGNAY4BjwGQAZEBkgGTAZQBlQGWAZcBmAGZAZoBmwGcAZ0BngGfAaABoQGiAaMBpAGlAaYBpwGoAakBqgGrAawBrQGuAa8BsAGxAbIBswG0AbUBtgG3AbgBuQG6AbsBvAG9Ab4BvwHAAcEBwgHDAcQBxQHGAccByAHJAcoBywHMAc0BzgHPAdAB0QHSAdMB1AHVAdYB1wHYAdkB2gHbAdwB3QHeAd8B4AHhAeIB4wHkAeUB5gHnAegB6QHqAesB7AHtAe4B7wHwAfEB8gHzAQ==",
            "dtype": "i2"
           },
           "legendgroup": "",
           "marker": {
            "color": {
             "bdata": "AAABAAIAAwAEAAUABgAHAAgACQAKAAsADAANAA4ADwAQABEAEgATABQAFQAWABcAGAAZABoAGwAcAB0AHgAfACAAIQAiACMAJAAlACYAJwAoACkAKgArACwALQAuAC8AMAAxADIAMwA0ADUANgA3ADgAOQA6ADsAPAA9AD4APwBAAEEAQgBDAEQARQBGAEcASABJAEoASwBMAE0ATgBPAFAAUQBSAFMAVABVAFYAVwBYAFkAWgBbAFwAXQBeAF8AYABhAGIAYwBkAGUAZgBnAGgAaQBqAGsAbABtAG4AbwBwAHEAcgBzAHQAdQB2AHcAeAB5AHoAewB8AH0AfgB/AIAAgQCCAIMAhACFAIYAhwCIAIkAigCLAIwAjQCOAI8AkACRAJIAkwCUAJUAlgCXAJgAmQCaAJsAnACdAJ4AnwCgAKEAogCjAKQApQCmAKcAqACpAKoAqwCsAK0ArgCvALAAsQCyALMAtAC1ALYAtwC4ALkAugC7ALwAvQC+AL8AwADBAMIAwwDEAMUAxgDHAMgAyQDKAMsAzADNAM4AzwDQANEA0gDTANQA1QDWANcA2ADZANoA2wDcAN0A3gDfAOAA4QDiAOMA5ADlAOYA5wDoAOkA6gDrAOwA7QDuAO8A8ADxAPIA8wD0APUA9gD3APgA+QD6APsA/AD9AP4A/wAAAQEBAgEDAQQBBQEGAQcBCAEJAQoBCwEMAQ0BDgEPARABEQESARMBFAEVARYBFwEYARkBGgEbARwBHQEeAR8BIAEhASIBIwEkASUBJgEnASgBKQEqASsBLAEtAS4BLwEwATEBMgEzATQBNQE2ATcBOAE5AToBOwE8AT0BPgE/AUABQQFCAUMBRAFFAUYBRwFIAUkBSgFLAUwBTQFOAU8BUAFRAVIBUwFUAVUBVgFXAVgBWQFaAVsBXAFdAV4BXwFgAWEBYgFjAWQBZQFmAWcBaAFpAWoBawFsAW0BbgFvAXABcQFyAXMBdAF1AXYBdwF4AXkBegF7AXwBfQF+AX8BgAGBAYIBgwGEAYUBhgGHAYgBiQGKAYsBjAGNAY4BjwGQAZEBkgGTAZQBlQGWAZcBmAGZAZoBmwGcAZ0BngGfAaABoQGiAaMBpAGlAaYBpwGoAakBqgGrAawBrQGuAa8BsAGxAbIBswG0AbUBtgG3AbgBuQG6AbsBvAG9Ab4BvwHAAcEBwgHDAcQBxQHGAccByAHJAcoBywHMAc0BzgHPAdAB0QHSAdMB1AHVAdYB1wHYAdkB2gHbAdwB3QHeAd8B4AHhAeIB4wHkAeUB5gHnAegB6QHqAesB7AHtAe4B7wHwAfEB8gHzAQ==",
             "dtype": "i2"
            },
            "coloraxis": "coloraxis",
            "symbol": "circle"
           },
           "mode": "markers",
           "name": "",
           "orientation": "v",
           "showlegend": false,
           "type": "scatter",
           "x": {
            "bdata": "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",
            "dtype": "f4"
           },
           "xaxis": "x",
           "y": {
            "bdata": "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",
            "dtype": "f4"
           },
           "yaxis": "y"
          }
         ],
         "name": "minkowski"
        },
        {
         "data": [
          {
           "hovertemplate": "set=canberra<br>x=%{x}<br>y=%{y}<br>index=%{marker.color}<extra></extra>",
           "ids": {
            "bdata": "AAABAAIAAwAEAAUABgAHAAgACQAKAAsADAANAA4ADwAQABEAEgATABQAFQAWABcAGAAZABoAGwAcAB0AHgAfACAAIQAiACMAJAAlACYAJwAoACkAKgArACwALQAuAC8AMAAxADIAMwA0ADUANgA3ADgAOQA6ADsAPAA9AD4APwBAAEEAQgBDAEQARQBGAEcASABJAEoASwBMAE0ATgBPAFAAUQBSAFMAVABVAFYAVwBYAFkAWgBbAFwAXQBeAF8AYABhAGIAYwBkAGUAZgBnAGgAaQBqAGsAbABtAG4AbwBwAHEAcgBzAHQAdQB2AHcAeAB5AHoAewB8AH0AfgB/AIAAgQCCAIMAhACFAIYAhwCIAIkAigCLAIwAjQCOAI8AkACRAJIAkwCUAJUAlgCXAJgAmQCaAJsAnACdAJ4AnwCgAKEAogCjAKQApQCmAKcAqACpAKoAqwCsAK0ArgCvALAAsQCyALMAtAC1ALYAtwC4ALkAugC7ALwAvQC+AL8AwADBAMIAwwDEAMUAxgDHAMgAyQDKAMsAzADNAM4AzwDQANEA0gDTANQA1QDWANcA2ADZANoA2wDcAN0A3gDfAOAA4QDiAOMA5ADlAOYA5wDoAOkA6gDrAOwA7QDuAO8A8ADxAPIA8wD0APUA9gD3APgA+QD6APsA/AD9AP4A/wAAAQEBAgEDAQQBBQEGAQcBCAEJAQoBCwEMAQ0BDgEPARABEQESARMBFAEVARYBFwEYARkBGgEbARwBHQEeAR8BIAEhASIBIwEkASUBJgEnASgBKQEqASsBLAEtAS4BLwEwATEBMgEzATQBNQE2ATcBOAE5AToBOwE8AT0BPgE/AUABQQFCAUMBRAFFAUYBRwFIAUkBSgFLAUwBTQFOAU8BUAFRAVIBUwFUAVUBVgFXAVgBWQFaAVsBXAFdAV4BXwFgAWEBYgFjAWQBZQFmAWcBaAFpAWoBawFsAW0BbgFvAXABcQFyAXMBdAF1AXYBdwF4AXkBegF7AXwBfQF+AX8BgAGBAYIBgwGEAYUBhgGHAYgBiQGKAYsBjAGNAY4BjwGQAZEBkgGTAZQBlQGWAZcBmAGZAZoBmwGcAZ0BngGfAaABoQGiAaMBpAGlAaYBpwGoAakBqgGrAawBrQGuAa8BsAGxAbIBswG0AbUBtgG3AbgBuQG6AbsBvAG9Ab4BvwHAAcEBwgHDAcQBxQHGAccByAHJAcoBywHMAc0BzgHPAdAB0QHSAdMB1AHVAdYB1wHYAdkB2gHbAdwB3QHeAd8B4AHhAeIB4wHkAeUB5gHnAegB6QHqAesB7AHtAe4B7wHwAfEB8gHzAQ==",
            "dtype": "i2"
           },
           "legendgroup": "",
           "marker": {
            "color": {
             "bdata": "AAABAAIAAwAEAAUABgAHAAgACQAKAAsADAANAA4ADwAQABEAEgATABQAFQAWABcAGAAZABoAGwAcAB0AHgAfACAAIQAiACMAJAAlACYAJwAoACkAKgArACwALQAuAC8AMAAxADIAMwA0ADUANgA3ADgAOQA6ADsAPAA9AD4APwBAAEEAQgBDAEQARQBGAEcASABJAEoASwBMAE0ATgBPAFAAUQBSAFMAVABVAFYAVwBYAFkAWgBbAFwAXQBeAF8AYABhAGIAYwBkAGUAZgBnAGgAaQBqAGsAbABtAG4AbwBwAHEAcgBzAHQAdQB2AHcAeAB5AHoAewB8AH0AfgB/AIAAgQCCAIMAhACFAIYAhwCIAIkAigCLAIwAjQCOAI8AkACRAJIAkwCUAJUAlgCXAJgAmQCaAJsAnACdAJ4AnwCgAKEAogCjAKQApQCmAKcAqACpAKoAqwCsAK0ArgCvALAAsQCyALMAtAC1ALYAtwC4ALkAugC7ALwAvQC+AL8AwADBAMIAwwDEAMUAxgDHAMgAyQDKAMsAzADNAM4AzwDQANEA0gDTANQA1QDWANcA2ADZANoA2wDcAN0A3gDfAOAA4QDiAOMA5ADlAOYA5wDoAOkA6gDrAOwA7QDuAO8A8ADxAPIA8wD0APUA9gD3APgA+QD6APsA/AD9AP4A/wAAAQEBAgEDAQQBBQEGAQcBCAEJAQoBCwEMAQ0BDgEPARABEQESARMBFAEVARYBFwEYARkBGgEbARwBHQEeAR8BIAEhASIBIwEkASUBJgEnASgBKQEqASsBLAEtAS4BLwEwATEBMgEzATQBNQE2ATcBOAE5AToBOwE8AT0BPgE/AUABQQFCAUMBRAFFAUYBRwFIAUkBSgFLAUwBTQFOAU8BUAFRAVIBUwFUAVUBVgFXAVgBWQFaAVsBXAFdAV4BXwFgAWEBYgFjAWQBZQFmAWcBaAFpAWoBawFsAW0BbgFvAXABcQFyAXMBdAF1AXYBdwF4AXkBegF7AXwBfQF+AX8BgAGBAYIBgwGEAYUBhgGHAYgBiQGKAYsBjAGNAY4BjwGQAZEBkgGTAZQBlQGWAZcBmAGZAZoBmwGcAZ0BngGfAaABoQGiAaMBpAGlAaYBpwGoAakBqgGrAawBrQGuAa8BsAGxAbIBswG0AbUBtgG3AbgBuQG6AbsBvAG9Ab4BvwHAAcEBwgHDAcQBxQHGAccByAHJAcoBywHMAc0BzgHPAdAB0QHSAdMB1AHVAdYB1wHYAdkB2gHbAdwB3QHeAd8B4AHhAeIB4wHkAeUB5gHnAegB6QHqAesB7AHtAe4B7wHwAfEB8gHzAQ==",
             "dtype": "i2"
            },
            "coloraxis": "coloraxis",
            "symbol": "circle"
           },
           "mode": "markers",
           "name": "",
           "orientation": "v",
           "showlegend": false,
           "type": "scatter",
           "x": {
            "bdata": "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",
            "dtype": "f4"
           },
           "xaxis": "x",
           "y": {
            "bdata": "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",
            "dtype": "f4"
           },
           "yaxis": "y"
          }
         ],
         "name": "canberra"
        },
        {
         "data": [
          {
           "hovertemplate": "set=braycurtis<br>x=%{x}<br>y=%{y}<br>index=%{marker.color}<extra></extra>",
           "ids": {
            "bdata": "AAABAAIAAwAEAAUABgAHAAgACQAKAAsADAANAA4ADwAQABEAEgATABQAFQAWABcAGAAZABoAGwAcAB0AHgAfACAAIQAiACMAJAAlACYAJwAoACkAKgArACwALQAuAC8AMAAxADIAMwA0ADUANgA3ADgAOQA6ADsAPAA9AD4APwBAAEEAQgBDAEQARQBGAEcASABJAEoASwBMAE0ATgBPAFAAUQBSAFMAVABVAFYAVwBYAFkAWgBbAFwAXQBeAF8AYABhAGIAYwBkAGUAZgBnAGgAaQBqAGsAbABtAG4AbwBwAHEAcgBzAHQAdQB2AHcAeAB5AHoAewB8AH0AfgB/AIAAgQCCAIMAhACFAIYAhwCIAIkAigCLAIwAjQCOAI8AkACRAJIAkwCUAJUAlgCXAJgAmQCaAJsAnACdAJ4AnwCgAKEAogCjAKQApQCmAKcAqACpAKoAqwCsAK0ArgCvALAAsQCyALMAtAC1ALYAtwC4ALkAugC7ALwAvQC+AL8AwADBAMIAwwDEAMUAxgDHAMgAyQDKAMsAzADNAM4AzwDQANEA0gDTANQA1QDWANcA2ADZANoA2wDcAN0A3gDfAOAA4QDiAOMA5ADlAOYA5wDoAOkA6gDrAOwA7QDuAO8A8ADxAPIA8wD0APUA9gD3APgA+QD6APsA/AD9AP4A/wAAAQEBAgEDAQQBBQEGAQcBCAEJAQoBCwEMAQ0BDgEPARABEQESARMBFAEVARYBFwEYARkBGgEbARwBHQEeAR8BIAEhASIBIwEkASUBJgEnASgBKQEqASsBLAEtAS4BLwEwATEBMgEzATQBNQE2ATcBOAE5AToBOwE8AT0BPgE/AUABQQFCAUMBRAFFAUYBRwFIAUkBSgFLAUwBTQFOAU8BUAFRAVIBUwFUAVUBVgFXAVgBWQFaAVsBXAFdAV4BXwFgAWEBYgFjAWQBZQFmAWcBaAFpAWoBawFsAW0BbgFvAXABcQFyAXMBdAF1AXYBdwF4AXkBegF7AXwBfQF+AX8BgAGBAYIBgwGEAYUBhgGHAYgBiQGKAYsBjAGNAY4BjwGQAZEBkgGTAZQBlQGWAZcBmAGZAZoBmwGcAZ0BngGfAaABoQGiAaMBpAGlAaYBpwGoAakBqgGrAawBrQGuAa8BsAGxAbIBswG0AbUBtgG3AbgBuQG6AbsBvAG9Ab4BvwHAAcEBwgHDAcQBxQHGAccByAHJAcoBywHMAc0BzgHPAdAB0QHSAdMB1AHVAdYB1wHYAdkB2gHbAdwB3QHeAd8B4AHhAeIB4wHkAeUB5gHnAegB6QHqAesB7AHtAe4B7wHwAfEB8gHzAQ==",
            "dtype": "i2"
           },
           "legendgroup": "",
           "marker": {
            "color": {
             "bdata": "AAABAAIAAwAEAAUABgAHAAgACQAKAAsADAANAA4ADwAQABEAEgATABQAFQAWABcAGAAZABoAGwAcAB0AHgAfACAAIQAiACMAJAAlACYAJwAoACkAKgArACwALQAuAC8AMAAxADIAMwA0ADUANgA3ADgAOQA6ADsAPAA9AD4APwBAAEEAQgBDAEQARQBGAEcASABJAEoASwBMAE0ATgBPAFAAUQBSAFMAVABVAFYAVwBYAFkAWgBbAFwAXQBeAF8AYABhAGIAYwBkAGUAZgBnAGgAaQBqAGsAbABtAG4AbwBwAHEAcgBzAHQAdQB2AHcAeAB5AHoAewB8AH0AfgB/AIAAgQCCAIMAhACFAIYAhwCIAIkAigCLAIwAjQCOAI8AkACRAJIAkwCUAJUAlgCXAJgAmQCaAJsAnACdAJ4AnwCgAKEAogCjAKQApQCmAKcAqACpAKoAqwCsAK0ArgCvALAAsQCyALMAtAC1ALYAtwC4ALkAugC7ALwAvQC+AL8AwADBAMIAwwDEAMUAxgDHAMgAyQDKAMsAzADNAM4AzwDQANEA0gDTANQA1QDWANcA2ADZANoA2wDcAN0A3gDfAOAA4QDiAOMA5ADlAOYA5wDoAOkA6gDrAOwA7QDuAO8A8ADxAPIA8wD0APUA9gD3APgA+QD6APsA/AD9AP4A/wAAAQEBAgEDAQQBBQEGAQcBCAEJAQoBCwEMAQ0BDgEPARABEQESARMBFAEVARYBFwEYARkBGgEbARwBHQEeAR8BIAEhASIBIwEkASUBJgEnASgBKQEqASsBLAEtAS4BLwEwATEBMgEzATQBNQE2ATcBOAE5AToBOwE8AT0BPgE/AUABQQFCAUMBRAFFAUYBRwFIAUkBSgFLAUwBTQFOAU8BUAFRAVIBUwFUAVUBVgFXAVgBWQFaAVsBXAFdAV4BXwFgAWEBYgFjAWQBZQFmAWcBaAFpAWoBawFsAW0BbgFvAXABcQFyAXMBdAF1AXYBdwF4AXkBegF7AXwBfQF+AX8BgAGBAYIBgwGEAYUBhgGHAYgBiQGKAYsBjAGNAY4BjwGQAZEBkgGTAZQBlQGWAZcBmAGZAZoBmwGcAZ0BngGfAaABoQGiAaMBpAGlAaYBpwGoAakBqgGrAawBrQGuAa8BsAGxAbIBswG0AbUBtgG3AbgBuQG6AbsBvAG9Ab4BvwHAAcEBwgHDAcQBxQHGAccByAHJAcoBywHMAc0BzgHPAdAB0QHSAdMB1AHVAdYB1wHYAdkB2gHbAdwB3QHeAd8B4AHhAeIB4wHkAeUB5gHnAegB6QHqAesB7AHtAe4B7wHwAfEB8gHzAQ==",
             "dtype": "i2"
            },
            "coloraxis": "coloraxis",
            "symbol": "circle"
           },
           "mode": "markers",
           "name": "",
           "orientation": "v",
           "showlegend": false,
           "type": "scatter",
           "x": {
            "bdata": "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",
            "dtype": "f4"
           },
           "xaxis": "x",
           "y": {
            "bdata": "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",
            "dtype": "f4"
           },
           "yaxis": "y"
          }
         ],
         "name": "braycurtis"
        },
        {
         "data": [
          {
           "hovertemplate": "set=mahalanobis<br>x=%{x}<br>y=%{y}<br>index=%{marker.color}<extra></extra>",
           "ids": {
            "bdata": "AAABAAIAAwAEAAUABgAHAAgACQAKAAsADAANAA4ADwAQABEAEgATABQAFQAWABcAGAAZABoAGwAcAB0AHgAfACAAIQAiACMAJAAlACYAJwAoACkAKgArACwALQAuAC8AMAAxADIAMwA0ADUANgA3ADgAOQA6ADsAPAA9AD4APwBAAEEAQgBDAEQARQBGAEcASABJAEoASwBMAE0ATgBPAFAAUQBSAFMAVABVAFYAVwBYAFkAWgBbAFwAXQBeAF8AYABhAGIAYwBkAGUAZgBnAGgAaQBqAGsAbABtAG4AbwBwAHEAcgBzAHQAdQB2AHcAeAB5AHoAewB8AH0AfgB/AIAAgQCCAIMAhACFAIYAhwCIAIkAigCLAIwAjQCOAI8AkACRAJIAkwCUAJUAlgCXAJgAmQCaAJsAnACdAJ4AnwCgAKEAogCjAKQApQCmAKcAqACpAKoAqwCsAK0ArgCvALAAsQCyALMAtAC1ALYAtwC4ALkAugC7ALwAvQC+AL8AwADBAMIAwwDEAMUAxgDHAMgAyQDKAMsAzADNAM4AzwDQANEA0gDTANQA1QDWANcA2ADZANoA2wDcAN0A3gDfAOAA4QDiAOMA5ADlAOYA5wDoAOkA6gDrAOwA7QDuAO8A8ADxAPIA8wD0APUA9gD3APgA+QD6APsA/AD9AP4A/wAAAQEBAgEDAQQBBQEGAQcBCAEJAQoBCwEMAQ0BDgEPARABEQESARMBFAEVARYBFwEYARkBGgEbARwBHQEeAR8BIAEhASIBIwEkASUBJgEnASgBKQEqASsBLAEtAS4BLwEwATEBMgEzATQBNQE2ATcBOAE5AToBOwE8AT0BPgE/AUABQQFCAUMBRAFFAUYBRwFIAUkBSgFLAUwBTQFOAU8BUAFRAVIBUwFUAVUBVgFXAVgBWQFaAVsBXAFdAV4BXwFgAWEBYgFjAWQBZQFmAWcBaAFpAWoBawFsAW0BbgFvAXABcQFyAXMBdAF1AXYBdwF4AXkBegF7AXwBfQF+AX8BgAGBAYIBgwGEAYUBhgGHAYgBiQGKAYsBjAGNAY4BjwGQAZEBkgGTAZQBlQGWAZcBmAGZAZoBmwGcAZ0BngGfAaABoQGiAaMBpAGlAaYBpwGoAakBqgGrAawBrQGuAa8BsAGxAbIBswG0AbUBtgG3AbgBuQG6AbsBvAG9Ab4BvwHAAcEBwgHDAcQBxQHGAccByAHJAcoBywHMAc0BzgHPAdAB0QHSAdMB1AHVAdYB1wHYAdkB2gHbAdwB3QHeAd8B4AHhAeIB4wHkAeUB5gHnAegB6QHqAesB7AHtAe4B7wHwAfEB8gHzAQ==",
            "dtype": "i2"
           },
           "legendgroup": "",
           "marker": {
            "color": {
             "bdata": "AAABAAIAAwAEAAUABgAHAAgACQAKAAsADAANAA4ADwAQABEAEgATABQAFQAWABcAGAAZABoAGwAcAB0AHgAfACAAIQAiACMAJAAlACYAJwAoACkAKgArACwALQAuAC8AMAAxADIAMwA0ADUANgA3ADgAOQA6ADsAPAA9AD4APwBAAEEAQgBDAEQARQBGAEcASABJAEoASwBMAE0ATgBPAFAAUQBSAFMAVABVAFYAVwBYAFkAWgBbAFwAXQBeAF8AYABhAGIAYwBkAGUAZgBnAGgAaQBqAGsAbABtAG4AbwBwAHEAcgBzAHQAdQB2AHcAeAB5AHoAewB8AH0AfgB/AIAAgQCCAIMAhACFAIYAhwCIAIkAigCLAIwAjQCOAI8AkACRAJIAkwCUAJUAlgCXAJgAmQCaAJsAnACdAJ4AnwCgAKEAogCjAKQApQCmAKcAqACpAKoAqwCsAK0ArgCvALAAsQCyALMAtAC1ALYAtwC4ALkAugC7ALwAvQC+AL8AwADBAMIAwwDEAMUAxgDHAMgAyQDKAMsAzADNAM4AzwDQANEA0gDTANQA1QDWANcA2ADZANoA2wDcAN0A3gDfAOAA4QDiAOMA5ADlAOYA5wDoAOkA6gDrAOwA7QDuAO8A8ADxAPIA8wD0APUA9gD3APgA+QD6APsA/AD9AP4A/wAAAQEBAgEDAQQBBQEGAQcBCAEJAQoBCwEMAQ0BDgEPARABEQESARMBFAEVARYBFwEYARkBGgEbARwBHQEeAR8BIAEhASIBIwEkASUBJgEnASgBKQEqASsBLAEtAS4BLwEwATEBMgEzATQBNQE2ATcBOAE5AToBOwE8AT0BPgE/AUABQQFCAUMBRAFFAUYBRwFIAUkBSgFLAUwBTQFOAU8BUAFRAVIBUwFUAVUBVgFXAVgBWQFaAVsBXAFdAV4BXwFgAWEBYgFjAWQBZQFmAWcBaAFpAWoBawFsAW0BbgFvAXABcQFyAXMBdAF1AXYBdwF4AXkBegF7AXwBfQF+AX8BgAGBAYIBgwGEAYUBhgGHAYgBiQGKAYsBjAGNAY4BjwGQAZEBkgGTAZQBlQGWAZcBmAGZAZoBmwGcAZ0BngGfAaABoQGiAaMBpAGlAaYBpwGoAakBqgGrAawBrQGuAa8BsAGxAbIBswG0AbUBtgG3AbgBuQG6AbsBvAG9Ab4BvwHAAcEBwgHDAcQBxQHGAccByAHJAcoBywHMAc0BzgHPAdAB0QHSAdMB1AHVAdYB1wHYAdkB2gHbAdwB3QHeAd8B4AHhAeIB4wHkAeUB5gHnAegB6QHqAesB7AHtAe4B7wHwAfEB8gHzAQ==",
             "dtype": "i2"
            },
            "coloraxis": "coloraxis",
            "symbol": "circle"
           },
           "mode": "markers",
           "name": "",
           "orientation": "v",
           "showlegend": false,
           "type": "scatter",
           "x": {
            "bdata": "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",
            "dtype": "f4"
           },
           "xaxis": "x",
           "y": {
            "bdata": "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",
            "dtype": "f4"
           },
           "yaxis": "y"
          }
         ],
         "name": "mahalanobis"
        },
        {
         "data": [
          {
           "hovertemplate": "set=wminkowski<br>x=%{x}<br>y=%{y}<br>index=%{marker.color}<extra></extra>",
           "ids": {
            "bdata": "AAABAAIAAwAEAAUABgAHAAgACQAKAAsADAANAA4ADwAQABEAEgATABQAFQAWABcAGAAZABoAGwAcAB0AHgAfACAAIQAiACMAJAAlACYAJwAoACkAKgArACwALQAuAC8AMAAxADIAMwA0ADUANgA3ADgAOQA6ADsAPAA9AD4APwBAAEEAQgBDAEQARQBGAEcASABJAEoASwBMAE0ATgBPAFAAUQBSAFMAVABVAFYAVwBYAFkAWgBbAFwAXQBeAF8AYABhAGIAYwBkAGUAZgBnAGgAaQBqAGsAbABtAG4AbwBwAHEAcgBzAHQAdQB2AHcAeAB5AHoAewB8AH0AfgB/AIAAgQCCAIMAhACFAIYAhwCIAIkAigCLAIwAjQCOAI8AkACRAJIAkwCUAJUAlgCXAJgAmQCaAJsAnACdAJ4AnwCgAKEAogCjAKQApQCmAKcAqACpAKoAqwCsAK0ArgCvALAAsQCyALMAtAC1ALYAtwC4ALkAugC7ALwAvQC+AL8AwADBAMIAwwDEAMUAxgDHAMgAyQDKAMsAzADNAM4AzwDQANEA0gDTANQA1QDWANcA2ADZANoA2wDcAN0A3gDfAOAA4QDiAOMA5ADlAOYA5wDoAOkA6gDrAOwA7QDuAO8A8ADxAPIA8wD0APUA9gD3APgA+QD6APsA/AD9AP4A/wAAAQEBAgEDAQQBBQEGAQcBCAEJAQoBCwEMAQ0BDgEPARABEQESARMBFAEVARYBFwEYARkBGgEbARwBHQEeAR8BIAEhASIBIwEkASUBJgEnASgBKQEqASsBLAEtAS4BLwEwATEBMgEzATQBNQE2ATcBOAE5AToBOwE8AT0BPgE/AUABQQFCAUMBRAFFAUYBRwFIAUkBSgFLAUwBTQFOAU8BUAFRAVIBUwFUAVUBVgFXAVgBWQFaAVsBXAFdAV4BXwFgAWEBYgFjAWQBZQFmAWcBaAFpAWoBawFsAW0BbgFvAXABcQFyAXMBdAF1AXYBdwF4AXkBegF7AXwBfQF+AX8BgAGBAYIBgwGEAYUBhgGHAYgBiQGKAYsBjAGNAY4BjwGQAZEBkgGTAZQBlQGWAZcBmAGZAZoBmwGcAZ0BngGfAaABoQGiAaMBpAGlAaYBpwGoAakBqgGrAawBrQGuAa8BsAGxAbIBswG0AbUBtgG3AbgBuQG6AbsBvAG9Ab4BvwHAAcEBwgHDAcQBxQHGAccByAHJAcoBywHMAc0BzgHPAdAB0QHSAdMB1AHVAdYB1wHYAdkB2gHbAdwB3QHeAd8B4AHhAeIB4wHkAeUB5gHnAegB6QHqAesB7AHtAe4B7wHwAfEB8gHzAQ==",
            "dtype": "i2"
           },
           "legendgroup": "",
           "marker": {
            "color": {
             "bdata": "AAABAAIAAwAEAAUABgAHAAgACQAKAAsADAANAA4ADwAQABEAEgATABQAFQAWABcAGAAZABoAGwAcAB0AHgAfACAAIQAiACMAJAAlACYAJwAoACkAKgArACwALQAuAC8AMAAxADIAMwA0ADUANgA3ADgAOQA6ADsAPAA9AD4APwBAAEEAQgBDAEQARQBGAEcASABJAEoASwBMAE0ATgBPAFAAUQBSAFMAVABVAFYAVwBYAFkAWgBbAFwAXQBeAF8AYABhAGIAYwBkAGUAZgBnAGgAaQBqAGsAbABtAG4AbwBwAHEAcgBzAHQAdQB2AHcAeAB5AHoAewB8AH0AfgB/AIAAgQCCAIMAhACFAIYAhwCIAIkAigCLAIwAjQCOAI8AkACRAJIAkwCUAJUAlgCXAJgAmQCaAJsAnACdAJ4AnwCgAKEAogCjAKQApQCmAKcAqACpAKoAqwCsAK0ArgCvALAAsQCyALMAtAC1ALYAtwC4ALkAugC7ALwAvQC+AL8AwADBAMIAwwDEAMUAxgDHAMgAyQDKAMsAzADNAM4AzwDQANEA0gDTANQA1QDWANcA2ADZANoA2wDcAN0A3gDfAOAA4QDiAOMA5ADlAOYA5wDoAOkA6gDrAOwA7QDuAO8A8ADxAPIA8wD0APUA9gD3APgA+QD6APsA/AD9AP4A/wAAAQEBAgEDAQQBBQEGAQcBCAEJAQoBCwEMAQ0BDgEPARABEQESARMBFAEVARYBFwEYARkBGgEbARwBHQEeAR8BIAEhASIBIwEkASUBJgEnASgBKQEqASsBLAEtAS4BLwEwATEBMgEzATQBNQE2ATcBOAE5AToBOwE8AT0BPgE/AUABQQFCAUMBRAFFAUYBRwFIAUkBSgFLAUwBTQFOAU8BUAFRAVIBUwFUAVUBVgFXAVgBWQFaAVsBXAFdAV4BXwFgAWEBYgFjAWQBZQFmAWcBaAFpAWoBawFsAW0BbgFvAXABcQFyAXMBdAF1AXYBdwF4AXkBegF7AXwBfQF+AX8BgAGBAYIBgwGEAYUBhgGHAYgBiQGKAYsBjAGNAY4BjwGQAZEBkgGTAZQBlQGWAZcBmAGZAZoBmwGcAZ0BngGfAaABoQGiAaMBpAGlAaYBpwGoAakBqgGrAawBrQGuAa8BsAGxAbIBswG0AbUBtgG3AbgBuQG6AbsBvAG9Ab4BvwHAAcEBwgHDAcQBxQHGAccByAHJAcoBywHMAc0BzgHPAdAB0QHSAdMB1AHVAdYB1wHYAdkB2gHbAdwB3QHeAd8B4AHhAeIB4wHkAeUB5gHnAegB6QHqAesB7AHtAe4B7wHwAfEB8gHzAQ==",
             "dtype": "i2"
            },
            "coloraxis": "coloraxis",
            "symbol": "circle"
           },
           "mode": "markers",
           "name": "",
           "orientation": "v",
           "showlegend": false,
           "type": "scatter",
           "x": {
            "bdata": "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",
            "dtype": "f4"
           },
           "xaxis": "x",
           "y": {
            "bdata": "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",
            "dtype": "f4"
           },
           "yaxis": "y"
          }
         ],
         "name": "wminkowski"
        },
        {
         "data": [
          {
           "hovertemplate": "set=cosine<br>x=%{x}<br>y=%{y}<br>index=%{marker.color}<extra></extra>",
           "ids": {
            "bdata": "AAABAAIAAwAEAAUABgAHAAgACQAKAAsADAANAA4ADwAQABEAEgATABQAFQAWABcAGAAZABoAGwAcAB0AHgAfACAAIQAiACMAJAAlACYAJwAoACkAKgArACwALQAuAC8AMAAxADIAMwA0ADUANgA3ADgAOQA6ADsAPAA9AD4APwBAAEEAQgBDAEQARQBGAEcASABJAEoASwBMAE0ATgBPAFAAUQBSAFMAVABVAFYAVwBYAFkAWgBbAFwAXQBeAF8AYABhAGIAYwBkAGUAZgBnAGgAaQBqAGsAbABtAG4AbwBwAHEAcgBzAHQAdQB2AHcAeAB5AHoAewB8AH0AfgB/AIAAgQCCAIMAhACFAIYAhwCIAIkAigCLAIwAjQCOAI8AkACRAJIAkwCUAJUAlgCXAJgAmQCaAJsAnACdAJ4AnwCgAKEAogCjAKQApQCmAKcAqACpAKoAqwCsAK0ArgCvALAAsQCyALMAtAC1ALYAtwC4ALkAugC7ALwAvQC+AL8AwADBAMIAwwDEAMUAxgDHAMgAyQDKAMsAzADNAM4AzwDQANEA0gDTANQA1QDWANcA2ADZANoA2wDcAN0A3gDfAOAA4QDiAOMA5ADlAOYA5wDoAOkA6gDrAOwA7QDuAO8A8ADxAPIA8wD0APUA9gD3APgA+QD6APsA/AD9AP4A/wAAAQEBAgEDAQQBBQEGAQcBCAEJAQoBCwEMAQ0BDgEPARABEQESARMBFAEVARYBFwEYARkBGgEbARwBHQEeAR8BIAEhASIBIwEkASUBJgEnASgBKQEqASsBLAEtAS4BLwEwATEBMgEzATQBNQE2ATcBOAE5AToBOwE8AT0BPgE/AUABQQFCAUMBRAFFAUYBRwFIAUkBSgFLAUwBTQFOAU8BUAFRAVIBUwFUAVUBVgFXAVgBWQFaAVsBXAFdAV4BXwFgAWEBYgFjAWQBZQFmAWcBaAFpAWoBawFsAW0BbgFvAXABcQFyAXMBdAF1AXYBdwF4AXkBegF7AXwBfQF+AX8BgAGBAYIBgwGEAYUBhgGHAYgBiQGKAYsBjAGNAY4BjwGQAZEBkgGTAZQBlQGWAZcBmAGZAZoBmwGcAZ0BngGfAaABoQGiAaMBpAGlAaYBpwGoAakBqgGrAawBrQGuAa8BsAGxAbIBswG0AbUBtgG3AbgBuQG6AbsBvAG9Ab4BvwHAAcEBwgHDAcQBxQHGAccByAHJAcoBywHMAc0BzgHPAdAB0QHSAdMB1AHVAdYB1wHYAdkB2gHbAdwB3QHeAd8B4AHhAeIB4wHkAeUB5gHnAegB6QHqAesB7AHtAe4B7wHwAfEB8gHzAQ==",
            "dtype": "i2"
           },
           "legendgroup": "",
           "marker": {
            "color": {
             "bdata": "AAABAAIAAwAEAAUABgAHAAgACQAKAAsADAANAA4ADwAQABEAEgATABQAFQAWABcAGAAZABoAGwAcAB0AHgAfACAAIQAiACMAJAAlACYAJwAoACkAKgArACwALQAuAC8AMAAxADIAMwA0ADUANgA3ADgAOQA6ADsAPAA9AD4APwBAAEEAQgBDAEQARQBGAEcASABJAEoASwBMAE0ATgBPAFAAUQBSAFMAVABVAFYAVwBYAFkAWgBbAFwAXQBeAF8AYABhAGIAYwBkAGUAZgBnAGgAaQBqAGsAbABtAG4AbwBwAHEAcgBzAHQAdQB2AHcAeAB5AHoAewB8AH0AfgB/AIAAgQCCAIMAhACFAIYAhwCIAIkAigCLAIwAjQCOAI8AkACRAJIAkwCUAJUAlgCXAJgAmQCaAJsAnACdAJ4AnwCgAKEAogCjAKQApQCmAKcAqACpAKoAqwCsAK0ArgCvALAAsQCyALMAtAC1ALYAtwC4ALkAugC7ALwAvQC+AL8AwADBAMIAwwDEAMUAxgDHAMgAyQDKAMsAzADNAM4AzwDQANEA0gDTANQA1QDWANcA2ADZANoA2wDcAN0A3gDfAOAA4QDiAOMA5ADlAOYA5wDoAOkA6gDrAOwA7QDuAO8A8ADxAPIA8wD0APUA9gD3APgA+QD6APsA/AD9AP4A/wAAAQEBAgEDAQQBBQEGAQcBCAEJAQoBCwEMAQ0BDgEPARABEQESARMBFAEVARYBFwEYARkBGgEbARwBHQEeAR8BIAEhASIBIwEkASUBJgEnASgBKQEqASsBLAEtAS4BLwEwATEBMgEzATQBNQE2ATcBOAE5AToBOwE8AT0BPgE/AUABQQFCAUMBRAFFAUYBRwFIAUkBSgFLAUwBTQFOAU8BUAFRAVIBUwFUAVUBVgFXAVgBWQFaAVsBXAFdAV4BXwFgAWEBYgFjAWQBZQFmAWcBaAFpAWoBawFsAW0BbgFvAXABcQFyAXMBdAF1AXYBdwF4AXkBegF7AXwBfQF+AX8BgAGBAYIBgwGEAYUBhgGHAYgBiQGKAYsBjAGNAY4BjwGQAZEBkgGTAZQBlQGWAZcBmAGZAZoBmwGcAZ0BngGfAaABoQGiAaMBpAGlAaYBpwGoAakBqgGrAawBrQGuAa8BsAGxAbIBswG0AbUBtgG3AbgBuQG6AbsBvAG9Ab4BvwHAAcEBwgHDAcQBxQHGAccByAHJAcoBywHMAc0BzgHPAdAB0QHSAdMB1AHVAdYB1wHYAdkB2gHbAdwB3QHeAd8B4AHhAeIB4wHkAeUB5gHnAegB6QHqAesB7AHtAe4B7wHwAfEB8gHzAQ==",
             "dtype": "i2"
            },
            "coloraxis": "coloraxis",
            "symbol": "circle"
           },
           "mode": "markers",
           "name": "",
           "orientation": "v",
           "showlegend": false,
           "type": "scatter",
           "x": {
            "bdata": "K48cQNx1y0AvN8RASkmcQGAZD0GjXjhB2q8yQQHPR0GP3N9A9YvsQCJWY0Cf6wU/2urcvvFUsj/W7Gg/wP3nv1cEhUAbqhQ/LueQQAtnQ0FTiVw/MqgDQd4yG0GWkDRBmo7vvz3HGEHTTwRBs7FJQF/iMEFcvUm/9oVmPzysIEADQ/1Aa1B9vvpVPEGj79BAV/0FQbY8BcC3XAhB6YXcQOCmNT+xaRlBjTMbQf6E0kDum8NAS+sNQFFWWr9cmTBBLRdCQVcBpUCop/w//w/FQIBy+0ClfJ2/5IsHQV6HSEFmLixByCVAQZX6h0BncxdAiohFQbC9IUE/URlBbiLLPzkKAEGmN5M/1KaPQCG2ID/uxy1B2eGVPrpt7kAd8xxBkE+NQMdEN0EFy9lAZ4/eQCieQ0Fh1E9Ai7zMQEhL3ECtYgZBm2B0Px/6wUD7QDtBX5OOQFUhYEA5LcRAGU88QO/d27/tcvo+G67+P+SPHr/ffto/1CwEQS8v10AAgo8+3fjvQBTiuj9uMvM9ySLYvS65Cb8Ecz9BT/XXQIgRwUDexwHAfUceQTqogD/zw7m/69kgQSIZJkFTduNA95cPQYqnQUG0xBJB59XWQADbOkGxPYNAb9UePqfbG0HGAA5B1lADQbA24EB12wdBQZT8QLXPMkEvDIlAb5LQP6+My0AuURRBCTwxQbGnc0C8DjhBFt4AQZHsW0CdiAhA+/0CQVXFtL9lYDdBrvjIQMW/Q0Gua0xAOFkoQTrzOEHA8+hAPZM4Qbgd3UAM1x9BVq/tQBSrBkHe0dVAy6cbQSjI6T/wkwhA4jyEQCIvy78nzAJB5cLbQEghQkClZBRAHbIHQYR8r75iG8S/FvS/P+Hd2UAFRaI/IpUcQRWRL0HOUX8/C6sCQcjA2kCNr70/G4g0QVdu4UAFrDE/jUgQQV75BUE/3ztBTCIUQMWclj+IqwpBexHrPiP1L0FjC/hAQgQFQAWOIL5qk7xAj5cZQCSp8UAlKFQ+lFscQbtQ0UBXQA9Bt/fDQFDD+kA4zy9BSIsGQSLG4T9vZ4+/ggAGwMf7okDmrD5BqyM5QagEBEEC0PdA8Fb7QLzNLUE1uvNAYbXpQE/v3L+cMLhA2nMNQUpqukC3KNFArfcFQQnteT/IDz1BJSwDQX8WI0HY2hhAOOalP+3Wlr/v1DJBjacEQUr7REHs++5ALnpFQWtx5UA7EDxB63cjQbM2JUDVBAbA1M05QWoCNkFBMqm/Nzw7Pz2XsD+3OpVAYxEvv5zBOLukxwhBycwzvhxzsj8W4SBBzHLqQIcghUCrrx1AqPgWP7Lw4kALdStBkL0DQRJiyEBkQxFBAKgiQe7WfkDLKeVAngJGQHZbnb+bRQ1B9S9UP48vykA1vwA/JIr0QBKYG0GXXGS/DStVv7SqG0GFej5BXBl2P40OR0G1nle/LwNHQXM5jD6ZZwlBFYUAQQOjikBXgAVBQJ0vP7AxE0BGRhlBP8e7QB3poL+wihJAaYH+QFA/2kDPTzVBWgTjQPdTxEBacbS/qhn9QJEUDkHeipNAH8HfQPxNAT3bad1AZhX5QNEk2EA6srZAs3UIQRlmbL72MwlBRwoOQSs4QUFRnAJAQcP3v7xhXD8JYZFALEAcQWrvU0BGcNVA35Q+QfbmVEC71zFBaUpNQECLCUE+f0dBrKGOQH3CH0GZUQpB7IdaQBW9sUDjNRVBbBE0QfILAEA3vNJAlyoRQCh6SUDhPEFBwfyQQDelNUHMBeZAB70cPwpoBEGuhsBABP7TQJTa/0AMI0JB8yv/P9hSzr8hjwhB6w/CPQPs/L/4MwBBZ0DOQEpkZ0ACthFB6VsRQLKaGUGLCg5BQaUAQQlyoD4Bx4E/Trk+QV5Vkz7Dd5xAosEKQcGUBkFHNzdBDYnUQFuGqz/MlBc/MVsLQYmV5UCjIR0/ssHjQJu0OUGzGiRBWSMUQZDfDUHYAt1ADGf3QHITN0H340JB2p9YQKtt0j6o6wJB508wQaiCET4d18JAnRAAQfUVEEHgfow/NPEEQZWu/r7+9wHASIysQEvQCkHmVz1B3T7bQBxcFkGwv1RACZz0vzY+OEGv1Ru/+tvpvnz6HkFMXUZB/RpLPwpvd7/q+EM/0zmaQFM0zEAzpSo/WBmJv/x5GUCUiAxBN3NFQfX0G0G8694/eHz4QJGW4kD7JjZB0B/VQM5r80Dnqry/c1MnQRYjskDV63c/QEsOQWw50z//rDRB//EnvyS3AD9ruTq9nKAzQWGw4ED+1z5BD8RBQZFuQ0H1zuO/LFkwQd/qO0HQtO1AWbbeQPf0HEHxFAVBO7M/P9zw0UCU80lBQquKP3niGkGmHI1Aa0UQQTjxAMCa9gFBqxTtQBqqMUFDyjJBf39CQSY9B0GK1TRBhMbJQNjjH0GFNdm/ZCcKQdRqPkEzvAtBVoyKQKXsxEDW0LhA5dW0QBm4OkGVITpAAL0GQBpIBUERt0dBp17aQJtJNUGFrBxBn0iBQOkOxj85yBBA1dM1QVrXdEDBjiJBUK4WQdz34EAFLcC/x60wQXbQKD8MwQ9AWapcP+8aZUBwLYhA1XwHQXjoz0DpkSNB09cNQMf5PUF4zhJAQ0nXQP55L0FnMYVAH1g1QYfh8UDC+j5BeR7BP24Sf7+Ot0RBtgfRQDCrOEE=",
            "dtype": "f4"
           },
           "xaxis": "x",
           "y": {
            "bdata": "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",
            "dtype": "f4"
           },
           "yaxis": "y"
          }
         ],
         "name": "cosine"
        },
        {
         "data": [
          {
           "hovertemplate": "set=correlation<br>x=%{x}<br>y=%{y}<br>index=%{marker.color}<extra></extra>",
           "ids": {
            "bdata": "AAABAAIAAwAEAAUABgAHAAgACQAKAAsADAANAA4ADwAQABEAEgATABQAFQAWABcAGAAZABoAGwAcAB0AHgAfACAAIQAiACMAJAAlACYAJwAoACkAKgArACwALQAuAC8AMAAxADIAMwA0ADUANgA3ADgAOQA6ADsAPAA9AD4APwBAAEEAQgBDAEQARQBGAEcASABJAEoASwBMAE0ATgBPAFAAUQBSAFMAVABVAFYAVwBYAFkAWgBbAFwAXQBeAF8AYABhAGIAYwBkAGUAZgBnAGgAaQBqAGsAbABtAG4AbwBwAHEAcgBzAHQAdQB2AHcAeAB5AHoAewB8AH0AfgB/AIAAgQCCAIMAhACFAIYAhwCIAIkAigCLAIwAjQCOAI8AkACRAJIAkwCUAJUAlgCXAJgAmQCaAJsAnACdAJ4AnwCgAKEAogCjAKQApQCmAKcAqACpAKoAqwCsAK0ArgCvALAAsQCyALMAtAC1ALYAtwC4ALkAugC7ALwAvQC+AL8AwADBAMIAwwDEAMUAxgDHAMgAyQDKAMsAzADNAM4AzwDQANEA0gDTANQA1QDWANcA2ADZANoA2wDcAN0A3gDfAOAA4QDiAOMA5ADlAOYA5wDoAOkA6gDrAOwA7QDuAO8A8ADxAPIA8wD0APUA9gD3APgA+QD6APsA/AD9AP4A/wAAAQEBAgEDAQQBBQEGAQcBCAEJAQoBCwEMAQ0BDgEPARABEQESARMBFAEVARYBFwEYARkBGgEbARwBHQEeAR8BIAEhASIBIwEkASUBJgEnASgBKQEqASsBLAEtAS4BLwEwATEBMgEzATQBNQE2ATcBOAE5AToBOwE8AT0BPgE/AUABQQFCAUMBRAFFAUYBRwFIAUkBSgFLAUwBTQFOAU8BUAFRAVIBUwFUAVUBVgFXAVgBWQFaAVsBXAFdAV4BXwFgAWEBYgFjAWQBZQFmAWcBaAFpAWoBawFsAW0BbgFvAXABcQFyAXMBdAF1AXYBdwF4AXkBegF7AXwBfQF+AX8BgAGBAYIBgwGEAYUBhgGHAYgBiQGKAYsBjAGNAY4BjwGQAZEBkgGTAZQBlQGWAZcBmAGZAZoBmwGcAZ0BngGfAaABoQGiAaMBpAGlAaYBpwGoAakBqgGrAawBrQGuAa8BsAGxAbIBswG0AbUBtgG3AbgBuQG6AbsBvAG9Ab4BvwHAAcEBwgHDAcQBxQHGAccByAHJAcoBywHMAc0BzgHPAdAB0QHSAdMB1AHVAdYB1wHYAdkB2gHbAdwB3QHeAd8B4AHhAeIB4wHkAeUB5gHnAegB6QHqAesB7AHtAe4B7wHwAfEB8gHzAQ==",
            "dtype": "i2"
           },
           "legendgroup": "",
           "marker": {
            "color": {
             "bdata": "AAABAAIAAwAEAAUABgAHAAgACQAKAAsADAANAA4ADwAQABEAEgATABQAFQAWABcAGAAZABoAGwAcAB0AHgAfACAAIQAiACMAJAAlACYAJwAoACkAKgArACwALQAuAC8AMAAxADIAMwA0ADUANgA3ADgAOQA6ADsAPAA9AD4APwBAAEEAQgBDAEQARQBGAEcASABJAEoASwBMAE0ATgBPAFAAUQBSAFMAVABVAFYAVwBYAFkAWgBbAFwAXQBeAF8AYABhAGIAYwBkAGUAZgBnAGgAaQBqAGsAbABtAG4AbwBwAHEAcgBzAHQAdQB2AHcAeAB5AHoAewB8AH0AfgB/AIAAgQCCAIMAhACFAIYAhwCIAIkAigCLAIwAjQCOAI8AkACRAJIAkwCUAJUAlgCXAJgAmQCaAJsAnACdAJ4AnwCgAKEAogCjAKQApQCmAKcAqACpAKoAqwCsAK0ArgCvALAAsQCyALMAtAC1ALYAtwC4ALkAugC7ALwAvQC+AL8AwADBAMIAwwDEAMUAxgDHAMgAyQDKAMsAzADNAM4AzwDQANEA0gDTANQA1QDWANcA2ADZANoA2wDcAN0A3gDfAOAA4QDiAOMA5ADlAOYA5wDoAOkA6gDrAOwA7QDuAO8A8ADxAPIA8wD0APUA9gD3APgA+QD6APsA/AD9AP4A/wAAAQEBAgEDAQQBBQEGAQcBCAEJAQoBCwEMAQ0BDgEPARABEQESARMBFAEVARYBFwEYARkBGgEbARwBHQEeAR8BIAEhASIBIwEkASUBJgEnASgBKQEqASsBLAEtAS4BLwEwATEBMgEzATQBNQE2ATcBOAE5AToBOwE8AT0BPgE/AUABQQFCAUMBRAFFAUYBRwFIAUkBSgFLAUwBTQFOAU8BUAFRAVIBUwFUAVUBVgFXAVgBWQFaAVsBXAFdAV4BXwFgAWEBYgFjAWQBZQFmAWcBaAFpAWoBawFsAW0BbgFvAXABcQFyAXMBdAF1AXYBdwF4AXkBegF7AXwBfQF+AX8BgAGBAYIBgwGEAYUBhgGHAYgBiQGKAYsBjAGNAY4BjwGQAZEBkgGTAZQBlQGWAZcBmAGZAZoBmwGcAZ0BngGfAaABoQGiAaMBpAGlAaYBpwGoAakBqgGrAawBrQGuAa8BsAGxAbIBswG0AbUBtgG3AbgBuQG6AbsBvAG9Ab4BvwHAAcEBwgHDAcQBxQHGAccByAHJAcoBywHMAc0BzgHPAdAB0QHSAdMB1AHVAdYB1wHYAdkB2gHbAdwB3QHeAd8B4AHhAeIB4wHkAeUB5gHnAegB6QHqAesB7AHtAe4B7wHwAfEB8gHzAQ==",
             "dtype": "i2"
            },
            "coloraxis": "coloraxis",
            "symbol": "circle"
           },
           "mode": "markers",
           "name": "",
           "orientation": "v",
           "showlegend": false,
           "type": "scatter",
           "x": {
            "bdata": "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",
            "dtype": "f4"
           },
           "xaxis": "x",
           "y": {
            "bdata": "o8jLQBWpuEABHXdAlXujQKujrkBUx/1A+BgAQZVjDkF36IVAHbDrQKwrwkBYgbhAg86+QGMOw0CwfKZAL/nIQGLGokAZYshAKliVQCBpC0GHdaVAVlegQKAfyEBEiutAvtPHQFGeoUDNfe9AVO/KQE5u6UApGs1AQb7XQBKixUDr2JdAKzbcQO9rCEEaA79A2in8QFx/ykAXcadA97TiQLS30UArYapASP6qQKKexkCjpbtAn+TLQFp6zkCv/+VATs4DQRcepkBsstlAI6W4QAJKvUDmIcFAASb6QOA2CUHW5+RAWzD8QLGQnUArzNdA38MOQeh8xkAf69xAoQbbQPa96UCaL9tA3NihQF/L4UDid8xAmRDVQGgTn0C7cs9A1eCvQHZY2UDFH5BAYLR+QGBCAEHsYsFAK1h0QHZJbEABltlA7JulQBRizECWawNBMlKXQGDOv0DxS8pArEq+QDHLyUCjReBAS7GnQA12vEANOthA4jqWQA3QkUDEHNtAt0ikQB+y10DyBb1ANO2/QHMDvEAAugVB6/u2QC+1hUB788hA+WCqQO/4o0DhUNBAKufRQCH85UBewZ5ApNzKQOIk/UAEjq5AJ8emQNxW4UCCuKVAUvHhQNfSsUC4MsJAkLn6QIAecECeTJ9AhhXuQAO45kBWeaVAL5ylQO17sEC/+5pAPFvWQF07s0DjRthALw/dQFpOxkAyYdlA6vSgQDDVxUDyiQpBRZmtQI2HC0HaAchAPEbLQAs3DUHbCfFASCjvQLOse0BdwatAEUTtQCygkECckHBAReioQEc83ECPvtNAVYCuQN2YzEApOOFAjD6MQIBWvECdWtJAeHSrQFhaxUDhocdAKLelQF+D3kC/vdhAdJLhQEAe9EAJQsdAr7vOQP9qtUC9b6ZAiALSQOWNhUBeKr5AfLemQLso/EC7r/NAwDbVQIoIwUCO6plACJTeQA7n90Dg1cNAYompQOjcvEAtjYBAEpCwQFCIjUDHjLpANJDTQLy3jkAeHZpAhorEQN685EBAIM9Atte1QEew10CSvNRAeYTJQFxzqEC0APdAsjnwQKszjkDYnddA9rLwQNBN0kCJqeRAxsv1QAIqzEBZnrtAI2S7QABFvECkhdhAXbXnQKHywUCrYw9BG2fSQPoIsECY1q5A5EbKQFpB10CbLwZBN83MQCcGEUHHde1AQBIKQTgt8kBt8Q1Bz8O+QM1YyEChv8pARsUOQdXcCUGQk9ZAYT7UQOlY0UBrV6BAcFnDQIZP1kDQeMNAAoDeQNakskDfTr1AqwugQPminkCEI79AQ5qsQC9l6ED0WOpAwmufQDvccEDx9ZdAes7EQNYOskBA3vFAJpzCQHZG2EAKu65AA2OoQHKic0DGotVA/ryEQMysoEAuqL5ALPvJQNK1p0ApTvdA+9WkQPtbDkFxMdNA3XcOQQYkuUDudflAPsLqQKKbnkAPHK5A8fypQLtFrkBeuLNA2RTFQPEz1kCxrtJAPRqnQBxedECwAwVBeV2vQA0DzECRksNAA/L1QEmfl0BNPZNAUyaOQAlFskDdxWhALnfnQCUOd0Bh5cNA/GCUQLny2EABd/lAkVK6QDAeA0HcfKpAbwLKQFGYzUBv9ZdAJWvUQHiDx0BA3LtA0E4PQXy6ykCug/9AEGPIQEr7nUBxDg9BQWGtQExfp0Cx0f1AX/HFQFzgvEDaMZ1ALs3pQNxrrkA7gndAdeytQF+IwUCGawlB2cuZQIIW2UCC/oJAwRnhQEYKmkB4voBAPd63QCJRykDv9QZBF3PbQCknzUDNhsBATO68QFF/x0CwDZNACIfEQPWjvECc/KRAytuzQG/pp0DZNqdAlqXuQHC8r0DJaMlA/Q7xQM5hw0DkTqZAc2TSQJ6t+UBXk/tAOK+gQP2E30CGGrZAxizSQO2UpkBq2dxA/EFvQKxZ80BqddBAkUiwQBLi10C684pAWQOeQNYZCUHbARBBvC3AQJIbq0B2XI1AiD0MQVzE2UBO14BAikL7QNADs0AP/bhAZ/n7QEVgwUAUf8tATT+KQFon/kBDbA5BGzGHQJ9GsUBCV8lAggbFQOzu+0AC2cFAsUvZQIzBqEDZ8w9BWCWwQAQBz0CCSd5ApRWkQO37ekB8Qt5AWebDQE3jrUD59qpALtkDQYdH4kBvztlA7KfGQETB7EBFketAzxRxQPcYkkA+itFA6enPQMcQjUBzraRAmo6VQNRy20AZ8wlBs/7BQD3uqkDfAr5AZBALQTdJcEB+RQRBo+QDQTo0BkGKPcpADsTpQMyyD0H/KPhAdCCyQAeGokCG/+VAi6e4QLE4cUCGoA1Bc/a0QKlkqEChNJtARwrRQOWHyUDlVY1ADqDoQO6QDEHZTc9Ae1MDQaCTyED8LgxBNsZyQGX7rkAzpsVAl27LQCsk7EDoutBAbcGrQB5LvkC2LolA2J+8QBiK8EAPmcRAC1qqQORD8EBT2QdBffd6QNQoDUGf36hABJCyQDS3pUApLLxAqVcPQTeBtEDSfr5AEQ7RQCd/l0CTHs1ANfjVQD1l2ED5OttAztW/QMpcvUDx8rBAfqfQQN+Fe0BO7b1AI8aqQHkX50AUzLhAJN2PQIZ+5ECSTKhANY7RQKgu0ECGq+9A3afaQG/T2UA/LQFBksGzQLO0CkE=",
            "dtype": "f4"
           },
           "yaxis": "y"
          }
         ],
         "name": "correlation"
        }
       ],
       "layout": {
        "coloraxis": {
         "colorbar": {
          "title": {
           "text": "index"
          }
         },
         "colorscale": [
          [
           0,
           "#0d0887"
          ],
          [
           0.1111111111111111,
           "#46039f"
          ],
          [
           0.2222222222222222,
           "#7201a8"
          ],
          [
           0.3333333333333333,
           "#9c179e"
          ],
          [
           0.4444444444444444,
           "#bd3786"
          ],
          [
           0.5555555555555556,
           "#d8576b"
          ],
          [
           0.6666666666666666,
           "#ed7953"
          ],
          [
           0.7777777777777778,
           "#fb9f3a"
          ],
          [
           0.8888888888888888,
           "#fdca26"
          ],
          [
           1,
           "#f0f921"
          ]
         ]
        },
        "legend": {
         "tracegroupgap": 0
        },
        "margin": {
         "t": 60
        },
        "sliders": [
         {
          "active": 0,
          "currentvalue": {
           "prefix": "set="
          },
          "len": 0.9,
          "pad": {
           "b": 10,
           "t": 60
          },
          "steps": [
           {
            "args": [
             [
              "euclidean"
             ],
             {
              "frame": {
               "duration": 0,
               "redraw": false
              },
              "fromcurrent": true,
              "mode": "immediate",
              "transition": {
               "duration": 0,
               "easing": "linear"
              }
             }
            ],
            "label": "euclidean",
            "method": "animate"
           },
           {
            "args": [
             [
              "manhattan"
             ],
             {
              "frame": {
               "duration": 0,
               "redraw": false
              },
              "fromcurrent": true,
              "mode": "immediate",
              "transition": {
               "duration": 0,
               "easing": "linear"
              }
             }
            ],
            "label": "manhattan",
            "method": "animate"
           },
           {
            "args": [
             [
              "chebyshev"
             ],
             {
              "frame": {
               "duration": 0,
               "redraw": false
              },
              "fromcurrent": true,
              "mode": "immediate",
              "transition": {
               "duration": 0,
               "easing": "linear"
              }
             }
            ],
            "label": "chebyshev",
            "method": "animate"
           },
           {
            "args": [
             [
              "minkowski"
             ],
             {
              "frame": {
               "duration": 0,
               "redraw": false
              },
              "fromcurrent": true,
              "mode": "immediate",
              "transition": {
               "duration": 0,
               "easing": "linear"
              }
             }
            ],
            "label": "minkowski",
            "method": "animate"
           },
           {
            "args": [
             [
              "canberra"
             ],
             {
              "frame": {
               "duration": 0,
               "redraw": false
              },
              "fromcurrent": true,
              "mode": "immediate",
              "transition": {
               "duration": 0,
               "easing": "linear"
              }
             }
            ],
            "label": "canberra",
            "method": "animate"
           },
           {
            "args": [
             [
              "braycurtis"
             ],
             {
              "frame": {
               "duration": 0,
               "redraw": false
              },
              "fromcurrent": true,
              "mode": "immediate",
              "transition": {
               "duration": 0,
               "easing": "linear"
              }
             }
            ],
            "label": "braycurtis",
            "method": "animate"
           },
           {
            "args": [
             [
              "mahalanobis"
             ],
             {
              "frame": {
               "duration": 0,
               "redraw": false
              },
              "fromcurrent": true,
              "mode": "immediate",
              "transition": {
               "duration": 0,
               "easing": "linear"
              }
             }
            ],
            "label": "mahalanobis",
            "method": "animate"
           },
           {
            "args": [
             [
              "wminkowski"
             ],
             {
              "frame": {
               "duration": 0,
               "redraw": false
              },
              "fromcurrent": true,
              "mode": "immediate",
              "transition": {
               "duration": 0,
               "easing": "linear"
              }
             }
            ],
            "label": "wminkowski",
            "method": "animate"
           },
           {
            "args": [
             [
              "cosine"
             ],
             {
              "frame": {
               "duration": 0,
               "redraw": false
              },
              "fromcurrent": true,
              "mode": "immediate",
              "transition": {
               "duration": 0,
               "easing": "linear"
              }
             }
            ],
            "label": "cosine",
            "method": "animate"
           },
           {
            "args": [
             [
              "correlation"
             ],
             {
              "frame": {
               "duration": 0,
               "redraw": false
              },
              "fromcurrent": true,
              "mode": "immediate",
              "transition": {
               "duration": 0,
               "easing": "linear"
              }
             }
            ],
            "label": "correlation",
            "method": "animate"
           }
          ],
          "x": 0.1,
          "xanchor": "left",
          "y": 0,
          "yanchor": "top"
         }
        ],
        "template": {
         "data": {
          "bar": [
           {
            "error_x": {
             "color": "#2a3f5f"
            },
            "error_y": {
             "color": "#2a3f5f"
            },
            "marker": {
             "line": {
              "color": "#E5ECF6",
              "width": 0.5
             },
             "pattern": {
              "fillmode": "overlay",
              "size": 10,
              "solidity": 0.2
             }
            },
            "type": "bar"
           }
          ],
          "barpolar": [
           {
            "marker": {
             "line": {
              "color": "#E5ECF6",
              "width": 0.5
             },
             "pattern": {
              "fillmode": "overlay",
              "size": 10,
              "solidity": 0.2
             }
            },
            "type": "barpolar"
           }
          ],
          "carpet": [
           {
            "aaxis": {
             "endlinecolor": "#2a3f5f",
             "gridcolor": "white",
             "linecolor": "white",
             "minorgridcolor": "white",
             "startlinecolor": "#2a3f5f"
            },
            "baxis": {
             "endlinecolor": "#2a3f5f",
             "gridcolor": "white",
             "linecolor": "white",
             "minorgridcolor": "white",
             "startlinecolor": "#2a3f5f"
            },
            "type": "carpet"
           }
          ],
          "choropleth": [
           {
            "colorbar": {
             "outlinewidth": 0,
             "ticks": ""
            },
            "type": "choropleth"
           }
          ],
          "contour": [
           {
            "colorbar": {
             "outlinewidth": 0,
             "ticks": ""
            },
            "colorscale": [
             [
              0,
              "#0d0887"
             ],
             [
              0.1111111111111111,
              "#46039f"
             ],
             [
              0.2222222222222222,
              "#7201a8"
             ],
             [
              0.3333333333333333,
              "#9c179e"
             ],
             [
              0.4444444444444444,
              "#bd3786"
             ],
             [
              0.5555555555555556,
              "#d8576b"
             ],
             [
              0.6666666666666666,
              "#ed7953"
             ],
             [
              0.7777777777777778,
              "#fb9f3a"
             ],
             [
              0.8888888888888888,
              "#fdca26"
             ],
             [
              1,
              "#f0f921"
             ]
            ],
            "type": "contour"
           }
          ],
          "contourcarpet": [
           {
            "colorbar": {
             "outlinewidth": 0,
             "ticks": ""
            },
            "type": "contourcarpet"
           }
          ],
          "heatmap": [
           {
            "colorbar": {
             "outlinewidth": 0,
             "ticks": ""
            },
            "colorscale": [
             [
              0,
              "#0d0887"
             ],
             [
              0.1111111111111111,
              "#46039f"
             ],
             [
              0.2222222222222222,
              "#7201a8"
             ],
             [
              0.3333333333333333,
              "#9c179e"
             ],
             [
              0.4444444444444444,
              "#bd3786"
             ],
             [
              0.5555555555555556,
              "#d8576b"
             ],
             [
              0.6666666666666666,
              "#ed7953"
             ],
             [
              0.7777777777777778,
              "#fb9f3a"
             ],
             [
              0.8888888888888888,
              "#fdca26"
             ],
             [
              1,
              "#f0f921"
             ]
            ],
            "type": "heatmap"
           }
          ],
          "histogram": [
           {
            "marker": {
             "pattern": {
              "fillmode": "overlay",
              "size": 10,
              "solidity": 0.2
             }
            },
            "type": "histogram"
           }
          ],
          "histogram2d": [
           {
            "colorbar": {
             "outlinewidth": 0,
             "ticks": ""
            },
            "colorscale": [
             [
              0,
              "#0d0887"
             ],
             [
              0.1111111111111111,
              "#46039f"
             ],
             [
              0.2222222222222222,
              "#7201a8"
             ],
             [
              0.3333333333333333,
              "#9c179e"
             ],
             [
              0.4444444444444444,
              "#bd3786"
             ],
             [
              0.5555555555555556,
              "#d8576b"
             ],
             [
              0.6666666666666666,
              "#ed7953"
             ],
             [
              0.7777777777777778,
              "#fb9f3a"
             ],
             [
              0.8888888888888888,
              "#fdca26"
             ],
             [
              1,
              "#f0f921"
             ]
            ],
            "type": "histogram2d"
           }
          ],
          "histogram2dcontour": [
           {
            "colorbar": {
             "outlinewidth": 0,
             "ticks": ""
            },
            "colorscale": [
             [
              0,
              "#0d0887"
             ],
             [
              0.1111111111111111,
              "#46039f"
             ],
             [
              0.2222222222222222,
              "#7201a8"
             ],
             [
              0.3333333333333333,
              "#9c179e"
             ],
             [
              0.4444444444444444,
              "#bd3786"
             ],
             [
              0.5555555555555556,
              "#d8576b"
             ],
             [
              0.6666666666666666,
              "#ed7953"
             ],
             [
              0.7777777777777778,
              "#fb9f3a"
             ],
             [
              0.8888888888888888,
              "#fdca26"
             ],
             [
              1,
              "#f0f921"
             ]
            ],
            "type": "histogram2dcontour"
           }
          ],
          "mesh3d": [
           {
            "colorbar": {
             "outlinewidth": 0,
             "ticks": ""
            },
            "type": "mesh3d"
           }
          ],
          "parcoords": [
           {
            "line": {
             "colorbar": {
              "outlinewidth": 0,
              "ticks": ""
             }
            },
            "type": "parcoords"
           }
          ],
          "pie": [
           {
            "automargin": true,
            "type": "pie"
           }
          ],
          "scatter": [
           {
            "fillpattern": {
             "fillmode": "overlay",
             "size": 10,
             "solidity": 0.2
            },
            "type": "scatter"
           }
          ],
          "scatter3d": [
           {
            "line": {
             "colorbar": {
              "outlinewidth": 0,
              "ticks": ""
             }
            },
            "marker": {
             "colorbar": {
              "outlinewidth": 0,
              "ticks": ""
             }
            },
            "type": "scatter3d"
           }
          ],
          "scattercarpet": [
           {
            "marker": {
             "colorbar": {
              "outlinewidth": 0,
              "ticks": ""
             }
            },
            "type": "scattercarpet"
           }
          ],
          "scattergeo": [
           {
            "marker": {
             "colorbar": {
              "outlinewidth": 0,
              "ticks": ""
             }
            },
            "type": "scattergeo"
           }
          ],
          "scattergl": [
           {
            "marker": {
             "colorbar": {
              "outlinewidth": 0,
              "ticks": ""
             }
            },
            "type": "scattergl"
           }
          ],
          "scattermap": [
           {
            "marker": {
             "colorbar": {
              "outlinewidth": 0,
              "ticks": ""
             }
            },
            "type": "scattermap"
           }
          ],
          "scattermapbox": [
           {
            "marker": {
             "colorbar": {
              "outlinewidth": 0,
              "ticks": ""
             }
            },
            "type": "scattermapbox"
           }
          ],
          "scatterpolar": [
           {
            "marker": {
             "colorbar": {
              "outlinewidth": 0,
              "ticks": ""
             }
            },
            "type": "scatterpolar"
           }
          ],
          "scatterpolargl": [
           {
            "marker": {
             "colorbar": {
              "outlinewidth": 0,
              "ticks": ""
             }
            },
            "type": "scatterpolargl"
           }
          ],
          "scatterternary": [
           {
            "marker": {
             "colorbar": {
              "outlinewidth": 0,
              "ticks": ""
             }
            },
            "type": "scatterternary"
           }
          ],
          "surface": [
           {
            "colorbar": {
             "outlinewidth": 0,
             "ticks": ""
            },
            "colorscale": [
             [
              0,
              "#0d0887"
             ],
             [
              0.1111111111111111,
              "#46039f"
             ],
             [
              0.2222222222222222,
              "#7201a8"
             ],
             [
              0.3333333333333333,
              "#9c179e"
             ],
             [
              0.4444444444444444,
              "#bd3786"
             ],
             [
              0.5555555555555556,
              "#d8576b"
             ],
             [
              0.6666666666666666,
              "#ed7953"
             ],
             [
              0.7777777777777778,
              "#fb9f3a"
             ],
             [
              0.8888888888888888,
              "#fdca26"
             ],
             [
              1,
              "#f0f921"
             ]
            ],
            "type": "surface"
           }
          ],
          "table": [
           {
            "cells": {
             "fill": {
              "color": "#EBF0F8"
             },
             "line": {
              "color": "white"
             }
            },
            "header": {
             "fill": {
              "color": "#C8D4E3"
             },
             "line": {
              "color": "white"
             }
            },
            "type": "table"
           }
          ]
         },
         "layout": {
          "annotationdefaults": {
           "arrowcolor": "#2a3f5f",
           "arrowhead": 0,
           "arrowwidth": 1
          },
          "autotypenumbers": "strict",
          "coloraxis": {
           "colorbar": {
            "outlinewidth": 0,
            "ticks": ""
           }
          },
          "colorscale": {
           "diverging": [
            [
             0,
             "#8e0152"
            ],
            [
             0.1,
             "#c51b7d"
            ],
            [
             0.2,
             "#de77ae"
            ],
            [
             0.3,
             "#f1b6da"
            ],
            [
             0.4,
             "#fde0ef"
            ],
            [
             0.5,
             "#f7f7f7"
            ],
            [
             0.6,
             "#e6f5d0"
            ],
            [
             0.7,
             "#b8e186"
            ],
            [
             0.8,
             "#7fbc41"
            ],
            [
             0.9,
             "#4d9221"
            ],
            [
             1,
             "#276419"
            ]
           ],
           "sequential": [
            [
             0,
             "#0d0887"
            ],
            [
             0.1111111111111111,
             "#46039f"
            ],
            [
             0.2222222222222222,
             "#7201a8"
            ],
            [
             0.3333333333333333,
             "#9c179e"
            ],
            [
             0.4444444444444444,
             "#bd3786"
            ],
            [
             0.5555555555555556,
             "#d8576b"
            ],
            [
             0.6666666666666666,
             "#ed7953"
            ],
            [
             0.7777777777777778,
             "#fb9f3a"
            ],
            [
             0.8888888888888888,
             "#fdca26"
            ],
            [
             1,
             "#f0f921"
            ]
           ],
           "sequentialminus": [
            [
             0,
             "#0d0887"
            ],
            [
             0.1111111111111111,
             "#46039f"
            ],
            [
             0.2222222222222222,
             "#7201a8"
            ],
            [
             0.3333333333333333,
             "#9c179e"
            ],
            [
             0.4444444444444444,
             "#bd3786"
            ],
            [
             0.5555555555555556,
             "#d8576b"
            ],
            [
             0.6666666666666666,
             "#ed7953"
            ],
            [
             0.7777777777777778,
             "#fb9f3a"
            ],
            [
             0.8888888888888888,
             "#fdca26"
            ],
            [
             1,
             "#f0f921"
            ]
           ]
          },
          "colorway": [
           "#636efa",
           "#EF553B",
           "#00cc96",
           "#ab63fa",
           "#FFA15A",
           "#19d3f3",
           "#FF6692",
           "#B6E880",
           "#FF97FF",
           "#FECB52"
          ],
          "font": {
           "color": "#2a3f5f"
          },
          "geo": {
           "bgcolor": "white",
           "lakecolor": "white",
           "landcolor": "#E5ECF6",
           "showlakes": true,
           "showland": true,
           "subunitcolor": "white"
          },
          "hoverlabel": {
           "align": "left"
          },
          "hovermode": "closest",
          "mapbox": {
           "style": "light"
          },
          "paper_bgcolor": "white",
          "plot_bgcolor": "#E5ECF6",
          "polar": {
           "angularaxis": {
            "gridcolor": "white",
            "linecolor": "white",
            "ticks": ""
           },
           "bgcolor": "#E5ECF6",
           "radialaxis": {
            "gridcolor": "white",
            "linecolor": "white",
            "ticks": ""
           }
          },
          "scene": {
           "xaxis": {
            "backgroundcolor": "#E5ECF6",
            "gridcolor": "white",
            "gridwidth": 2,
            "linecolor": "white",
            "showbackground": true,
            "ticks": "",
            "zerolinecolor": "white"
           },
           "yaxis": {
            "backgroundcolor": "#E5ECF6",
            "gridcolor": "white",
            "gridwidth": 2,
            "linecolor": "white",
            "showbackground": true,
            "ticks": "",
            "zerolinecolor": "white"
           },
           "zaxis": {
            "backgroundcolor": "#E5ECF6",
            "gridcolor": "white",
            "gridwidth": 2,
            "linecolor": "white",
            "showbackground": true,
            "ticks": "",
            "zerolinecolor": "white"
           }
          },
          "shapedefaults": {
           "line": {
            "color": "#2a3f5f"
           }
          },
          "ternary": {
           "aaxis": {
            "gridcolor": "white",
            "linecolor": "white",
            "ticks": ""
           },
           "baxis": {
            "gridcolor": "white",
            "linecolor": "white",
            "ticks": ""
           },
           "bgcolor": "#E5ECF6",
           "caxis": {
            "gridcolor": "white",
            "linecolor": "white",
            "ticks": ""
           }
          },
          "title": {
           "x": 0.05
          },
          "xaxis": {
           "automargin": true,
           "gridcolor": "white",
           "linecolor": "white",
           "ticks": "",
           "title": {
            "standoff": 15
           },
           "zerolinecolor": "white",
           "zerolinewidth": 2
          },
          "yaxis": {
           "automargin": true,
           "gridcolor": "white",
           "linecolor": "white",
           "ticks": "",
           "title": {
            "standoff": 15
           },
           "zerolinecolor": "white",
           "zerolinewidth": 2
          }
         }
        },
        "updatemenus": [
         {
          "buttons": [
           {
            "args": [
             null,
             {
              "frame": {
               "duration": 500,
               "redraw": false
              },
              "fromcurrent": true,
              "mode": "immediate",
              "transition": {
               "duration": 500,
               "easing": "linear"
              }
             }
            ],
            "label": "&#9654;",
            "method": "animate"
           },
           {
            "args": [
             [
              null
             ],
             {
              "frame": {
               "duration": 0,
               "redraw": false
              },
              "fromcurrent": true,
              "mode": "immediate",
              "transition": {
               "duration": 0,
               "easing": "linear"
              }
             }
            ],
            "label": "&#9724;",
            "method": "animate"
           }
          ],
          "direction": "left",
          "pad": {
           "r": 10,
           "t": 70
          },
          "showactive": false,
          "type": "buttons",
          "x": 0.1,
          "xanchor": "right",
          "y": 0,
          "yanchor": "top"
         }
        ],
        "xaxis": {
         "anchor": "y",
         "domain": [
          0,
          1
         ],
         "range": [
          -2.0940449237823486,
          12.621967315673828
         ],
         "title": {
          "text": "x"
         }
        },
        "yaxis": {
         "anchor": "x",
         "domain": [
          0,
          1
         ],
         "range": [
          3.6370766162872314,
          9.06400203704834
         ],
         "title": {
          "text": "y"
         }
        }
       }
      }
     },
     "metadata": {},
     "output_type": "display_data"
    }
   ],
   "source": [
    "# prior to running another comparison, reset manager to defaults\n",
    "manager.reset()\n",
    "\n",
    "metrics = [\n",
    "    'euclidean', 'manhattan', 'chebyshev', \n",
    "    'minkowski', 'canberra', 'braycurtis', \n",
    "    'mahalanobis', 'wminkowski', 'cosine', 'correlation'\n",
    "]\n",
    "reductions = {}\n",
    "for metric in metrics:\n",
    "    reductions[metric] = dict(\n",
    "        metric=metric,\n",
    "        # ensure that compared reductions start from the same random state\n",
    "        random_state=0, \n",
    "        n_jobs=1,\n",
    "    )\n",
    "manager.compare_reductions(**reductions)"
   ]
  }
 ],
 "metadata": {
  "kernelspec": {
   "display_name": "venv",
   "language": "python",
   "name": "python3"
  },
  "language_info": {
   "codemirror_mode": {
    "name": "ipython",
    "version": 3
   },
   "file_extension": ".py",
   "mimetype": "text/x-python",
   "name": "python",
   "nbconvert_exporter": "python",
   "pygments_lexer": "ipython3",
   "version": "3.11.8"
  }
 },
 "nbformat": 4,
 "nbformat_minor": 5
}
