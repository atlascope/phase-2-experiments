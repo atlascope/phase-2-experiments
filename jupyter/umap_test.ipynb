{
 "cells": [
  {
   "cell_type": "code",
   "execution_count": null,
   "id": "ed09fde1-44af-4637-b9f4-7b9154794d31",
   "metadata": {},
   "outputs": [],
   "source": [
    "import pathlib\n",
    "from umap_manager import UMAPManager"
   ]
  },
  {
   "cell_type": "code",
   "execution_count": null,
   "id": "3311f7bd-5a47-4e64-9774-078e278b46e6",
   "metadata": {},
   "outputs": [],
   "source": [
    "case = 'TCGA-3C-AALK-01Z-00-DX1'\n",
    "DATA_DIR = pathlib.Path(f'../TCGA/downloads/{case}')\n",
    "\n",
    "# instantiate manager\n",
    "manager = UMAPManager(DATA_DIR)\n",
    "\n",
    "# Disable computation of density column\n",
    "# manager.compute_density = False\n",
    "\n",
    "# Filter by class\n",
    "manager.class_filters = ['CancerEpithelium']\n",
    "\n",
    "# Sample 500 random cells\n",
    "manager.sample_size = 500\n",
    "\n",
    "# Exclude some column patterns\n",
    "manager.exclude_columns = [\n",
    "    c for c in manager.columns\n",
    "    if any(substr in c for substr in ['Identifier.', 'ClassifProbab.', 'Unconstrained.'])\n",
    "]\n",
    "\n",
    "# View data\n",
    "manager.data"
   ]
  },
  {
   "cell_type": "code",
   "execution_count": null,
   "id": "f9a0fdb3-5956-44c2-8659-d8e5032bbd9d",
   "metadata": {},
   "outputs": [],
   "source": [
    "# Show image\n",
    "manager.image"
   ]
  },
  {
   "cell_type": "code",
   "execution_count": null,
   "id": "17a11053-9149-476d-8406-245c81bbfeba",
   "metadata": {},
   "outputs": [],
   "source": [
    "# Show cell thumbnails\n",
    "manager.show_cell_thumbnails()"
   ]
  },
  {
   "cell_type": "code",
   "execution_count": null,
   "id": "74721fae-911b-4a78-9f39-50ebb01371a6",
   "metadata": {},
   "outputs": [],
   "source": [
    "n_training = 100\n",
    "train_set = manager.data[:n_training]\n",
    "test_set = manager.data[n_training:]\n",
    "\n",
    "# First dimensionality reduction will train a UMAP Transform\n",
    "manager.reduce_dims(train_set, plot=True)\n",
    "\n",
    "# Subsequent dimensionality reductions will leverage trained UMAP Transform\n",
    "manager.reduce_dims(test_set, plot=True)"
   ]
  },
  {
   "cell_type": "code",
   "execution_count": null,
   "id": "bf09c24b-23de-4e12-b26e-ac659935a795",
   "metadata": {},
   "outputs": [],
   "source": [
    "# For each target cell in a given list of ids, find the 10 most similar cells and display them\n",
    "target_cells = [1, 2]\n",
    "manager.nearest_neighbors(target_cells, n=10, show=True)"
   ]
  },
  {
   "cell_type": "code",
   "execution_count": null,
   "id": "fd222181-45cb-4e05-b019-a81a69e45e9c",
   "metadata": {},
   "outputs": [],
   "source": []
  }
 ],
 "metadata": {
  "kernelspec": {
   "display_name": "Python 3 (ipykernel)",
   "language": "python",
   "name": "python3"
  },
  "language_info": {
   "codemirror_mode": {
    "name": "ipython",
    "version": 3
   },
   "file_extension": ".py",
   "mimetype": "text/x-python",
   "name": "python",
   "nbconvert_exporter": "python",
   "pygments_lexer": "ipython3",
   "version": "3.12.3"
  }
 },
 "nbformat": 4,
 "nbformat_minor": 5
}
