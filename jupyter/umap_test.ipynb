{
 "cells": [
  {
   "cell_type": "code",
   "execution_count": 1,
   "id": "ed09fde1-44af-4637-b9f4-7b9154794d31",
   "metadata": {},
   "outputs": [],
   "source": [
    "import pathlib\n",
    "from umap_manager import UMAPManager"
   ]
  },
  {
   "cell_type": "code",
   "execution_count": 2,
   "id": "3311f7bd-5a47-4e64-9774-078e278b46e6",
   "metadata": {},
   "outputs": [
    {
     "name": "stdout",
     "output_type": "stream",
     "text": [
      "Reading HIPS data.\n",
      "Found 412219 features.\n",
      "Computing density column.\n"
     ]
    },
    {
     "data": {
      "text/html": [
       "<div>\n",
       "<style scoped>\n",
       "    .dataframe tbody tr th:only-of-type {\n",
       "        vertical-align: middle;\n",
       "    }\n",
       "\n",
       "    .dataframe tbody tr th {\n",
       "        vertical-align: top;\n",
       "    }\n",
       "\n",
       "    .dataframe thead th {\n",
       "        text-align: right;\n",
       "    }\n",
       "</style>\n",
       "<table border=\"1\" class=\"dataframe\">\n",
       "  <thead>\n",
       "    <tr style=\"text-align: right;\">\n",
       "      <th></th>\n",
       "      <th>Orientation.Orientation</th>\n",
       "      <th>Size.Area</th>\n",
       "      <th>Size.ConvexHullArea</th>\n",
       "      <th>Size.MajorAxisLength</th>\n",
       "      <th>Size.MinorAxisLength</th>\n",
       "      <th>Size.Perimeter</th>\n",
       "      <th>Shape.Circularity</th>\n",
       "      <th>Shape.Eccentricity</th>\n",
       "      <th>Shape.EquivalentDiameter</th>\n",
       "      <th>Shape.Extent</th>\n",
       "      <th>...</th>\n",
       "      <th>Cytoplasm.Haralick.Entropy.Range</th>\n",
       "      <th>Cytoplasm.Haralick.DifferenceVariance.Mean</th>\n",
       "      <th>Cytoplasm.Haralick.DifferenceVariance.Range</th>\n",
       "      <th>Cytoplasm.Haralick.DifferenceEntropy.Mean</th>\n",
       "      <th>Cytoplasm.Haralick.DifferenceEntropy.Range</th>\n",
       "      <th>Cytoplasm.Haralick.IMC1.Mean</th>\n",
       "      <th>Cytoplasm.Haralick.IMC1.Range</th>\n",
       "      <th>Cytoplasm.Haralick.IMC2.Mean</th>\n",
       "      <th>Cytoplasm.Haralick.IMC2.Range</th>\n",
       "      <th>density</th>\n",
       "    </tr>\n",
       "  </thead>\n",
       "  <tbody>\n",
       "    <tr>\n",
       "      <th>749</th>\n",
       "      <td>-1.385343</td>\n",
       "      <td>242.0</td>\n",
       "      <td>272.0</td>\n",
       "      <td>21.629913</td>\n",
       "      <td>15.600981</td>\n",
       "      <td>62.627417</td>\n",
       "      <td>0.775347</td>\n",
       "      <td>0.692655</td>\n",
       "      <td>17.553460</td>\n",
       "      <td>0.677871</td>\n",
       "      <td>...</td>\n",
       "      <td>0.481044</td>\n",
       "      <td>0.007825</td>\n",
       "      <td>0.003167</td>\n",
       "      <td>2.219511</td>\n",
       "      <td>0.506060</td>\n",
       "      <td>-0.284566</td>\n",
       "      <td>0.145848</td>\n",
       "      <td>0.914719</td>\n",
       "      <td>0.088667</td>\n",
       "      <td>0.000691</td>\n",
       "    </tr>\n",
       "    <tr>\n",
       "      <th>422</th>\n",
       "      <td>0.882874</td>\n",
       "      <td>172.0</td>\n",
       "      <td>179.0</td>\n",
       "      <td>15.384361</td>\n",
       "      <td>14.440125</td>\n",
       "      <td>47.556349</td>\n",
       "      <td>0.955699</td>\n",
       "      <td>0.344943</td>\n",
       "      <td>14.798554</td>\n",
       "      <td>0.819048</td>\n",
       "      <td>...</td>\n",
       "      <td>0.524038</td>\n",
       "      <td>0.009995</td>\n",
       "      <td>0.003044</td>\n",
       "      <td>1.721968</td>\n",
       "      <td>0.441184</td>\n",
       "      <td>-0.367871</td>\n",
       "      <td>0.154932</td>\n",
       "      <td>0.953685</td>\n",
       "      <td>0.043950</td>\n",
       "      <td>0.001527</td>\n",
       "    </tr>\n",
       "    <tr>\n",
       "      <th>513</th>\n",
       "      <td>-1.494500</td>\n",
       "      <td>118.0</td>\n",
       "      <td>123.0</td>\n",
       "      <td>12.688416</td>\n",
       "      <td>12.190073</td>\n",
       "      <td>39.071068</td>\n",
       "      <td>0.971362</td>\n",
       "      <td>0.277504</td>\n",
       "      <td>12.257335</td>\n",
       "      <td>0.893939</td>\n",
       "      <td>...</td>\n",
       "      <td>0.551784</td>\n",
       "      <td>0.012532</td>\n",
       "      <td>0.004349</td>\n",
       "      <td>1.448168</td>\n",
       "      <td>0.538931</td>\n",
       "      <td>-0.447973</td>\n",
       "      <td>0.191320</td>\n",
       "      <td>0.963852</td>\n",
       "      <td>0.034156</td>\n",
       "      <td>0.003053</td>\n",
       "    </tr>\n",
       "    <tr>\n",
       "      <th>797</th>\n",
       "      <td>0.631212</td>\n",
       "      <td>175.0</td>\n",
       "      <td>179.0</td>\n",
       "      <td>15.269653</td>\n",
       "      <td>14.687574</td>\n",
       "      <td>46.727922</td>\n",
       "      <td>1.007152</td>\n",
       "      <td>0.273472</td>\n",
       "      <td>14.927053</td>\n",
       "      <td>0.892857</td>\n",
       "      <td>...</td>\n",
       "      <td>0.490426</td>\n",
       "      <td>0.009385</td>\n",
       "      <td>0.003130</td>\n",
       "      <td>1.897850</td>\n",
       "      <td>0.527474</td>\n",
       "      <td>-0.347856</td>\n",
       "      <td>0.146096</td>\n",
       "      <td>0.944193</td>\n",
       "      <td>0.062499</td>\n",
       "      <td>0.001260</td>\n",
       "    </tr>\n",
       "    <tr>\n",
       "      <th>84</th>\n",
       "      <td>0.507099</td>\n",
       "      <td>87.0</td>\n",
       "      <td>88.0</td>\n",
       "      <td>10.626361</td>\n",
       "      <td>10.391822</td>\n",
       "      <td>31.313708</td>\n",
       "      <td>1.114962</td>\n",
       "      <td>0.208939</td>\n",
       "      <td>10.524820</td>\n",
       "      <td>0.870000</td>\n",
       "      <td>...</td>\n",
       "      <td>0.309704</td>\n",
       "      <td>0.014521</td>\n",
       "      <td>0.003116</td>\n",
       "      <td>1.639713</td>\n",
       "      <td>0.441740</td>\n",
       "      <td>-0.437268</td>\n",
       "      <td>0.150985</td>\n",
       "      <td>0.920449</td>\n",
       "      <td>0.051164</td>\n",
       "      <td>0.001207</td>\n",
       "    </tr>\n",
       "    <tr>\n",
       "      <th>...</th>\n",
       "      <td>...</td>\n",
       "      <td>...</td>\n",
       "      <td>...</td>\n",
       "      <td>...</td>\n",
       "      <td>...</td>\n",
       "      <td>...</td>\n",
       "      <td>...</td>\n",
       "      <td>...</td>\n",
       "      <td>...</td>\n",
       "      <td>...</td>\n",
       "      <td>...</td>\n",
       "      <td>...</td>\n",
       "      <td>...</td>\n",
       "      <td>...</td>\n",
       "      <td>...</td>\n",
       "      <td>...</td>\n",
       "      <td>...</td>\n",
       "      <td>...</td>\n",
       "      <td>...</td>\n",
       "      <td>...</td>\n",
       "      <td>...</td>\n",
       "    </tr>\n",
       "    <tr>\n",
       "      <th>309</th>\n",
       "      <td>0.378394</td>\n",
       "      <td>117.0</td>\n",
       "      <td>122.0</td>\n",
       "      <td>14.207699</td>\n",
       "      <td>10.673089</td>\n",
       "      <td>38.970563</td>\n",
       "      <td>0.968105</td>\n",
       "      <td>0.660053</td>\n",
       "      <td>12.205287</td>\n",
       "      <td>0.759740</td>\n",
       "      <td>...</td>\n",
       "      <td>0.439731</td>\n",
       "      <td>0.008189</td>\n",
       "      <td>0.002265</td>\n",
       "      <td>2.055091</td>\n",
       "      <td>0.442075</td>\n",
       "      <td>-0.233102</td>\n",
       "      <td>0.130535</td>\n",
       "      <td>0.884140</td>\n",
       "      <td>0.098724</td>\n",
       "      <td>0.001498</td>\n",
       "    </tr>\n",
       "    <tr>\n",
       "      <th>125</th>\n",
       "      <td>0.478700</td>\n",
       "      <td>193.0</td>\n",
       "      <td>196.0</td>\n",
       "      <td>16.711908</td>\n",
       "      <td>14.862812</td>\n",
       "      <td>49.313708</td>\n",
       "      <td>0.997314</td>\n",
       "      <td>0.457218</td>\n",
       "      <td>15.675944</td>\n",
       "      <td>0.919048</td>\n",
       "      <td>...</td>\n",
       "      <td>0.415257</td>\n",
       "      <td>0.006726</td>\n",
       "      <td>0.002583</td>\n",
       "      <td>2.332734</td>\n",
       "      <td>0.492405</td>\n",
       "      <td>-0.235525</td>\n",
       "      <td>0.134255</td>\n",
       "      <td>0.883296</td>\n",
       "      <td>0.113753</td>\n",
       "      <td>0.001924</td>\n",
       "    </tr>\n",
       "    <tr>\n",
       "      <th>225</th>\n",
       "      <td>-0.083340</td>\n",
       "      <td>91.0</td>\n",
       "      <td>93.0</td>\n",
       "      <td>12.162246</td>\n",
       "      <td>9.715781</td>\n",
       "      <td>33.656854</td>\n",
       "      <td>1.009495</td>\n",
       "      <td>0.601533</td>\n",
       "      <td>10.764051</td>\n",
       "      <td>0.919192</td>\n",
       "      <td>...</td>\n",
       "      <td>0.445894</td>\n",
       "      <td>0.009938</td>\n",
       "      <td>0.002883</td>\n",
       "      <td>1.764234</td>\n",
       "      <td>0.463111</td>\n",
       "      <td>-0.292599</td>\n",
       "      <td>0.158325</td>\n",
       "      <td>0.908595</td>\n",
       "      <td>0.103284</td>\n",
       "      <td>0.001478</td>\n",
       "    </tr>\n",
       "    <tr>\n",
       "      <th>10</th>\n",
       "      <td>-0.918383</td>\n",
       "      <td>268.0</td>\n",
       "      <td>273.0</td>\n",
       "      <td>20.105785</td>\n",
       "      <td>17.081579</td>\n",
       "      <td>58.384776</td>\n",
       "      <td>0.987974</td>\n",
       "      <td>0.527451</td>\n",
       "      <td>18.472363</td>\n",
       "      <td>0.875817</td>\n",
       "      <td>...</td>\n",
       "      <td>0.366425</td>\n",
       "      <td>0.010081</td>\n",
       "      <td>0.002234</td>\n",
       "      <td>1.774362</td>\n",
       "      <td>0.324677</td>\n",
       "      <td>-0.388427</td>\n",
       "      <td>0.113147</td>\n",
       "      <td>0.957335</td>\n",
       "      <td>0.031594</td>\n",
       "      <td>0.003374</td>\n",
       "    </tr>\n",
       "    <tr>\n",
       "      <th>25</th>\n",
       "      <td>-0.107587</td>\n",
       "      <td>92.0</td>\n",
       "      <td>96.0</td>\n",
       "      <td>12.979745</td>\n",
       "      <td>9.062832</td>\n",
       "      <td>34.485281</td>\n",
       "      <td>0.972143</td>\n",
       "      <td>0.715875</td>\n",
       "      <td>10.823033</td>\n",
       "      <td>0.851852</td>\n",
       "      <td>...</td>\n",
       "      <td>0.460933</td>\n",
       "      <td>0.008543</td>\n",
       "      <td>0.003355</td>\n",
       "      <td>2.076414</td>\n",
       "      <td>0.517224</td>\n",
       "      <td>-0.315042</td>\n",
       "      <td>0.147408</td>\n",
       "      <td>0.924732</td>\n",
       "      <td>0.069711</td>\n",
       "      <td>0.002060</td>\n",
       "    </tr>\n",
       "  </tbody>\n",
       "</table>\n",
       "<p>500 rows × 126 columns</p>\n",
       "</div>"
      ],
      "text/plain": [
       "     Orientation.Orientation  Size.Area  Size.ConvexHullArea  \\\n",
       "749                -1.385343      242.0                272.0   \n",
       "422                 0.882874      172.0                179.0   \n",
       "513                -1.494500      118.0                123.0   \n",
       "797                 0.631212      175.0                179.0   \n",
       "84                  0.507099       87.0                 88.0   \n",
       "..                       ...        ...                  ...   \n",
       "309                 0.378394      117.0                122.0   \n",
       "125                 0.478700      193.0                196.0   \n",
       "225                -0.083340       91.0                 93.0   \n",
       "10                 -0.918383      268.0                273.0   \n",
       "25                 -0.107587       92.0                 96.0   \n",
       "\n",
       "     Size.MajorAxisLength  Size.MinorAxisLength  Size.Perimeter  \\\n",
       "749             21.629913             15.600981       62.627417   \n",
       "422             15.384361             14.440125       47.556349   \n",
       "513             12.688416             12.190073       39.071068   \n",
       "797             15.269653             14.687574       46.727922   \n",
       "84              10.626361             10.391822       31.313708   \n",
       "..                    ...                   ...             ...   \n",
       "309             14.207699             10.673089       38.970563   \n",
       "125             16.711908             14.862812       49.313708   \n",
       "225             12.162246              9.715781       33.656854   \n",
       "10              20.105785             17.081579       58.384776   \n",
       "25              12.979745              9.062832       34.485281   \n",
       "\n",
       "     Shape.Circularity  Shape.Eccentricity  Shape.EquivalentDiameter  \\\n",
       "749           0.775347            0.692655                 17.553460   \n",
       "422           0.955699            0.344943                 14.798554   \n",
       "513           0.971362            0.277504                 12.257335   \n",
       "797           1.007152            0.273472                 14.927053   \n",
       "84            1.114962            0.208939                 10.524820   \n",
       "..                 ...                 ...                       ...   \n",
       "309           0.968105            0.660053                 12.205287   \n",
       "125           0.997314            0.457218                 15.675944   \n",
       "225           1.009495            0.601533                 10.764051   \n",
       "10            0.987974            0.527451                 18.472363   \n",
       "25            0.972143            0.715875                 10.823033   \n",
       "\n",
       "     Shape.Extent  ...  Cytoplasm.Haralick.Entropy.Range  \\\n",
       "749      0.677871  ...                          0.481044   \n",
       "422      0.819048  ...                          0.524038   \n",
       "513      0.893939  ...                          0.551784   \n",
       "797      0.892857  ...                          0.490426   \n",
       "84       0.870000  ...                          0.309704   \n",
       "..            ...  ...                               ...   \n",
       "309      0.759740  ...                          0.439731   \n",
       "125      0.919048  ...                          0.415257   \n",
       "225      0.919192  ...                          0.445894   \n",
       "10       0.875817  ...                          0.366425   \n",
       "25       0.851852  ...                          0.460933   \n",
       "\n",
       "     Cytoplasm.Haralick.DifferenceVariance.Mean  \\\n",
       "749                                    0.007825   \n",
       "422                                    0.009995   \n",
       "513                                    0.012532   \n",
       "797                                    0.009385   \n",
       "84                                     0.014521   \n",
       "..                                          ...   \n",
       "309                                    0.008189   \n",
       "125                                    0.006726   \n",
       "225                                    0.009938   \n",
       "10                                     0.010081   \n",
       "25                                     0.008543   \n",
       "\n",
       "     Cytoplasm.Haralick.DifferenceVariance.Range  \\\n",
       "749                                     0.003167   \n",
       "422                                     0.003044   \n",
       "513                                     0.004349   \n",
       "797                                     0.003130   \n",
       "84                                      0.003116   \n",
       "..                                           ...   \n",
       "309                                     0.002265   \n",
       "125                                     0.002583   \n",
       "225                                     0.002883   \n",
       "10                                      0.002234   \n",
       "25                                      0.003355   \n",
       "\n",
       "     Cytoplasm.Haralick.DifferenceEntropy.Mean  \\\n",
       "749                                   2.219511   \n",
       "422                                   1.721968   \n",
       "513                                   1.448168   \n",
       "797                                   1.897850   \n",
       "84                                    1.639713   \n",
       "..                                         ...   \n",
       "309                                   2.055091   \n",
       "125                                   2.332734   \n",
       "225                                   1.764234   \n",
       "10                                    1.774362   \n",
       "25                                    2.076414   \n",
       "\n",
       "     Cytoplasm.Haralick.DifferenceEntropy.Range  Cytoplasm.Haralick.IMC1.Mean  \\\n",
       "749                                    0.506060                     -0.284566   \n",
       "422                                    0.441184                     -0.367871   \n",
       "513                                    0.538931                     -0.447973   \n",
       "797                                    0.527474                     -0.347856   \n",
       "84                                     0.441740                     -0.437268   \n",
       "..                                          ...                           ...   \n",
       "309                                    0.442075                     -0.233102   \n",
       "125                                    0.492405                     -0.235525   \n",
       "225                                    0.463111                     -0.292599   \n",
       "10                                     0.324677                     -0.388427   \n",
       "25                                     0.517224                     -0.315042   \n",
       "\n",
       "     Cytoplasm.Haralick.IMC1.Range  Cytoplasm.Haralick.IMC2.Mean  \\\n",
       "749                       0.145848                      0.914719   \n",
       "422                       0.154932                      0.953685   \n",
       "513                       0.191320                      0.963852   \n",
       "797                       0.146096                      0.944193   \n",
       "84                        0.150985                      0.920449   \n",
       "..                             ...                           ...   \n",
       "309                       0.130535                      0.884140   \n",
       "125                       0.134255                      0.883296   \n",
       "225                       0.158325                      0.908595   \n",
       "10                        0.113147                      0.957335   \n",
       "25                        0.147408                      0.924732   \n",
       "\n",
       "     Cytoplasm.Haralick.IMC2.Range   density  \n",
       "749                       0.088667  0.000691  \n",
       "422                       0.043950  0.001527  \n",
       "513                       0.034156  0.003053  \n",
       "797                       0.062499  0.001260  \n",
       "84                        0.051164  0.001207  \n",
       "..                             ...       ...  \n",
       "309                       0.098724  0.001498  \n",
       "125                       0.113753  0.001924  \n",
       "225                       0.103284  0.001478  \n",
       "10                        0.031594  0.003374  \n",
       "25                        0.069711  0.002060  \n",
       "\n",
       "[500 rows x 126 columns]"
      ]
     },
     "execution_count": 2,
     "metadata": {},
     "output_type": "execute_result"
    }
   ],
   "source": [
    "DATA_DIR = pathlib.Path(f'../TCGA/downloads')\n",
    "case = 'TCGA-3C-AALK-01Z-00-DX1'\n",
    "\n",
    "# instantiate manager\n",
    "manager = UMAPManager(DATA_DIR / case)\n",
    "\n",
    "# Disable computation of density column\n",
    "# manager.compute_density = False\n",
    "\n",
    "# Filter by class\n",
    "manager.class_filters = ['CancerEpithelium']\n",
    "\n",
    "# Sample 500 random cells\n",
    "manager.sample_size = 500\n",
    "\n",
    "# Exclude some column patterns\n",
    "manager.exclude_columns = [\n",
    "    c for c in manager.columns\n",
    "    if any(substr in c for substr in ['Identifier.', 'ClassifProbab.', 'Unconstrained.'])\n",
    "]\n",
    "\n",
    "# View data\n",
    "manager.data"
   ]
  },
  {
   "cell_type": "code",
   "execution_count": 3,
   "id": "f9a0fdb3-5956-44c2-8659-d8e5032bbd9d",
   "metadata": {},
   "outputs": [
    {
     "data": {
      "application/vnd.jupyter.widget-view+json": {
       "model_id": "ebff05720bbd47fd956383a3a7818fe7",
       "version_major": 2,
       "version_minor": 0
      },
      "text/plain": [
       "VBox(children=(Map(center=[40960.0, 47744.0], controls=(ZoomControl(options=['position', 'zoom_in_text', 'zoom…"
      ]
     },
     "metadata": {},
     "output_type": "display_data"
    }
   ],
   "source": [
    "# Show image\n",
    "manager.image"
   ]
  },
  {
   "cell_type": "code",
   "execution_count": 4,
   "id": "17a11053-9149-476d-8406-245c81bbfeba",
   "metadata": {},
   "outputs": [
    {
     "data": {
      "application/vnd.jupyter.widget-view+json": {
       "model_id": "62d26b80273f42bcbc3c08469df0a0e4",
       "version_major": 2,
       "version_minor": 0
      },
      "text/plain": [
       "GridBox(children=(Image(value=b'\\x89PNG\\r\\n\\x1a\\n\\x00\\x00\\x00\\rIHDR\\x00\\x00\\x00&\\x00\\x00\\x00$\\x08\\x02\\x00\\x00\\…"
      ]
     },
     "metadata": {},
     "output_type": "display_data"
    },
    {
     "data": {
      "application/vnd.jupyter.widget-view+json": {
       "model_id": "62d26b80273f42bcbc3c08469df0a0e4",
       "version_major": 2,
       "version_minor": 0
      },
      "text/plain": [
       "GridBox(children=(Image(value=b'\\x89PNG\\r\\n\\x1a\\n\\x00\\x00\\x00\\rIHDR\\x00\\x00\\x00&\\x00\\x00\\x00$\\x08\\x02\\x00\\x00\\…"
      ]
     },
     "metadata": {},
     "output_type": "display_data"
    }
   ],
   "source": [
    "# Show cell thumbnails\n",
    "manager.show_cell_thumbnails()"
   ]
  },
  {
   "cell_type": "code",
   "execution_count": 5,
   "id": "74721fae-911b-4a78-9f39-50ebb01371a6",
   "metadata": {},
   "outputs": [
    {
     "name": "stdout",
     "output_type": "stream",
     "text": [
      "Training UMAP Transform.\n",
      "Completed training in 4.898204 seconds.\n",
      "Running inference on 400 cells with trained UMAP Transform.\n",
      "Completed inference in 0.000625 seconds.\n"
     ]
    },
    {
     "data": {
      "application/vnd.jupyter.widget-view+json": {
       "model_id": "a7d51489739f43a78332c543010aae1a",
       "version_major": 2,
       "version_minor": 0
      },
      "text/plain": [
       "FigureWidget({\n",
       "    'data': [{'marker': {'color': {'bdata': ('AAABAAIAAwAEAAUABgAHAAgACQAKAA' ... 'UBhgGHAYgBiQGKAYsBjAGNAY4BjwE='),\n",
       "                                   'dtype': 'i2'}},\n",
       "              'mode': 'markers',\n",
       "              'type': 'scatter',\n",
       "              'uid': '51b6f99a-3c88-4656-8081-4e04267975aa',\n",
       "              'x': {'bdata': ('1h6xQLr8ukB2IV5ArbC9QKO4X0C5MJ' ... '85r9pA6TS4QOMDmUBTimtA0ImlQA=='),\n",
       "                    'dtype': 'f4'},\n",
       "              'y': {'bdata': ('luPOQAJMnECPE8U/eyI+QJnv8EBzHE' ... 'DjC09AMIrLQNm8nkDHjGBApB+VQA=='),\n",
       "                    'dtype': 'f4'}}],\n",
       "    'layout': {'template': '...'}\n",
       "})"
      ]
     },
     "metadata": {},
     "output_type": "display_data"
    },
    {
     "data": {
      "application/vnd.jupyter.widget-view+json": {
       "model_id": "ff5c3b0c51c04b619621ee51e1b53688",
       "version_major": 2,
       "version_minor": 0
      },
      "text/plain": [
       "VBox()"
      ]
     },
     "metadata": {},
     "output_type": "display_data"
    },
    {
     "name": "stdout",
     "output_type": "stream",
     "text": [
      "Running inference on 100 cells with trained UMAP Transform.\n",
      "Completed inference in 1.660784 seconds.\n"
     ]
    },
    {
     "data": {
      "application/vnd.jupyter.widget-view+json": {
       "model_id": "d6692209bc5248cfa6202ceb24b9308d",
       "version_major": 2,
       "version_minor": 0
      },
      "text/plain": [
       "FigureWidget({\n",
       "    'data': [{'marker': {'color': {'bdata': ('AAECAwQFBgcICQoLDA0ODxAREhMUFR' ... '9QUVJTVFVWV1hZWltcXV5fYGFiYw=='),\n",
       "                                   'dtype': 'i1'}},\n",
       "              'mode': 'markers',\n",
       "              'type': 'scatter',\n",
       "              'uid': '93618f48-5565-4178-b815-0d4b63a813ea',\n",
       "              'x': {'bdata': ('5beiQNjSbj5/DmJAhmJxQOflwkBw5q' ... 'CJExFAjE/CQABMQz9GifJAbTCOQA=='),\n",
       "                    'dtype': 'f4'},\n",
       "              'y': {'bdata': ('3lILQBXPdkCQ9wVAhEDyQJTeEkDxGt' ... 'AM0jJAVRemQAYT1z9kojZAxXy1QA=='),\n",
       "                    'dtype': 'f4'}}],\n",
       "    'layout': {'template': '...'}\n",
       "})"
      ]
     },
     "metadata": {},
     "output_type": "display_data"
    },
    {
     "data": {
      "application/vnd.jupyter.widget-view+json": {
       "model_id": "92166c34a76f41018ac489378227f4da",
       "version_major": 2,
       "version_minor": 0
      },
      "text/plain": [
       "VBox()"
      ]
     },
     "metadata": {},
     "output_type": "display_data"
    }
   ],
   "source": [
    "n_training = 400\n",
    "train_set = manager.data[:n_training]\n",
    "test_set = manager.data[n_training:]\n",
    "\n",
    "# First dimensionality reduction will train a UMAP Transform\n",
    "manager.reduce_dims(train_set, plot=True)\n",
    "\n",
    "# Subsequent dimensionality reductions will leverage trained UMAP Transform\n",
    "manager.reduce_dims(test_set, plot=True)"
   ]
  },
  {
   "cell_type": "code",
   "execution_count": 6,
   "id": "bf09c24b-23de-4e12-b26e-ac659935a795",
   "metadata": {},
   "outputs": [
    {
     "name": "stdout",
     "output_type": "stream",
     "text": [
      "Running inference on 500 cells with trained UMAP Transform.\n",
      "Completed inference in 0.513152 seconds.\n",
      "Running inference on 2 cells with trained UMAP Transform.\n",
      "Completed inference in 0.010166 seconds.\n",
      "Cell 1:\n"
     ]
    },
    {
     "data": {
      "application/vnd.jupyter.widget-view+json": {
       "model_id": "04d856c01dec4fb99f8ae90df75b0aa3",
       "version_major": 2,
       "version_minor": 0
      },
      "text/plain": [
       "GridBox(children=(Image(value=b'\\x89PNG\\r\\n\\x1a\\n\\x00\\x00\\x00\\rIHDR\\x00\\x00\\x002\\x00\\x00\\x00,\\x08\\x02\\x00\\x00\\…"
      ]
     },
     "metadata": {},
     "output_type": "display_data"
    },
    {
     "name": "stdout",
     "output_type": "stream",
     "text": [
      "10 most similar cells:\n"
     ]
    },
    {
     "data": {
      "application/vnd.jupyter.widget-view+json": {
       "model_id": "1fd51fd9f7ac4340be8ce7382d02413f",
       "version_major": 2,
       "version_minor": 0
      },
      "text/plain": [
       "GridBox(children=(Image(value=b'\\x89PNG\\r\\n\\x1a\\n\\x00\\x00\\x00\\rIHDR\\x00\\x00\\x00$\\x00\\x00\\x00*\\x08\\x02\\x00\\x00\\…"
      ]
     },
     "metadata": {},
     "output_type": "display_data"
    },
    {
     "name": "stdout",
     "output_type": "stream",
     "text": [
      "\n",
      "Cell 2:\n"
     ]
    },
    {
     "data": {
      "application/vnd.jupyter.widget-view+json": {
       "model_id": "d06c2eee64904ef09b492218854e0154",
       "version_major": 2,
       "version_minor": 0
      },
      "text/plain": [
       "GridBox(children=(Image(value=b'\\x89PNG\\r\\n\\x1a\\n\\x00\\x00\\x00\\rIHDR\\x00\\x00\\x00$\\x00\\x00\\x00$\\x08\\x02\\x00\\x00\\…"
      ]
     },
     "metadata": {},
     "output_type": "display_data"
    },
    {
     "name": "stdout",
     "output_type": "stream",
     "text": [
      "10 most similar cells:\n"
     ]
    },
    {
     "data": {
      "application/vnd.jupyter.widget-view+json": {
       "model_id": "3e69597e95e24d73b96f4fe4dfc7969c",
       "version_major": 2,
       "version_minor": 0
      },
      "text/plain": [
       "GridBox(children=(Image(value=b'\\x89PNG\\r\\n\\x1a\\n\\x00\\x00\\x00\\rIHDR\\x00\\x00\\x00$\\x00\\x00\\x00$\\x08\\x02\\x00\\x00\\…"
      ]
     },
     "metadata": {},
     "output_type": "display_data"
    },
    {
     "name": "stdout",
     "output_type": "stream",
     "text": [
      "\n"
     ]
    }
   ],
   "source": [
    "# For each target cell in a given list of ids, find the 10 most similar cells and display them\n",
    "target_cells = [1, 2]\n",
    "manager.nearest_neighbors(target_cells, n=10, show=True)"
   ]
  },
  {
   "cell_type": "code",
   "execution_count": 7,
   "id": "fd222181-45cb-4e05-b019-a81a69e45e9c",
   "metadata": {},
   "outputs": [
    {
     "name": "stdout",
     "output_type": "stream",
     "text": [
      "Saved UMAP Transform to ../TCGA/downloads/my_umap.transform.\n"
     ]
    }
   ],
   "source": [
    "# Save trained transform to file\n",
    "transform_path = DATA_DIR / 'my_umap.transform'\n",
    "manager.save_transform(transform_path)"
   ]
  },
  {
   "cell_type": "code",
   "execution_count": 8,
   "id": "7402c4ae-f61b-499e-8dea-f7f05afda331",
   "metadata": {},
   "outputs": [
    {
     "name": "stdout",
     "output_type": "stream",
     "text": [
      "Reading HIPS data.\n",
      "Found 489293 features.\n",
      "Loaded UMAP Transform from ../TCGA/downloads/my_umap.transform.\n",
      "Computing density column.\n",
      "Running inference on 500 cells with trained UMAP Transform.\n",
      "Completed inference in 0.214186 seconds.\n"
     ]
    },
    {
     "data": {
      "application/vnd.jupyter.widget-view+json": {
       "model_id": "8cb238a857bc4983b2964576b589a680",
       "version_major": 2,
       "version_minor": 0
      },
      "text/plain": [
       "FigureWidget({\n",
       "    'data': [{'marker': {'color': {'bdata': ('AAABAAIAAwAEAAUABgAHAAgACQAKAA' ... 'HqAesB7AHtAe4B7wHwAfEB8gHzAQ=='),\n",
       "                                   'dtype': 'i2'}},\n",
       "              'mode': 'markers',\n",
       "              'type': 'scatter',\n",
       "              'uid': '21850c40-f915-4b3d-85ca-5b8c8c66c5c8',\n",
       "              'x': {'bdata': ('dCE0viNhR0DDnzdAn/BCP+FBskBevE' ... 'JAzTAoPk9zUEC7ETRAI9C8PhOhoT4='),\n",
       "                    'dtype': 'f4'},\n",
       "              'y': {'bdata': ('f9PNP0OChkC/V1tA2j8tQOeWjEA7EC' ... 'JA1Z4mQH4Q1EC6SpxAznFGQGg7F0A='),\n",
       "                    'dtype': 'f4'}}],\n",
       "    'layout': {'template': '...'}\n",
       "})"
      ]
     },
     "metadata": {},
     "output_type": "display_data"
    },
    {
     "data": {
      "application/vnd.jupyter.widget-view+json": {
       "model_id": "97efbfa327bf494d9e0b4dc15470f172",
       "version_major": 2,
       "version_minor": 0
      },
      "text/plain": [
       "VBox()"
      ]
     },
     "metadata": {},
     "output_type": "display_data"
    }
   ],
   "source": [
    "# instantiate a second manager for a different case\n",
    "manager_2 = UMAPManager(DATA_DIR / 'TCGA-3C-AALI-01Z-00-DX1')\n",
    "manager_2.class_filters = ['CancerEpithelium']\n",
    "manager_2.sample_size = 500\n",
    "manager_2.exclude_columns = [\n",
    "    c for c in manager_2.columns\n",
    "    if any(substr in c for substr in ['Identifier.', 'ClassifProbab.', 'Unconstrained.'])\n",
    "]\n",
    "\n",
    "# Load the saved transform file\n",
    "manager_2.load_transform(transform_path)\n",
    "\n",
    "# Run an inference with the loaded transform\n",
    "manager_2.reduce_dims(plot=True)"
   ]
  },
  {
   "cell_type": "code",
   "execution_count": null,
   "id": "7a5a7249-0a22-4798-9240-8fa744ec0ab9",
   "metadata": {},
   "outputs": [],
   "source": []
  }
 ],
 "metadata": {
  "kernelspec": {
   "display_name": "Python 3 (ipykernel)",
   "language": "python",
   "name": "python3"
  },
  "language_info": {
   "codemirror_mode": {
    "name": "ipython",
    "version": 3
   },
   "file_extension": ".py",
   "mimetype": "text/x-python",
   "name": "python",
   "nbconvert_exporter": "python",
   "pygments_lexer": "ipython3",
   "version": "3.12.3"
  }
 },
 "nbformat": 4,
 "nbformat_minor": 5
}
