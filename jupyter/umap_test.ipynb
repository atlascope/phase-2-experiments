{
 "cells": [
  {
   "cell_type": "code",
   "execution_count": 1,
   "id": "ed09fde1-44af-4637-b9f4-7b9154794d31",
   "metadata": {},
   "outputs": [],
   "source": [
    "import pathlib\n",
    "from umap_manager import UMAPManager"
   ]
  },
  {
   "cell_type": "code",
   "execution_count": 2,
   "id": "3311f7bd-5a47-4e64-9774-078e278b46e6",
   "metadata": {},
   "outputs": [
    {
     "name": "stdout",
     "output_type": "stream",
     "text": [
      "Reading HIPS data.\n",
      "Found 412219 features.\n",
      "Computing density column.\n"
     ]
    },
    {
     "data": {
      "text/html": [
       "<div>\n",
       "<style scoped>\n",
       "    .dataframe tbody tr th:only-of-type {\n",
       "        vertical-align: middle;\n",
       "    }\n",
       "\n",
       "    .dataframe tbody tr th {\n",
       "        vertical-align: top;\n",
       "    }\n",
       "\n",
       "    .dataframe thead th {\n",
       "        text-align: right;\n",
       "    }\n",
       "</style>\n",
       "<table border=\"1\" class=\"dataframe\">\n",
       "  <thead>\n",
       "    <tr style=\"text-align: right;\">\n",
       "      <th></th>\n",
       "      <th>Orientation.Orientation</th>\n",
       "      <th>Size.Area</th>\n",
       "      <th>Size.ConvexHullArea</th>\n",
       "      <th>Size.MajorAxisLength</th>\n",
       "      <th>Size.MinorAxisLength</th>\n",
       "      <th>Size.Perimeter</th>\n",
       "      <th>Shape.Circularity</th>\n",
       "      <th>Shape.Eccentricity</th>\n",
       "      <th>Shape.EquivalentDiameter</th>\n",
       "      <th>Shape.Extent</th>\n",
       "      <th>...</th>\n",
       "      <th>Cytoplasm.Haralick.Entropy.Range</th>\n",
       "      <th>Cytoplasm.Haralick.DifferenceVariance.Mean</th>\n",
       "      <th>Cytoplasm.Haralick.DifferenceVariance.Range</th>\n",
       "      <th>Cytoplasm.Haralick.DifferenceEntropy.Mean</th>\n",
       "      <th>Cytoplasm.Haralick.DifferenceEntropy.Range</th>\n",
       "      <th>Cytoplasm.Haralick.IMC1.Mean</th>\n",
       "      <th>Cytoplasm.Haralick.IMC1.Range</th>\n",
       "      <th>Cytoplasm.Haralick.IMC2.Mean</th>\n",
       "      <th>Cytoplasm.Haralick.IMC2.Range</th>\n",
       "      <th>density</th>\n",
       "    </tr>\n",
       "  </thead>\n",
       "  <tbody>\n",
       "    <tr>\n",
       "      <th>8</th>\n",
       "      <td>-1.560015</td>\n",
       "      <td>191.0</td>\n",
       "      <td>198.0</td>\n",
       "      <td>18.077746</td>\n",
       "      <td>13.593226</td>\n",
       "      <td>50.142136</td>\n",
       "      <td>0.954635</td>\n",
       "      <td>0.659241</td>\n",
       "      <td>15.594510</td>\n",
       "      <td>0.864253</td>\n",
       "      <td>...</td>\n",
       "      <td>0.374739</td>\n",
       "      <td>0.007623</td>\n",
       "      <td>0.002885</td>\n",
       "      <td>2.340702</td>\n",
       "      <td>0.495576</td>\n",
       "      <td>-0.344098</td>\n",
       "      <td>0.107820</td>\n",
       "      <td>0.947012</td>\n",
       "      <td>0.042932</td>\n",
       "      <td>0.000836</td>\n",
       "    </tr>\n",
       "    <tr>\n",
       "      <th>798</th>\n",
       "      <td>1.483843</td>\n",
       "      <td>131.0</td>\n",
       "      <td>132.0</td>\n",
       "      <td>14.125594</td>\n",
       "      <td>11.949627</td>\n",
       "      <td>39.899495</td>\n",
       "      <td>1.034061</td>\n",
       "      <td>0.533253</td>\n",
       "      <td>12.914890</td>\n",
       "      <td>0.916084</td>\n",
       "      <td>...</td>\n",
       "      <td>0.293540</td>\n",
       "      <td>0.012237</td>\n",
       "      <td>0.002102</td>\n",
       "      <td>1.473465</td>\n",
       "      <td>0.307352</td>\n",
       "      <td>-0.329444</td>\n",
       "      <td>0.140064</td>\n",
       "      <td>0.904443</td>\n",
       "      <td>0.073312</td>\n",
       "      <td>0.032736</td>\n",
       "    </tr>\n",
       "    <tr>\n",
       "      <th>133</th>\n",
       "      <td>-0.114574</td>\n",
       "      <td>103.0</td>\n",
       "      <td>106.0</td>\n",
       "      <td>12.056126</td>\n",
       "      <td>11.004057</td>\n",
       "      <td>35.656854</td>\n",
       "      <td>1.018031</td>\n",
       "      <td>0.408550</td>\n",
       "      <td>11.451798</td>\n",
       "      <td>0.936364</td>\n",
       "      <td>...</td>\n",
       "      <td>0.364879</td>\n",
       "      <td>0.010166</td>\n",
       "      <td>0.002104</td>\n",
       "      <td>1.670250</td>\n",
       "      <td>0.306937</td>\n",
       "      <td>-0.308579</td>\n",
       "      <td>0.117119</td>\n",
       "      <td>0.918620</td>\n",
       "      <td>0.062797</td>\n",
       "      <td>0.001738</td>\n",
       "    </tr>\n",
       "    <tr>\n",
       "      <th>542</th>\n",
       "      <td>-0.377372</td>\n",
       "      <td>112.0</td>\n",
       "      <td>133.0</td>\n",
       "      <td>15.043640</td>\n",
       "      <td>10.445137</td>\n",
       "      <td>43.556349</td>\n",
       "      <td>0.741865</td>\n",
       "      <td>0.719664</td>\n",
       "      <td>11.941643</td>\n",
       "      <td>0.615385</td>\n",
       "      <td>...</td>\n",
       "      <td>0.482832</td>\n",
       "      <td>0.007439</td>\n",
       "      <td>0.002968</td>\n",
       "      <td>2.345356</td>\n",
       "      <td>0.510511</td>\n",
       "      <td>-0.325563</td>\n",
       "      <td>0.133434</td>\n",
       "      <td>0.937030</td>\n",
       "      <td>0.053573</td>\n",
       "      <td>0.027621</td>\n",
       "    </tr>\n",
       "    <tr>\n",
       "      <th>344</th>\n",
       "      <td>-0.089966</td>\n",
       "      <td>166.0</td>\n",
       "      <td>173.0</td>\n",
       "      <td>17.092478</td>\n",
       "      <td>12.606436</td>\n",
       "      <td>47.313708</td>\n",
       "      <td>0.931846</td>\n",
       "      <td>0.675300</td>\n",
       "      <td>14.538149</td>\n",
       "      <td>0.864583</td>\n",
       "      <td>...</td>\n",
       "      <td>0.526835</td>\n",
       "      <td>0.008922</td>\n",
       "      <td>0.003034</td>\n",
       "      <td>1.978687</td>\n",
       "      <td>0.504024</td>\n",
       "      <td>-0.307952</td>\n",
       "      <td>0.153480</td>\n",
       "      <td>0.930489</td>\n",
       "      <td>0.071927</td>\n",
       "      <td>0.002143</td>\n",
       "    </tr>\n",
       "    <tr>\n",
       "      <th>...</th>\n",
       "      <td>...</td>\n",
       "      <td>...</td>\n",
       "      <td>...</td>\n",
       "      <td>...</td>\n",
       "      <td>...</td>\n",
       "      <td>...</td>\n",
       "      <td>...</td>\n",
       "      <td>...</td>\n",
       "      <td>...</td>\n",
       "      <td>...</td>\n",
       "      <td>...</td>\n",
       "      <td>...</td>\n",
       "      <td>...</td>\n",
       "      <td>...</td>\n",
       "      <td>...</td>\n",
       "      <td>...</td>\n",
       "      <td>...</td>\n",
       "      <td>...</td>\n",
       "      <td>...</td>\n",
       "      <td>...</td>\n",
       "      <td>...</td>\n",
       "    </tr>\n",
       "    <tr>\n",
       "      <th>201</th>\n",
       "      <td>0.853129</td>\n",
       "      <td>130.0</td>\n",
       "      <td>142.0</td>\n",
       "      <td>15.936713</td>\n",
       "      <td>10.908067</td>\n",
       "      <td>43.556349</td>\n",
       "      <td>0.861093</td>\n",
       "      <td>0.729049</td>\n",
       "      <td>12.865502</td>\n",
       "      <td>0.714286</td>\n",
       "      <td>...</td>\n",
       "      <td>0.758513</td>\n",
       "      <td>0.009680</td>\n",
       "      <td>0.004214</td>\n",
       "      <td>1.757825</td>\n",
       "      <td>0.591658</td>\n",
       "      <td>-0.282230</td>\n",
       "      <td>0.245203</td>\n",
       "      <td>0.895365</td>\n",
       "      <td>0.127535</td>\n",
       "      <td>0.002329</td>\n",
       "    </tr>\n",
       "    <tr>\n",
       "      <th>187</th>\n",
       "      <td>-0.027338</td>\n",
       "      <td>106.0</td>\n",
       "      <td>109.0</td>\n",
       "      <td>14.090210</td>\n",
       "      <td>9.630296</td>\n",
       "      <td>36.485281</td>\n",
       "      <td>1.000646</td>\n",
       "      <td>0.729975</td>\n",
       "      <td>11.617375</td>\n",
       "      <td>0.905983</td>\n",
       "      <td>...</td>\n",
       "      <td>0.415982</td>\n",
       "      <td>0.010439</td>\n",
       "      <td>0.002337</td>\n",
       "      <td>1.660885</td>\n",
       "      <td>0.358797</td>\n",
       "      <td>-0.378287</td>\n",
       "      <td>0.127703</td>\n",
       "      <td>0.958158</td>\n",
       "      <td>0.038006</td>\n",
       "      <td>0.002376</td>\n",
       "    </tr>\n",
       "    <tr>\n",
       "      <th>183</th>\n",
       "      <td>-0.872050</td>\n",
       "      <td>128.0</td>\n",
       "      <td>131.0</td>\n",
       "      <td>13.982076</td>\n",
       "      <td>11.803096</td>\n",
       "      <td>39.899495</td>\n",
       "      <td>1.010381</td>\n",
       "      <td>0.536093</td>\n",
       "      <td>12.766153</td>\n",
       "      <td>0.888889</td>\n",
       "      <td>...</td>\n",
       "      <td>0.305275</td>\n",
       "      <td>0.009364</td>\n",
       "      <td>0.002267</td>\n",
       "      <td>1.830165</td>\n",
       "      <td>0.328262</td>\n",
       "      <td>-0.237859</td>\n",
       "      <td>0.112984</td>\n",
       "      <td>0.872258</td>\n",
       "      <td>0.096840</td>\n",
       "      <td>0.001422</td>\n",
       "    </tr>\n",
       "    <tr>\n",
       "      <th>156</th>\n",
       "      <td>0.169029</td>\n",
       "      <td>173.0</td>\n",
       "      <td>179.0</td>\n",
       "      <td>16.273710</td>\n",
       "      <td>13.717787</td>\n",
       "      <td>47.313708</td>\n",
       "      <td>0.971140</td>\n",
       "      <td>0.538005</td>\n",
       "      <td>14.841511</td>\n",
       "      <td>0.887179</td>\n",
       "      <td>...</td>\n",
       "      <td>0.580695</td>\n",
       "      <td>0.008615</td>\n",
       "      <td>0.003921</td>\n",
       "      <td>2.149957</td>\n",
       "      <td>0.636197</td>\n",
       "      <td>-0.383342</td>\n",
       "      <td>0.159946</td>\n",
       "      <td>0.959173</td>\n",
       "      <td>0.043161</td>\n",
       "      <td>0.001002</td>\n",
       "    </tr>\n",
       "    <tr>\n",
       "      <th>514</th>\n",
       "      <td>1.518115</td>\n",
       "      <td>108.0</td>\n",
       "      <td>111.0</td>\n",
       "      <td>13.098198</td>\n",
       "      <td>10.655777</td>\n",
       "      <td>36.485281</td>\n",
       "      <td>1.019526</td>\n",
       "      <td>0.581523</td>\n",
       "      <td>11.726460</td>\n",
       "      <td>0.900000</td>\n",
       "      <td>...</td>\n",
       "      <td>0.398481</td>\n",
       "      <td>0.008904</td>\n",
       "      <td>0.002923</td>\n",
       "      <td>1.939881</td>\n",
       "      <td>0.461932</td>\n",
       "      <td>-0.338025</td>\n",
       "      <td>0.128639</td>\n",
       "      <td>0.939265</td>\n",
       "      <td>0.052611</td>\n",
       "      <td>0.001945</td>\n",
       "    </tr>\n",
       "  </tbody>\n",
       "</table>\n",
       "<p>500 rows × 126 columns</p>\n",
       "</div>"
      ],
      "text/plain": [
       "     Orientation.Orientation  Size.Area  Size.ConvexHullArea  \\\n",
       "8                  -1.560015      191.0                198.0   \n",
       "798                 1.483843      131.0                132.0   \n",
       "133                -0.114574      103.0                106.0   \n",
       "542                -0.377372      112.0                133.0   \n",
       "344                -0.089966      166.0                173.0   \n",
       "..                       ...        ...                  ...   \n",
       "201                 0.853129      130.0                142.0   \n",
       "187                -0.027338      106.0                109.0   \n",
       "183                -0.872050      128.0                131.0   \n",
       "156                 0.169029      173.0                179.0   \n",
       "514                 1.518115      108.0                111.0   \n",
       "\n",
       "     Size.MajorAxisLength  Size.MinorAxisLength  Size.Perimeter  \\\n",
       "8               18.077746             13.593226       50.142136   \n",
       "798             14.125594             11.949627       39.899495   \n",
       "133             12.056126             11.004057       35.656854   \n",
       "542             15.043640             10.445137       43.556349   \n",
       "344             17.092478             12.606436       47.313708   \n",
       "..                    ...                   ...             ...   \n",
       "201             15.936713             10.908067       43.556349   \n",
       "187             14.090210              9.630296       36.485281   \n",
       "183             13.982076             11.803096       39.899495   \n",
       "156             16.273710             13.717787       47.313708   \n",
       "514             13.098198             10.655777       36.485281   \n",
       "\n",
       "     Shape.Circularity  Shape.Eccentricity  Shape.EquivalentDiameter  \\\n",
       "8             0.954635            0.659241                 15.594510   \n",
       "798           1.034061            0.533253                 12.914890   \n",
       "133           1.018031            0.408550                 11.451798   \n",
       "542           0.741865            0.719664                 11.941643   \n",
       "344           0.931846            0.675300                 14.538149   \n",
       "..                 ...                 ...                       ...   \n",
       "201           0.861093            0.729049                 12.865502   \n",
       "187           1.000646            0.729975                 11.617375   \n",
       "183           1.010381            0.536093                 12.766153   \n",
       "156           0.971140            0.538005                 14.841511   \n",
       "514           1.019526            0.581523                 11.726460   \n",
       "\n",
       "     Shape.Extent  ...  Cytoplasm.Haralick.Entropy.Range  \\\n",
       "8        0.864253  ...                          0.374739   \n",
       "798      0.916084  ...                          0.293540   \n",
       "133      0.936364  ...                          0.364879   \n",
       "542      0.615385  ...                          0.482832   \n",
       "344      0.864583  ...                          0.526835   \n",
       "..            ...  ...                               ...   \n",
       "201      0.714286  ...                          0.758513   \n",
       "187      0.905983  ...                          0.415982   \n",
       "183      0.888889  ...                          0.305275   \n",
       "156      0.887179  ...                          0.580695   \n",
       "514      0.900000  ...                          0.398481   \n",
       "\n",
       "     Cytoplasm.Haralick.DifferenceVariance.Mean  \\\n",
       "8                                      0.007623   \n",
       "798                                    0.012237   \n",
       "133                                    0.010166   \n",
       "542                                    0.007439   \n",
       "344                                    0.008922   \n",
       "..                                          ...   \n",
       "201                                    0.009680   \n",
       "187                                    0.010439   \n",
       "183                                    0.009364   \n",
       "156                                    0.008615   \n",
       "514                                    0.008904   \n",
       "\n",
       "     Cytoplasm.Haralick.DifferenceVariance.Range  \\\n",
       "8                                       0.002885   \n",
       "798                                     0.002102   \n",
       "133                                     0.002104   \n",
       "542                                     0.002968   \n",
       "344                                     0.003034   \n",
       "..                                           ...   \n",
       "201                                     0.004214   \n",
       "187                                     0.002337   \n",
       "183                                     0.002267   \n",
       "156                                     0.003921   \n",
       "514                                     0.002923   \n",
       "\n",
       "     Cytoplasm.Haralick.DifferenceEntropy.Mean  \\\n",
       "8                                     2.340702   \n",
       "798                                   1.473465   \n",
       "133                                   1.670250   \n",
       "542                                   2.345356   \n",
       "344                                   1.978687   \n",
       "..                                         ...   \n",
       "201                                   1.757825   \n",
       "187                                   1.660885   \n",
       "183                                   1.830165   \n",
       "156                                   2.149957   \n",
       "514                                   1.939881   \n",
       "\n",
       "     Cytoplasm.Haralick.DifferenceEntropy.Range  Cytoplasm.Haralick.IMC1.Mean  \\\n",
       "8                                      0.495576                     -0.344098   \n",
       "798                                    0.307352                     -0.329444   \n",
       "133                                    0.306937                     -0.308579   \n",
       "542                                    0.510511                     -0.325563   \n",
       "344                                    0.504024                     -0.307952   \n",
       "..                                          ...                           ...   \n",
       "201                                    0.591658                     -0.282230   \n",
       "187                                    0.358797                     -0.378287   \n",
       "183                                    0.328262                     -0.237859   \n",
       "156                                    0.636197                     -0.383342   \n",
       "514                                    0.461932                     -0.338025   \n",
       "\n",
       "     Cytoplasm.Haralick.IMC1.Range  Cytoplasm.Haralick.IMC2.Mean  \\\n",
       "8                         0.107820                      0.947012   \n",
       "798                       0.140064                      0.904443   \n",
       "133                       0.117119                      0.918620   \n",
       "542                       0.133434                      0.937030   \n",
       "344                       0.153480                      0.930489   \n",
       "..                             ...                           ...   \n",
       "201                       0.245203                      0.895365   \n",
       "187                       0.127703                      0.958158   \n",
       "183                       0.112984                      0.872258   \n",
       "156                       0.159946                      0.959173   \n",
       "514                       0.128639                      0.939265   \n",
       "\n",
       "     Cytoplasm.Haralick.IMC2.Range   density  \n",
       "8                         0.042932  0.000836  \n",
       "798                       0.073312  0.032736  \n",
       "133                       0.062797  0.001738  \n",
       "542                       0.053573  0.027621  \n",
       "344                       0.071927  0.002143  \n",
       "..                             ...       ...  \n",
       "201                       0.127535  0.002329  \n",
       "187                       0.038006  0.002376  \n",
       "183                       0.096840  0.001422  \n",
       "156                       0.043161  0.001002  \n",
       "514                       0.052611  0.001945  \n",
       "\n",
       "[500 rows x 126 columns]"
      ]
     },
     "execution_count": 2,
     "metadata": {},
     "output_type": "execute_result"
    }
   ],
   "source": [
    "DATA_DIR = pathlib.Path(f'../TCGA/downloads')\n",
    "case = 'TCGA-3C-AALK-01Z-00-DX1'\n",
    "\n",
    "# instantiate manager\n",
    "manager = UMAPManager(DATA_DIR / case)\n",
    "\n",
    "# Disable computation of density column\n",
    "# manager.compute_density = False\n",
    "\n",
    "# Filter by class\n",
    "manager.class_filters = ['CancerEpithelium']\n",
    "\n",
    "# Sample 500 random cells\n",
    "manager.sample_size = 500\n",
    "\n",
    "# Exclude some column patterns\n",
    "manager.exclude_columns = [\n",
    "    c for c in manager.columns\n",
    "    if any(substr in c for substr in ['Identifier.', 'ClassifProbab.', 'Unconstrained.'])\n",
    "]\n",
    "\n",
    "# View data\n",
    "manager.data"
   ]
  },
  {
   "cell_type": "code",
   "execution_count": 3,
   "id": "f9a0fdb3-5956-44c2-8659-d8e5032bbd9d",
   "metadata": {},
   "outputs": [
    {
     "data": {
      "application/vnd.jupyter.widget-view+json": {
       "model_id": "150ca58e70ff4c6699fec01ed6ed18c7",
       "version_major": 2,
       "version_minor": 0
      },
      "text/plain": [
       "VBox(children=(Map(center=[40960.0, 47744.0], controls=(ZoomControl(options=['position', 'zoom_in_text', 'zoom…"
      ]
     },
     "metadata": {},
     "output_type": "display_data"
    }
   ],
   "source": [
    "# Show image\n",
    "manager.image"
   ]
  },
  {
   "cell_type": "code",
   "execution_count": 4,
   "id": "17a11053-9149-476d-8406-245c81bbfeba",
   "metadata": {},
   "outputs": [
    {
     "data": {
      "application/vnd.jupyter.widget-view+json": {
       "model_id": "ff9df111b49c4e4db91f4a3cfa964b00",
       "version_major": 2,
       "version_minor": 0
      },
      "text/plain": [
       "GridBox(children=(Image(value=b'\\x89PNG\\r\\n\\x1a\\n\\x00\\x00\\x00\\rIHDR\\x00\\x00\\x00\"\\x00\\x00\\x00$\\x08\\x02\\x00\\x00\\…"
      ]
     },
     "metadata": {},
     "output_type": "display_data"
    },
    {
     "data": {
      "application/vnd.jupyter.widget-view+json": {
       "model_id": "ff9df111b49c4e4db91f4a3cfa964b00",
       "version_major": 2,
       "version_minor": 0
      },
      "text/plain": [
       "GridBox(children=(Image(value=b'\\x89PNG\\r\\n\\x1a\\n\\x00\\x00\\x00\\rIHDR\\x00\\x00\\x00\"\\x00\\x00\\x00$\\x08\\x02\\x00\\x00\\…"
      ]
     },
     "metadata": {},
     "output_type": "display_data"
    }
   ],
   "source": [
    "# Show cell thumbnails\n",
    "manager.show_cell_thumbnails()"
   ]
  },
  {
   "cell_type": "code",
   "execution_count": 5,
   "id": "74721fae-911b-4a78-9f39-50ebb01371a6",
   "metadata": {},
   "outputs": [
    {
     "name": "stdout",
     "output_type": "stream",
     "text": [
      "Training UMAP Transform.\n",
      "Completed training in 5.196994 seconds.\n",
      "Running inference on 400 cells with trained UMAP Transform.\n",
      "Completed inference in 0.00071 seconds.\n"
     ]
    },
    {
     "data": {
      "application/vnd.jupyter.widget-view+json": {
       "model_id": "beaa5240bb7d4fd99f1c838c376f5af7",
       "version_major": 2,
       "version_minor": 0
      },
      "text/plain": [
       "FigureWidget({\n",
       "    'data': [{'marker': {'color': {'bdata': ('AAABAAIAAwAEAAUABgAHAAgACQAKAA' ... 'UBhgGHAYgBiQGKAYsBjAGNAY4BjwE='),\n",
       "                                   'dtype': 'i2'}},\n",
       "              'mode': 'markers',\n",
       "              'type': 'scatter',\n",
       "              'uid': '2e119973-b038-43a8-befe-5d9511dcc04a',\n",
       "              'x': {'bdata': ('03l0QDxXykBRcARBlPWEQMogukDQX6' ... 'AA48RAklf8QB+F8EBWS+pA0jdNQA=='),\n",
       "                    'dtype': 'f4'},\n",
       "              'y': {'bdata': ('fd8rQclUQUH71DBBoqQQQcG9SEGTTk' ... 'EGvD1B05skQWOVGUGPahZB4AseQQ=='),\n",
       "                    'dtype': 'f4'}}],\n",
       "    'layout': {'template': '...'}\n",
       "})"
      ]
     },
     "metadata": {},
     "output_type": "display_data"
    },
    {
     "data": {
      "application/vnd.jupyter.widget-view+json": {
       "model_id": "5aaa8e19b8f64c3c9322d44758087e82",
       "version_major": 2,
       "version_minor": 0
      },
      "text/plain": [
       "VBox()"
      ]
     },
     "metadata": {},
     "output_type": "display_data"
    },
    {
     "name": "stdout",
     "output_type": "stream",
     "text": [
      "Running inference on 100 cells with trained UMAP Transform.\n",
      "Completed inference in 1.829277 seconds.\n"
     ]
    },
    {
     "data": {
      "application/vnd.jupyter.widget-view+json": {
       "model_id": "ca548de3ecaa4ed6825c46a99ae46108",
       "version_major": 2,
       "version_minor": 0
      },
      "text/plain": [
       "FigureWidget({\n",
       "    'data': [{'marker': {'color': {'bdata': ('AAECAwQFBgcICQoLDA0ODxAREhMUFR' ... '9QUVJTVFVWV1hZWltcXV5fYGFiYw=='),\n",
       "                                   'dtype': 'i1'}},\n",
       "              'mode': 'markers',\n",
       "              'type': 'scatter',\n",
       "              'uid': 'c63ec3a0-edd5-4209-9fbe-9288e1e1fe1b',\n",
       "              'x': {'bdata': ('wnwkQNEhoj/DEMtAsVhKQNe4RUB7cx' ... 'D8S+JACE4MQdJW3EAr5mlA9U3sQA=='),\n",
       "                    'dtype': 'f4'},\n",
       "              'y': {'bdata': ('ixVIQQBeSkF8GDNB2BfxQIdPVEHoFg' ... 'FwrTxBfDktQb7AM0EJyChBFzEsQQ=='),\n",
       "                    'dtype': 'f4'}}],\n",
       "    'layout': {'template': '...'}\n",
       "})"
      ]
     },
     "metadata": {},
     "output_type": "display_data"
    },
    {
     "data": {
      "application/vnd.jupyter.widget-view+json": {
       "model_id": "9db45d4110a54da4ad8bd520fc32f5f5",
       "version_major": 2,
       "version_minor": 0
      },
      "text/plain": [
       "VBox()"
      ]
     },
     "metadata": {},
     "output_type": "display_data"
    }
   ],
   "source": [
    "n_training = 400\n",
    "train_set = manager.data[:n_training]\n",
    "test_set = manager.data[n_training:]\n",
    "\n",
    "RESULT_DIR = pathlib.Path('./umap_results')\n",
    "\n",
    "# First dimensionality reduction will train a UMAP Transform\n",
    "manager.reduce_dims(train_set, plot=True, parquet_path=RESULT_DIR / 'CancerEpithelium_train_set_400.parquet')\n",
    "\n",
    "# Subsequent dimensionality reductions will leverage trained UMAP Transform\n",
    "manager.reduce_dims(test_set, plot=True, parquet_path=RESULT_DIR / 'CancerEpithelium_test_set_100.parquet')"
   ]
  },
  {
   "cell_type": "code",
   "execution_count": 6,
   "id": "bf09c24b-23de-4e12-b26e-ac659935a795",
   "metadata": {},
   "outputs": [
    {
     "name": "stdout",
     "output_type": "stream",
     "text": [
      "Running inference on 500 cells with trained UMAP Transform.\n",
      "Completed inference in 0.499766 seconds.\n",
      "Running inference on 2 cells with trained UMAP Transform.\n",
      "Completed inference in 0.007837 seconds.\n",
      "Cell 1:\n"
     ]
    },
    {
     "data": {
      "application/vnd.jupyter.widget-view+json": {
       "model_id": "2816c574a7624a108469886203ff9ab5",
       "version_major": 2,
       "version_minor": 0
      },
      "text/plain": [
       "GridBox(children=(Image(value=b'\\x89PNG\\r\\n\\x1a\\n\\x00\\x00\\x00\\rIHDR\\x00\\x00\\x002\\x00\\x00\\x00,\\x08\\x02\\x00\\x00\\…"
      ]
     },
     "metadata": {},
     "output_type": "display_data"
    },
    {
     "name": "stdout",
     "output_type": "stream",
     "text": [
      "10 most similar cells:\n"
     ]
    },
    {
     "data": {
      "application/vnd.jupyter.widget-view+json": {
       "model_id": "2dab9a94ca2846bab279445484802379",
       "version_major": 2,
       "version_minor": 0
      },
      "text/plain": [
       "GridBox(children=(Image(value=b'\\x89PNG\\r\\n\\x1a\\n\\x00\\x00\\x00\\rIHDR\\x00\\x00\\x002\\x00\\x00\\x00>\\x08\\x02\\x00\\x00\\…"
      ]
     },
     "metadata": {},
     "output_type": "display_data"
    },
    {
     "name": "stdout",
     "output_type": "stream",
     "text": [
      "\n",
      "Cell 2:\n"
     ]
    },
    {
     "data": {
      "application/vnd.jupyter.widget-view+json": {
       "model_id": "f1fbb172600f484991f149348a6a66cb",
       "version_major": 2,
       "version_minor": 0
      },
      "text/plain": [
       "GridBox(children=(Image(value=b'\\x89PNG\\r\\n\\x1a\\n\\x00\\x00\\x00\\rIHDR\\x00\\x00\\x00$\\x00\\x00\\x00$\\x08\\x02\\x00\\x00\\…"
      ]
     },
     "metadata": {},
     "output_type": "display_data"
    },
    {
     "name": "stdout",
     "output_type": "stream",
     "text": [
      "10 most similar cells:\n"
     ]
    },
    {
     "data": {
      "application/vnd.jupyter.widget-view+json": {
       "model_id": "bcebeea502f140bc8820090747a8a4dc",
       "version_major": 2,
       "version_minor": 0
      },
      "text/plain": [
       "GridBox(children=(Image(value=b'\\x89PNG\\r\\n\\x1a\\n\\x00\\x00\\x00\\rIHDR\\x00\\x00\\x00&\\x00\\x00\\x00$\\x08\\x02\\x00\\x00\\…"
      ]
     },
     "metadata": {},
     "output_type": "display_data"
    },
    {
     "name": "stdout",
     "output_type": "stream",
     "text": [
      "\n"
     ]
    }
   ],
   "source": [
    "# For each target cell in a given list of ids, find the 10 most similar cells and display them\n",
    "target_cells = [1, 2]\n",
    "manager.nearest_neighbors(target_cells, n=10, show=True)"
   ]
  },
  {
   "cell_type": "code",
   "execution_count": 7,
   "id": "fd222181-45cb-4e05-b019-a81a69e45e9c",
   "metadata": {},
   "outputs": [
    {
     "name": "stdout",
     "output_type": "stream",
     "text": [
      "Saved UMAP Transform to ../TCGA/downloads/my_umap.transform.\n"
     ]
    }
   ],
   "source": [
    "# Save trained transform to file\n",
    "transform_path = DATA_DIR / 'my_umap.transform'\n",
    "manager.save_transform(transform_path)"
   ]
  },
  {
   "cell_type": "code",
   "execution_count": 8,
   "id": "7402c4ae-f61b-499e-8dea-f7f05afda331",
   "metadata": {},
   "outputs": [
    {
     "name": "stdout",
     "output_type": "stream",
     "text": [
      "Reading HIPS data.\n",
      "Found 489293 features.\n",
      "Loaded UMAP Transform from ../TCGA/downloads/my_umap.transform.\n",
      "Computing density column.\n",
      "Running inference on 500 cells with trained UMAP Transform.\n",
      "Completed inference in 0.244721 seconds.\n"
     ]
    },
    {
     "data": {
      "application/vnd.jupyter.widget-view+json": {
       "model_id": "f2c8c8fde04845fd8fa86619bd952b18",
       "version_major": 2,
       "version_minor": 0
      },
      "text/plain": [
       "FigureWidget({\n",
       "    'data': [{'marker': {'color': {'bdata': ('AAABAAIAAwAEAAUABgAHAAgACQAKAA' ... 'HqAesB7AHtAe4B7wHwAfEB8gHzAQ=='),\n",
       "                                   'dtype': 'i2'}},\n",
       "              'mode': 'markers',\n",
       "              'type': 'scatter',\n",
       "              'uid': 'fb31f8fa-dc04-4f12-8130-e2667658461b',\n",
       "              'x': {'bdata': ('CMxmQEPCWEBMhFBAARLhQOUtzkBxca' ... 'tBl/zVQBcgzUB8iF9AOa7RQKoi70A='),\n",
       "                    'dtype': 'f4'},\n",
       "              'y': {'bdata': ('N2QkQde1DkHDdDBBw80uQefBL0HvMy' ... 'BBHwYwQUvjMUEymBpBLewPQT3DPEE='),\n",
       "                    'dtype': 'f4'}}],\n",
       "    'layout': {'template': '...'}\n",
       "})"
      ]
     },
     "metadata": {},
     "output_type": "display_data"
    },
    {
     "data": {
      "application/vnd.jupyter.widget-view+json": {
       "model_id": "8900a6652e324e5091286a9cdefd9a0e",
       "version_major": 2,
       "version_minor": 0
      },
      "text/plain": [
       "VBox()"
      ]
     },
     "metadata": {},
     "output_type": "display_data"
    }
   ],
   "source": [
    "# instantiate a second manager for a different case\n",
    "manager_2 = UMAPManager(DATA_DIR / 'TCGA-3C-AALI-01Z-00-DX1')\n",
    "manager_2.class_filters = ['CancerEpithelium']\n",
    "manager_2.sample_size = 500\n",
    "manager_2.exclude_columns = [\n",
    "    c for c in manager_2.columns\n",
    "    if any(substr in c for substr in ['Identifier.', 'ClassifProbab.', 'Unconstrained.'])\n",
    "]\n",
    "\n",
    "# Load the saved transform file\n",
    "manager_2.load_transform(transform_path)\n",
    "\n",
    "# Run an inference with the loaded transform\n",
    "manager_2.reduce_dims(plot=True, parquet_path=RESULT_DIR / 'CancerEpithelium_test_set_500.parquet')"
   ]
  },
  {
   "cell_type": "code",
   "execution_count": null,
   "id": "7a5a7249-0a22-4798-9240-8fa744ec0ab9",
   "metadata": {},
   "outputs": [],
   "source": []
  }
 ],
 "metadata": {
  "kernelspec": {
   "display_name": "Python 3 (ipykernel)",
   "language": "python",
   "name": "python3"
  },
  "language_info": {
   "codemirror_mode": {
    "name": "ipython",
    "version": 3
   },
   "file_extension": ".py",
   "mimetype": "text/x-python",
   "name": "python",
   "nbconvert_exporter": "python",
   "pygments_lexer": "ipython3",
   "version": "3.12.3"
  }
 },
 "nbformat": 4,
 "nbformat_minor": 5
}
