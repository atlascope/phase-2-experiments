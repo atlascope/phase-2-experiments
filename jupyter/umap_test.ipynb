{
 "cells": [
  {
   "cell_type": "code",
   "execution_count": 1,
   "id": "ed09fde1-44af-4637-b9f4-7b9154794d31",
   "metadata": {},
   "outputs": [],
   "source": [
    "import pathlib\n",
    "from umap_manager import UMAPManager"
   ]
  },
  {
   "cell_type": "code",
   "execution_count": 2,
   "id": "3311f7bd-5a47-4e64-9774-078e278b46e6",
   "metadata": {},
   "outputs": [
    {
     "name": "stdout",
     "output_type": "stream",
     "text": [
      "Reading HIPS data.\n",
      "Found 412219 features.\n"
     ]
    },
    {
     "data": {
      "text/html": [
       "<div>\n",
       "<style scoped>\n",
       "    .dataframe tbody tr th:only-of-type {\n",
       "        vertical-align: middle;\n",
       "    }\n",
       "\n",
       "    .dataframe tbody tr th {\n",
       "        vertical-align: top;\n",
       "    }\n",
       "\n",
       "    .dataframe thead th {\n",
       "        text-align: right;\n",
       "    }\n",
       "</style>\n",
       "<table border=\"1\" class=\"dataframe\">\n",
       "  <thead>\n",
       "    <tr style=\"text-align: right;\">\n",
       "      <th></th>\n",
       "      <th>Orientation.Orientation</th>\n",
       "      <th>Size.Area</th>\n",
       "      <th>Size.ConvexHullArea</th>\n",
       "      <th>Size.MajorAxisLength</th>\n",
       "      <th>Size.MinorAxisLength</th>\n",
       "      <th>Size.Perimeter</th>\n",
       "      <th>Shape.Circularity</th>\n",
       "      <th>Shape.Eccentricity</th>\n",
       "      <th>Shape.EquivalentDiameter</th>\n",
       "      <th>Shape.Extent</th>\n",
       "      <th>...</th>\n",
       "      <th>Cytoplasm.Haralick.Entropy.Mean</th>\n",
       "      <th>Cytoplasm.Haralick.Entropy.Range</th>\n",
       "      <th>Cytoplasm.Haralick.DifferenceVariance.Mean</th>\n",
       "      <th>Cytoplasm.Haralick.DifferenceVariance.Range</th>\n",
       "      <th>Cytoplasm.Haralick.DifferenceEntropy.Mean</th>\n",
       "      <th>Cytoplasm.Haralick.DifferenceEntropy.Range</th>\n",
       "      <th>Cytoplasm.Haralick.IMC1.Mean</th>\n",
       "      <th>Cytoplasm.Haralick.IMC1.Range</th>\n",
       "      <th>Cytoplasm.Haralick.IMC2.Mean</th>\n",
       "      <th>Cytoplasm.Haralick.IMC2.Range</th>\n",
       "    </tr>\n",
       "  </thead>\n",
       "  <tbody>\n",
       "    <tr>\n",
       "      <th>127</th>\n",
       "      <td>-0.295473</td>\n",
       "      <td>218.0</td>\n",
       "      <td>222.0</td>\n",
       "      <td>17.611668</td>\n",
       "      <td>15.952068</td>\n",
       "      <td>52.727922</td>\n",
       "      <td>0.985338</td>\n",
       "      <td>0.423776</td>\n",
       "      <td>16.660319</td>\n",
       "      <td>0.908333</td>\n",
       "      <td>...</td>\n",
       "      <td>4.856536</td>\n",
       "      <td>0.390114</td>\n",
       "      <td>0.010979</td>\n",
       "      <td>0.002755</td>\n",
       "      <td>1.607875</td>\n",
       "      <td>0.379738</td>\n",
       "      <td>-0.288614</td>\n",
       "      <td>0.159824</td>\n",
       "      <td>0.890593</td>\n",
       "      <td>0.098248</td>\n",
       "    </tr>\n",
       "    <tr>\n",
       "      <th>84</th>\n",
       "      <td>0.100628</td>\n",
       "      <td>131.0</td>\n",
       "      <td>137.0</td>\n",
       "      <td>17.020734</td>\n",
       "      <td>9.889777</td>\n",
       "      <td>42.142136</td>\n",
       "      <td>0.926932</td>\n",
       "      <td>0.813873</td>\n",
       "      <td>12.914890</td>\n",
       "      <td>0.818750</td>\n",
       "      <td>...</td>\n",
       "      <td>4.670920</td>\n",
       "      <td>0.517439</td>\n",
       "      <td>0.010572</td>\n",
       "      <td>0.004482</td>\n",
       "      <td>1.893899</td>\n",
       "      <td>0.684373</td>\n",
       "      <td>-0.443951</td>\n",
       "      <td>0.156241</td>\n",
       "      <td>0.962980</td>\n",
       "      <td>0.030487</td>\n",
       "    </tr>\n",
       "    <tr>\n",
       "      <th>316</th>\n",
       "      <td>1.089841</td>\n",
       "      <td>149.0</td>\n",
       "      <td>155.0</td>\n",
       "      <td>14.515357</td>\n",
       "      <td>13.114381</td>\n",
       "      <td>42.970563</td>\n",
       "      <td>1.014038</td>\n",
       "      <td>0.428623</td>\n",
       "      <td>13.773623</td>\n",
       "      <td>0.818681</td>\n",
       "      <td>...</td>\n",
       "      <td>4.999608</td>\n",
       "      <td>0.389112</td>\n",
       "      <td>0.008204</td>\n",
       "      <td>0.002264</td>\n",
       "      <td>2.100807</td>\n",
       "      <td>0.390586</td>\n",
       "      <td>-0.285391</td>\n",
       "      <td>0.119366</td>\n",
       "      <td>0.896826</td>\n",
       "      <td>0.078437</td>\n",
       "    </tr>\n",
       "    <tr>\n",
       "      <th>4</th>\n",
       "      <td>-0.222878</td>\n",
       "      <td>164.0</td>\n",
       "      <td>166.0</td>\n",
       "      <td>17.155373</td>\n",
       "      <td>12.305990</td>\n",
       "      <td>45.556349</td>\n",
       "      <td>0.993015</td>\n",
       "      <td>0.696738</td>\n",
       "      <td>14.450304</td>\n",
       "      <td>0.854167</td>\n",
       "      <td>...</td>\n",
       "      <td>4.949156</td>\n",
       "      <td>0.494595</td>\n",
       "      <td>0.010405</td>\n",
       "      <td>0.004003</td>\n",
       "      <td>1.846046</td>\n",
       "      <td>0.604035</td>\n",
       "      <td>-0.429753</td>\n",
       "      <td>0.155959</td>\n",
       "      <td>0.963917</td>\n",
       "      <td>0.037580</td>\n",
       "    </tr>\n",
       "    <tr>\n",
       "      <th>439</th>\n",
       "      <td>0.542726</td>\n",
       "      <td>109.0</td>\n",
       "      <td>111.0</td>\n",
       "      <td>12.093304</td>\n",
       "      <td>11.598869</td>\n",
       "      <td>36.485281</td>\n",
       "      <td>1.028966</td>\n",
       "      <td>0.283017</td>\n",
       "      <td>11.780624</td>\n",
       "      <td>0.900826</td>\n",
       "      <td>...</td>\n",
       "      <td>5.156508</td>\n",
       "      <td>0.316132</td>\n",
       "      <td>0.011070</td>\n",
       "      <td>0.002620</td>\n",
       "      <td>1.590676</td>\n",
       "      <td>0.343603</td>\n",
       "      <td>-0.389579</td>\n",
       "      <td>0.112275</td>\n",
       "      <td>0.957640</td>\n",
       "      <td>0.031518</td>\n",
       "    </tr>\n",
       "    <tr>\n",
       "      <th>...</th>\n",
       "      <td>...</td>\n",
       "      <td>...</td>\n",
       "      <td>...</td>\n",
       "      <td>...</td>\n",
       "      <td>...</td>\n",
       "      <td>...</td>\n",
       "      <td>...</td>\n",
       "      <td>...</td>\n",
       "      <td>...</td>\n",
       "      <td>...</td>\n",
       "      <td>...</td>\n",
       "      <td>...</td>\n",
       "      <td>...</td>\n",
       "      <td>...</td>\n",
       "      <td>...</td>\n",
       "      <td>...</td>\n",
       "      <td>...</td>\n",
       "      <td>...</td>\n",
       "      <td>...</td>\n",
       "      <td>...</td>\n",
       "      <td>...</td>\n",
       "    </tr>\n",
       "    <tr>\n",
       "      <th>215</th>\n",
       "      <td>1.078113</td>\n",
       "      <td>251.0</td>\n",
       "      <td>260.0</td>\n",
       "      <td>20.587725</td>\n",
       "      <td>15.663732</td>\n",
       "      <td>58.142136</td>\n",
       "      <td>0.933043</td>\n",
       "      <td>0.648953</td>\n",
       "      <td>17.876888</td>\n",
       "      <td>0.871528</td>\n",
       "      <td>...</td>\n",
       "      <td>6.002700</td>\n",
       "      <td>0.513566</td>\n",
       "      <td>0.009263</td>\n",
       "      <td>0.003228</td>\n",
       "      <td>1.854177</td>\n",
       "      <td>0.470315</td>\n",
       "      <td>-0.360620</td>\n",
       "      <td>0.152428</td>\n",
       "      <td>0.960985</td>\n",
       "      <td>0.041867</td>\n",
       "    </tr>\n",
       "    <tr>\n",
       "      <th>2</th>\n",
       "      <td>1.485512</td>\n",
       "      <td>179.0</td>\n",
       "      <td>185.0</td>\n",
       "      <td>20.644579</td>\n",
       "      <td>11.396879</td>\n",
       "      <td>51.313708</td>\n",
       "      <td>0.854272</td>\n",
       "      <td>0.833810</td>\n",
       "      <td>15.096684</td>\n",
       "      <td>0.856459</td>\n",
       "      <td>...</td>\n",
       "      <td>5.364832</td>\n",
       "      <td>0.441029</td>\n",
       "      <td>0.009982</td>\n",
       "      <td>0.002713</td>\n",
       "      <td>1.710915</td>\n",
       "      <td>0.377372</td>\n",
       "      <td>-0.370775</td>\n",
       "      <td>0.127353</td>\n",
       "      <td>0.953361</td>\n",
       "      <td>0.043443</td>\n",
       "    </tr>\n",
       "    <tr>\n",
       "      <th>299</th>\n",
       "      <td>0.098963</td>\n",
       "      <td>121.0</td>\n",
       "      <td>133.0</td>\n",
       "      <td>18.621298</td>\n",
       "      <td>8.510684</td>\n",
       "      <td>44.485281</td>\n",
       "      <td>0.768356</td>\n",
       "      <td>0.889446</td>\n",
       "      <td>12.412171</td>\n",
       "      <td>0.790850</td>\n",
       "      <td>...</td>\n",
       "      <td>4.732080</td>\n",
       "      <td>0.339620</td>\n",
       "      <td>0.012847</td>\n",
       "      <td>0.002299</td>\n",
       "      <td>1.337516</td>\n",
       "      <td>0.272298</td>\n",
       "      <td>-0.425609</td>\n",
       "      <td>0.124405</td>\n",
       "      <td>0.959473</td>\n",
       "      <td>0.030066</td>\n",
       "    </tr>\n",
       "    <tr>\n",
       "      <th>292</th>\n",
       "      <td>0.459157</td>\n",
       "      <td>233.0</td>\n",
       "      <td>240.0</td>\n",
       "      <td>18.207009</td>\n",
       "      <td>16.404187</td>\n",
       "      <td>54.384776</td>\n",
       "      <td>0.989945</td>\n",
       "      <td>0.433857</td>\n",
       "      <td>17.223960</td>\n",
       "      <td>0.856618</td>\n",
       "      <td>...</td>\n",
       "      <td>5.108162</td>\n",
       "      <td>0.406533</td>\n",
       "      <td>0.012202</td>\n",
       "      <td>0.003178</td>\n",
       "      <td>1.454154</td>\n",
       "      <td>0.344634</td>\n",
       "      <td>-0.486760</td>\n",
       "      <td>0.117364</td>\n",
       "      <td>0.980496</td>\n",
       "      <td>0.014594</td>\n",
       "    </tr>\n",
       "    <tr>\n",
       "      <th>80</th>\n",
       "      <td>-1.360128</td>\n",
       "      <td>173.0</td>\n",
       "      <td>182.0</td>\n",
       "      <td>18.987851</td>\n",
       "      <td>12.022592</td>\n",
       "      <td>50.142136</td>\n",
       "      <td>0.864670</td>\n",
       "      <td>0.774010</td>\n",
       "      <td>14.841511</td>\n",
       "      <td>0.800926</td>\n",
       "      <td>...</td>\n",
       "      <td>4.800912</td>\n",
       "      <td>0.301057</td>\n",
       "      <td>0.011481</td>\n",
       "      <td>0.002415</td>\n",
       "      <td>1.580792</td>\n",
       "      <td>0.291532</td>\n",
       "      <td>-0.358838</td>\n",
       "      <td>0.109958</td>\n",
       "      <td>0.934005</td>\n",
       "      <td>0.043098</td>\n",
       "    </tr>\n",
       "  </tbody>\n",
       "</table>\n",
       "<p>500 rows × 125 columns</p>\n",
       "</div>"
      ],
      "text/plain": [
       "     Orientation.Orientation  Size.Area  Size.ConvexHullArea  \\\n",
       "127                -0.295473      218.0                222.0   \n",
       "84                  0.100628      131.0                137.0   \n",
       "316                 1.089841      149.0                155.0   \n",
       "4                  -0.222878      164.0                166.0   \n",
       "439                 0.542726      109.0                111.0   \n",
       "..                       ...        ...                  ...   \n",
       "215                 1.078113      251.0                260.0   \n",
       "2                   1.485512      179.0                185.0   \n",
       "299                 0.098963      121.0                133.0   \n",
       "292                 0.459157      233.0                240.0   \n",
       "80                 -1.360128      173.0                182.0   \n",
       "\n",
       "     Size.MajorAxisLength  Size.MinorAxisLength  Size.Perimeter  \\\n",
       "127             17.611668             15.952068       52.727922   \n",
       "84              17.020734              9.889777       42.142136   \n",
       "316             14.515357             13.114381       42.970563   \n",
       "4               17.155373             12.305990       45.556349   \n",
       "439             12.093304             11.598869       36.485281   \n",
       "..                    ...                   ...             ...   \n",
       "215             20.587725             15.663732       58.142136   \n",
       "2               20.644579             11.396879       51.313708   \n",
       "299             18.621298              8.510684       44.485281   \n",
       "292             18.207009             16.404187       54.384776   \n",
       "80              18.987851             12.022592       50.142136   \n",
       "\n",
       "     Shape.Circularity  Shape.Eccentricity  Shape.EquivalentDiameter  \\\n",
       "127           0.985338            0.423776                 16.660319   \n",
       "84            0.926932            0.813873                 12.914890   \n",
       "316           1.014038            0.428623                 13.773623   \n",
       "4             0.993015            0.696738                 14.450304   \n",
       "439           1.028966            0.283017                 11.780624   \n",
       "..                 ...                 ...                       ...   \n",
       "215           0.933043            0.648953                 17.876888   \n",
       "2             0.854272            0.833810                 15.096684   \n",
       "299           0.768356            0.889446                 12.412171   \n",
       "292           0.989945            0.433857                 17.223960   \n",
       "80            0.864670            0.774010                 14.841511   \n",
       "\n",
       "     Shape.Extent  ...  Cytoplasm.Haralick.Entropy.Mean  \\\n",
       "127      0.908333  ...                         4.856536   \n",
       "84       0.818750  ...                         4.670920   \n",
       "316      0.818681  ...                         4.999608   \n",
       "4        0.854167  ...                         4.949156   \n",
       "439      0.900826  ...                         5.156508   \n",
       "..            ...  ...                              ...   \n",
       "215      0.871528  ...                         6.002700   \n",
       "2        0.856459  ...                         5.364832   \n",
       "299      0.790850  ...                         4.732080   \n",
       "292      0.856618  ...                         5.108162   \n",
       "80       0.800926  ...                         4.800912   \n",
       "\n",
       "     Cytoplasm.Haralick.Entropy.Range  \\\n",
       "127                          0.390114   \n",
       "84                           0.517439   \n",
       "316                          0.389112   \n",
       "4                            0.494595   \n",
       "439                          0.316132   \n",
       "..                                ...   \n",
       "215                          0.513566   \n",
       "2                            0.441029   \n",
       "299                          0.339620   \n",
       "292                          0.406533   \n",
       "80                           0.301057   \n",
       "\n",
       "     Cytoplasm.Haralick.DifferenceVariance.Mean  \\\n",
       "127                                    0.010979   \n",
       "84                                     0.010572   \n",
       "316                                    0.008204   \n",
       "4                                      0.010405   \n",
       "439                                    0.011070   \n",
       "..                                          ...   \n",
       "215                                    0.009263   \n",
       "2                                      0.009982   \n",
       "299                                    0.012847   \n",
       "292                                    0.012202   \n",
       "80                                     0.011481   \n",
       "\n",
       "     Cytoplasm.Haralick.DifferenceVariance.Range  \\\n",
       "127                                     0.002755   \n",
       "84                                      0.004482   \n",
       "316                                     0.002264   \n",
       "4                                       0.004003   \n",
       "439                                     0.002620   \n",
       "..                                           ...   \n",
       "215                                     0.003228   \n",
       "2                                       0.002713   \n",
       "299                                     0.002299   \n",
       "292                                     0.003178   \n",
       "80                                      0.002415   \n",
       "\n",
       "     Cytoplasm.Haralick.DifferenceEntropy.Mean  \\\n",
       "127                                   1.607875   \n",
       "84                                    1.893899   \n",
       "316                                   2.100807   \n",
       "4                                     1.846046   \n",
       "439                                   1.590676   \n",
       "..                                         ...   \n",
       "215                                   1.854177   \n",
       "2                                     1.710915   \n",
       "299                                   1.337516   \n",
       "292                                   1.454154   \n",
       "80                                    1.580792   \n",
       "\n",
       "     Cytoplasm.Haralick.DifferenceEntropy.Range  Cytoplasm.Haralick.IMC1.Mean  \\\n",
       "127                                    0.379738                     -0.288614   \n",
       "84                                     0.684373                     -0.443951   \n",
       "316                                    0.390586                     -0.285391   \n",
       "4                                      0.604035                     -0.429753   \n",
       "439                                    0.343603                     -0.389579   \n",
       "..                                          ...                           ...   \n",
       "215                                    0.470315                     -0.360620   \n",
       "2                                      0.377372                     -0.370775   \n",
       "299                                    0.272298                     -0.425609   \n",
       "292                                    0.344634                     -0.486760   \n",
       "80                                     0.291532                     -0.358838   \n",
       "\n",
       "     Cytoplasm.Haralick.IMC1.Range  Cytoplasm.Haralick.IMC2.Mean  \\\n",
       "127                       0.159824                      0.890593   \n",
       "84                        0.156241                      0.962980   \n",
       "316                       0.119366                      0.896826   \n",
       "4                         0.155959                      0.963917   \n",
       "439                       0.112275                      0.957640   \n",
       "..                             ...                           ...   \n",
       "215                       0.152428                      0.960985   \n",
       "2                         0.127353                      0.953361   \n",
       "299                       0.124405                      0.959473   \n",
       "292                       0.117364                      0.980496   \n",
       "80                        0.109958                      0.934005   \n",
       "\n",
       "     Cytoplasm.Haralick.IMC2.Range  \n",
       "127                       0.098248  \n",
       "84                        0.030487  \n",
       "316                       0.078437  \n",
       "4                         0.037580  \n",
       "439                       0.031518  \n",
       "..                             ...  \n",
       "215                       0.041867  \n",
       "2                         0.043443  \n",
       "299                       0.030066  \n",
       "292                       0.014594  \n",
       "80                        0.043098  \n",
       "\n",
       "[500 rows x 125 columns]"
      ]
     },
     "execution_count": 2,
     "metadata": {},
     "output_type": "execute_result"
    }
   ],
   "source": [
    "DATA_DIR = pathlib.Path('../TCGA/downloads')\n",
    "RESULT_DIR = pathlib.Path('./umap_results')\n",
    "RESULT_DIR.mkdir(exist_ok=True)\n",
    "\n",
    "case = 'TCGA-3C-AALK-01Z-00-DX1'\n",
    "\n",
    "# instantiate manager\n",
    "manager = UMAPManager(DATA_DIR / case)\n",
    "\n",
    "# Disable computation of density column\n",
    "manager.compute_density = False\n",
    "\n",
    "# Filter by class\n",
    "manager.class_filters = ['CancerEpithelium']\n",
    "\n",
    "# Sample 500 random cells\n",
    "manager.sample_size = 500\n",
    "\n",
    "# Exclude some column patterns\n",
    "manager.exclude_columns = [\n",
    "    c for c in manager.columns\n",
    "    if any(substr in c for substr in ['Identifier.', 'ClassifProbab.', 'Unconstrained.'])\n",
    "]\n",
    "\n",
    "# View data\n",
    "manager.data"
   ]
  },
  {
   "cell_type": "code",
   "execution_count": 3,
   "id": "c0bff338-ba4f-4310-bac0-b65e75436a60",
   "metadata": {},
   "outputs": [],
   "source": [
    "# Write data to parquet for Girder\n",
    "manager.write_data_parquet(RESULT_DIR / 'AALK_CancerEpithelium.parquet')"
   ]
  },
  {
   "cell_type": "code",
   "execution_count": 4,
   "id": "f9a0fdb3-5956-44c2-8659-d8e5032bbd9d",
   "metadata": {},
   "outputs": [
    {
     "data": {
      "image/png": "[encoded data removed]",
      "text/plain": [
       "OpenslideFileTileSource(PosixPath('../TCGA/downloads/TCGA-3C-AALK-01Z-00-DX1/TCGA-3C-AALK-01Z-00-DX1.4E6EB156-BB19-410F-878F-FC0EA7BD0B53.svs'))"
      ]
     },
     "execution_count": 4,
     "metadata": {},
     "output_type": "execute_result"
    }
   ],
   "source": [
    "# Show image\n",
    "manager.image"
   ]
  },
  {
   "cell_type": "code",
   "execution_count": 5,
   "id": "17a11053-9149-476d-8406-245c81bbfeba",
   "metadata": {},
   "outputs": [
    {
     "data": {
      "application/vnd.jupyter.widget-view+json": {
       "model_id": "902bfd60896743bbbdac71d207f564f4",
       "version_major": 2,
       "version_minor": 0
      },
      "text/plain": [
       "GridBox(children=(Image(value=b'\\x89PNG\\r\\n\\x1a\\n\\x00\\x00\\x00\\rIHDR\\x00\\x00\\x00\"\\x00\\x00\\x00\"\\x08\\x02\\x00\\x00\\…"
      ]
     },
     "metadata": {},
     "output_type": "display_data"
    },
    {
     "data": {
      "application/vnd.jupyter.widget-view+json": {
       "model_id": "902bfd60896743bbbdac71d207f564f4",
       "version_major": 2,
       "version_minor": 0
      },
      "text/plain": [
       "GridBox(children=(Image(value=b'\\x89PNG\\r\\n\\x1a\\n\\x00\\x00\\x00\\rIHDR\\x00\\x00\\x00\"\\x00\\x00\\x00\"\\x08\\x02\\x00\\x00\\…"
      ]
     },
     "metadata": {},
     "output_type": "display_data"
    }
   ],
   "source": [
    "# Show cell thumbnails\n",
    "manager.show_cell_thumbnails(range(20))"
   ]
  },
  {
   "cell_type": "code",
   "execution_count": 6,
   "id": "74721fae-911b-4a78-9f39-50ebb01371a6",
   "metadata": {},
   "outputs": [
    {
     "name": "stdout",
     "output_type": "stream",
     "text": [
      "Training UMAP Transform.\n",
      "Completed training in 6.657143 seconds.\n",
      "Running inference on 400 cells with trained UMAP Transform.\n",
      "Completed inference in 0.000815 seconds.\n"
     ]
    },
    {
     "data": {
      "application/vnd.jupyter.widget-view+json": {
       "model_id": "e8ae9a01646f4428a4c68c8133b7b1d4",
       "version_major": 2,
       "version_minor": 0
      },
      "text/plain": [
       "FigureWidget({\n",
       "    'data': [{'marker': {'color': {'bdata': ('AAABAAIAAwAEAAUABgAHAAgACQAKAA' ... 'UBhgGHAYgBiQGKAYsBjAGNAY4BjwE='),\n",
       "                                   'dtype': 'i2'}},\n",
       "              'mode': 'markers',\n",
       "              'type': 'scatter',\n",
       "              'uid': 'c7e2badc-681d-4d26-8fa8-0c65496c57c7',\n",
       "              'x': {'bdata': ('88BcPO/BAUDZELU+E76xP/OXGkA3GJ' ... '9/2gq/FgmVQPAauUCuBbBA5bxoQA=='),\n",
       "                    'dtype': 'f4'},\n",
       "              'y': {'bdata': ('lWsCQY8Jv0DbiohA6tDMQNmvAEHyEI' ... 'DkhcpAYzv/QJLjBkENU9xApvqDQA=='),\n",
       "                    'dtype': 'f4'}}],\n",
       "    'layout': {'template': '...'}\n",
       "})"
      ]
     },
     "metadata": {},
     "output_type": "display_data"
    },
    {
     "data": {
      "application/vnd.jupyter.widget-view+json": {
       "model_id": "e864675f82444d26a446594636678c31",
       "version_major": 2,
       "version_minor": 0
      },
      "text/plain": [
       "VBox()"
      ]
     },
     "metadata": {},
     "output_type": "display_data"
    },
    {
     "name": "stdout",
     "output_type": "stream",
     "text": [
      "Running inference on 100 cells with trained UMAP Transform.\n",
      "Completed inference in 2.362197 seconds.\n"
     ]
    },
    {
     "data": {
      "application/vnd.jupyter.widget-view+json": {
       "model_id": "e3cc77fbb8054aa1aa4e646bc1e11396",
       "version_major": 2,
       "version_minor": 0
      },
      "text/plain": [
       "FigureWidget({\n",
       "    'data': [{'marker': {'color': {'bdata': ('AAECAwQFBgcICQoLDA0ODxAREhMUFR' ... '9QUVJTVFVWV1hZWltcXV5fYGFiYw=='),\n",
       "                                   'dtype': 'i1'}},\n",
       "              'mode': 'markers',\n",
       "              'type': 'scatter',\n",
       "              'uid': 'ff497cff-3128-48b3-b57d-4b7f80e84549',\n",
       "              'x': {'bdata': ('examP+dBvT9RXQtAwAgFvpTIDED3BR' ... 'Bj6F6/1e8XP0ZpW0DIk8e/O7LAPg=='),\n",
       "                    'dtype': 'f4'},\n",
       "              'y': {'bdata': ('jQmGQHsnzUAE+aZAgr+kQDhJ8kA5kp' ... 'C/OcVA1u72QJzkx0Cm+thAO7H9QA=='),\n",
       "                    'dtype': 'f4'}}],\n",
       "    'layout': {'template': '...'}\n",
       "})"
      ]
     },
     "metadata": {},
     "output_type": "display_data"
    },
    {
     "data": {
      "application/vnd.jupyter.widget-view+json": {
       "model_id": "d004a166e9d04336ad2aa31b8ae2b562",
       "version_major": 2,
       "version_minor": 0
      },
      "text/plain": [
       "VBox()"
      ]
     },
     "metadata": {},
     "output_type": "display_data"
    }
   ],
   "source": [
    "n_training = 400\n",
    "train_set = manager.data[:n_training]\n",
    "test_set = manager.data[n_training:]\n",
    "\n",
    "# First dimensionality reduction will train a UMAP Transform\n",
    "manager.reduce_dims(train_set, plot=True, parquet_path=RESULT_DIR / 'AALK_CancerEpithelium_UMAP_train.parquet')\n",
    "\n",
    "# Subsequent dimensionality reductions will leverage trained UMAP Transform\n",
    "manager.reduce_dims(test_set, plot=True, parquet_path=RESULT_DIR / 'AALK_CancerEpithelium_UMAP_predict.parquet')"
   ]
  },
  {
   "cell_type": "code",
   "execution_count": 7,
   "id": "bf09c24b-23de-4e12-b26e-ac659935a795",
   "metadata": {},
   "outputs": [
    {
     "name": "stdout",
     "output_type": "stream",
     "text": [
      "Running inference on 500 cells with trained UMAP Transform.\n",
      "Completed inference in 0.634624 seconds.\n",
      "Running inference on 2 cells with trained UMAP Transform.\n",
      "Completed inference in 0.005389 seconds.\n",
      "Cell 1:\n"
     ]
    },
    {
     "data": {
      "application/vnd.jupyter.widget-view+json": {
       "model_id": "5444f1ec6b564b3cb461b09130c8d9fb",
       "version_major": 2,
       "version_minor": 0
      },
      "text/plain": [
       "GridBox(children=(Image(value=b'\\x89PNG\\r\\n\\x1a\\n\\x00\\x00\\x00\\rIHDR\\x00\\x00\\x00\\x1e\\x00\\x00\\x00 \\x08\\x02\\x00\\x…"
      ]
     },
     "metadata": {},
     "output_type": "display_data"
    },
    {
     "name": "stdout",
     "output_type": "stream",
     "text": [
      "10 most similar cells:\n"
     ]
    },
    {
     "data": {
      "application/vnd.jupyter.widget-view+json": {
       "model_id": "b5a5ff5a662d4f288b643d6de9546031",
       "version_major": 2,
       "version_minor": 0
      },
      "text/plain": [
       "GridBox(children=(Image(value=b'\\x89PNG\\r\\n\\x1a\\n\\x00\\x00\\x00\\rIHDR\\x00\\x00\\x00,\\x00\\x00\\x00*\\x08\\x02\\x00\\x00\\…"
      ]
     },
     "metadata": {},
     "output_type": "display_data"
    },
    {
     "name": "stdout",
     "output_type": "stream",
     "text": [
      "\n",
      "Cell 2:\n"
     ]
    },
    {
     "data": {
      "application/vnd.jupyter.widget-view+json": {
       "model_id": "37d340abf0604bec9a00c9db8de83210",
       "version_major": 2,
       "version_minor": 0
      },
      "text/plain": [
       "GridBox(children=(Image(value=b'\\x89PNG\\r\\n\\x1a\\n\\x00\\x00\\x00\\rIHDR\\x00\\x00\\x00$\\x00\\x00\\x00\"\\x08\\x02\\x00\\x00\\…"
      ]
     },
     "metadata": {},
     "output_type": "display_data"
    },
    {
     "name": "stdout",
     "output_type": "stream",
     "text": [
      "10 most similar cells:\n"
     ]
    },
    {
     "data": {
      "application/vnd.jupyter.widget-view+json": {
       "model_id": "e1ce59f9569940c38101092b0eed7418",
       "version_major": 2,
       "version_minor": 0
      },
      "text/plain": [
       "GridBox(children=(Image(value=b'\\x89PNG\\r\\n\\x1a\\n\\x00\\x00\\x00\\rIHDR\\x00\\x00\\x00\"\\x00\\x00\\x00$\\x08\\x02\\x00\\x00\\…"
      ]
     },
     "metadata": {},
     "output_type": "display_data"
    },
    {
     "name": "stdout",
     "output_type": "stream",
     "text": [
      "\n"
     ]
    }
   ],
   "source": [
    "# For each target cell in a given list of ids, find the 10 most similar cells and display them\n",
    "target_cells = [1, 2]\n",
    "manager.nearest_neighbors(target_cells, n=10, show=True)"
   ]
  },
  {
   "cell_type": "code",
   "execution_count": 8,
   "id": "fd222181-45cb-4e05-b019-a81a69e45e9c",
   "metadata": {},
   "outputs": [
    {
     "name": "stdout",
     "output_type": "stream",
     "text": [
      "Saved UMAP Transform to ../TCGA/downloads/my_umap.transform.\n"
     ]
    }
   ],
   "source": [
    "# Save trained transform to file\n",
    "transform_path = DATA_DIR / 'my_umap.transform'\n",
    "manager.save_transform(transform_path)"
   ]
  },
  {
   "cell_type": "code",
   "execution_count": 9,
   "id": "7402c4ae-f61b-499e-8dea-f7f05afda331",
   "metadata": {},
   "outputs": [
    {
     "name": "stdout",
     "output_type": "stream",
     "text": [
      "Reading HIPS data.\n",
      "Found 489293 features.\n",
      "Loaded UMAP Transform from ../TCGA/downloads/my_umap.transform.\n",
      "Running inference on 500 cells with trained UMAP Transform.\n",
      "Completed inference in 0.635995 seconds.\n"
     ]
    },
    {
     "data": {
      "application/vnd.jupyter.widget-view+json": {
       "model_id": "3bae2a5aaf764fbd8c3f460e011c3efe",
       "version_major": 2,
       "version_minor": 0
      },
      "text/plain": [
       "FigureWidget({\n",
       "    'data': [{'marker': {'color': {'bdata': ('AAABAAIAAwAEAAUABgAHAAgACQAKAA' ... 'HqAesB7AHtAe4B7wHwAfEB8gHzAQ=='),\n",
       "                                   'dtype': 'i2'}},\n",
       "              'mode': 'markers',\n",
       "              'type': 'scatter',\n",
       "              'uid': '3bfcc102-fdd1-46c6-9aa1-51c81f85e83c',\n",
       "              'x': {'bdata': ('E50zQWnt30B6mlBAm82bQAncBkGg1f' ... '5AaArTQKKZEUFaRtBA2weIQO1Fy0A='),\n",
       "                    'dtype': 'f4'},\n",
       "              'y': {'bdata': ('d9NfQP12bEBXwi9AaW6+QJw7YkBoNZ' ... 'Q/5ziwP+OXG0AW1HRAc9YjP1KOekA='),\n",
       "                    'dtype': 'f4'}}],\n",
       "    'layout': {'template': '...'}\n",
       "})"
      ]
     },
     "metadata": {},
     "output_type": "display_data"
    },
    {
     "data": {
      "application/vnd.jupyter.widget-view+json": {
       "model_id": "7753aeeff5b34da99e22f35b86ebf6d2",
       "version_major": 2,
       "version_minor": 0
      },
      "text/plain": [
       "VBox()"
      ]
     },
     "metadata": {},
     "output_type": "display_data"
    }
   ],
   "source": [
    "# instantiate a second manager for a different case\n",
    "manager_2 = UMAPManager(DATA_DIR / 'TCGA-3C-AALI-01Z-00-DX1')\n",
    "manager_2.compute_density = False\n",
    "manager_2.class_filters = ['CancerEpithelium']\n",
    "manager_2.sample_size = 500\n",
    "manager_2.exclude_columns = [\n",
    "    c for c in manager_2.columns\n",
    "    if any(substr in c for substr in ['Identifier.', 'ClassifProbab.', 'Unconstrained.'])\n",
    "]\n",
    "\n",
    "# Write data to parquet for Girder\n",
    "manager_2.write_data_parquet(RESULT_DIR / 'AALI_CancerEpithelium.parquet')\n",
    "\n",
    "# Load the saved transform file\n",
    "manager_2.load_transform(transform_path)\n",
    "\n",
    "# Run an inference with the loaded transform\n",
    "manager_2.reduce_dims(plot=True, parquet_path=RESULT_DIR / 'AALI_CancerEpithelium_UMAP_predict.parquet')"
   ]
  },
  {
   "cell_type": "code",
   "execution_count": null,
   "id": "7a5a7249-0a22-4798-9240-8fa744ec0ab9",
   "metadata": {},
   "outputs": [],
   "source": []
  }
 ],
 "metadata": {
  "kernelspec": {
   "display_name": "venv",
   "language": "python",
   "name": "python3"
  },
  "language_info": {
   "codemirror_mode": {
    "name": "ipython",
    "version": 3
   },
   "file_extension": ".py",
   "mimetype": "text/x-python",
   "name": "python",
   "nbconvert_exporter": "python",
   "pygments_lexer": "ipython3",
   "version": "3.11.8"
  }
 },
 "nbformat": 4,
 "nbformat_minor": 5
}
