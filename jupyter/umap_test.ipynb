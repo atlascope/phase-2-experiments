{
 "cells": [
  {
   "cell_type": "code",
   "execution_count": 1,
   "id": "ed09fde1-44af-4637-b9f4-7b9154794d31",
   "metadata": {},
   "outputs": [],
   "source": [
    "import pathlib\n",
    "from umap_manager import UMAPManager"
   ]
  },
  {
   "cell_type": "code",
   "execution_count": 2,
   "id": "3311f7bd-5a47-4e64-9774-078e278b46e6",
   "metadata": {},
   "outputs": [
    {
     "name": "stdout",
     "output_type": "stream",
     "text": [
      "Reading HIPS data.\n",
      "Found 412219 features.\n"
     ]
    },
    {
     "data": {
      "text/html": [
       "<div>\n",
       "<style scoped>\n",
       "    .dataframe tbody tr th:only-of-type {\n",
       "        vertical-align: middle;\n",
       "    }\n",
       "\n",
       "    .dataframe tbody tr th {\n",
       "        vertical-align: top;\n",
       "    }\n",
       "\n",
       "    .dataframe thead th {\n",
       "        text-align: right;\n",
       "    }\n",
       "</style>\n",
       "<table border=\"1\" class=\"dataframe\">\n",
       "  <thead>\n",
       "    <tr style=\"text-align: right;\">\n",
       "      <th></th>\n",
       "      <th>Orientation.Orientation</th>\n",
       "      <th>Size.Area</th>\n",
       "      <th>Size.ConvexHullArea</th>\n",
       "      <th>Size.MajorAxisLength</th>\n",
       "      <th>Size.MinorAxisLength</th>\n",
       "      <th>Size.Perimeter</th>\n",
       "      <th>Shape.Circularity</th>\n",
       "      <th>Shape.Eccentricity</th>\n",
       "      <th>Shape.EquivalentDiameter</th>\n",
       "      <th>Shape.Extent</th>\n",
       "      <th>...</th>\n",
       "      <th>Cytoplasm.Haralick.Entropy.Mean</th>\n",
       "      <th>Cytoplasm.Haralick.Entropy.Range</th>\n",
       "      <th>Cytoplasm.Haralick.DifferenceVariance.Mean</th>\n",
       "      <th>Cytoplasm.Haralick.DifferenceVariance.Range</th>\n",
       "      <th>Cytoplasm.Haralick.DifferenceEntropy.Mean</th>\n",
       "      <th>Cytoplasm.Haralick.DifferenceEntropy.Range</th>\n",
       "      <th>Cytoplasm.Haralick.IMC1.Mean</th>\n",
       "      <th>Cytoplasm.Haralick.IMC1.Range</th>\n",
       "      <th>Cytoplasm.Haralick.IMC2.Mean</th>\n",
       "      <th>Cytoplasm.Haralick.IMC2.Range</th>\n",
       "    </tr>\n",
       "  </thead>\n",
       "  <tbody>\n",
       "    <tr>\n",
       "      <th>556</th>\n",
       "      <td>1.351193</td>\n",
       "      <td>130.0</td>\n",
       "      <td>132.0</td>\n",
       "      <td>14.059332</td>\n",
       "      <td>11.879256</td>\n",
       "      <td>39.899495</td>\n",
       "      <td>1.026168</td>\n",
       "      <td>0.534865</td>\n",
       "      <td>12.865502</td>\n",
       "      <td>0.909091</td>\n",
       "      <td>...</td>\n",
       "      <td>4.787268</td>\n",
       "      <td>0.327396</td>\n",
       "      <td>0.011117</td>\n",
       "      <td>0.002044</td>\n",
       "      <td>1.564773</td>\n",
       "      <td>0.308880</td>\n",
       "      <td>-0.303214</td>\n",
       "      <td>0.112040</td>\n",
       "      <td>0.901905</td>\n",
       "      <td>0.062184</td>\n",
       "    </tr>\n",
       "    <tr>\n",
       "      <th>118</th>\n",
       "      <td>0.111431</td>\n",
       "      <td>228.0</td>\n",
       "      <td>235.0</td>\n",
       "      <td>18.898618</td>\n",
       "      <td>15.566667</td>\n",
       "      <td>54.970563</td>\n",
       "      <td>0.948166</td>\n",
       "      <td>0.567035</td>\n",
       "      <td>17.038152</td>\n",
       "      <td>0.844444</td>\n",
       "      <td>...</td>\n",
       "      <td>5.645060</td>\n",
       "      <td>0.430419</td>\n",
       "      <td>0.009547</td>\n",
       "      <td>0.003190</td>\n",
       "      <td>1.874300</td>\n",
       "      <td>0.487709</td>\n",
       "      <td>-0.414995</td>\n",
       "      <td>0.119111</td>\n",
       "      <td>0.972513</td>\n",
       "      <td>0.023938</td>\n",
       "    </tr>\n",
       "    <tr>\n",
       "      <th>77</th>\n",
       "      <td>-0.378582</td>\n",
       "      <td>122.0</td>\n",
       "      <td>124.0</td>\n",
       "      <td>13.170688</td>\n",
       "      <td>11.900208</td>\n",
       "      <td>38.485281</td>\n",
       "      <td>1.035095</td>\n",
       "      <td>0.428509</td>\n",
       "      <td>12.463355</td>\n",
       "      <td>0.924242</td>\n",
       "      <td>...</td>\n",
       "      <td>5.773408</td>\n",
       "      <td>0.555650</td>\n",
       "      <td>0.008029</td>\n",
       "      <td>0.003094</td>\n",
       "      <td>2.143763</td>\n",
       "      <td>0.575374</td>\n",
       "      <td>-0.295588</td>\n",
       "      <td>0.158671</td>\n",
       "      <td>0.924108</td>\n",
       "      <td>0.070024</td>\n",
       "    </tr>\n",
       "    <tr>\n",
       "      <th>60</th>\n",
       "      <td>1.570796</td>\n",
       "      <td>48.0</td>\n",
       "      <td>48.0</td>\n",
       "      <td>9.165151</td>\n",
       "      <td>6.831301</td>\n",
       "      <td>24.000000</td>\n",
       "      <td>1.047198</td>\n",
       "      <td>0.666667</td>\n",
       "      <td>7.817640</td>\n",
       "      <td>1.000000</td>\n",
       "      <td>...</td>\n",
       "      <td>6.206283</td>\n",
       "      <td>0.722718</td>\n",
       "      <td>0.007067</td>\n",
       "      <td>0.003460</td>\n",
       "      <td>2.309180</td>\n",
       "      <td>0.617862</td>\n",
       "      <td>-0.303550</td>\n",
       "      <td>0.189664</td>\n",
       "      <td>0.937089</td>\n",
       "      <td>0.080403</td>\n",
       "    </tr>\n",
       "    <tr>\n",
       "      <th>207</th>\n",
       "      <td>0.785398</td>\n",
       "      <td>48.0</td>\n",
       "      <td>48.0</td>\n",
       "      <td>8.082904</td>\n",
       "      <td>7.694695</td>\n",
       "      <td>23.414214</td>\n",
       "      <td>1.100251</td>\n",
       "      <td>0.306186</td>\n",
       "      <td>7.817640</td>\n",
       "      <td>0.979592</td>\n",
       "      <td>...</td>\n",
       "      <td>5.646288</td>\n",
       "      <td>0.485899</td>\n",
       "      <td>0.007829</td>\n",
       "      <td>0.003216</td>\n",
       "      <td>2.147113</td>\n",
       "      <td>0.455584</td>\n",
       "      <td>-0.258917</td>\n",
       "      <td>0.147203</td>\n",
       "      <td>0.894572</td>\n",
       "      <td>0.095794</td>\n",
       "    </tr>\n",
       "    <tr>\n",
       "      <th>...</th>\n",
       "      <td>...</td>\n",
       "      <td>...</td>\n",
       "      <td>...</td>\n",
       "      <td>...</td>\n",
       "      <td>...</td>\n",
       "      <td>...</td>\n",
       "      <td>...</td>\n",
       "      <td>...</td>\n",
       "      <td>...</td>\n",
       "      <td>...</td>\n",
       "      <td>...</td>\n",
       "      <td>...</td>\n",
       "      <td>...</td>\n",
       "      <td>...</td>\n",
       "      <td>...</td>\n",
       "      <td>...</td>\n",
       "      <td>...</td>\n",
       "      <td>...</td>\n",
       "      <td>...</td>\n",
       "      <td>...</td>\n",
       "      <td>...</td>\n",
       "    </tr>\n",
       "    <tr>\n",
       "      <th>12</th>\n",
       "      <td>1.396739</td>\n",
       "      <td>199.0</td>\n",
       "      <td>204.0</td>\n",
       "      <td>17.069172</td>\n",
       "      <td>14.935094</td>\n",
       "      <td>50.142136</td>\n",
       "      <td>0.994620</td>\n",
       "      <td>0.484169</td>\n",
       "      <td>15.917747</td>\n",
       "      <td>0.888393</td>\n",
       "      <td>...</td>\n",
       "      <td>5.524338</td>\n",
       "      <td>0.545713</td>\n",
       "      <td>0.010194</td>\n",
       "      <td>0.003174</td>\n",
       "      <td>1.705315</td>\n",
       "      <td>0.468621</td>\n",
       "      <td>-0.382605</td>\n",
       "      <td>0.158866</td>\n",
       "      <td>0.959690</td>\n",
       "      <td>0.038768</td>\n",
       "    </tr>\n",
       "    <tr>\n",
       "      <th>93</th>\n",
       "      <td>-1.353667</td>\n",
       "      <td>214.0</td>\n",
       "      <td>227.0</td>\n",
       "      <td>24.020784</td>\n",
       "      <td>11.605947</td>\n",
       "      <td>57.556349</td>\n",
       "      <td>0.811778</td>\n",
       "      <td>0.875531</td>\n",
       "      <td>16.506764</td>\n",
       "      <td>0.810606</td>\n",
       "      <td>...</td>\n",
       "      <td>6.145904</td>\n",
       "      <td>0.546612</td>\n",
       "      <td>0.008262</td>\n",
       "      <td>0.002755</td>\n",
       "      <td>2.075369</td>\n",
       "      <td>0.478173</td>\n",
       "      <td>-0.287378</td>\n",
       "      <td>0.152057</td>\n",
       "      <td>0.929545</td>\n",
       "      <td>0.072312</td>\n",
       "    </tr>\n",
       "    <tr>\n",
       "      <th>224</th>\n",
       "      <td>0.918614</td>\n",
       "      <td>56.0</td>\n",
       "      <td>58.0</td>\n",
       "      <td>9.288397</td>\n",
       "      <td>7.840318</td>\n",
       "      <td>25.899495</td>\n",
       "      <td>1.049096</td>\n",
       "      <td>0.536189</td>\n",
       "      <td>8.444016</td>\n",
       "      <td>0.777778</td>\n",
       "      <td>...</td>\n",
       "      <td>5.638143</td>\n",
       "      <td>0.612876</td>\n",
       "      <td>0.010712</td>\n",
       "      <td>0.004388</td>\n",
       "      <td>1.637141</td>\n",
       "      <td>0.530777</td>\n",
       "      <td>-0.486326</td>\n",
       "      <td>0.158083</td>\n",
       "      <td>0.985427</td>\n",
       "      <td>0.015870</td>\n",
       "    </tr>\n",
       "    <tr>\n",
       "      <th>50</th>\n",
       "      <td>-0.723282</td>\n",
       "      <td>258.0</td>\n",
       "      <td>279.0</td>\n",
       "      <td>21.661500</td>\n",
       "      <td>15.774957</td>\n",
       "      <td>62.041631</td>\n",
       "      <td>0.842293</td>\n",
       "      <td>0.685313</td>\n",
       "      <td>18.124453</td>\n",
       "      <td>0.714681</td>\n",
       "      <td>...</td>\n",
       "      <td>5.205793</td>\n",
       "      <td>0.558722</td>\n",
       "      <td>0.010029</td>\n",
       "      <td>0.003687</td>\n",
       "      <td>1.872471</td>\n",
       "      <td>0.610957</td>\n",
       "      <td>-0.329695</td>\n",
       "      <td>0.192929</td>\n",
       "      <td>0.927218</td>\n",
       "      <td>0.093629</td>\n",
       "    </tr>\n",
       "    <tr>\n",
       "      <th>212</th>\n",
       "      <td>-0.495861</td>\n",
       "      <td>84.0</td>\n",
       "      <td>84.0</td>\n",
       "      <td>11.432831</td>\n",
       "      <td>9.449358</td>\n",
       "      <td>31.656854</td>\n",
       "      <td>1.053304</td>\n",
       "      <td>0.562921</td>\n",
       "      <td>10.341766</td>\n",
       "      <td>0.933333</td>\n",
       "      <td>...</td>\n",
       "      <td>3.970968</td>\n",
       "      <td>0.294935</td>\n",
       "      <td>0.013078</td>\n",
       "      <td>0.001881</td>\n",
       "      <td>1.285379</td>\n",
       "      <td>0.216162</td>\n",
       "      <td>-0.288516</td>\n",
       "      <td>0.126426</td>\n",
       "      <td>0.854125</td>\n",
       "      <td>0.094614</td>\n",
       "    </tr>\n",
       "  </tbody>\n",
       "</table>\n",
       "<p>500 rows × 125 columns</p>\n",
       "</div>"
      ],
      "text/plain": [
       "     Orientation.Orientation  Size.Area  Size.ConvexHullArea  \\\n",
       "556                 1.351193      130.0                132.0   \n",
       "118                 0.111431      228.0                235.0   \n",
       "77                 -0.378582      122.0                124.0   \n",
       "60                  1.570796       48.0                 48.0   \n",
       "207                 0.785398       48.0                 48.0   \n",
       "..                       ...        ...                  ...   \n",
       "12                  1.396739      199.0                204.0   \n",
       "93                 -1.353667      214.0                227.0   \n",
       "224                 0.918614       56.0                 58.0   \n",
       "50                 -0.723282      258.0                279.0   \n",
       "212                -0.495861       84.0                 84.0   \n",
       "\n",
       "     Size.MajorAxisLength  Size.MinorAxisLength  Size.Perimeter  \\\n",
       "556             14.059332             11.879256       39.899495   \n",
       "118             18.898618             15.566667       54.970563   \n",
       "77              13.170688             11.900208       38.485281   \n",
       "60               9.165151              6.831301       24.000000   \n",
       "207              8.082904              7.694695       23.414214   \n",
       "..                    ...                   ...             ...   \n",
       "12              17.069172             14.935094       50.142136   \n",
       "93              24.020784             11.605947       57.556349   \n",
       "224              9.288397              7.840318       25.899495   \n",
       "50              21.661500             15.774957       62.041631   \n",
       "212             11.432831              9.449358       31.656854   \n",
       "\n",
       "     Shape.Circularity  Shape.Eccentricity  Shape.EquivalentDiameter  \\\n",
       "556           1.026168            0.534865                 12.865502   \n",
       "118           0.948166            0.567035                 17.038152   \n",
       "77            1.035095            0.428509                 12.463355   \n",
       "60            1.047198            0.666667                  7.817640   \n",
       "207           1.100251            0.306186                  7.817640   \n",
       "..                 ...                 ...                       ...   \n",
       "12            0.994620            0.484169                 15.917747   \n",
       "93            0.811778            0.875531                 16.506764   \n",
       "224           1.049096            0.536189                  8.444016   \n",
       "50            0.842293            0.685313                 18.124453   \n",
       "212           1.053304            0.562921                 10.341766   \n",
       "\n",
       "     Shape.Extent  ...  Cytoplasm.Haralick.Entropy.Mean  \\\n",
       "556      0.909091  ...                         4.787268   \n",
       "118      0.844444  ...                         5.645060   \n",
       "77       0.924242  ...                         5.773408   \n",
       "60       1.000000  ...                         6.206283   \n",
       "207      0.979592  ...                         5.646288   \n",
       "..            ...  ...                              ...   \n",
       "12       0.888393  ...                         5.524338   \n",
       "93       0.810606  ...                         6.145904   \n",
       "224      0.777778  ...                         5.638143   \n",
       "50       0.714681  ...                         5.205793   \n",
       "212      0.933333  ...                         3.970968   \n",
       "\n",
       "     Cytoplasm.Haralick.Entropy.Range  \\\n",
       "556                          0.327396   \n",
       "118                          0.430419   \n",
       "77                           0.555650   \n",
       "60                           0.722718   \n",
       "207                          0.485899   \n",
       "..                                ...   \n",
       "12                           0.545713   \n",
       "93                           0.546612   \n",
       "224                          0.612876   \n",
       "50                           0.558722   \n",
       "212                          0.294935   \n",
       "\n",
       "     Cytoplasm.Haralick.DifferenceVariance.Mean  \\\n",
       "556                                    0.011117   \n",
       "118                                    0.009547   \n",
       "77                                     0.008029   \n",
       "60                                     0.007067   \n",
       "207                                    0.007829   \n",
       "..                                          ...   \n",
       "12                                     0.010194   \n",
       "93                                     0.008262   \n",
       "224                                    0.010712   \n",
       "50                                     0.010029   \n",
       "212                                    0.013078   \n",
       "\n",
       "     Cytoplasm.Haralick.DifferenceVariance.Range  \\\n",
       "556                                     0.002044   \n",
       "118                                     0.003190   \n",
       "77                                      0.003094   \n",
       "60                                      0.003460   \n",
       "207                                     0.003216   \n",
       "..                                           ...   \n",
       "12                                      0.003174   \n",
       "93                                      0.002755   \n",
       "224                                     0.004388   \n",
       "50                                      0.003687   \n",
       "212                                     0.001881   \n",
       "\n",
       "     Cytoplasm.Haralick.DifferenceEntropy.Mean  \\\n",
       "556                                   1.564773   \n",
       "118                                   1.874300   \n",
       "77                                    2.143763   \n",
       "60                                    2.309180   \n",
       "207                                   2.147113   \n",
       "..                                         ...   \n",
       "12                                    1.705315   \n",
       "93                                    2.075369   \n",
       "224                                   1.637141   \n",
       "50                                    1.872471   \n",
       "212                                   1.285379   \n",
       "\n",
       "     Cytoplasm.Haralick.DifferenceEntropy.Range  Cytoplasm.Haralick.IMC1.Mean  \\\n",
       "556                                    0.308880                     -0.303214   \n",
       "118                                    0.487709                     -0.414995   \n",
       "77                                     0.575374                     -0.295588   \n",
       "60                                     0.617862                     -0.303550   \n",
       "207                                    0.455584                     -0.258917   \n",
       "..                                          ...                           ...   \n",
       "12                                     0.468621                     -0.382605   \n",
       "93                                     0.478173                     -0.287378   \n",
       "224                                    0.530777                     -0.486326   \n",
       "50                                     0.610957                     -0.329695   \n",
       "212                                    0.216162                     -0.288516   \n",
       "\n",
       "     Cytoplasm.Haralick.IMC1.Range  Cytoplasm.Haralick.IMC2.Mean  \\\n",
       "556                       0.112040                      0.901905   \n",
       "118                       0.119111                      0.972513   \n",
       "77                        0.158671                      0.924108   \n",
       "60                        0.189664                      0.937089   \n",
       "207                       0.147203                      0.894572   \n",
       "..                             ...                           ...   \n",
       "12                        0.158866                      0.959690   \n",
       "93                        0.152057                      0.929545   \n",
       "224                       0.158083                      0.985427   \n",
       "50                        0.192929                      0.927218   \n",
       "212                       0.126426                      0.854125   \n",
       "\n",
       "     Cytoplasm.Haralick.IMC2.Range  \n",
       "556                       0.062184  \n",
       "118                       0.023938  \n",
       "77                        0.070024  \n",
       "60                        0.080403  \n",
       "207                       0.095794  \n",
       "..                             ...  \n",
       "12                        0.038768  \n",
       "93                        0.072312  \n",
       "224                       0.015870  \n",
       "50                        0.093629  \n",
       "212                       0.094614  \n",
       "\n",
       "[500 rows x 125 columns]"
      ]
     },
     "execution_count": 2,
     "metadata": {},
     "output_type": "execute_result"
    }
   ],
   "source": [
    "DATA_DIR = pathlib.Path('../TCGA/downloads')\n",
    "RESULT_DIR = pathlib.Path('./umap_results')\n",
    "\n",
    "case = 'TCGA-3C-AALK-01Z-00-DX1'\n",
    "\n",
    "# instantiate manager\n",
    "manager = UMAPManager(DATA_DIR / case)\n",
    "\n",
    "# Disable computation of density column\n",
    "manager.compute_density = False\n",
    "\n",
    "# Filter by class\n",
    "manager.class_filters = ['CancerEpithelium']\n",
    "\n",
    "# Sample 500 random cells\n",
    "manager.sample_size = 500\n",
    "\n",
    "# Exclude some column patterns\n",
    "manager.exclude_columns = [\n",
    "    c for c in manager.columns\n",
    "    if any(substr in c for substr in ['Identifier.', 'ClassifProbab.', 'Unconstrained.'])\n",
    "]\n",
    "\n",
    "# View data\n",
    "manager.data"
   ]
  },
  {
   "cell_type": "code",
   "execution_count": 3,
   "id": "c0bff338-ba4f-4310-bac0-b65e75436a60",
   "metadata": {},
   "outputs": [],
   "source": [
    "# Write data to parquet for Girder\n",
    "manager.write_data_parquet(RESULT_DIR / 'AALK_CancerEpithelium.parquet')"
   ]
  },
  {
   "cell_type": "code",
   "execution_count": 4,
   "id": "f9a0fdb3-5956-44c2-8659-d8e5032bbd9d",
   "metadata": {},
   "outputs": [
    {
     "data": {
      "application/vnd.jupyter.widget-view+json": {
       "model_id": "52b488aecb194d8fa1fafbf7a545c12d",
       "version_major": 2,
       "version_minor": 0
      },
      "text/plain": [
       "VBox(children=(Map(center=[40960.0, 47744.0], controls=(ZoomControl(options=['position', 'zoom_in_text', 'zoom…"
      ]
     },
     "metadata": {},
     "output_type": "display_data"
    }
   ],
   "source": [
    "# Show image\n",
    "manager.image"
   ]
  },
  {
   "cell_type": "code",
   "execution_count": 5,
   "id": "17a11053-9149-476d-8406-245c81bbfeba",
   "metadata": {},
   "outputs": [
    {
     "data": {
      "application/vnd.jupyter.widget-view+json": {
       "model_id": "7a5856cf375c455e9cdd5e9eff56fc7b",
       "version_major": 2,
       "version_minor": 0
      },
      "text/plain": [
       "GridBox(children=(Image(value=b'\\x89PNG\\r\\n\\x1a\\n\\x00\\x00\\x00\\rIHDR\\x00\\x00\\x00,\\x00\\x00\\x00$\\x08\\x02\\x00\\x00\\…"
      ]
     },
     "metadata": {},
     "output_type": "display_data"
    },
    {
     "data": {
      "application/vnd.jupyter.widget-view+json": {
       "model_id": "7a5856cf375c455e9cdd5e9eff56fc7b",
       "version_major": 2,
       "version_minor": 0
      },
      "text/plain": [
       "GridBox(children=(Image(value=b'\\x89PNG\\r\\n\\x1a\\n\\x00\\x00\\x00\\rIHDR\\x00\\x00\\x00,\\x00\\x00\\x00$\\x08\\x02\\x00\\x00\\…"
      ]
     },
     "metadata": {},
     "output_type": "display_data"
    }
   ],
   "source": [
    "# Show cell thumbnails\n",
    "manager.show_cell_thumbnails(range(20))"
   ]
  },
  {
   "cell_type": "code",
   "execution_count": 6,
   "id": "74721fae-911b-4a78-9f39-50ebb01371a6",
   "metadata": {},
   "outputs": [
    {
     "name": "stdout",
     "output_type": "stream",
     "text": [
      "Training UMAP Transform.\n",
      "Completed training in 9.809561 seconds.\n",
      "Running inference on 400 cells with trained UMAP Transform.\n",
      "Completed inference in 0.000694 seconds.\n"
     ]
    },
    {
     "data": {
      "application/vnd.jupyter.widget-view+json": {
       "model_id": "aec3d89bffcb4bed83cbf2edcf2f776d",
       "version_major": 2,
       "version_minor": 0
      },
      "text/plain": [
       "FigureWidget({\n",
       "    'data': [{'marker': {'color': {'bdata': ('AAABAAIAAwAEAAUABgAHAAgACQAKAA' ... 'UBhgGHAYgBiQGKAYsBjAGNAY4BjwE='),\n",
       "                                   'dtype': 'i2'}},\n",
       "              'mode': 'markers',\n",
       "              'type': 'scatter',\n",
       "              'uid': 'f26f573a-1508-4cc1-96ee-2e90c5668788',\n",
       "              'x': {'bdata': ('s6rPQFKYZUBG2sNARXwkQZONu0CKea' ... 'H9UClBJM65QJ/FG0ENYoVAmBXgQA=='),\n",
       "                    'dtype': 'f4'},\n",
       "              'y': {'bdata': ('59UDQIPk2D1epURAxp5fQAnssECtJh' ... 'D94GFAp7PPP+8tgEBh/j8/WQGjQA=='),\n",
       "                    'dtype': 'f4'}}],\n",
       "    'layout': {'template': '...'}\n",
       "})"
      ]
     },
     "metadata": {},
     "output_type": "display_data"
    },
    {
     "data": {
      "application/vnd.jupyter.widget-view+json": {
       "model_id": "2e46e135c24c4467863d6eb226eebcbb",
       "version_major": 2,
       "version_minor": 0
      },
      "text/plain": [
       "VBox()"
      ]
     },
     "metadata": {},
     "output_type": "display_data"
    },
    {
     "name": "stdout",
     "output_type": "stream",
     "text": [
      "Running inference on 100 cells with trained UMAP Transform.\n",
      "Completed inference in 2.757389 seconds.\n"
     ]
    },
    {
     "data": {
      "application/vnd.jupyter.widget-view+json": {
       "model_id": "b446448f99684e6cb60426137349b117",
       "version_major": 2,
       "version_minor": 0
      },
      "text/plain": [
       "FigureWidget({\n",
       "    'data': [{'marker': {'color': {'bdata': ('AAECAwQFBgcICQoLDA0ODxAREhMUFR' ... '9QUVJTVFVWV1hZWltcXV5fYGFiYw=='),\n",
       "                                   'dtype': 'i1'}},\n",
       "              'mode': 'markers',\n",
       "              'type': 'scatter',\n",
       "              'uid': 'ff8dacd8-0802-4569-9890-8f25f6e2afd9',\n",
       "              'x': {'bdata': ('Lq/wQM+0qkDMSH1Ax3uRQJFbdUDFYv' ... 'GOrVBAFqCyQPliF0GsFUhAiRbwQA=='),\n",
       "                    'dtype': 'f4'},\n",
       "              'y': {'bdata': ('KkiHP+fnsz/Xo8g/kFrCP8vJhkBQ1V' ... 'BeYxw/wvAJP9PvT0B1aOs/MAG8Pw=='),\n",
       "                    'dtype': 'f4'}}],\n",
       "    'layout': {'template': '...'}\n",
       "})"
      ]
     },
     "metadata": {},
     "output_type": "display_data"
    },
    {
     "data": {
      "application/vnd.jupyter.widget-view+json": {
       "model_id": "673ff9cccba945559fc16bd522bcc110",
       "version_major": 2,
       "version_minor": 0
      },
      "text/plain": [
       "VBox()"
      ]
     },
     "metadata": {},
     "output_type": "display_data"
    }
   ],
   "source": [
    "n_training = 400\n",
    "train_set = manager.data[:n_training]\n",
    "test_set = manager.data[n_training:]\n",
    "\n",
    "# First dimensionality reduction will train a UMAP Transform\n",
    "manager.reduce_dims(train_set, plot=True, parquet_path=RESULT_DIR / 'AALK_CancerEpithelium_UMAP_train.parquet')\n",
    "\n",
    "# Subsequent dimensionality reductions will leverage trained UMAP Transform\n",
    "manager.reduce_dims(test_set, plot=True, parquet_path=RESULT_DIR / 'AALK_CancerEpithelium_UMAP_predict.parquet')"
   ]
  },
  {
   "cell_type": "code",
   "execution_count": 7,
   "id": "bf09c24b-23de-4e12-b26e-ac659935a795",
   "metadata": {},
   "outputs": [
    {
     "name": "stdout",
     "output_type": "stream",
     "text": [
      "Running inference on 500 cells with trained UMAP Transform.\n",
      "Completed inference in 1.124306 seconds.\n",
      "Running inference on 2 cells with trained UMAP Transform.\n",
      "Completed inference in 0.788249 seconds.\n",
      "Cell 1:\n"
     ]
    },
    {
     "data": {
      "application/vnd.jupyter.widget-view+json": {
       "model_id": "1ae5d24182104a3087d880e4069a1c86",
       "version_major": 2,
       "version_minor": 0
      },
      "text/plain": [
       "GridBox(children=(Image(value=b'\\x89PNG\\r\\n\\x1a\\n\\x00\\x00\\x00\\rIHDR\\x00\\x00\\x002\\x00\\x00\\x00,\\x08\\x02\\x00\\x00\\…"
      ]
     },
     "metadata": {},
     "output_type": "display_data"
    },
    {
     "name": "stdout",
     "output_type": "stream",
     "text": [
      "10 most similar cells:\n"
     ]
    },
    {
     "data": {
      "application/vnd.jupyter.widget-view+json": {
       "model_id": "643e31e764ea42519210a156fabc0d1d",
       "version_major": 2,
       "version_minor": 0
      },
      "text/plain": [
       "GridBox(children=(Image(value=b'\\x89PNG\\r\\n\\x1a\\n\\x00\\x00\\x00\\rIHDR\\x00\\x00\\x00,\\x00\\x00\\x008\\x08\\x02\\x00\\x00\\…"
      ]
     },
     "metadata": {},
     "output_type": "display_data"
    },
    {
     "name": "stdout",
     "output_type": "stream",
     "text": [
      "\n",
      "Cell 2:\n"
     ]
    },
    {
     "data": {
      "application/vnd.jupyter.widget-view+json": {
       "model_id": "c41787226fa444b6a5c865620fbd6d92",
       "version_major": 2,
       "version_minor": 0
      },
      "text/plain": [
       "GridBox(children=(Image(value=b'\\x89PNG\\r\\n\\x1a\\n\\x00\\x00\\x00\\rIHDR\\x00\\x00\\x00$\\x00\\x00\\x00$\\x08\\x02\\x00\\x00\\…"
      ]
     },
     "metadata": {},
     "output_type": "display_data"
    },
    {
     "name": "stdout",
     "output_type": "stream",
     "text": [
      "10 most similar cells:\n"
     ]
    },
    {
     "data": {
      "application/vnd.jupyter.widget-view+json": {
       "model_id": "97809f0925524581816eeb6203a13a02",
       "version_major": 2,
       "version_minor": 0
      },
      "text/plain": [
       "GridBox(children=(Image(value=b'\\x89PNG\\r\\n\\x1a\\n\\x00\\x00\\x00\\rIHDR\\x00\\x00\\x00$\\x00\\x00\\x00$\\x08\\x02\\x00\\x00\\…"
      ]
     },
     "metadata": {},
     "output_type": "display_data"
    },
    {
     "name": "stdout",
     "output_type": "stream",
     "text": [
      "\n"
     ]
    }
   ],
   "source": [
    "# For each target cell in a given list of ids, find the 10 most similar cells and display them\n",
    "target_cells = [1, 2]\n",
    "manager.nearest_neighbors(target_cells, n=10, show=True)"
   ]
  },
  {
   "cell_type": "code",
   "execution_count": 8,
   "id": "fd222181-45cb-4e05-b019-a81a69e45e9c",
   "metadata": {},
   "outputs": [
    {
     "name": "stdout",
     "output_type": "stream",
     "text": [
      "Saved UMAP Transform to ../TCGA/downloads/my_umap.transform.\n"
     ]
    }
   ],
   "source": [
    "# Save trained transform to file\n",
    "transform_path = DATA_DIR / 'my_umap.transform'\n",
    "manager.save_transform(transform_path)"
   ]
  },
  {
   "cell_type": "code",
   "execution_count": 9,
   "id": "7402c4ae-f61b-499e-8dea-f7f05afda331",
   "metadata": {},
   "outputs": [
    {
     "name": "stdout",
     "output_type": "stream",
     "text": [
      "Reading HIPS data.\n",
      "Found 489293 features.\n",
      "Loaded UMAP Transform from ../TCGA/downloads/my_umap.transform.\n",
      "Running inference on 500 cells with trained UMAP Transform.\n",
      "Completed inference in 0.635995 seconds.\n"
     ]
    },
    {
     "data": {
      "application/vnd.jupyter.widget-view+json": {
       "model_id": "3bae2a5aaf764fbd8c3f460e011c3efe",
       "version_major": 2,
       "version_minor": 0
      },
      "text/plain": [
       "FigureWidget({\n",
       "    'data': [{'marker': {'color': {'bdata': ('AAABAAIAAwAEAAUABgAHAAgACQAKAA' ... 'HqAesB7AHtAe4B7wHwAfEB8gHzAQ=='),\n",
       "                                   'dtype': 'i2'}},\n",
       "              'mode': 'markers',\n",
       "              'type': 'scatter',\n",
       "              'uid': '3bfcc102-fdd1-46c6-9aa1-51c81f85e83c',\n",
       "              'x': {'bdata': ('E50zQWnt30B6mlBAm82bQAncBkGg1f' ... '5AaArTQKKZEUFaRtBA2weIQO1Fy0A='),\n",
       "                    'dtype': 'f4'},\n",
       "              'y': {'bdata': ('d9NfQP12bEBXwi9AaW6+QJw7YkBoNZ' ... 'Q/5ziwP+OXG0AW1HRAc9YjP1KOekA='),\n",
       "                    'dtype': 'f4'}}],\n",
       "    'layout': {'template': '...'}\n",
       "})"
      ]
     },
     "metadata": {},
     "output_type": "display_data"
    },
    {
     "data": {
      "application/vnd.jupyter.widget-view+json": {
       "model_id": "7753aeeff5b34da99e22f35b86ebf6d2",
       "version_major": 2,
       "version_minor": 0
      },
      "text/plain": [
       "VBox()"
      ]
     },
     "metadata": {},
     "output_type": "display_data"
    }
   ],
   "source": [
    "# instantiate a second manager for a different case\n",
    "manager_2 = UMAPManager(DATA_DIR / 'TCGA-3C-AALI-01Z-00-DX1')\n",
    "manager_2.compute_density = False\n",
    "manager_2.class_filters = ['CancerEpithelium']\n",
    "manager_2.sample_size = 500\n",
    "manager_2.exclude_columns = [\n",
    "    c for c in manager_2.columns\n",
    "    if any(substr in c for substr in ['Identifier.', 'ClassifProbab.', 'Unconstrained.'])\n",
    "]\n",
    "\n",
    "# Write data to parquet for Girder\n",
    "manager_2.write_data_parquet(RESULT_DIR / 'AALI_CancerEpithelium.parquet')\n",
    "\n",
    "# Load the saved transform file\n",
    "manager_2.load_transform(transform_path)\n",
    "\n",
    "# Run an inference with the loaded transform\n",
    "manager_2.reduce_dims(plot=True, parquet_path=RESULT_DIR / 'AALI_CancerEpithelium_UMAP_predict.parquet')"
   ]
  },
  {
   "cell_type": "code",
   "execution_count": null,
   "id": "7a5a7249-0a22-4798-9240-8fa744ec0ab9",
   "metadata": {},
   "outputs": [],
   "source": []
  }
 ],
 "metadata": {
  "kernelspec": {
   "display_name": "Python 3 (ipykernel)",
   "language": "python",
   "name": "python3"
  },
  "language_info": {
   "codemirror_mode": {
    "name": "ipython",
    "version": 3
   },
   "file_extension": ".py",
   "mimetype": "text/x-python",
   "name": "python",
   "nbconvert_exporter": "python",
   "pygments_lexer": "ipython3",
   "version": "3.12.3"
  }
 },
 "nbformat": 4,
 "nbformat_minor": 5
}
